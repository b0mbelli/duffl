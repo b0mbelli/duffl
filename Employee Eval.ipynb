{
 "cells": [
  {
   "cell_type": "markdown",
   "id": "9a33ab98",
   "metadata": {},
   "source": [
    "# Employee Evaluation Script"
   ]
  },
  {
   "cell_type": "markdown",
   "id": "a069d194",
   "metadata": {},
   "source": [
    "### Import Neccesary Packages and Files"
   ]
  },
  {
   "cell_type": "code",
   "execution_count": 1,
   "id": "53ad14f0",
   "metadata": {},
   "outputs": [],
   "source": [
    "import pandas as pd\n",
    "import numpy as np\n",
    "from IPython.display import display_markdown\n",
    "from ipynb.fs.full.MODULAR_DufflFeedbackAnalyzer import predictFeedbackType"
   ]
  },
  {
   "cell_type": "markdown",
   "id": "cdd63b26",
   "metadata": {},
   "source": [
    "## Change File Path to change week"
   ]
  },
  {
   "cell_type": "code",
   "execution_count": 78,
   "id": "f7a57f5f",
   "metadata": {},
   "outputs": [],
   "source": [
    "school = \"UofA-5\"\n",
    "dateRange = '11.27.23-12.3.23'\n",
    "pathFolder = 'C:/Users/aidan/Documents/Python projects/Duffl/Eval CSVs/' + school + '/' + dateRange + '/'"
   ]
  },
  {
   "cell_type": "code",
   "execution_count": 79,
   "id": "d66213c2",
   "metadata": {},
   "outputs": [
    {
     "data": {
      "text/html": [
       "<div>\n",
       "<style scoped>\n",
       "    .dataframe tbody tr th:only-of-type {\n",
       "        vertical-align: middle;\n",
       "    }\n",
       "\n",
       "    .dataframe tbody tr th {\n",
       "        vertical-align: top;\n",
       "    }\n",
       "\n",
       "    .dataframe thead th {\n",
       "        text-align: right;\n",
       "    }\n",
       "</style>\n",
       "<table border=\"1\" class=\"dataframe\">\n",
       "  <thead>\n",
       "    <tr style=\"text-align: right;\">\n",
       "      <th></th>\n",
       "      <th>name</th>\n",
       "      <th>time_on_shift</th>\n",
       "      <th>num_orders</th>\n",
       "      <th>avg_delivery</th>\n",
       "      <th>avg_out_the_door</th>\n",
       "      <th>orh</th>\n",
       "      <th>percent_late</th>\n",
       "      <th>falses</th>\n",
       "      <th>verifications</th>\n",
       "    </tr>\n",
       "  </thead>\n",
       "  <tbody>\n",
       "    <tr>\n",
       "      <th>0</th>\n",
       "      <td>Spencer Laumann</td>\n",
       "      <td>24.13636</td>\n",
       "      <td>150</td>\n",
       "      <td>10.2467</td>\n",
       "      <td>4.5849</td>\n",
       "      <td>6.21469</td>\n",
       "      <td>0.04</td>\n",
       "      <td>14</td>\n",
       "      <td>37</td>\n",
       "    </tr>\n",
       "  </tbody>\n",
       "</table>\n",
       "</div>"
      ],
      "text/plain": [
       "              name  time_on_shift  num_orders  avg_delivery  avg_out_the_door  \\\n",
       "0  Spencer Laumann       24.13636         150       10.2467            4.5849   \n",
       "\n",
       "       orh  percent_late  falses  verifications  \n",
       "0  6.21469          0.04      14             37  "
      ]
     },
     "execution_count": 79,
     "metadata": {},
     "output_type": "execute_result"
    }
   ],
   "source": [
    "#Get KPI spreadsheet -> rename \"KPIs.csv\"\n",
    "#USE PERSONAL QUERY 'RAW FALSE POS'\n",
    "KPIdf = pd.read_csv(pathFolder + 'KPIs.csv')\n",
    "\n",
    "#Drop irrelevant columns\n",
    "KPIdf = KPIdf.drop(['rank','store','position'], axis=1)\n",
    "\n",
    "KPIdf.head(1)"
   ]
  },
  {
   "cell_type": "code",
   "execution_count": 80,
   "id": "5c884a87",
   "metadata": {},
   "outputs": [
    {
     "data": {
      "text/html": [
       "<div>\n",
       "<style scoped>\n",
       "    .dataframe tbody tr th:only-of-type {\n",
       "        vertical-align: middle;\n",
       "    }\n",
       "\n",
       "    .dataframe tbody tr th {\n",
       "        vertical-align: top;\n",
       "    }\n",
       "\n",
       "    .dataframe thead th {\n",
       "        text-align: right;\n",
       "    }\n",
       "</style>\n",
       "<table border=\"1\" class=\"dataframe\">\n",
       "  <thead>\n",
       "    <tr style=\"text-align: right;\">\n",
       "      <th></th>\n",
       "      <th>name</th>\n",
       "      <th>time_on_shift</th>\n",
       "      <th>num_orders</th>\n",
       "      <th>avg_delivery</th>\n",
       "      <th>avg_out_the_door</th>\n",
       "      <th>orh</th>\n",
       "      <th>percent_late</th>\n",
       "      <th>false_pos</th>\n",
       "    </tr>\n",
       "  </thead>\n",
       "  <tbody>\n",
       "    <tr>\n",
       "      <th>0</th>\n",
       "      <td>Spencer Laumann</td>\n",
       "      <td>24.13636</td>\n",
       "      <td>150</td>\n",
       "      <td>10.2467</td>\n",
       "      <td>4.5849</td>\n",
       "      <td>6.21469</td>\n",
       "      <td>0.04</td>\n",
       "      <td>0.378378</td>\n",
       "    </tr>\n",
       "  </tbody>\n",
       "</table>\n",
       "</div>"
      ],
      "text/plain": [
       "              name  time_on_shift  num_orders  avg_delivery  avg_out_the_door  \\\n",
       "0  Spencer Laumann       24.13636         150       10.2467            4.5849   \n",
       "\n",
       "       orh  percent_late  false_pos  \n",
       "0  6.21469          0.04   0.378378  "
      ]
     },
     "execution_count": 80,
     "metadata": {},
     "output_type": "execute_result"
    }
   ],
   "source": [
    "#Calculate false positive percent\n",
    "KPIdf[\"false_pos\"] = KPIdf[\"falses\"]/KPIdf[\"verifications\"]\n",
    "\n",
    "#Drop raw false pos data for percent\n",
    "KPIdf = KPIdf.drop(['falses','verifications'], axis=1)\n",
    "\n",
    "#Check that false pos percent was added correctly\n",
    "KPIdf.head(1)"
   ]
  },
  {
   "cell_type": "code",
   "execution_count": 81,
   "id": "3430e04f",
   "metadata": {},
   "outputs": [
    {
     "name": "stderr",
     "output_type": "stream",
     "text": [
      "C:\\Users\\aidan\\Documents\\Python projects\\Duffl\\MODULAR_DufflFeedbackAnalyzer.ipynb:117: FutureWarning: Calling int on a single element Series is deprecated and will raise a TypeError in the future. Use int(ser.iloc[0]) instead\n",
      "  \"cell_type\": \"code\",\n",
      "C:\\Users\\aidan\\Documents\\Python projects\\Duffl\\MODULAR_DufflFeedbackAnalyzer.ipynb:115: FutureWarning: Calling int on a single element Series is deprecated and will raise a TypeError in the future. Use int(ser.iloc[0]) instead\n",
      "  },\n"
     ]
    },
    {
     "data": {
      "text/html": [
       "<div>\n",
       "<style scoped>\n",
       "    .dataframe tbody tr th:only-of-type {\n",
       "        vertical-align: middle;\n",
       "    }\n",
       "\n",
       "    .dataframe tbody tr th {\n",
       "        vertical-align: top;\n",
       "    }\n",
       "\n",
       "    .dataframe thead th {\n",
       "        text-align: right;\n",
       "    }\n",
       "</style>\n",
       "<table border=\"1\" class=\"dataframe\">\n",
       "  <thead>\n",
       "    <tr style=\"text-align: right;\">\n",
       "      <th></th>\n",
       "      <th>sentiment</th>\n",
       "      <th>feedback</th>\n",
       "      <th>racer</th>\n",
       "      <th>packer</th>\n",
       "      <th>Predictions</th>\n",
       "    </tr>\n",
       "  </thead>\n",
       "  <tbody>\n",
       "    <tr>\n",
       "      <th>0</th>\n",
       "      <td>1</td>\n",
       "      <td>Everything bruh</td>\n",
       "      <td>Klein Powell</td>\n",
       "      <td>Klein Powell</td>\n",
       "      <td>R</td>\n",
       "    </tr>\n",
       "  </tbody>\n",
       "</table>\n",
       "</div>"
      ],
      "text/plain": [
       "   sentiment         feedback         racer        packer Predictions\n",
       "0          1  Everything bruh  Klein Powell  Klein Powell           R"
      ]
     },
     "execution_count": 81,
     "metadata": {},
     "output_type": "execute_result"
    }
   ],
   "source": [
    "#Get Customer Feedback spreadsheet -> rename \"Feedback.csv\"\n",
    "Feedbackdf = pd.read_csv(pathFolder + 'Feedback.csv')\n",
    "\n",
    "#Drop irrelevant columns\n",
    "Feedbackdf = Feedbackdf.drop(['store','created_at_pst','phone','customer'], axis=1)\n",
    "\n",
    "#Code sentiment type\n",
    "# Positive = 1\n",
    "# Neutral = 0\n",
    "# Negative = -1\n",
    "sentiment_dict={\"positive\":1, \"neutral\":0,\"negative\":-1}\n",
    "Feedbackdf['sentiment'] = Feedbackdf['sentiment'].map(sentiment_dict)\n",
    "\n",
    "#Predict who is responsible for feedback using imported function\n",
    "predictFeedbackType(Feedbackdf)\n",
    "\n",
    "#Show feedback with appended predictions\n",
    "Feedbackdf.head(1)"
   ]
  },
  {
   "cell_type": "code",
   "execution_count": 82,
   "id": "89e07a97",
   "metadata": {},
   "outputs": [],
   "source": [
    "#Function to clean training csvs\n",
    "def clean_training_csv(training_name):\n",
    "    Trainingdf = pd.read_csv(pathFolder + training_name + \".csv\")\n",
    "    Trainingdf = Trainingdf[Trainingdf['First name'] != 'Deleted user']\n",
    "    Trainingdf = Trainingdf[Trainingdf['Course status'] == 'Completed']\n",
    "    Trainingdf = Trainingdf.reset_index(drop = True)\n",
    "\n",
    "    scores = []\n",
    "    full_names = []\n",
    "    for i in range (len(Trainingdf.index)):\n",
    "        temp_name_string = Trainingdf.loc[i][0] + \" \" + Trainingdf.loc[i][1]\n",
    "        full_names.append(temp_name_string)\n",
    "        scores.append(Trainingdf.loc[i][\"Overall score\"])\n",
    "        \n",
    "    Trainingdf[\"Name\"] = full_names\n",
    "    Trainingdf[\"Score\"] = scores\n",
    "    Trainingdf = Trainingdf[[\"Name\",\"Score\"]]\n",
    "    return Trainingdf"
   ]
  },
  {
   "cell_type": "code",
   "execution_count": 83,
   "id": "388711ef",
   "metadata": {},
   "outputs": [],
   "source": [
    "#Pick trainings you want to check\n",
    "if school == 'UCLA-1':\n",
    "    welcome_packet = clean_training_csv(\"Welcome Packet\")\n",
    "    welcome_packet.head(1)"
   ]
  },
  {
   "cell_type": "code",
   "execution_count": 84,
   "id": "77fd35ac",
   "metadata": {},
   "outputs": [],
   "source": [
    "if school == 'UCLA-1':\n",
    "    post_orientation_packet = clean_training_csv(\"Post Orientation Packet\")\n",
    "    post_orientation_packet.head(1)"
   ]
  },
  {
   "cell_type": "markdown",
   "id": "8159eb3b",
   "metadata": {},
   "source": [
    "### Store Eval - Averages of the Week"
   ]
  },
  {
   "cell_type": "code",
   "execution_count": 85,
   "id": "c5a325bb",
   "metadata": {},
   "outputs": [
    {
     "data": {
      "text/plain": [
       "time_on_shift       12.077676\n",
       "num_orders          49.156250\n",
       "avg_delivery        10.824559\n",
       "avg_out_the_door     4.702231\n",
       "orh                  4.359056\n",
       "percent_late         0.057178\n",
       "false_pos            0.367918\n",
       "dtype: float64"
      ]
     },
     "execution_count": 85,
     "metadata": {},
     "output_type": "execute_result"
    }
   ],
   "source": [
    "#Sanity check to make sure the means makes sense with corresponding metric\n",
    "KPIdf[['time_on_shift', 'num_orders', 'avg_delivery', 'avg_out_the_door', 'orh', 'percent_late', 'false_pos']].mean()"
   ]
  },
  {
   "cell_type": "code",
   "execution_count": 86,
   "id": "d5c2c4b0",
   "metadata": {},
   "outputs": [
    {
     "name": "stderr",
     "output_type": "stream",
     "text": [
      "C:\\Users\\aidan\\AppData\\Local\\Temp\\ipykernel_27120\\2883489144.py:27: FutureWarning: Series.__getitem__ treating keys as positions is deprecated. In a future version, integer keys will always be treated as labels (consistent with DataFrame behavior). To access a value by position, use `ser.iloc[pos]`\n",
      "  total_orders_row['Store']=KPIdf[['num_orders']].sum()[0]\n"
     ]
    },
    {
     "data": {
      "text/html": [
       "<div>\n",
       "<style scoped>\n",
       "    .dataframe tbody tr th:only-of-type {\n",
       "        vertical-align: middle;\n",
       "    }\n",
       "\n",
       "    .dataframe tbody tr th {\n",
       "        vertical-align: top;\n",
       "    }\n",
       "\n",
       "    .dataframe thead th {\n",
       "        text-align: right;\n",
       "    }\n",
       "</style>\n",
       "<table border=\"1\" class=\"dataframe\">\n",
       "  <thead>\n",
       "    <tr style=\"text-align: right;\">\n",
       "      <th></th>\n",
       "      <th>Benchmarks</th>\n",
       "      <th>Store</th>\n",
       "    </tr>\n",
       "  </thead>\n",
       "  <tbody>\n",
       "    <tr>\n",
       "      <th>Avg. Hrs Worked</th>\n",
       "      <td>12.00</td>\n",
       "      <td>12.077676</td>\n",
       "    </tr>\n",
       "    <tr>\n",
       "      <th>Daily Avg. Orders</th>\n",
       "      <td>500.00</td>\n",
       "      <td>49.156250</td>\n",
       "    </tr>\n",
       "    <tr>\n",
       "      <th>Avg. Delivery Time</th>\n",
       "      <td>10.00</td>\n",
       "      <td>10.824559</td>\n",
       "    </tr>\n",
       "    <tr>\n",
       "      <th>Avg. Out the Door</th>\n",
       "      <td>4.00</td>\n",
       "      <td>4.702231</td>\n",
       "    </tr>\n",
       "    <tr>\n",
       "      <th>ORH</th>\n",
       "      <td>9.00</td>\n",
       "      <td>4.359056</td>\n",
       "    </tr>\n",
       "    <tr>\n",
       "      <th>Late %</th>\n",
       "      <td>0.10</td>\n",
       "      <td>0.057178</td>\n",
       "    </tr>\n",
       "    <tr>\n",
       "      <th>False Pos %</th>\n",
       "      <td>0.01</td>\n",
       "      <td>0.367918</td>\n",
       "    </tr>\n",
       "    <tr>\n",
       "      <th>Total Orders</th>\n",
       "      <td>3500.00</td>\n",
       "      <td>1573.000000</td>\n",
       "    </tr>\n",
       "  </tbody>\n",
       "</table>\n",
       "</div>"
      ],
      "text/plain": [
       "                    Benchmarks        Store\n",
       "Avg. Hrs Worked          12.00    12.077676\n",
       "Daily Avg. Orders       500.00    49.156250\n",
       "Avg. Delivery Time       10.00    10.824559\n",
       "Avg. Out the Door         4.00     4.702231\n",
       "ORH                       9.00     4.359056\n",
       "Late %                    0.10     0.057178\n",
       "False Pos %               0.01     0.367918\n",
       "Total Orders           3500.00  1573.000000"
      ]
     },
     "metadata": {},
     "output_type": "display_data"
    }
   ],
   "source": [
    "#Make new data frame for means\n",
    "meandf = pd.DataFrame(columns=['Store'],\n",
    "                        index=['Avg. Hrs Worked', 'Daily Avg. Orders', \n",
    "                               'Avg. Delivery Time', 'Avg. Out the Door', \n",
    "                               'ORH','Late %','False Pos %'], data=KPIdf[['time_on_shift', 'num_orders', \n",
    "                          'avg_delivery', 'avg_out_the_door', \n",
    "                          'orh', 'percent_late','false_pos']].mean().values)\n",
    "\n",
    "#Benchmarks from exec, 'goal posts'\n",
    "expectedHoursWorked = 12\n",
    "expectedAvgDeliveryTime = 10\n",
    "expectedAvgOuttheDoorTime = 4\n",
    "expectedORH = 9\n",
    "expectedLatePerc = 0.1\n",
    "expectedFalsePos = 0.01\n",
    "#CONSTS FOR ORDER TOTAL METRICS\n",
    "weekly_orders = 3500\n",
    "daily_orders = weekly_orders/7\n",
    "\n",
    "#Append these benchmarks to meandf to visually compare to actual means\n",
    "meandf['Benchmarks'] = [expectedHoursWorked, daily_orders, expectedAvgDeliveryTime, expectedAvgOuttheDoorTime, expectedORH, expectedLatePerc, expectedFalsePos]\n",
    "meandf = meandf.reindex(columns=[\"Benchmarks\",\"Store\"])\n",
    "\n",
    "#Total Orders special handling -> sum instead of mean\n",
    "total_orders_row = pd.DataFrame(columns=['Benchmarks','Store'], index=['Total Orders'])\n",
    "total_orders_row['Benchmarks']= weekly_orders\n",
    "total_orders_row['Store']=KPIdf[['num_orders']].sum()[0]\n",
    "\n",
    "#Add total orders metric\n",
    "meandf = pd.concat([meandf, total_orders_row])\n",
    "\n",
    "#Visually compare means to benchmarks from exec\n",
    "display(meandf)"
   ]
  },
  {
   "cell_type": "code",
   "execution_count": 87,
   "id": "f5d11796",
   "metadata": {},
   "outputs": [],
   "source": [
    "#Performance check on each metric -> grades store average compared benchmark\n",
    "##row[0] is benchmark\n",
    "##row[1] is actual\n",
    "test_list = []\n",
    "\n",
    "#Hrs worked\n",
    "row = meandf.iloc[0].values\n",
    "if row[1] < row[0]:\n",
    "    test_list.append('N')\n",
    "else:\n",
    "    test_list.append('Y')\n",
    "\n",
    "#Avg Orders (Daily)\n",
    "row = meandf.iloc[1].values\n",
    "if row[1] < row[0]:\n",
    "    test_list.append('N')\n",
    "else:\n",
    "    test_list.append('Y')\n",
    "    \n",
    "#Avg Delivery Time\n",
    "row = meandf.iloc[2].values\n",
    "if row[1] > row[0]:\n",
    "    test_list.append('N')\n",
    "else:\n",
    "    test_list.append('Y')\n",
    "    \n",
    "#Avg Out the Door\n",
    "row = meandf.iloc[3].values\n",
    "if row[1] > row[0]:\n",
    "    test_list.append('N')\n",
    "else:\n",
    "    test_list.append('Y')\n",
    "\n",
    "#ORH\n",
    "row = meandf.iloc[4].values\n",
    "if row[1] < row[0]:\n",
    "    test_list.append('N')\n",
    "else:\n",
    "    test_list.append('Y')\n",
    "    \n",
    "#Late %\n",
    "row = meandf.iloc[5].values\n",
    "if row[1] > row[0]:\n",
    "    test_list.append('N')\n",
    "else:\n",
    "    test_list.append('Y')\n",
    "    \n",
    "#False Pos %\n",
    "row = meandf.iloc[6].values\n",
    "if row[1] > row[0]:\n",
    "    test_list.append('N')\n",
    "else:\n",
    "    test_list.append('Y')\n",
    "    \n",
    "#Total Orders\n",
    "row = meandf.iloc[7].values\n",
    "if row[1] < row[0]:\n",
    "    test_list.append('N')\n",
    "else:\n",
    "    test_list.append('Y')"
   ]
  },
  {
   "cell_type": "code",
   "execution_count": 88,
   "id": "2de4c710",
   "metadata": {
    "scrolled": true
   },
   "outputs": [
    {
     "data": {
      "text/html": [
       "<div>\n",
       "<style scoped>\n",
       "    .dataframe tbody tr th:only-of-type {\n",
       "        vertical-align: middle;\n",
       "    }\n",
       "\n",
       "    .dataframe tbody tr th {\n",
       "        vertical-align: top;\n",
       "    }\n",
       "\n",
       "    .dataframe thead th {\n",
       "        text-align: right;\n",
       "    }\n",
       "</style>\n",
       "<table border=\"1\" class=\"dataframe\">\n",
       "  <thead>\n",
       "    <tr style=\"text-align: right;\">\n",
       "      <th></th>\n",
       "      <th>Benchmarks</th>\n",
       "      <th>Store</th>\n",
       "      <th>Pass</th>\n",
       "    </tr>\n",
       "  </thead>\n",
       "  <tbody>\n",
       "    <tr>\n",
       "      <th>Avg. Hrs Worked</th>\n",
       "      <td>12.00</td>\n",
       "      <td>12.08</td>\n",
       "      <td>Y</td>\n",
       "    </tr>\n",
       "    <tr>\n",
       "      <th>Daily Avg. Orders</th>\n",
       "      <td>500.00</td>\n",
       "      <td>49.16</td>\n",
       "      <td>N</td>\n",
       "    </tr>\n",
       "    <tr>\n",
       "      <th>Avg. Delivery Time</th>\n",
       "      <td>10.00</td>\n",
       "      <td>10.82</td>\n",
       "      <td>N</td>\n",
       "    </tr>\n",
       "    <tr>\n",
       "      <th>Avg. Out the Door</th>\n",
       "      <td>4.00</td>\n",
       "      <td>4.70</td>\n",
       "      <td>N</td>\n",
       "    </tr>\n",
       "    <tr>\n",
       "      <th>ORH</th>\n",
       "      <td>9.00</td>\n",
       "      <td>4.36</td>\n",
       "      <td>N</td>\n",
       "    </tr>\n",
       "    <tr>\n",
       "      <th>Late %</th>\n",
       "      <td>0.10</td>\n",
       "      <td>0.06</td>\n",
       "      <td>Y</td>\n",
       "    </tr>\n",
       "    <tr>\n",
       "      <th>False Pos %</th>\n",
       "      <td>0.01</td>\n",
       "      <td>0.37</td>\n",
       "      <td>N</td>\n",
       "    </tr>\n",
       "    <tr>\n",
       "      <th>Total Orders</th>\n",
       "      <td>3500.00</td>\n",
       "      <td>1573.00</td>\n",
       "      <td>N</td>\n",
       "    </tr>\n",
       "  </tbody>\n",
       "</table>\n",
       "</div>"
      ],
      "text/plain": [
       "                    Benchmarks    Store Pass\n",
       "Avg. Hrs Worked          12.00    12.08    Y\n",
       "Daily Avg. Orders       500.00    49.16    N\n",
       "Avg. Delivery Time       10.00    10.82    N\n",
       "Avg. Out the Door         4.00     4.70    N\n",
       "ORH                       9.00     4.36    N\n",
       "Late %                    0.10     0.06    Y\n",
       "False Pos %               0.01     0.37    N\n",
       "Total Orders           3500.00  1573.00    N"
      ]
     },
     "metadata": {},
     "output_type": "display_data"
    }
   ],
   "source": [
    "#Add test passes to meandf\n",
    "meandf['Pass'] = test_list\n",
    "meandf['Store'] = meandf['Store'].round(2)\n",
    "display(meandf)"
   ]
  },
  {
   "cell_type": "markdown",
   "id": "753b70cd",
   "metadata": {},
   "source": [
    "## Compile Weekly Performance by Employee"
   ]
  },
  {
   "cell_type": "code",
   "execution_count": 89,
   "id": "3d1f3e1c",
   "metadata": {},
   "outputs": [
    {
     "data": {
      "text/html": [
       "<div>\n",
       "<style scoped>\n",
       "    .dataframe tbody tr th:only-of-type {\n",
       "        vertical-align: middle;\n",
       "    }\n",
       "\n",
       "    .dataframe tbody tr th {\n",
       "        vertical-align: top;\n",
       "    }\n",
       "\n",
       "    .dataframe thead th {\n",
       "        text-align: right;\n",
       "    }\n",
       "</style>\n",
       "<table border=\"1\" class=\"dataframe\">\n",
       "  <thead>\n",
       "    <tr style=\"text-align: right;\">\n",
       "      <th></th>\n",
       "      <th>Benchmarks</th>\n",
       "      <th>Store</th>\n",
       "    </tr>\n",
       "  </thead>\n",
       "  <tbody>\n",
       "    <tr>\n",
       "      <th>Avg. Hrs Worked</th>\n",
       "      <td>12.00</td>\n",
       "      <td>12.08</td>\n",
       "    </tr>\n",
       "    <tr>\n",
       "      <th>Avg. Delivery Time</th>\n",
       "      <td>10.00</td>\n",
       "      <td>10.82</td>\n",
       "    </tr>\n",
       "    <tr>\n",
       "      <th>Avg. Out the Door</th>\n",
       "      <td>4.00</td>\n",
       "      <td>4.70</td>\n",
       "    </tr>\n",
       "    <tr>\n",
       "      <th>ORH</th>\n",
       "      <td>9.00</td>\n",
       "      <td>4.36</td>\n",
       "    </tr>\n",
       "    <tr>\n",
       "      <th>Late %</th>\n",
       "      <td>0.10</td>\n",
       "      <td>0.06</td>\n",
       "    </tr>\n",
       "    <tr>\n",
       "      <th>False Pos %</th>\n",
       "      <td>0.01</td>\n",
       "      <td>0.37</td>\n",
       "    </tr>\n",
       "  </tbody>\n",
       "</table>\n",
       "</div>"
      ],
      "text/plain": [
       "                    Benchmarks  Store\n",
       "Avg. Hrs Worked          12.00  12.08\n",
       "Avg. Delivery Time       10.00  10.82\n",
       "Avg. Out the Door         4.00   4.70\n",
       "ORH                       9.00   4.36\n",
       "Late %                    0.10   0.06\n",
       "False Pos %               0.01   0.37"
      ]
     },
     "metadata": {},
     "output_type": "display_data"
    }
   ],
   "source": [
    "#Make dataframe for employee comparison\n",
    "storedf = meandf.copy()\n",
    "\n",
    "#Drop store passes\n",
    "storedf = storedf.drop(columns=['Pass'])\n",
    "\n",
    "#Drop order metrics -> not applicable to racer in this format\n",
    "storedf = storedf.drop(index=(['Total Orders','Daily Avg. Orders']))\n",
    "\n",
    "#Reformat table for readability\n",
    "storedf['Store'] = storedf['Store'].round(2)\n",
    "\n",
    "display(storedf)"
   ]
  },
  {
   "cell_type": "code",
   "execution_count": 90,
   "id": "755b5cea",
   "metadata": {},
   "outputs": [],
   "source": [
    "#Adds a list passed in as a parameter to the parameter df with column name of list_name parameter\n",
    "def dfAddList(df, list_name, input_list):\n",
    "    df[list_name] = input_list"
   ]
  },
  {
   "cell_type": "code",
   "execution_count": 91,
   "id": "4f1963ed",
   "metadata": {},
   "outputs": [],
   "source": [
    "#Takes a given employee and calculates their ZScore for each metric as compared to the store mean\n",
    "def scoreCheck(df, employee_name):\n",
    "    score_list = []\n",
    "    \n",
    "    #Generate standard deviations for each metric based on KPIdf\n",
    "    stds = KPIdf[['time_on_shift', \n",
    "           'avg_delivery', 'avg_out_the_door', \n",
    "           'orh', 'percent_late', 'false_pos']].std().values\n",
    "    \n",
    "    #Drop store id and rank\n",
    "    employee_metric = KPIdf.loc[KPIdf['name'] == employee_name].values\n",
    "    employee_metric = np.delete(employee_metric, 0)\n",
    "    employee_metric = np.delete(employee_metric, 1)\n",
    "    \n",
    "    #Drop the Benchmarks and Pass columns to get raw means\n",
    "    means = meandf.drop(columns=['Benchmarks','Pass'])\n",
    "    \n",
    "    #Get means for all rows relevant to individual racer performance\n",
    "    means = means.drop(index=([\"Total Orders\",'Daily Avg. Orders'])).values\n",
    "    \n",
    "    #Calculate the employee's ZScore for each metric\n",
    "    for i in range (len(employee_metric)):\n",
    "        currMetric = employee_metric[i]\n",
    "        currStd = stds[i]\n",
    "        currMean = means[i]\n",
    "        \n",
    "        score_list.append(((currMetric - currMean)/currStd)[0].round(2))\n",
    "        \n",
    "    #Append the ZScore column to the employee's eval df\n",
    "    dfAddList(df, 'ZScore', score_list)"
   ]
  },
  {
   "cell_type": "code",
   "execution_count": 92,
   "id": "dbdf79bd",
   "metadata": {},
   "outputs": [],
   "source": [
    "#Checks whether a give employee's performance passes the benchmarks\n",
    "def testCheck(df, employee_name):\n",
    "    #Performance check on each metric\n",
    "    ##row[0] is benchmark\n",
    "    ##row[1] is actual\n",
    "    test_list = []\n",
    "    \n",
    "    #Numerical pass count\n",
    "    pass_count = 0\n",
    "    \n",
    "    #Drop store id and rank\n",
    "    employee_metric = KPIdf.loc[KPIdf['name'] == employee_name].values\n",
    "    employee_metric = np.delete(employee_metric, 0)\n",
    "    employee_metric = np.delete(employee_metric, 1)\n",
    "\n",
    "    #Drop the store averages and pass column to isolate benchmarks\n",
    "    benchmarks = meandf.drop(columns=['Store','Pass'])\n",
    "    \n",
    "    #Get benchmarks relevant to individual racer performance\n",
    "    benchmarks = benchmarks.drop(index=([\"Total Orders\",'Daily Avg. Orders'])).values\n",
    "\n",
    "    #Compare each metric to benchmark\n",
    "    #Hrs worked\n",
    "    if employee_metric[0] < benchmarks[0]:\n",
    "        test_list.append('N')\n",
    "    else:\n",
    "        test_list.append('Y')\n",
    "        pass_count += 1\n",
    "\n",
    "    #Avg Delivery Time\n",
    "    if employee_metric[1] > benchmarks[1]:\n",
    "        test_list.append('N')\n",
    "    else:\n",
    "        test_list.append('Y')\n",
    "        pass_count += 1\n",
    "\n",
    "    #Avg Out the Door\n",
    "    if employee_metric[2] > benchmarks[2]:\n",
    "        test_list.append('N')\n",
    "    else:\n",
    "        test_list.append('Y')\n",
    "        pass_count += 1\n",
    "\n",
    "    #ORH\n",
    "    if employee_metric[3] < benchmarks[3]:\n",
    "        test_list.append('N')\n",
    "    else:\n",
    "        test_list.append('Y')\n",
    "        pass_count += 1\n",
    "\n",
    "    #Late %\n",
    "    if employee_metric[4] > benchmarks[4]:\n",
    "        test_list.append('N')\n",
    "    else:\n",
    "        test_list.append('Y')\n",
    "        pass_count += 1\n",
    "\n",
    "    #False Pos %\n",
    "    if employee_metric[5] > benchmarks[5]:\n",
    "        test_list.append('N')\n",
    "    elif np.isnan(employee_metric[5]) == True:\n",
    "        test_list.append('X')\n",
    "    else:\n",
    "        test_list.append('Y')\n",
    "        pass_count += 1\n",
    "    \n",
    "     \n",
    "    #Add test_list to the eval df\n",
    "    dfAddList(df, 'Pass', test_list)\n",
    "    \n",
    "    return pass_count"
   ]
  },
  {
   "cell_type": "code",
   "execution_count": 93,
   "id": "04ecff13",
   "metadata": {},
   "outputs": [],
   "source": [
    "#Gets all feedback relevant to a give employee based on the predicitons and employee's role\n",
    "def getFeedback(employee_name):\n",
    "    #Create a df to store the given employee's feedback\n",
    "    individualFeedbackdf = pd.DataFrame(columns=['Positive Feedback','Negative Feedback'])\n",
    "    \n",
    "    #feedbackScore to store overall racer sentiment\n",
    "    feedbackScore = 0\n",
    "    \n",
    "    #Store positive and negative reviews, repectively, per racer\n",
    "    positiveList = []\n",
    "    negativeList = []\n",
    "    \n",
    "    #Go through the entire feedback dataframe to find any relevant feedback\n",
    "    for i in range (len(Feedbackdf.index)):\n",
    "        #if POS and employee as Racer and Packer\n",
    "        if (Feedbackdf.iloc[i][0] == 1) and (Feedbackdf.iloc[i][2] == employee_name) and (Feedbackdf.iloc[i][3] == employee_name):\n",
    "            positiveList.append('AS PACKER AND RACER: ' + Feedbackdf.iloc[i][1])\n",
    "            negativeList.append('')\n",
    "            feedbackScore += 1\n",
    "        #if NEG/NEU and employee as Racer and Packer\n",
    "        elif (Feedbackdf.iloc[i][0] == 0 or Feedbackdf.iloc[i][0] == -1) and (Feedbackdf.iloc[i][2] == employee_name) and (Feedbackdf.iloc[i][3] == employee_name):\n",
    "            negativeList.append('AS PACKER AND RACER: ' + Feedbackdf.iloc[i][1])\n",
    "            feedbackScore -= 1\n",
    "            positiveList.append('') \n",
    "        #if POS and employee as Racer and predcited Racer\n",
    "        elif (Feedbackdf.iloc[i][0] == 1) and (Feedbackdf.iloc[i][2] == employee_name) and (Feedbackdf.iloc[i][4] == 'R'):\n",
    "            positiveList.append('AS RACER: ' + Feedbackdf.iloc[i][1])\n",
    "            feedbackScore += 1\n",
    "            negativeList.append('')\n",
    "        #if POS and employee as Packer and predicted Packer\n",
    "        elif (Feedbackdf.iloc[i][0] == 1) and (Feedbackdf.iloc[i][3] == employee_name) and (Feedbackdf.iloc[i][4] == 'P'):\n",
    "            positiveList.append('AS PACKER: ' + Feedbackdf.iloc[i][1])\n",
    "            feedbackScore += 1\n",
    "            negativeList.append('')\n",
    "        #NEG/NEU and employee as Racer and predicted Racer:\n",
    "        elif (Feedbackdf.iloc[i][0] == 0 or Feedbackdf.iloc[i][0] == -1) and (Feedbackdf.iloc[i][2] == employee_name) and (Feedbackdf.iloc[i][4] == 'R'):\n",
    "            negativeList.append('AS RACER: ' + Feedbackdf.iloc[i][1])\n",
    "            feedbackScore -= 1\n",
    "            positiveList.append('') \n",
    "        #NEG/NEU and employee as Packer and predicted Packer:\n",
    "        elif (Feedbackdf.iloc[i][0] == 0 or Feedbackdf.iloc[i][0] == -1) and (Feedbackdf.iloc[i][3] == employee_name) and (Feedbackdf.iloc[i][4] == 'P'):\n",
    "            negativeList.append('AS PACKER: ' + Feedbackdf.iloc[i][1])\n",
    "            feedbackScore -= 1\n",
    "            positiveList.append('')\n",
    "        #if POS and employee Inconclusive:\n",
    "        elif (Feedbackdf.iloc[i][0] == 1) and (Feedbackdf.iloc[i][4] == 'I') and (Feedbackdf.iloc[i][2] == employee_name or Feedbackdf.iloc[i][3] == employee_name):\n",
    "            positiveList.append('INCONCLUSIVE: ' + Feedbackdf.iloc[i][1])\n",
    "            feedbackScore += 1\n",
    "            negativeList.append('')\n",
    "        #NEG/NEU and employee Inconclusive:\n",
    "        elif (Feedbackdf.iloc[i][0] == 0 or Feedbackdf.iloc[i][0] == -1) and (Feedbackdf.iloc[i][4] == 'I') and (Feedbackdf.iloc[i][2] == employee_name or Feedbackdf.iloc[i][3] == employee_name):\n",
    "            negativeList.append('INCONCLUSIVE: ' + Feedbackdf.iloc[i][1])\n",
    "            feedbackScore -= 1\n",
    "            positiveList.append('')\n",
    "\n",
    "    #Store feedback in a dataframe\n",
    "    individualFeedbackdf['Positive Feedback'] = positiveList\n",
    "    individualFeedbackdf['Negative Feedback'] = negativeList\n",
    "\n",
    "    #Show employee's feedback for jupyter eval display\n",
    "    display(individualFeedbackdf)\n",
    "    #Log employee's feedback in eval csv\n",
    "    individualFeedbackdf.to_csv(pathFolder + dateRange + 'EmployeeEvals.csv', mode='a', header=True, index=False)\n",
    "\n",
    "    #Remove columns to prime dataframe for next employee\n",
    "    individualFeedbackdf = individualFeedbackdf.drop(columns=['Positive Feedback','Negative Feedback'])\n",
    "    \n",
    "    #Return a generalized pos or neg sentiment based on cumulative feedbackScore\n",
    "    if feedbackScore > 0:\n",
    "        return 1\n",
    "    elif feedbackScore < 0:\n",
    "        return -1\n",
    "    else:\n",
    "        return 0"
   ]
  },
  {
   "cell_type": "code",
   "execution_count": 94,
   "id": "b6c161ca",
   "metadata": {},
   "outputs": [],
   "source": [
    "#Check for training completion\n",
    "def training_check(employee_name):\n",
    "    #Create a df to store the given employee's feedback\n",
    "    individualTrainingdf = pd.DataFrame(columns=['Training','Score'])\n",
    "    \n",
    "    trainings = ['Welcome Packet','Post Orientation Packet']\n",
    "    scores = []\n",
    "    #Welcome Packet\n",
    "    if employee_name in welcome_packet['Name'].values:\n",
    "        scores.append(str(welcome_packet.loc[welcome_packet['Name']==employee_name]['Score'].values[0]))\n",
    "    else:\n",
    "        scores.append(\"False\")\n",
    "    \n",
    "    #Post Orientation Packet\n",
    "    if employee_name in post_orientation_packet['Name'].values:\n",
    "        scores.append(str(post_orientation_packet.loc[post_orientation_packet['Name']==employee_name]['Score'].values[0]))\n",
    "    else:\n",
    "        scores.append(\"False\")\n",
    "        \n",
    "    individualTrainingdf['Training'] = trainings\n",
    "    individualTrainingdf['Score'] = scores   \n",
    "\n",
    "    #Show employee's feedback for jupyter eval display\n",
    "    display(individualTrainingdf)\n",
    "    #Log employee's feedback in eval csv\n",
    "    individualTrainingdf.to_csv(pathFolder + dateRange + 'EmployeeEvals.csv', mode='a', header=True, index=False)"
   ]
  },
  {
   "cell_type": "code",
   "execution_count": 95,
   "id": "43c9351b",
   "metadata": {},
   "outputs": [],
   "source": [
    "#Formatting for eval df\n",
    "def make_pretty(styler):\n",
    "    #Round to 2 decimal places for readability\n",
    "    styler.format(precision = 2)\n",
    "    #Positively coded ZScore conditional formatting\n",
    "    styler.background_gradient(axis=None, subset=(['Avg. Delivery Time','Avg. Out the Door','Late %','False Pos %'], ['ZScore']), vmin=-2.5, vmax=2.5, cmap=\"RdYlGn_r\")\n",
    "    #Negatively coded ZScore conditional formatting\n",
    "    styler.background_gradient(axis=None, subset=(['Avg. Hrs Worked','ORH'], ['ZScore']), vmin=-2.5, vmax=2.5, cmap=\"RdYlGn\")\n",
    "    return styler"
   ]
  },
  {
   "cell_type": "code",
   "execution_count": 96,
   "id": "52339251",
   "metadata": {},
   "outputs": [
    {
     "name": "stderr",
     "output_type": "stream",
     "text": [
      "C:\\Users\\aidan\\AppData\\Local\\Temp\\ipykernel_27120\\2927901798.py:7: FutureWarning: Series.__getitem__ treating keys as positions is deprecated. In a future version, integer keys will always be treated as labels (consistent with DataFrame behavior). To access a value by position, use `ser.iloc[pos]`\n",
      "  employee_name = racerdf[0]\n"
     ]
    },
    {
     "data": {
      "text/markdown": [
       "## Spencer Laumann's Eval:"
      ]
     },
     "metadata": {},
     "output_type": "display_data"
    },
    {
     "name": "stderr",
     "output_type": "stream",
     "text": [
      "C:\\Users\\aidan\\AppData\\Local\\Temp\\ipykernel_27120\\2927901798.py:23: FutureWarning: Series.__getitem__ treating keys as positions is deprecated. In a future version, integer keys will always be treated as labels (consistent with DataFrame behavior). To access a value by position, use `ser.iloc[pos]`\n",
      "  if storedf[employee_name][5] == -1:\n"
     ]
    },
    {
     "data": {
      "text/html": [
       "<style type=\"text/css\">\n",
       "#T_16b22_row0_col3 {\n",
       "  background-color: #219c52;\n",
       "  color: #f1f1f1;\n",
       "}\n",
       "#T_16b22_row1_col3, #T_16b22_row4_col3 {\n",
       "  background-color: #ebf7a3;\n",
       "  color: #000000;\n",
       "}\n",
       "#T_16b22_row2_col3 {\n",
       "  background-color: #f8fcb6;\n",
       "  color: #000000;\n",
       "}\n",
       "#T_16b22_row3_col3 {\n",
       "  background-color: #98d368;\n",
       "  color: #000000;\n",
       "}\n",
       "#T_16b22_row5_col3 {\n",
       "  background-color: #fffbb8;\n",
       "  color: #000000;\n",
       "}\n",
       "</style>\n",
       "<table id=\"T_16b22\">\n",
       "  <thead>\n",
       "    <tr>\n",
       "      <th class=\"blank level0\" >&nbsp;</th>\n",
       "      <th id=\"T_16b22_level0_col0\" class=\"col_heading level0 col0\" >Benchmarks</th>\n",
       "      <th id=\"T_16b22_level0_col1\" class=\"col_heading level0 col1\" >Store</th>\n",
       "      <th id=\"T_16b22_level0_col2\" class=\"col_heading level0 col2\" >Pass</th>\n",
       "      <th id=\"T_16b22_level0_col3\" class=\"col_heading level0 col3\" >ZScore</th>\n",
       "      <th id=\"T_16b22_level0_col4\" class=\"col_heading level0 col4\" >Spencer Laumann</th>\n",
       "    </tr>\n",
       "  </thead>\n",
       "  <tbody>\n",
       "    <tr>\n",
       "      <th id=\"T_16b22_level0_row0\" class=\"row_heading level0 row0\" >Avg. Hrs Worked</th>\n",
       "      <td id=\"T_16b22_row0_col0\" class=\"data row0 col0\" >12.00</td>\n",
       "      <td id=\"T_16b22_row0_col1\" class=\"data row0 col1\" >12.08</td>\n",
       "      <td id=\"T_16b22_row0_col2\" class=\"data row0 col2\" >Y</td>\n",
       "      <td id=\"T_16b22_row0_col3\" class=\"data row0 col3\" >1.94</td>\n",
       "      <td id=\"T_16b22_row0_col4\" class=\"data row0 col4\" >24.14</td>\n",
       "    </tr>\n",
       "    <tr>\n",
       "      <th id=\"T_16b22_level0_row1\" class=\"row_heading level0 row1\" >Avg. Delivery Time</th>\n",
       "      <td id=\"T_16b22_row1_col0\" class=\"data row1 col0\" >10.00</td>\n",
       "      <td id=\"T_16b22_row1_col1\" class=\"data row1 col1\" >10.82</td>\n",
       "      <td id=\"T_16b22_row1_col2\" class=\"data row1 col2\" >N</td>\n",
       "      <td id=\"T_16b22_row1_col3\" class=\"data row1 col3\" >-0.26</td>\n",
       "      <td id=\"T_16b22_row1_col4\" class=\"data row1 col4\" >10.25</td>\n",
       "    </tr>\n",
       "    <tr>\n",
       "      <th id=\"T_16b22_level0_row2\" class=\"row_heading level0 row2\" >Avg. Out the Door</th>\n",
       "      <td id=\"T_16b22_row2_col0\" class=\"data row2 col0\" >4.00</td>\n",
       "      <td id=\"T_16b22_row2_col1\" class=\"data row2 col1\" >4.70</td>\n",
       "      <td id=\"T_16b22_row2_col2\" class=\"data row2 col2\" >N</td>\n",
       "      <td id=\"T_16b22_row2_col3\" class=\"data row2 col3\" >-0.09</td>\n",
       "      <td id=\"T_16b22_row2_col4\" class=\"data row2 col4\" >4.58</td>\n",
       "    </tr>\n",
       "    <tr>\n",
       "      <th id=\"T_16b22_level0_row3\" class=\"row_heading level0 row3\" >ORH</th>\n",
       "      <td id=\"T_16b22_row3_col0\" class=\"data row3 col0\" >9.00</td>\n",
       "      <td id=\"T_16b22_row3_col1\" class=\"data row3 col1\" >4.36</td>\n",
       "      <td id=\"T_16b22_row3_col2\" class=\"data row3 col2\" >N</td>\n",
       "      <td id=\"T_16b22_row3_col3\" class=\"data row3 col3\" >1.10</td>\n",
       "      <td id=\"T_16b22_row3_col4\" class=\"data row3 col4\" >6.21</td>\n",
       "    </tr>\n",
       "    <tr>\n",
       "      <th id=\"T_16b22_level0_row4\" class=\"row_heading level0 row4\" >Late %</th>\n",
       "      <td id=\"T_16b22_row4_col0\" class=\"data row4 col0\" >0.10</td>\n",
       "      <td id=\"T_16b22_row4_col1\" class=\"data row4 col1\" >0.06</td>\n",
       "      <td id=\"T_16b22_row4_col2\" class=\"data row4 col2\" >Y</td>\n",
       "      <td id=\"T_16b22_row4_col3\" class=\"data row4 col3\" >-0.27</td>\n",
       "      <td id=\"T_16b22_row4_col4\" class=\"data row4 col4\" >0.04</td>\n",
       "    </tr>\n",
       "    <tr>\n",
       "      <th id=\"T_16b22_level0_row5\" class=\"row_heading level0 row5\" >False Pos %</th>\n",
       "      <td id=\"T_16b22_row5_col0\" class=\"data row5 col0\" >0.01</td>\n",
       "      <td id=\"T_16b22_row5_col1\" class=\"data row5 col1\" >0.37</td>\n",
       "      <td id=\"T_16b22_row5_col2\" class=\"data row5 col2\" >N</td>\n",
       "      <td id=\"T_16b22_row5_col3\" class=\"data row5 col3\" >0.06</td>\n",
       "      <td id=\"T_16b22_row5_col4\" class=\"data row5 col4\" >0.38</td>\n",
       "    </tr>\n",
       "  </tbody>\n",
       "</table>\n"
      ],
      "text/plain": [
       "<pandas.io.formats.style.Styler at 0x1c5a3cd9250>"
      ]
     },
     "metadata": {},
     "output_type": "display_data"
    },
    {
     "data": {
      "text/markdown": [
       "## Feedback:"
      ]
     },
     "metadata": {},
     "output_type": "display_data"
    },
    {
     "name": "stderr",
     "output_type": "stream",
     "text": [
      "C:\\Users\\aidan\\AppData\\Local\\Temp\\ipykernel_27120\\158198044.py:16: FutureWarning: Series.__getitem__ treating keys as positions is deprecated. In a future version, integer keys will always be treated as labels (consistent with DataFrame behavior). To access a value by position, use `ser.iloc[pos]`\n",
      "  if (Feedbackdf.iloc[i][0] == 1) and (Feedbackdf.iloc[i][2] == employee_name) and (Feedbackdf.iloc[i][3] == employee_name):\n",
      "C:\\Users\\aidan\\AppData\\Local\\Temp\\ipykernel_27120\\158198044.py:21: FutureWarning: Series.__getitem__ treating keys as positions is deprecated. In a future version, integer keys will always be treated as labels (consistent with DataFrame behavior). To access a value by position, use `ser.iloc[pos]`\n",
      "  elif (Feedbackdf.iloc[i][0] == 0 or Feedbackdf.iloc[i][0] == -1) and (Feedbackdf.iloc[i][2] == employee_name) and (Feedbackdf.iloc[i][3] == employee_name):\n",
      "C:\\Users\\aidan\\AppData\\Local\\Temp\\ipykernel_27120\\158198044.py:26: FutureWarning: Series.__getitem__ treating keys as positions is deprecated. In a future version, integer keys will always be treated as labels (consistent with DataFrame behavior). To access a value by position, use `ser.iloc[pos]`\n",
      "  elif (Feedbackdf.iloc[i][0] == 1) and (Feedbackdf.iloc[i][2] == employee_name) and (Feedbackdf.iloc[i][4] == 'R'):\n",
      "C:\\Users\\aidan\\AppData\\Local\\Temp\\ipykernel_27120\\158198044.py:31: FutureWarning: Series.__getitem__ treating keys as positions is deprecated. In a future version, integer keys will always be treated as labels (consistent with DataFrame behavior). To access a value by position, use `ser.iloc[pos]`\n",
      "  elif (Feedbackdf.iloc[i][0] == 1) and (Feedbackdf.iloc[i][3] == employee_name) and (Feedbackdf.iloc[i][4] == 'P'):\n",
      "C:\\Users\\aidan\\AppData\\Local\\Temp\\ipykernel_27120\\158198044.py:36: FutureWarning: Series.__getitem__ treating keys as positions is deprecated. In a future version, integer keys will always be treated as labels (consistent with DataFrame behavior). To access a value by position, use `ser.iloc[pos]`\n",
      "  elif (Feedbackdf.iloc[i][0] == 0 or Feedbackdf.iloc[i][0] == -1) and (Feedbackdf.iloc[i][2] == employee_name) and (Feedbackdf.iloc[i][4] == 'R'):\n",
      "C:\\Users\\aidan\\AppData\\Local\\Temp\\ipykernel_27120\\158198044.py:41: FutureWarning: Series.__getitem__ treating keys as positions is deprecated. In a future version, integer keys will always be treated as labels (consistent with DataFrame behavior). To access a value by position, use `ser.iloc[pos]`\n",
      "  elif (Feedbackdf.iloc[i][0] == 0 or Feedbackdf.iloc[i][0] == -1) and (Feedbackdf.iloc[i][3] == employee_name) and (Feedbackdf.iloc[i][4] == 'P'):\n",
      "C:\\Users\\aidan\\AppData\\Local\\Temp\\ipykernel_27120\\158198044.py:46: FutureWarning: Series.__getitem__ treating keys as positions is deprecated. In a future version, integer keys will always be treated as labels (consistent with DataFrame behavior). To access a value by position, use `ser.iloc[pos]`\n",
      "  elif (Feedbackdf.iloc[i][0] == 1) and (Feedbackdf.iloc[i][4] == 'I') and (Feedbackdf.iloc[i][2] == employee_name or Feedbackdf.iloc[i][3] == employee_name):\n",
      "C:\\Users\\aidan\\AppData\\Local\\Temp\\ipykernel_27120\\158198044.py:51: FutureWarning: Series.__getitem__ treating keys as positions is deprecated. In a future version, integer keys will always be treated as labels (consistent with DataFrame behavior). To access a value by position, use `ser.iloc[pos]`\n",
      "  elif (Feedbackdf.iloc[i][0] == 0 or Feedbackdf.iloc[i][0] == -1) and (Feedbackdf.iloc[i][4] == 'I') and (Feedbackdf.iloc[i][2] == employee_name or Feedbackdf.iloc[i][3] == employee_name):\n"
     ]
    },
    {
     "data": {
      "text/html": [
       "<div>\n",
       "<style scoped>\n",
       "    .dataframe tbody tr th:only-of-type {\n",
       "        vertical-align: middle;\n",
       "    }\n",
       "\n",
       "    .dataframe tbody tr th {\n",
       "        vertical-align: top;\n",
       "    }\n",
       "\n",
       "    .dataframe thead th {\n",
       "        text-align: right;\n",
       "    }\n",
       "</style>\n",
       "<table border=\"1\" class=\"dataframe\">\n",
       "  <thead>\n",
       "    <tr style=\"text-align: right;\">\n",
       "      <th></th>\n",
       "      <th>Positive Feedback</th>\n",
       "      <th>Negative Feedback</th>\n",
       "    </tr>\n",
       "  </thead>\n",
       "  <tbody>\n",
       "  </tbody>\n",
       "</table>\n",
       "</div>"
      ],
      "text/plain": [
       "Empty DataFrame\n",
       "Columns: [Positive Feedback, Negative Feedback]\n",
       "Index: []"
      ]
     },
     "metadata": {},
     "output_type": "display_data"
    },
    {
     "data": {
      "text/markdown": [
       "## Spencer Laumann's Score: 2/6"
      ]
     },
     "metadata": {},
     "output_type": "display_data"
    },
    {
     "data": {
      "text/markdown": [
       "### ------------------------------------------------------------------------------------------"
      ]
     },
     "metadata": {},
     "output_type": "display_data"
    },
    {
     "name": "stderr",
     "output_type": "stream",
     "text": [
      "C:\\Users\\aidan\\AppData\\Local\\Temp\\ipykernel_27120\\2927901798.py:7: FutureWarning: Series.__getitem__ treating keys as positions is deprecated. In a future version, integer keys will always be treated as labels (consistent with DataFrame behavior). To access a value by position, use `ser.iloc[pos]`\n",
      "  employee_name = racerdf[0]\n"
     ]
    },
    {
     "data": {
      "text/markdown": [
       "## Cadeaux Benimana's Eval:"
      ]
     },
     "metadata": {},
     "output_type": "display_data"
    },
    {
     "name": "stderr",
     "output_type": "stream",
     "text": [
      "C:\\Users\\aidan\\AppData\\Local\\Temp\\ipykernel_27120\\2927901798.py:23: FutureWarning: Series.__getitem__ treating keys as positions is deprecated. In a future version, integer keys will always be treated as labels (consistent with DataFrame behavior). To access a value by position, use `ser.iloc[pos]`\n",
      "  if storedf[employee_name][5] == -1:\n"
     ]
    },
    {
     "data": {
      "text/html": [
       "<style type=\"text/css\">\n",
       "#T_58fee_row0_col3 {\n",
       "  background-color: #06733d;\n",
       "  color: #f1f1f1;\n",
       "}\n",
       "#T_58fee_row1_col3 {\n",
       "  background-color: #feca79;\n",
       "  color: #000000;\n",
       "}\n",
       "#T_58fee_row2_col3 {\n",
       "  background-color: #ddf191;\n",
       "  color: #000000;\n",
       "}\n",
       "#T_58fee_row3_col3 {\n",
       "  background-color: #fee08b;\n",
       "  color: #000000;\n",
       "}\n",
       "#T_58fee_row4_col3 {\n",
       "  background-color: #fdb768;\n",
       "  color: #000000;\n",
       "}\n",
       "#T_58fee_row5_col3 {\n",
       "  background-color: #d5ed88;\n",
       "  color: #000000;\n",
       "}\n",
       "</style>\n",
       "<table id=\"T_58fee\">\n",
       "  <thead>\n",
       "    <tr>\n",
       "      <th class=\"blank level0\" >&nbsp;</th>\n",
       "      <th id=\"T_58fee_level0_col0\" class=\"col_heading level0 col0\" >Benchmarks</th>\n",
       "      <th id=\"T_58fee_level0_col1\" class=\"col_heading level0 col1\" >Store</th>\n",
       "      <th id=\"T_58fee_level0_col2\" class=\"col_heading level0 col2\" >Pass</th>\n",
       "      <th id=\"T_58fee_level0_col3\" class=\"col_heading level0 col3\" >ZScore</th>\n",
       "      <th id=\"T_58fee_level0_col4\" class=\"col_heading level0 col4\" >Cadeaux Benimana</th>\n",
       "    </tr>\n",
       "  </thead>\n",
       "  <tbody>\n",
       "    <tr>\n",
       "      <th id=\"T_58fee_level0_row0\" class=\"row_heading level0 row0\" >Avg. Hrs Worked</th>\n",
       "      <td id=\"T_58fee_row0_col0\" class=\"data row0 col0\" >12.00</td>\n",
       "      <td id=\"T_58fee_row0_col1\" class=\"data row0 col1\" >12.08</td>\n",
       "      <td id=\"T_58fee_row0_col2\" class=\"data row0 col2\" >Y</td>\n",
       "      <td id=\"T_58fee_row0_col3\" class=\"data row0 col3\" >2.37</td>\n",
       "      <td id=\"T_58fee_row0_col4\" class=\"data row0 col4\" >26.80</td>\n",
       "    </tr>\n",
       "    <tr>\n",
       "      <th id=\"T_58fee_level0_row1\" class=\"row_heading level0 row1\" >Avg. Delivery Time</th>\n",
       "      <td id=\"T_58fee_row1_col0\" class=\"data row1 col0\" >10.00</td>\n",
       "      <td id=\"T_58fee_row1_col1\" class=\"data row1 col1\" >10.82</td>\n",
       "      <td id=\"T_58fee_row1_col2\" class=\"data row1 col2\" >N</td>\n",
       "      <td id=\"T_58fee_row1_col3\" class=\"data row1 col3\" >0.72</td>\n",
       "      <td id=\"T_58fee_row1_col4\" class=\"data row1 col4\" >12.40</td>\n",
       "    </tr>\n",
       "    <tr>\n",
       "      <th id=\"T_58fee_level0_row2\" class=\"row_heading level0 row2\" >Avg. Out the Door</th>\n",
       "      <td id=\"T_58fee_row2_col0\" class=\"data row2 col0\" >4.00</td>\n",
       "      <td id=\"T_58fee_row2_col1\" class=\"data row2 col1\" >4.70</td>\n",
       "      <td id=\"T_58fee_row2_col2\" class=\"data row2 col2\" >N</td>\n",
       "      <td id=\"T_58fee_row2_col3\" class=\"data row2 col3\" >-0.43</td>\n",
       "      <td id=\"T_58fee_row2_col4\" class=\"data row2 col4\" >4.17</td>\n",
       "    </tr>\n",
       "    <tr>\n",
       "      <th id=\"T_58fee_level0_row3\" class=\"row_heading level0 row3\" >ORH</th>\n",
       "      <td id=\"T_58fee_row3_col0\" class=\"data row3 col0\" >9.00</td>\n",
       "      <td id=\"T_58fee_row3_col1\" class=\"data row3 col1\" >4.36</td>\n",
       "      <td id=\"T_58fee_row3_col2\" class=\"data row3 col2\" >N</td>\n",
       "      <td id=\"T_58fee_row3_col3\" class=\"data row3 col3\" >-0.50</td>\n",
       "      <td id=\"T_58fee_row3_col4\" class=\"data row3 col4\" >3.51</td>\n",
       "    </tr>\n",
       "    <tr>\n",
       "      <th id=\"T_58fee_level0_row4\" class=\"row_heading level0 row4\" >Late %</th>\n",
       "      <td id=\"T_58fee_row4_col0\" class=\"data row4 col0\" >0.10</td>\n",
       "      <td id=\"T_58fee_row4_col1\" class=\"data row4 col1\" >0.06</td>\n",
       "      <td id=\"T_58fee_row4_col2\" class=\"data row4 col2\" >N</td>\n",
       "      <td id=\"T_58fee_row4_col3\" class=\"data row4 col3\" >0.91</td>\n",
       "      <td id=\"T_58fee_row4_col4\" class=\"data row4 col4\" >0.13</td>\n",
       "    </tr>\n",
       "    <tr>\n",
       "      <th id=\"T_58fee_level0_row5\" class=\"row_heading level0 row5\" >False Pos %</th>\n",
       "      <td id=\"T_58fee_row5_col0\" class=\"data row5 col0\" >0.01</td>\n",
       "      <td id=\"T_58fee_row5_col1\" class=\"data row5 col1\" >0.37</td>\n",
       "      <td id=\"T_58fee_row5_col2\" class=\"data row5 col2\" >N</td>\n",
       "      <td id=\"T_58fee_row5_col3\" class=\"data row5 col3\" >-0.54</td>\n",
       "      <td id=\"T_58fee_row5_col4\" class=\"data row5 col4\" >0.30</td>\n",
       "    </tr>\n",
       "  </tbody>\n",
       "</table>\n"
      ],
      "text/plain": [
       "<pandas.io.formats.style.Styler at 0x1c5a3cd9250>"
      ]
     },
     "metadata": {},
     "output_type": "display_data"
    },
    {
     "data": {
      "text/markdown": [
       "## Feedback:"
      ]
     },
     "metadata": {},
     "output_type": "display_data"
    },
    {
     "name": "stderr",
     "output_type": "stream",
     "text": [
      "C:\\Users\\aidan\\AppData\\Local\\Temp\\ipykernel_27120\\158198044.py:16: FutureWarning: Series.__getitem__ treating keys as positions is deprecated. In a future version, integer keys will always be treated as labels (consistent with DataFrame behavior). To access a value by position, use `ser.iloc[pos]`\n",
      "  if (Feedbackdf.iloc[i][0] == 1) and (Feedbackdf.iloc[i][2] == employee_name) and (Feedbackdf.iloc[i][3] == employee_name):\n",
      "C:\\Users\\aidan\\AppData\\Local\\Temp\\ipykernel_27120\\158198044.py:21: FutureWarning: Series.__getitem__ treating keys as positions is deprecated. In a future version, integer keys will always be treated as labels (consistent with DataFrame behavior). To access a value by position, use `ser.iloc[pos]`\n",
      "  elif (Feedbackdf.iloc[i][0] == 0 or Feedbackdf.iloc[i][0] == -1) and (Feedbackdf.iloc[i][2] == employee_name) and (Feedbackdf.iloc[i][3] == employee_name):\n",
      "C:\\Users\\aidan\\AppData\\Local\\Temp\\ipykernel_27120\\158198044.py:26: FutureWarning: Series.__getitem__ treating keys as positions is deprecated. In a future version, integer keys will always be treated as labels (consistent with DataFrame behavior). To access a value by position, use `ser.iloc[pos]`\n",
      "  elif (Feedbackdf.iloc[i][0] == 1) and (Feedbackdf.iloc[i][2] == employee_name) and (Feedbackdf.iloc[i][4] == 'R'):\n",
      "C:\\Users\\aidan\\AppData\\Local\\Temp\\ipykernel_27120\\158198044.py:31: FutureWarning: Series.__getitem__ treating keys as positions is deprecated. In a future version, integer keys will always be treated as labels (consistent with DataFrame behavior). To access a value by position, use `ser.iloc[pos]`\n",
      "  elif (Feedbackdf.iloc[i][0] == 1) and (Feedbackdf.iloc[i][3] == employee_name) and (Feedbackdf.iloc[i][4] == 'P'):\n",
      "C:\\Users\\aidan\\AppData\\Local\\Temp\\ipykernel_27120\\158198044.py:36: FutureWarning: Series.__getitem__ treating keys as positions is deprecated. In a future version, integer keys will always be treated as labels (consistent with DataFrame behavior). To access a value by position, use `ser.iloc[pos]`\n",
      "  elif (Feedbackdf.iloc[i][0] == 0 or Feedbackdf.iloc[i][0] == -1) and (Feedbackdf.iloc[i][2] == employee_name) and (Feedbackdf.iloc[i][4] == 'R'):\n",
      "C:\\Users\\aidan\\AppData\\Local\\Temp\\ipykernel_27120\\158198044.py:41: FutureWarning: Series.__getitem__ treating keys as positions is deprecated. In a future version, integer keys will always be treated as labels (consistent with DataFrame behavior). To access a value by position, use `ser.iloc[pos]`\n",
      "  elif (Feedbackdf.iloc[i][0] == 0 or Feedbackdf.iloc[i][0] == -1) and (Feedbackdf.iloc[i][3] == employee_name) and (Feedbackdf.iloc[i][4] == 'P'):\n",
      "C:\\Users\\aidan\\AppData\\Local\\Temp\\ipykernel_27120\\158198044.py:46: FutureWarning: Series.__getitem__ treating keys as positions is deprecated. In a future version, integer keys will always be treated as labels (consistent with DataFrame behavior). To access a value by position, use `ser.iloc[pos]`\n",
      "  elif (Feedbackdf.iloc[i][0] == 1) and (Feedbackdf.iloc[i][4] == 'I') and (Feedbackdf.iloc[i][2] == employee_name or Feedbackdf.iloc[i][3] == employee_name):\n",
      "C:\\Users\\aidan\\AppData\\Local\\Temp\\ipykernel_27120\\158198044.py:51: FutureWarning: Series.__getitem__ treating keys as positions is deprecated. In a future version, integer keys will always be treated as labels (consistent with DataFrame behavior). To access a value by position, use `ser.iloc[pos]`\n",
      "  elif (Feedbackdf.iloc[i][0] == 0 or Feedbackdf.iloc[i][0] == -1) and (Feedbackdf.iloc[i][4] == 'I') and (Feedbackdf.iloc[i][2] == employee_name or Feedbackdf.iloc[i][3] == employee_name):\n"
     ]
    },
    {
     "data": {
      "text/html": [
       "<div>\n",
       "<style scoped>\n",
       "    .dataframe tbody tr th:only-of-type {\n",
       "        vertical-align: middle;\n",
       "    }\n",
       "\n",
       "    .dataframe tbody tr th {\n",
       "        vertical-align: top;\n",
       "    }\n",
       "\n",
       "    .dataframe thead th {\n",
       "        text-align: right;\n",
       "    }\n",
       "</style>\n",
       "<table border=\"1\" class=\"dataframe\">\n",
       "  <thead>\n",
       "    <tr style=\"text-align: right;\">\n",
       "      <th></th>\n",
       "      <th>Positive Feedback</th>\n",
       "      <th>Negative Feedback</th>\n",
       "    </tr>\n",
       "  </thead>\n",
       "  <tbody>\n",
       "  </tbody>\n",
       "</table>\n",
       "</div>"
      ],
      "text/plain": [
       "Empty DataFrame\n",
       "Columns: [Positive Feedback, Negative Feedback]\n",
       "Index: []"
      ]
     },
     "metadata": {},
     "output_type": "display_data"
    },
    {
     "data": {
      "text/markdown": [
       "## Cadeaux Benimana's Score: 1/6"
      ]
     },
     "metadata": {},
     "output_type": "display_data"
    },
    {
     "data": {
      "text/markdown": [
       "### ------------------------------------------------------------------------------------------"
      ]
     },
     "metadata": {},
     "output_type": "display_data"
    },
    {
     "name": "stderr",
     "output_type": "stream",
     "text": [
      "C:\\Users\\aidan\\AppData\\Local\\Temp\\ipykernel_27120\\2927901798.py:7: FutureWarning: Series.__getitem__ treating keys as positions is deprecated. In a future version, integer keys will always be treated as labels (consistent with DataFrame behavior). To access a value by position, use `ser.iloc[pos]`\n",
      "  employee_name = racerdf[0]\n"
     ]
    },
    {
     "data": {
      "text/markdown": [
       "## Ava Sheehan's Eval:"
      ]
     },
     "metadata": {},
     "output_type": "display_data"
    },
    {
     "name": "stderr",
     "output_type": "stream",
     "text": [
      "C:\\Users\\aidan\\AppData\\Local\\Temp\\ipykernel_27120\\2927901798.py:23: FutureWarning: Series.__getitem__ treating keys as positions is deprecated. In a future version, integer keys will always be treated as labels (consistent with DataFrame behavior). To access a value by position, use `ser.iloc[pos]`\n",
      "  if storedf[employee_name][5] == -1:\n"
     ]
    },
    {
     "data": {
      "text/html": [
       "<style type=\"text/css\">\n",
       "#T_03496_row0_col3 {\n",
       "  background-color: #d5ed88;\n",
       "  color: #000000;\n",
       "}\n",
       "#T_03496_row1_col3 {\n",
       "  background-color: #7dc765;\n",
       "  color: #000000;\n",
       "}\n",
       "#T_03496_row2_col3 {\n",
       "  background-color: #d9ef8b;\n",
       "  color: #000000;\n",
       "}\n",
       "#T_03496_row3_col3 {\n",
       "  background-color: #dcf08f;\n",
       "  color: #000000;\n",
       "}\n",
       "#T_03496_row4_col3 {\n",
       "  background-color: #b9e176;\n",
       "  color: #000000;\n",
       "}\n",
       "#T_03496_row5_col3 {\n",
       "  background-color: #d7ee8a;\n",
       "  color: #000000;\n",
       "}\n",
       "</style>\n",
       "<table id=\"T_03496\">\n",
       "  <thead>\n",
       "    <tr>\n",
       "      <th class=\"blank level0\" >&nbsp;</th>\n",
       "      <th id=\"T_03496_level0_col0\" class=\"col_heading level0 col0\" >Benchmarks</th>\n",
       "      <th id=\"T_03496_level0_col1\" class=\"col_heading level0 col1\" >Store</th>\n",
       "      <th id=\"T_03496_level0_col2\" class=\"col_heading level0 col2\" >Pass</th>\n",
       "      <th id=\"T_03496_level0_col3\" class=\"col_heading level0 col3\" >ZScore</th>\n",
       "      <th id=\"T_03496_level0_col4\" class=\"col_heading level0 col4\" >Ava Sheehan</th>\n",
       "    </tr>\n",
       "  </thead>\n",
       "  <tbody>\n",
       "    <tr>\n",
       "      <th id=\"T_03496_level0_row0\" class=\"row_heading level0 row0\" >Avg. Hrs Worked</th>\n",
       "      <td id=\"T_03496_row0_col0\" class=\"data row0 col0\" >12.00</td>\n",
       "      <td id=\"T_03496_row0_col1\" class=\"data row0 col1\" >12.08</td>\n",
       "      <td id=\"T_03496_row0_col2\" class=\"data row0 col2\" >Y</td>\n",
       "      <td id=\"T_03496_row0_col3\" class=\"data row0 col3\" >0.53</td>\n",
       "      <td id=\"T_03496_row0_col4\" class=\"data row0 col4\" >15.36</td>\n",
       "    </tr>\n",
       "    <tr>\n",
       "      <th id=\"T_03496_level0_row1\" class=\"row_heading level0 row1\" >Avg. Delivery Time</th>\n",
       "      <td id=\"T_03496_row1_col0\" class=\"data row1 col0\" >10.00</td>\n",
       "      <td id=\"T_03496_row1_col1\" class=\"data row1 col1\" >10.82</td>\n",
       "      <td id=\"T_03496_row1_col2\" class=\"data row1 col2\" >Y</td>\n",
       "      <td id=\"T_03496_row1_col3\" class=\"data row1 col3\" >-1.31</td>\n",
       "      <td id=\"T_03496_row1_col4\" class=\"data row1 col4\" >7.93</td>\n",
       "    </tr>\n",
       "    <tr>\n",
       "      <th id=\"T_03496_level0_row2\" class=\"row_heading level0 row2\" >Avg. Out the Door</th>\n",
       "      <td id=\"T_03496_row2_col0\" class=\"data row2 col0\" >4.00</td>\n",
       "      <td id=\"T_03496_row2_col1\" class=\"data row2 col1\" >4.70</td>\n",
       "      <td id=\"T_03496_row2_col2\" class=\"data row2 col2\" >N</td>\n",
       "      <td id=\"T_03496_row2_col3\" class=\"data row2 col3\" >-0.50</td>\n",
       "      <td id=\"T_03496_row2_col4\" class=\"data row2 col4\" >4.07</td>\n",
       "    </tr>\n",
       "    <tr>\n",
       "      <th id=\"T_03496_level0_row3\" class=\"row_heading level0 row3\" >ORH</th>\n",
       "      <td id=\"T_03496_row3_col0\" class=\"data row3 col0\" >9.00</td>\n",
       "      <td id=\"T_03496_row3_col1\" class=\"data row3 col1\" >4.36</td>\n",
       "      <td id=\"T_03496_row3_col2\" class=\"data row3 col2\" >N</td>\n",
       "      <td id=\"T_03496_row3_col3\" class=\"data row3 col3\" >0.46</td>\n",
       "      <td id=\"T_03496_row3_col4\" class=\"data row3 col4\" >5.14</td>\n",
       "    </tr>\n",
       "    <tr>\n",
       "      <th id=\"T_03496_level0_row4\" class=\"row_heading level0 row4\" >Late %</th>\n",
       "      <td id=\"T_03496_row4_col0\" class=\"data row4 col0\" >0.10</td>\n",
       "      <td id=\"T_03496_row4_col1\" class=\"data row4 col1\" >0.06</td>\n",
       "      <td id=\"T_03496_row4_col2\" class=\"data row4 col2\" >Y</td>\n",
       "      <td id=\"T_03496_row4_col3\" class=\"data row4 col3\" >-0.81</td>\n",
       "      <td id=\"T_03496_row4_col4\" class=\"data row4 col4\" >0.00</td>\n",
       "    </tr>\n",
       "    <tr>\n",
       "      <th id=\"T_03496_level0_row5\" class=\"row_heading level0 row5\" >False Pos %</th>\n",
       "      <td id=\"T_03496_row5_col0\" class=\"data row5 col0\" >0.01</td>\n",
       "      <td id=\"T_03496_row5_col1\" class=\"data row5 col1\" >0.37</td>\n",
       "      <td id=\"T_03496_row5_col2\" class=\"data row5 col2\" >N</td>\n",
       "      <td id=\"T_03496_row5_col3\" class=\"data row5 col3\" >-0.51</td>\n",
       "      <td id=\"T_03496_row5_col4\" class=\"data row5 col4\" >0.30</td>\n",
       "    </tr>\n",
       "  </tbody>\n",
       "</table>\n"
      ],
      "text/plain": [
       "<pandas.io.formats.style.Styler at 0x1c5a3cd9250>"
      ]
     },
     "metadata": {},
     "output_type": "display_data"
    },
    {
     "data": {
      "text/markdown": [
       "## Feedback:"
      ]
     },
     "metadata": {},
     "output_type": "display_data"
    },
    {
     "name": "stderr",
     "output_type": "stream",
     "text": [
      "C:\\Users\\aidan\\AppData\\Local\\Temp\\ipykernel_27120\\158198044.py:16: FutureWarning: Series.__getitem__ treating keys as positions is deprecated. In a future version, integer keys will always be treated as labels (consistent with DataFrame behavior). To access a value by position, use `ser.iloc[pos]`\n",
      "  if (Feedbackdf.iloc[i][0] == 1) and (Feedbackdf.iloc[i][2] == employee_name) and (Feedbackdf.iloc[i][3] == employee_name):\n",
      "C:\\Users\\aidan\\AppData\\Local\\Temp\\ipykernel_27120\\158198044.py:21: FutureWarning: Series.__getitem__ treating keys as positions is deprecated. In a future version, integer keys will always be treated as labels (consistent with DataFrame behavior). To access a value by position, use `ser.iloc[pos]`\n",
      "  elif (Feedbackdf.iloc[i][0] == 0 or Feedbackdf.iloc[i][0] == -1) and (Feedbackdf.iloc[i][2] == employee_name) and (Feedbackdf.iloc[i][3] == employee_name):\n",
      "C:\\Users\\aidan\\AppData\\Local\\Temp\\ipykernel_27120\\158198044.py:26: FutureWarning: Series.__getitem__ treating keys as positions is deprecated. In a future version, integer keys will always be treated as labels (consistent with DataFrame behavior). To access a value by position, use `ser.iloc[pos]`\n",
      "  elif (Feedbackdf.iloc[i][0] == 1) and (Feedbackdf.iloc[i][2] == employee_name) and (Feedbackdf.iloc[i][4] == 'R'):\n",
      "C:\\Users\\aidan\\AppData\\Local\\Temp\\ipykernel_27120\\158198044.py:31: FutureWarning: Series.__getitem__ treating keys as positions is deprecated. In a future version, integer keys will always be treated as labels (consistent with DataFrame behavior). To access a value by position, use `ser.iloc[pos]`\n",
      "  elif (Feedbackdf.iloc[i][0] == 1) and (Feedbackdf.iloc[i][3] == employee_name) and (Feedbackdf.iloc[i][4] == 'P'):\n",
      "C:\\Users\\aidan\\AppData\\Local\\Temp\\ipykernel_27120\\158198044.py:36: FutureWarning: Series.__getitem__ treating keys as positions is deprecated. In a future version, integer keys will always be treated as labels (consistent with DataFrame behavior). To access a value by position, use `ser.iloc[pos]`\n",
      "  elif (Feedbackdf.iloc[i][0] == 0 or Feedbackdf.iloc[i][0] == -1) and (Feedbackdf.iloc[i][2] == employee_name) and (Feedbackdf.iloc[i][4] == 'R'):\n",
      "C:\\Users\\aidan\\AppData\\Local\\Temp\\ipykernel_27120\\158198044.py:41: FutureWarning: Series.__getitem__ treating keys as positions is deprecated. In a future version, integer keys will always be treated as labels (consistent with DataFrame behavior). To access a value by position, use `ser.iloc[pos]`\n",
      "  elif (Feedbackdf.iloc[i][0] == 0 or Feedbackdf.iloc[i][0] == -1) and (Feedbackdf.iloc[i][3] == employee_name) and (Feedbackdf.iloc[i][4] == 'P'):\n",
      "C:\\Users\\aidan\\AppData\\Local\\Temp\\ipykernel_27120\\158198044.py:46: FutureWarning: Series.__getitem__ treating keys as positions is deprecated. In a future version, integer keys will always be treated as labels (consistent with DataFrame behavior). To access a value by position, use `ser.iloc[pos]`\n",
      "  elif (Feedbackdf.iloc[i][0] == 1) and (Feedbackdf.iloc[i][4] == 'I') and (Feedbackdf.iloc[i][2] == employee_name or Feedbackdf.iloc[i][3] == employee_name):\n",
      "C:\\Users\\aidan\\AppData\\Local\\Temp\\ipykernel_27120\\158198044.py:51: FutureWarning: Series.__getitem__ treating keys as positions is deprecated. In a future version, integer keys will always be treated as labels (consistent with DataFrame behavior). To access a value by position, use `ser.iloc[pos]`\n",
      "  elif (Feedbackdf.iloc[i][0] == 0 or Feedbackdf.iloc[i][0] == -1) and (Feedbackdf.iloc[i][4] == 'I') and (Feedbackdf.iloc[i][2] == employee_name or Feedbackdf.iloc[i][3] == employee_name):\n"
     ]
    },
    {
     "data": {
      "text/html": [
       "<div>\n",
       "<style scoped>\n",
       "    .dataframe tbody tr th:only-of-type {\n",
       "        vertical-align: middle;\n",
       "    }\n",
       "\n",
       "    .dataframe tbody tr th {\n",
       "        vertical-align: top;\n",
       "    }\n",
       "\n",
       "    .dataframe thead th {\n",
       "        text-align: right;\n",
       "    }\n",
       "</style>\n",
       "<table border=\"1\" class=\"dataframe\">\n",
       "  <thead>\n",
       "    <tr style=\"text-align: right;\">\n",
       "      <th></th>\n",
       "      <th>Positive Feedback</th>\n",
       "      <th>Negative Feedback</th>\n",
       "    </tr>\n",
       "  </thead>\n",
       "  <tbody>\n",
       "  </tbody>\n",
       "</table>\n",
       "</div>"
      ],
      "text/plain": [
       "Empty DataFrame\n",
       "Columns: [Positive Feedback, Negative Feedback]\n",
       "Index: []"
      ]
     },
     "metadata": {},
     "output_type": "display_data"
    },
    {
     "data": {
      "text/markdown": [
       "## Ava Sheehan's Score: 3/6"
      ]
     },
     "metadata": {},
     "output_type": "display_data"
    },
    {
     "data": {
      "text/markdown": [
       "### ------------------------------------------------------------------------------------------"
      ]
     },
     "metadata": {},
     "output_type": "display_data"
    },
    {
     "name": "stderr",
     "output_type": "stream",
     "text": [
      "C:\\Users\\aidan\\AppData\\Local\\Temp\\ipykernel_27120\\2927901798.py:7: FutureWarning: Series.__getitem__ treating keys as positions is deprecated. In a future version, integer keys will always be treated as labels (consistent with DataFrame behavior). To access a value by position, use `ser.iloc[pos]`\n",
      "  employee_name = racerdf[0]\n"
     ]
    },
    {
     "data": {
      "text/markdown": [
       "## Ephraim Amissah's Eval:"
      ]
     },
     "metadata": {},
     "output_type": "display_data"
    },
    {
     "name": "stderr",
     "output_type": "stream",
     "text": [
      "C:\\Users\\aidan\\AppData\\Local\\Temp\\ipykernel_27120\\2927901798.py:23: FutureWarning: Series.__getitem__ treating keys as positions is deprecated. In a future version, integer keys will always be treated as labels (consistent with DataFrame behavior). To access a value by position, use `ser.iloc[pos]`\n",
      "  if storedf[employee_name][5] == -1:\n"
     ]
    },
    {
     "data": {
      "text/html": [
       "<style type=\"text/css\">\n",
       "#T_4a8fc_row0_col3 {\n",
       "  background-color: #d3ec87;\n",
       "  color: #000000;\n",
       "}\n",
       "#T_4a8fc_row1_col3 {\n",
       "  background-color: #fdb768;\n",
       "  color: #000000;\n",
       "}\n",
       "#T_4a8fc_row2_col3 {\n",
       "  background-color: #feda86;\n",
       "  color: #000000;\n",
       "}\n",
       "#T_4a8fc_row3_col3 {\n",
       "  background-color: #eff8aa;\n",
       "  color: #000000;\n",
       "}\n",
       "#T_4a8fc_row4_col3 {\n",
       "  background-color: #feec9f;\n",
       "  color: #000000;\n",
       "}\n",
       "#T_4a8fc_row5_col3 {\n",
       "  background-color: #e2f397;\n",
       "  color: #000000;\n",
       "}\n",
       "</style>\n",
       "<table id=\"T_4a8fc\">\n",
       "  <thead>\n",
       "    <tr>\n",
       "      <th class=\"blank level0\" >&nbsp;</th>\n",
       "      <th id=\"T_4a8fc_level0_col0\" class=\"col_heading level0 col0\" >Benchmarks</th>\n",
       "      <th id=\"T_4a8fc_level0_col1\" class=\"col_heading level0 col1\" >Store</th>\n",
       "      <th id=\"T_4a8fc_level0_col2\" class=\"col_heading level0 col2\" >Pass</th>\n",
       "      <th id=\"T_4a8fc_level0_col3\" class=\"col_heading level0 col3\" >ZScore</th>\n",
       "      <th id=\"T_4a8fc_level0_col4\" class=\"col_heading level0 col4\" >Ephraim Amissah</th>\n",
       "    </tr>\n",
       "  </thead>\n",
       "  <tbody>\n",
       "    <tr>\n",
       "      <th id=\"T_4a8fc_level0_row0\" class=\"row_heading level0 row0\" >Avg. Hrs Worked</th>\n",
       "      <td id=\"T_4a8fc_row0_col0\" class=\"data row0 col0\" >12.00</td>\n",
       "      <td id=\"T_4a8fc_row0_col1\" class=\"data row0 col1\" >12.08</td>\n",
       "      <td id=\"T_4a8fc_row0_col2\" class=\"data row0 col2\" >Y</td>\n",
       "      <td id=\"T_4a8fc_row0_col3\" class=\"data row0 col3\" >0.56</td>\n",
       "      <td id=\"T_4a8fc_row0_col4\" class=\"data row0 col4\" >15.54</td>\n",
       "    </tr>\n",
       "    <tr>\n",
       "      <th id=\"T_4a8fc_level0_row1\" class=\"row_heading level0 row1\" >Avg. Delivery Time</th>\n",
       "      <td id=\"T_4a8fc_row1_col0\" class=\"data row1 col0\" >10.00</td>\n",
       "      <td id=\"T_4a8fc_row1_col1\" class=\"data row1 col1\" >10.82</td>\n",
       "      <td id=\"T_4a8fc_row1_col2\" class=\"data row1 col2\" >N</td>\n",
       "      <td id=\"T_4a8fc_row1_col3\" class=\"data row1 col3\" >0.90</td>\n",
       "      <td id=\"T_4a8fc_row1_col4\" class=\"data row1 col4\" >12.79</td>\n",
       "    </tr>\n",
       "    <tr>\n",
       "      <th id=\"T_4a8fc_level0_row2\" class=\"row_heading level0 row2\" >Avg. Out the Door</th>\n",
       "      <td id=\"T_4a8fc_row2_col0\" class=\"data row2 col0\" >4.00</td>\n",
       "      <td id=\"T_4a8fc_row2_col1\" class=\"data row2 col1\" >4.70</td>\n",
       "      <td id=\"T_4a8fc_row2_col2\" class=\"data row2 col2\" >N</td>\n",
       "      <td id=\"T_4a8fc_row2_col3\" class=\"data row2 col3\" >0.55</td>\n",
       "      <td id=\"T_4a8fc_row2_col4\" class=\"data row2 col4\" >5.39</td>\n",
       "    </tr>\n",
       "    <tr>\n",
       "      <th id=\"T_4a8fc_level0_row3\" class=\"row_heading level0 row3\" >ORH</th>\n",
       "      <td id=\"T_4a8fc_row3_col0\" class=\"data row3 col0\" >9.00</td>\n",
       "      <td id=\"T_4a8fc_row3_col1\" class=\"data row3 col1\" >4.36</td>\n",
       "      <td id=\"T_4a8fc_row3_col2\" class=\"data row3 col2\" >N</td>\n",
       "      <td id=\"T_4a8fc_row3_col3\" class=\"data row3 col3\" >0.20</td>\n",
       "      <td id=\"T_4a8fc_row3_col4\" class=\"data row3 col4\" >4.70</td>\n",
       "    </tr>\n",
       "    <tr>\n",
       "      <th id=\"T_4a8fc_level0_row4\" class=\"row_heading level0 row4\" >Late %</th>\n",
       "      <td id=\"T_4a8fc_row4_col0\" class=\"data row4 col0\" >0.10</td>\n",
       "      <td id=\"T_4a8fc_row4_col1\" class=\"data row4 col1\" >0.06</td>\n",
       "      <td id=\"T_4a8fc_row4_col2\" class=\"data row4 col2\" >Y</td>\n",
       "      <td id=\"T_4a8fc_row4_col3\" class=\"data row4 col3\" >0.30</td>\n",
       "      <td id=\"T_4a8fc_row4_col4\" class=\"data row4 col4\" >0.08</td>\n",
       "    </tr>\n",
       "    <tr>\n",
       "      <th id=\"T_4a8fc_level0_row5\" class=\"row_heading level0 row5\" >False Pos %</th>\n",
       "      <td id=\"T_4a8fc_row5_col0\" class=\"data row5 col0\" >0.01</td>\n",
       "      <td id=\"T_4a8fc_row5_col1\" class=\"data row5 col1\" >0.37</td>\n",
       "      <td id=\"T_4a8fc_row5_col2\" class=\"data row5 col2\" >N</td>\n",
       "      <td id=\"T_4a8fc_row5_col3\" class=\"data row5 col3\" >-0.38</td>\n",
       "      <td id=\"T_4a8fc_row5_col4\" class=\"data row5 col4\" >0.32</td>\n",
       "    </tr>\n",
       "  </tbody>\n",
       "</table>\n"
      ],
      "text/plain": [
       "<pandas.io.formats.style.Styler at 0x1c5a3cd9250>"
      ]
     },
     "metadata": {},
     "output_type": "display_data"
    },
    {
     "data": {
      "text/markdown": [
       "## Feedback:"
      ]
     },
     "metadata": {},
     "output_type": "display_data"
    },
    {
     "name": "stderr",
     "output_type": "stream",
     "text": [
      "C:\\Users\\aidan\\AppData\\Local\\Temp\\ipykernel_27120\\158198044.py:16: FutureWarning: Series.__getitem__ treating keys as positions is deprecated. In a future version, integer keys will always be treated as labels (consistent with DataFrame behavior). To access a value by position, use `ser.iloc[pos]`\n",
      "  if (Feedbackdf.iloc[i][0] == 1) and (Feedbackdf.iloc[i][2] == employee_name) and (Feedbackdf.iloc[i][3] == employee_name):\n",
      "C:\\Users\\aidan\\AppData\\Local\\Temp\\ipykernel_27120\\158198044.py:21: FutureWarning: Series.__getitem__ treating keys as positions is deprecated. In a future version, integer keys will always be treated as labels (consistent with DataFrame behavior). To access a value by position, use `ser.iloc[pos]`\n",
      "  elif (Feedbackdf.iloc[i][0] == 0 or Feedbackdf.iloc[i][0] == -1) and (Feedbackdf.iloc[i][2] == employee_name) and (Feedbackdf.iloc[i][3] == employee_name):\n",
      "C:\\Users\\aidan\\AppData\\Local\\Temp\\ipykernel_27120\\158198044.py:26: FutureWarning: Series.__getitem__ treating keys as positions is deprecated. In a future version, integer keys will always be treated as labels (consistent with DataFrame behavior). To access a value by position, use `ser.iloc[pos]`\n",
      "  elif (Feedbackdf.iloc[i][0] == 1) and (Feedbackdf.iloc[i][2] == employee_name) and (Feedbackdf.iloc[i][4] == 'R'):\n",
      "C:\\Users\\aidan\\AppData\\Local\\Temp\\ipykernel_27120\\158198044.py:31: FutureWarning: Series.__getitem__ treating keys as positions is deprecated. In a future version, integer keys will always be treated as labels (consistent with DataFrame behavior). To access a value by position, use `ser.iloc[pos]`\n",
      "  elif (Feedbackdf.iloc[i][0] == 1) and (Feedbackdf.iloc[i][3] == employee_name) and (Feedbackdf.iloc[i][4] == 'P'):\n",
      "C:\\Users\\aidan\\AppData\\Local\\Temp\\ipykernel_27120\\158198044.py:36: FutureWarning: Series.__getitem__ treating keys as positions is deprecated. In a future version, integer keys will always be treated as labels (consistent with DataFrame behavior). To access a value by position, use `ser.iloc[pos]`\n",
      "  elif (Feedbackdf.iloc[i][0] == 0 or Feedbackdf.iloc[i][0] == -1) and (Feedbackdf.iloc[i][2] == employee_name) and (Feedbackdf.iloc[i][4] == 'R'):\n",
      "C:\\Users\\aidan\\AppData\\Local\\Temp\\ipykernel_27120\\158198044.py:41: FutureWarning: Series.__getitem__ treating keys as positions is deprecated. In a future version, integer keys will always be treated as labels (consistent with DataFrame behavior). To access a value by position, use `ser.iloc[pos]`\n",
      "  elif (Feedbackdf.iloc[i][0] == 0 or Feedbackdf.iloc[i][0] == -1) and (Feedbackdf.iloc[i][3] == employee_name) and (Feedbackdf.iloc[i][4] == 'P'):\n",
      "C:\\Users\\aidan\\AppData\\Local\\Temp\\ipykernel_27120\\158198044.py:46: FutureWarning: Series.__getitem__ treating keys as positions is deprecated. In a future version, integer keys will always be treated as labels (consistent with DataFrame behavior). To access a value by position, use `ser.iloc[pos]`\n",
      "  elif (Feedbackdf.iloc[i][0] == 1) and (Feedbackdf.iloc[i][4] == 'I') and (Feedbackdf.iloc[i][2] == employee_name or Feedbackdf.iloc[i][3] == employee_name):\n",
      "C:\\Users\\aidan\\AppData\\Local\\Temp\\ipykernel_27120\\158198044.py:51: FutureWarning: Series.__getitem__ treating keys as positions is deprecated. In a future version, integer keys will always be treated as labels (consistent with DataFrame behavior). To access a value by position, use `ser.iloc[pos]`\n",
      "  elif (Feedbackdf.iloc[i][0] == 0 or Feedbackdf.iloc[i][0] == -1) and (Feedbackdf.iloc[i][4] == 'I') and (Feedbackdf.iloc[i][2] == employee_name or Feedbackdf.iloc[i][3] == employee_name):\n"
     ]
    },
    {
     "data": {
      "text/html": [
       "<div>\n",
       "<style scoped>\n",
       "    .dataframe tbody tr th:only-of-type {\n",
       "        vertical-align: middle;\n",
       "    }\n",
       "\n",
       "    .dataframe tbody tr th {\n",
       "        vertical-align: top;\n",
       "    }\n",
       "\n",
       "    .dataframe thead th {\n",
       "        text-align: right;\n",
       "    }\n",
       "</style>\n",
       "<table border=\"1\" class=\"dataframe\">\n",
       "  <thead>\n",
       "    <tr style=\"text-align: right;\">\n",
       "      <th></th>\n",
       "      <th>Positive Feedback</th>\n",
       "      <th>Negative Feedback</th>\n",
       "    </tr>\n",
       "  </thead>\n",
       "  <tbody>\n",
       "  </tbody>\n",
       "</table>\n",
       "</div>"
      ],
      "text/plain": [
       "Empty DataFrame\n",
       "Columns: [Positive Feedback, Negative Feedback]\n",
       "Index: []"
      ]
     },
     "metadata": {},
     "output_type": "display_data"
    },
    {
     "data": {
      "text/markdown": [
       "## Ephraim Amissah's Score: 2/6"
      ]
     },
     "metadata": {},
     "output_type": "display_data"
    },
    {
     "data": {
      "text/markdown": [
       "### ------------------------------------------------------------------------------------------"
      ]
     },
     "metadata": {},
     "output_type": "display_data"
    },
    {
     "name": "stderr",
     "output_type": "stream",
     "text": [
      "C:\\Users\\aidan\\AppData\\Local\\Temp\\ipykernel_27120\\2927901798.py:7: FutureWarning: Series.__getitem__ treating keys as positions is deprecated. In a future version, integer keys will always be treated as labels (consistent with DataFrame behavior). To access a value by position, use `ser.iloc[pos]`\n",
      "  employee_name = racerdf[0]\n"
     ]
    },
    {
     "data": {
      "text/markdown": [
       "## Klein Powell's Eval:"
      ]
     },
     "metadata": {},
     "output_type": "display_data"
    },
    {
     "name": "stderr",
     "output_type": "stream",
     "text": [
      "C:\\Users\\aidan\\AppData\\Local\\Temp\\ipykernel_27120\\2927901798.py:23: FutureWarning: Series.__getitem__ treating keys as positions is deprecated. In a future version, integer keys will always be treated as labels (consistent with DataFrame behavior). To access a value by position, use `ser.iloc[pos]`\n",
      "  if storedf[employee_name][5] == -1:\n"
     ]
    },
    {
     "data": {
      "text/html": [
       "<style type=\"text/css\">\n",
       "#T_7f966_row0_col3 {\n",
       "  background-color: #ddf191;\n",
       "  color: #000000;\n",
       "}\n",
       "#T_7f966_row1_col3 {\n",
       "  background-color: #89cc67;\n",
       "  color: #000000;\n",
       "}\n",
       "#T_7f966_row2_col3 {\n",
       "  background-color: #e9f6a1;\n",
       "  color: #000000;\n",
       "}\n",
       "#T_7f966_row3_col3 {\n",
       "  background-color: #eef8a8;\n",
       "  color: #000000;\n",
       "}\n",
       "#T_7f966_row4_col3 {\n",
       "  background-color: #cdea83;\n",
       "  color: #000000;\n",
       "}\n",
       "#T_7f966_row5_col3 {\n",
       "  background-color: #87cb67;\n",
       "  color: #000000;\n",
       "}\n",
       "</style>\n",
       "<table id=\"T_7f966\">\n",
       "  <thead>\n",
       "    <tr>\n",
       "      <th class=\"blank level0\" >&nbsp;</th>\n",
       "      <th id=\"T_7f966_level0_col0\" class=\"col_heading level0 col0\" >Benchmarks</th>\n",
       "      <th id=\"T_7f966_level0_col1\" class=\"col_heading level0 col1\" >Store</th>\n",
       "      <th id=\"T_7f966_level0_col2\" class=\"col_heading level0 col2\" >Pass</th>\n",
       "      <th id=\"T_7f966_level0_col3\" class=\"col_heading level0 col3\" >ZScore</th>\n",
       "      <th id=\"T_7f966_level0_col4\" class=\"col_heading level0 col4\" >Klein Powell</th>\n",
       "    </tr>\n",
       "  </thead>\n",
       "  <tbody>\n",
       "    <tr>\n",
       "      <th id=\"T_7f966_level0_row0\" class=\"row_heading level0 row0\" >Avg. Hrs Worked</th>\n",
       "      <td id=\"T_7f966_row0_col0\" class=\"data row0 col0\" >12.00</td>\n",
       "      <td id=\"T_7f966_row0_col1\" class=\"data row0 col1\" >12.08</td>\n",
       "      <td id=\"T_7f966_row0_col2\" class=\"data row0 col2\" >Y</td>\n",
       "      <td id=\"T_7f966_row0_col3\" class=\"data row0 col3\" >0.44</td>\n",
       "      <td id=\"T_7f966_row0_col4\" class=\"data row0 col4\" >14.79</td>\n",
       "    </tr>\n",
       "    <tr>\n",
       "      <th id=\"T_7f966_level0_row1\" class=\"row_heading level0 row1\" >Avg. Delivery Time</th>\n",
       "      <td id=\"T_7f966_row1_col0\" class=\"data row1 col0\" >10.00</td>\n",
       "      <td id=\"T_7f966_row1_col1\" class=\"data row1 col1\" >10.82</td>\n",
       "      <td id=\"T_7f966_row1_col2\" class=\"data row1 col2\" >Y</td>\n",
       "      <td id=\"T_7f966_row1_col3\" class=\"data row1 col3\" >-1.22</td>\n",
       "      <td id=\"T_7f966_row1_col4\" class=\"data row1 col4\" >8.12</td>\n",
       "    </tr>\n",
       "    <tr>\n",
       "      <th id=\"T_7f966_level0_row2\" class=\"row_heading level0 row2\" >Avg. Out the Door</th>\n",
       "      <td id=\"T_7f966_row2_col0\" class=\"data row2 col0\" >4.00</td>\n",
       "      <td id=\"T_7f966_row2_col1\" class=\"data row2 col1\" >4.70</td>\n",
       "      <td id=\"T_7f966_row2_col2\" class=\"data row2 col2\" >N</td>\n",
       "      <td id=\"T_7f966_row2_col3\" class=\"data row2 col3\" >-0.28</td>\n",
       "      <td id=\"T_7f966_row2_col4\" class=\"data row2 col4\" >4.35</td>\n",
       "    </tr>\n",
       "    <tr>\n",
       "      <th id=\"T_7f966_level0_row3\" class=\"row_heading level0 row3\" >ORH</th>\n",
       "      <td id=\"T_7f966_row3_col0\" class=\"data row3 col0\" >9.00</td>\n",
       "      <td id=\"T_7f966_row3_col1\" class=\"data row3 col1\" >4.36</td>\n",
       "      <td id=\"T_7f966_row3_col2\" class=\"data row3 col2\" >N</td>\n",
       "      <td id=\"T_7f966_row3_col3\" class=\"data row3 col3\" >0.22</td>\n",
       "      <td id=\"T_7f966_row3_col4\" class=\"data row3 col4\" >4.73</td>\n",
       "    </tr>\n",
       "    <tr>\n",
       "      <th id=\"T_7f966_level0_row4\" class=\"row_heading level0 row4\" >Late %</th>\n",
       "      <td id=\"T_7f966_row4_col0\" class=\"data row4 col0\" >0.10</td>\n",
       "      <td id=\"T_7f966_row4_col1\" class=\"data row4 col1\" >0.06</td>\n",
       "      <td id=\"T_7f966_row4_col2\" class=\"data row4 col2\" >Y</td>\n",
       "      <td id=\"T_7f966_row4_col3\" class=\"data row4 col3\" >-0.61</td>\n",
       "      <td id=\"T_7f966_row4_col4\" class=\"data row4 col4\" >0.01</td>\n",
       "    </tr>\n",
       "    <tr>\n",
       "      <th id=\"T_7f966_level0_row5\" class=\"row_heading level0 row5\" >False Pos %</th>\n",
       "      <td id=\"T_7f966_row5_col0\" class=\"data row5 col0\" >0.01</td>\n",
       "      <td id=\"T_7f966_row5_col1\" class=\"data row5 col1\" >0.37</td>\n",
       "      <td id=\"T_7f966_row5_col2\" class=\"data row5 col2\" >N</td>\n",
       "      <td id=\"T_7f966_row5_col3\" class=\"data row5 col3\" >-1.24</td>\n",
       "      <td id=\"T_7f966_row5_col4\" class=\"data row5 col4\" >0.20</td>\n",
       "    </tr>\n",
       "  </tbody>\n",
       "</table>\n"
      ],
      "text/plain": [
       "<pandas.io.formats.style.Styler at 0x1c5a3cd9250>"
      ]
     },
     "metadata": {},
     "output_type": "display_data"
    },
    {
     "data": {
      "text/markdown": [
       "## Feedback:"
      ]
     },
     "metadata": {},
     "output_type": "display_data"
    },
    {
     "name": "stderr",
     "output_type": "stream",
     "text": [
      "C:\\Users\\aidan\\AppData\\Local\\Temp\\ipykernel_27120\\158198044.py:16: FutureWarning: Series.__getitem__ treating keys as positions is deprecated. In a future version, integer keys will always be treated as labels (consistent with DataFrame behavior). To access a value by position, use `ser.iloc[pos]`\n",
      "  if (Feedbackdf.iloc[i][0] == 1) and (Feedbackdf.iloc[i][2] == employee_name) and (Feedbackdf.iloc[i][3] == employee_name):\n",
      "C:\\Users\\aidan\\AppData\\Local\\Temp\\ipykernel_27120\\158198044.py:17: FutureWarning: Series.__getitem__ treating keys as positions is deprecated. In a future version, integer keys will always be treated as labels (consistent with DataFrame behavior). To access a value by position, use `ser.iloc[pos]`\n",
      "  positiveList.append('AS PACKER AND RACER: ' + Feedbackdf.iloc[i][1])\n",
      "C:\\Users\\aidan\\AppData\\Local\\Temp\\ipykernel_27120\\158198044.py:21: FutureWarning: Series.__getitem__ treating keys as positions is deprecated. In a future version, integer keys will always be treated as labels (consistent with DataFrame behavior). To access a value by position, use `ser.iloc[pos]`\n",
      "  elif (Feedbackdf.iloc[i][0] == 0 or Feedbackdf.iloc[i][0] == -1) and (Feedbackdf.iloc[i][2] == employee_name) and (Feedbackdf.iloc[i][3] == employee_name):\n",
      "C:\\Users\\aidan\\AppData\\Local\\Temp\\ipykernel_27120\\158198044.py:26: FutureWarning: Series.__getitem__ treating keys as positions is deprecated. In a future version, integer keys will always be treated as labels (consistent with DataFrame behavior). To access a value by position, use `ser.iloc[pos]`\n",
      "  elif (Feedbackdf.iloc[i][0] == 1) and (Feedbackdf.iloc[i][2] == employee_name) and (Feedbackdf.iloc[i][4] == 'R'):\n",
      "C:\\Users\\aidan\\AppData\\Local\\Temp\\ipykernel_27120\\158198044.py:31: FutureWarning: Series.__getitem__ treating keys as positions is deprecated. In a future version, integer keys will always be treated as labels (consistent with DataFrame behavior). To access a value by position, use `ser.iloc[pos]`\n",
      "  elif (Feedbackdf.iloc[i][0] == 1) and (Feedbackdf.iloc[i][3] == employee_name) and (Feedbackdf.iloc[i][4] == 'P'):\n",
      "C:\\Users\\aidan\\AppData\\Local\\Temp\\ipykernel_27120\\158198044.py:36: FutureWarning: Series.__getitem__ treating keys as positions is deprecated. In a future version, integer keys will always be treated as labels (consistent with DataFrame behavior). To access a value by position, use `ser.iloc[pos]`\n",
      "  elif (Feedbackdf.iloc[i][0] == 0 or Feedbackdf.iloc[i][0] == -1) and (Feedbackdf.iloc[i][2] == employee_name) and (Feedbackdf.iloc[i][4] == 'R'):\n",
      "C:\\Users\\aidan\\AppData\\Local\\Temp\\ipykernel_27120\\158198044.py:41: FutureWarning: Series.__getitem__ treating keys as positions is deprecated. In a future version, integer keys will always be treated as labels (consistent with DataFrame behavior). To access a value by position, use `ser.iloc[pos]`\n",
      "  elif (Feedbackdf.iloc[i][0] == 0 or Feedbackdf.iloc[i][0] == -1) and (Feedbackdf.iloc[i][3] == employee_name) and (Feedbackdf.iloc[i][4] == 'P'):\n",
      "C:\\Users\\aidan\\AppData\\Local\\Temp\\ipykernel_27120\\158198044.py:46: FutureWarning: Series.__getitem__ treating keys as positions is deprecated. In a future version, integer keys will always be treated as labels (consistent with DataFrame behavior). To access a value by position, use `ser.iloc[pos]`\n",
      "  elif (Feedbackdf.iloc[i][0] == 1) and (Feedbackdf.iloc[i][4] == 'I') and (Feedbackdf.iloc[i][2] == employee_name or Feedbackdf.iloc[i][3] == employee_name):\n",
      "C:\\Users\\aidan\\AppData\\Local\\Temp\\ipykernel_27120\\158198044.py:51: FutureWarning: Series.__getitem__ treating keys as positions is deprecated. In a future version, integer keys will always be treated as labels (consistent with DataFrame behavior). To access a value by position, use `ser.iloc[pos]`\n",
      "  elif (Feedbackdf.iloc[i][0] == 0 or Feedbackdf.iloc[i][0] == -1) and (Feedbackdf.iloc[i][4] == 'I') and (Feedbackdf.iloc[i][2] == employee_name or Feedbackdf.iloc[i][3] == employee_name):\n"
     ]
    },
    {
     "data": {
      "text/html": [
       "<div>\n",
       "<style scoped>\n",
       "    .dataframe tbody tr th:only-of-type {\n",
       "        vertical-align: middle;\n",
       "    }\n",
       "\n",
       "    .dataframe tbody tr th {\n",
       "        vertical-align: top;\n",
       "    }\n",
       "\n",
       "    .dataframe thead th {\n",
       "        text-align: right;\n",
       "    }\n",
       "</style>\n",
       "<table border=\"1\" class=\"dataframe\">\n",
       "  <thead>\n",
       "    <tr style=\"text-align: right;\">\n",
       "      <th></th>\n",
       "      <th>Positive Feedback</th>\n",
       "      <th>Negative Feedback</th>\n",
       "    </tr>\n",
       "  </thead>\n",
       "  <tbody>\n",
       "    <tr>\n",
       "      <th>0</th>\n",
       "      <td>AS PACKER AND RACER: Everything bruh</td>\n",
       "      <td></td>\n",
       "    </tr>\n",
       "  </tbody>\n",
       "</table>\n",
       "</div>"
      ],
      "text/plain": [
       "                      Positive Feedback Negative Feedback\n",
       "0  AS PACKER AND RACER: Everything bruh                  "
      ]
     },
     "metadata": {},
     "output_type": "display_data"
    },
    {
     "data": {
      "text/markdown": [
       "## Klein Powell's Score: 4/6"
      ]
     },
     "metadata": {},
     "output_type": "display_data"
    },
    {
     "data": {
      "text/markdown": [
       "### ------------------------------------------------------------------------------------------"
      ]
     },
     "metadata": {},
     "output_type": "display_data"
    },
    {
     "name": "stderr",
     "output_type": "stream",
     "text": [
      "C:\\Users\\aidan\\AppData\\Local\\Temp\\ipykernel_27120\\2927901798.py:7: FutureWarning: Series.__getitem__ treating keys as positions is deprecated. In a future version, integer keys will always be treated as labels (consistent with DataFrame behavior). To access a value by position, use `ser.iloc[pos]`\n",
      "  employee_name = racerdf[0]\n"
     ]
    },
    {
     "data": {
      "text/markdown": [
       "## Sam Cano's Eval:"
      ]
     },
     "metadata": {},
     "output_type": "display_data"
    },
    {
     "name": "stderr",
     "output_type": "stream",
     "text": [
      "C:\\Users\\aidan\\AppData\\Local\\Temp\\ipykernel_27120\\2927901798.py:23: FutureWarning: Series.__getitem__ treating keys as positions is deprecated. In a future version, integer keys will always be treated as labels (consistent with DataFrame behavior). To access a value by position, use `ser.iloc[pos]`\n",
      "  if storedf[employee_name][5] == -1:\n"
     ]
    },
    {
     "data": {
      "text/html": [
       "<style type=\"text/css\">\n",
       "#T_302a0_row0_col3 {\n",
       "  background-color: #feffbe;\n",
       "  color: #000000;\n",
       "}\n",
       "#T_302a0_row1_col3 {\n",
       "  background-color: #d1ec86;\n",
       "  color: #000000;\n",
       "}\n",
       "#T_302a0_row2_col3 {\n",
       "  background-color: #c3e67d;\n",
       "  color: #000000;\n",
       "}\n",
       "#T_302a0_row3_col3 {\n",
       "  background-color: #cbe982;\n",
       "  color: #000000;\n",
       "}\n",
       "#T_302a0_row4_col3 {\n",
       "  background-color: #b9e176;\n",
       "  color: #000000;\n",
       "}\n",
       "#T_302a0_row5_col3 {\n",
       "  background-color: #cdea83;\n",
       "  color: #000000;\n",
       "}\n",
       "</style>\n",
       "<table id=\"T_302a0\">\n",
       "  <thead>\n",
       "    <tr>\n",
       "      <th class=\"blank level0\" >&nbsp;</th>\n",
       "      <th id=\"T_302a0_level0_col0\" class=\"col_heading level0 col0\" >Benchmarks</th>\n",
       "      <th id=\"T_302a0_level0_col1\" class=\"col_heading level0 col1\" >Store</th>\n",
       "      <th id=\"T_302a0_level0_col2\" class=\"col_heading level0 col2\" >Pass</th>\n",
       "      <th id=\"T_302a0_level0_col3\" class=\"col_heading level0 col3\" >ZScore</th>\n",
       "      <th id=\"T_302a0_level0_col4\" class=\"col_heading level0 col4\" >Sam Cano</th>\n",
       "    </tr>\n",
       "  </thead>\n",
       "  <tbody>\n",
       "    <tr>\n",
       "      <th id=\"T_302a0_level0_row0\" class=\"row_heading level0 row0\" >Avg. Hrs Worked</th>\n",
       "      <td id=\"T_302a0_row0_col0\" class=\"data row0 col0\" >12.00</td>\n",
       "      <td id=\"T_302a0_row0_col1\" class=\"data row0 col1\" >12.08</td>\n",
       "      <td id=\"T_302a0_row0_col2\" class=\"data row0 col2\" >Y</td>\n",
       "      <td id=\"T_302a0_row0_col3\" class=\"data row0 col3\" >0.01</td>\n",
       "      <td id=\"T_302a0_row0_col4\" class=\"data row0 col4\" >12.16</td>\n",
       "    </tr>\n",
       "    <tr>\n",
       "      <th id=\"T_302a0_level0_row1\" class=\"row_heading level0 row1\" >Avg. Delivery Time</th>\n",
       "      <td id=\"T_302a0_row1_col0\" class=\"data row1 col0\" >10.00</td>\n",
       "      <td id=\"T_302a0_row1_col1\" class=\"data row1 col1\" >10.82</td>\n",
       "      <td id=\"T_302a0_row1_col2\" class=\"data row1 col2\" >Y</td>\n",
       "      <td id=\"T_302a0_row1_col3\" class=\"data row1 col3\" >-0.57</td>\n",
       "      <td id=\"T_302a0_row1_col4\" class=\"data row1 col4\" >9.57</td>\n",
       "    </tr>\n",
       "    <tr>\n",
       "      <th id=\"T_302a0_level0_row2\" class=\"row_heading level0 row2\" >Avg. Out the Door</th>\n",
       "      <td id=\"T_302a0_row2_col0\" class=\"data row2 col0\" >4.00</td>\n",
       "      <td id=\"T_302a0_row2_col1\" class=\"data row2 col1\" >4.70</td>\n",
       "      <td id=\"T_302a0_row2_col2\" class=\"data row2 col2\" >Y</td>\n",
       "      <td id=\"T_302a0_row2_col3\" class=\"data row2 col3\" >-0.72</td>\n",
       "      <td id=\"T_302a0_row2_col4\" class=\"data row2 col4\" >3.80</td>\n",
       "    </tr>\n",
       "    <tr>\n",
       "      <th id=\"T_302a0_level0_row3\" class=\"row_heading level0 row3\" >ORH</th>\n",
       "      <td id=\"T_302a0_row3_col0\" class=\"data row3 col0\" >9.00</td>\n",
       "      <td id=\"T_302a0_row3_col1\" class=\"data row3 col1\" >4.36</td>\n",
       "      <td id=\"T_302a0_row3_col2\" class=\"data row3 col2\" >N</td>\n",
       "      <td id=\"T_302a0_row3_col3\" class=\"data row3 col3\" >0.63</td>\n",
       "      <td id=\"T_302a0_row3_col4\" class=\"data row3 col4\" >5.43</td>\n",
       "    </tr>\n",
       "    <tr>\n",
       "      <th id=\"T_302a0_level0_row4\" class=\"row_heading level0 row4\" >Late %</th>\n",
       "      <td id=\"T_302a0_row4_col0\" class=\"data row4 col0\" >0.10</td>\n",
       "      <td id=\"T_302a0_row4_col1\" class=\"data row4 col1\" >0.06</td>\n",
       "      <td id=\"T_302a0_row4_col2\" class=\"data row4 col2\" >Y</td>\n",
       "      <td id=\"T_302a0_row4_col3\" class=\"data row4 col3\" >-0.81</td>\n",
       "      <td id=\"T_302a0_row4_col4\" class=\"data row4 col4\" >0.00</td>\n",
       "    </tr>\n",
       "    <tr>\n",
       "      <th id=\"T_302a0_level0_row5\" class=\"row_heading level0 row5\" >False Pos %</th>\n",
       "      <td id=\"T_302a0_row5_col0\" class=\"data row5 col0\" >0.01</td>\n",
       "      <td id=\"T_302a0_row5_col1\" class=\"data row5 col1\" >0.37</td>\n",
       "      <td id=\"T_302a0_row5_col2\" class=\"data row5 col2\" >N</td>\n",
       "      <td id=\"T_302a0_row5_col3\" class=\"data row5 col3\" >-0.62</td>\n",
       "      <td id=\"T_302a0_row5_col4\" class=\"data row5 col4\" >0.29</td>\n",
       "    </tr>\n",
       "  </tbody>\n",
       "</table>\n"
      ],
      "text/plain": [
       "<pandas.io.formats.style.Styler at 0x1c5a3cd9250>"
      ]
     },
     "metadata": {},
     "output_type": "display_data"
    },
    {
     "data": {
      "text/markdown": [
       "## Feedback:"
      ]
     },
     "metadata": {},
     "output_type": "display_data"
    },
    {
     "name": "stderr",
     "output_type": "stream",
     "text": [
      "C:\\Users\\aidan\\AppData\\Local\\Temp\\ipykernel_27120\\158198044.py:16: FutureWarning: Series.__getitem__ treating keys as positions is deprecated. In a future version, integer keys will always be treated as labels (consistent with DataFrame behavior). To access a value by position, use `ser.iloc[pos]`\n",
      "  if (Feedbackdf.iloc[i][0] == 1) and (Feedbackdf.iloc[i][2] == employee_name) and (Feedbackdf.iloc[i][3] == employee_name):\n",
      "C:\\Users\\aidan\\AppData\\Local\\Temp\\ipykernel_27120\\158198044.py:21: FutureWarning: Series.__getitem__ treating keys as positions is deprecated. In a future version, integer keys will always be treated as labels (consistent with DataFrame behavior). To access a value by position, use `ser.iloc[pos]`\n",
      "  elif (Feedbackdf.iloc[i][0] == 0 or Feedbackdf.iloc[i][0] == -1) and (Feedbackdf.iloc[i][2] == employee_name) and (Feedbackdf.iloc[i][3] == employee_name):\n",
      "C:\\Users\\aidan\\AppData\\Local\\Temp\\ipykernel_27120\\158198044.py:26: FutureWarning: Series.__getitem__ treating keys as positions is deprecated. In a future version, integer keys will always be treated as labels (consistent with DataFrame behavior). To access a value by position, use `ser.iloc[pos]`\n",
      "  elif (Feedbackdf.iloc[i][0] == 1) and (Feedbackdf.iloc[i][2] == employee_name) and (Feedbackdf.iloc[i][4] == 'R'):\n",
      "C:\\Users\\aidan\\AppData\\Local\\Temp\\ipykernel_27120\\158198044.py:31: FutureWarning: Series.__getitem__ treating keys as positions is deprecated. In a future version, integer keys will always be treated as labels (consistent with DataFrame behavior). To access a value by position, use `ser.iloc[pos]`\n",
      "  elif (Feedbackdf.iloc[i][0] == 1) and (Feedbackdf.iloc[i][3] == employee_name) and (Feedbackdf.iloc[i][4] == 'P'):\n",
      "C:\\Users\\aidan\\AppData\\Local\\Temp\\ipykernel_27120\\158198044.py:36: FutureWarning: Series.__getitem__ treating keys as positions is deprecated. In a future version, integer keys will always be treated as labels (consistent with DataFrame behavior). To access a value by position, use `ser.iloc[pos]`\n",
      "  elif (Feedbackdf.iloc[i][0] == 0 or Feedbackdf.iloc[i][0] == -1) and (Feedbackdf.iloc[i][2] == employee_name) and (Feedbackdf.iloc[i][4] == 'R'):\n",
      "C:\\Users\\aidan\\AppData\\Local\\Temp\\ipykernel_27120\\158198044.py:41: FutureWarning: Series.__getitem__ treating keys as positions is deprecated. In a future version, integer keys will always be treated as labels (consistent with DataFrame behavior). To access a value by position, use `ser.iloc[pos]`\n",
      "  elif (Feedbackdf.iloc[i][0] == 0 or Feedbackdf.iloc[i][0] == -1) and (Feedbackdf.iloc[i][3] == employee_name) and (Feedbackdf.iloc[i][4] == 'P'):\n",
      "C:\\Users\\aidan\\AppData\\Local\\Temp\\ipykernel_27120\\158198044.py:46: FutureWarning: Series.__getitem__ treating keys as positions is deprecated. In a future version, integer keys will always be treated as labels (consistent with DataFrame behavior). To access a value by position, use `ser.iloc[pos]`\n",
      "  elif (Feedbackdf.iloc[i][0] == 1) and (Feedbackdf.iloc[i][4] == 'I') and (Feedbackdf.iloc[i][2] == employee_name or Feedbackdf.iloc[i][3] == employee_name):\n",
      "C:\\Users\\aidan\\AppData\\Local\\Temp\\ipykernel_27120\\158198044.py:51: FutureWarning: Series.__getitem__ treating keys as positions is deprecated. In a future version, integer keys will always be treated as labels (consistent with DataFrame behavior). To access a value by position, use `ser.iloc[pos]`\n",
      "  elif (Feedbackdf.iloc[i][0] == 0 or Feedbackdf.iloc[i][0] == -1) and (Feedbackdf.iloc[i][4] == 'I') and (Feedbackdf.iloc[i][2] == employee_name or Feedbackdf.iloc[i][3] == employee_name):\n"
     ]
    },
    {
     "data": {
      "text/html": [
       "<div>\n",
       "<style scoped>\n",
       "    .dataframe tbody tr th:only-of-type {\n",
       "        vertical-align: middle;\n",
       "    }\n",
       "\n",
       "    .dataframe tbody tr th {\n",
       "        vertical-align: top;\n",
       "    }\n",
       "\n",
       "    .dataframe thead th {\n",
       "        text-align: right;\n",
       "    }\n",
       "</style>\n",
       "<table border=\"1\" class=\"dataframe\">\n",
       "  <thead>\n",
       "    <tr style=\"text-align: right;\">\n",
       "      <th></th>\n",
       "      <th>Positive Feedback</th>\n",
       "      <th>Negative Feedback</th>\n",
       "    </tr>\n",
       "  </thead>\n",
       "  <tbody>\n",
       "  </tbody>\n",
       "</table>\n",
       "</div>"
      ],
      "text/plain": [
       "Empty DataFrame\n",
       "Columns: [Positive Feedback, Negative Feedback]\n",
       "Index: []"
      ]
     },
     "metadata": {},
     "output_type": "display_data"
    },
    {
     "data": {
      "text/markdown": [
       "## Sam Cano's Score: 4/6"
      ]
     },
     "metadata": {},
     "output_type": "display_data"
    },
    {
     "data": {
      "text/markdown": [
       "### ------------------------------------------------------------------------------------------"
      ]
     },
     "metadata": {},
     "output_type": "display_data"
    },
    {
     "name": "stderr",
     "output_type": "stream",
     "text": [
      "C:\\Users\\aidan\\AppData\\Local\\Temp\\ipykernel_27120\\2927901798.py:7: FutureWarning: Series.__getitem__ treating keys as positions is deprecated. In a future version, integer keys will always be treated as labels (consistent with DataFrame behavior). To access a value by position, use `ser.iloc[pos]`\n",
      "  employee_name = racerdf[0]\n"
     ]
    },
    {
     "data": {
      "text/markdown": [
       "## Juliet Eidelman's Eval:"
      ]
     },
     "metadata": {},
     "output_type": "display_data"
    },
    {
     "name": "stderr",
     "output_type": "stream",
     "text": [
      "C:\\Users\\aidan\\AppData\\Local\\Temp\\ipykernel_27120\\2927901798.py:23: FutureWarning: Series.__getitem__ treating keys as positions is deprecated. In a future version, integer keys will always be treated as labels (consistent with DataFrame behavior). To access a value by position, use `ser.iloc[pos]`\n",
      "  if storedf[employee_name][5] == -1:\n"
     ]
    },
    {
     "data": {
      "text/html": [
       "<style type=\"text/css\">\n",
       "#T_70ed5_row0_col3 {\n",
       "  background-color: #45ad5b;\n",
       "  color: #f1f1f1;\n",
       "}\n",
       "#T_70ed5_row1_col3 {\n",
       "  background-color: #e8f59f;\n",
       "  color: #000000;\n",
       "}\n",
       "#T_70ed5_row2_col3 {\n",
       "  background-color: #e9f6a1;\n",
       "  color: #000000;\n",
       "}\n",
       "#T_70ed5_row3_col3 {\n",
       "  background-color: #fdaf62;\n",
       "  color: #000000;\n",
       "}\n",
       "#T_70ed5_row4_col3, #T_70ed5_row5_col3 {\n",
       "  background-color: #f4fab0;\n",
       "  color: #000000;\n",
       "}\n",
       "</style>\n",
       "<table id=\"T_70ed5\">\n",
       "  <thead>\n",
       "    <tr>\n",
       "      <th class=\"blank level0\" >&nbsp;</th>\n",
       "      <th id=\"T_70ed5_level0_col0\" class=\"col_heading level0 col0\" >Benchmarks</th>\n",
       "      <th id=\"T_70ed5_level0_col1\" class=\"col_heading level0 col1\" >Store</th>\n",
       "      <th id=\"T_70ed5_level0_col2\" class=\"col_heading level0 col2\" >Pass</th>\n",
       "      <th id=\"T_70ed5_level0_col3\" class=\"col_heading level0 col3\" >ZScore</th>\n",
       "      <th id=\"T_70ed5_level0_col4\" class=\"col_heading level0 col4\" >Juliet Eidelman</th>\n",
       "    </tr>\n",
       "  </thead>\n",
       "  <tbody>\n",
       "    <tr>\n",
       "      <th id=\"T_70ed5_level0_row0\" class=\"row_heading level0 row0\" >Avg. Hrs Worked</th>\n",
       "      <td id=\"T_70ed5_row0_col0\" class=\"data row0 col0\" >12.00</td>\n",
       "      <td id=\"T_70ed5_row0_col1\" class=\"data row0 col1\" >12.08</td>\n",
       "      <td id=\"T_70ed5_row0_col2\" class=\"data row0 col2\" >Y</td>\n",
       "      <td id=\"T_70ed5_row0_col3\" class=\"data row0 col3\" >1.71</td>\n",
       "      <td id=\"T_70ed5_row0_col4\" class=\"data row0 col4\" >22.69</td>\n",
       "    </tr>\n",
       "    <tr>\n",
       "      <th id=\"T_70ed5_level0_row1\" class=\"row_heading level0 row1\" >Avg. Delivery Time</th>\n",
       "      <td id=\"T_70ed5_row1_col0\" class=\"data row1 col0\" >10.00</td>\n",
       "      <td id=\"T_70ed5_row1_col1\" class=\"data row1 col1\" >10.82</td>\n",
       "      <td id=\"T_70ed5_row1_col2\" class=\"data row1 col2\" >N</td>\n",
       "      <td id=\"T_70ed5_row1_col3\" class=\"data row1 col3\" >-0.31</td>\n",
       "      <td id=\"T_70ed5_row1_col4\" class=\"data row1 col4\" >10.13</td>\n",
       "    </tr>\n",
       "    <tr>\n",
       "      <th id=\"T_70ed5_level0_row2\" class=\"row_heading level0 row2\" >Avg. Out the Door</th>\n",
       "      <td id=\"T_70ed5_row2_col0\" class=\"data row2 col0\" >4.00</td>\n",
       "      <td id=\"T_70ed5_row2_col1\" class=\"data row2 col1\" >4.70</td>\n",
       "      <td id=\"T_70ed5_row2_col2\" class=\"data row2 col2\" >N</td>\n",
       "      <td id=\"T_70ed5_row2_col3\" class=\"data row2 col3\" >-0.29</td>\n",
       "      <td id=\"T_70ed5_row2_col4\" class=\"data row2 col4\" >4.34</td>\n",
       "    </tr>\n",
       "    <tr>\n",
       "      <th id=\"T_70ed5_level0_row3\" class=\"row_heading level0 row3\" >ORH</th>\n",
       "      <td id=\"T_70ed5_row3_col0\" class=\"data row3 col0\" >9.00</td>\n",
       "      <td id=\"T_70ed5_row3_col1\" class=\"data row3 col1\" >4.36</td>\n",
       "      <td id=\"T_70ed5_row3_col2\" class=\"data row3 col2\" >N</td>\n",
       "      <td id=\"T_70ed5_row3_col3\" class=\"data row3 col3\" >-0.99</td>\n",
       "      <td id=\"T_70ed5_row3_col4\" class=\"data row3 col4\" >2.69</td>\n",
       "    </tr>\n",
       "    <tr>\n",
       "      <th id=\"T_70ed5_level0_row4\" class=\"row_heading level0 row4\" >Late %</th>\n",
       "      <td id=\"T_70ed5_row4_col0\" class=\"data row4 col0\" >0.10</td>\n",
       "      <td id=\"T_70ed5_row4_col1\" class=\"data row4 col1\" >0.06</td>\n",
       "      <td id=\"T_70ed5_row4_col2\" class=\"data row4 col2\" >Y</td>\n",
       "      <td id=\"T_70ed5_row4_col3\" class=\"data row4 col3\" >-0.15</td>\n",
       "      <td id=\"T_70ed5_row4_col4\" class=\"data row4 col4\" >0.05</td>\n",
       "    </tr>\n",
       "    <tr>\n",
       "      <th id=\"T_70ed5_level0_row5\" class=\"row_heading level0 row5\" >False Pos %</th>\n",
       "      <td id=\"T_70ed5_row5_col0\" class=\"data row5 col0\" >0.01</td>\n",
       "      <td id=\"T_70ed5_row5_col1\" class=\"data row5 col1\" >0.37</td>\n",
       "      <td id=\"T_70ed5_row5_col2\" class=\"data row5 col2\" >N</td>\n",
       "      <td id=\"T_70ed5_row5_col3\" class=\"data row5 col3\" >-0.15</td>\n",
       "      <td id=\"T_70ed5_row5_col4\" class=\"data row5 col4\" >0.35</td>\n",
       "    </tr>\n",
       "  </tbody>\n",
       "</table>\n"
      ],
      "text/plain": [
       "<pandas.io.formats.style.Styler at 0x1c5a3cd9250>"
      ]
     },
     "metadata": {},
     "output_type": "display_data"
    },
    {
     "data": {
      "text/markdown": [
       "## Feedback:"
      ]
     },
     "metadata": {},
     "output_type": "display_data"
    },
    {
     "name": "stderr",
     "output_type": "stream",
     "text": [
      "C:\\Users\\aidan\\AppData\\Local\\Temp\\ipykernel_27120\\158198044.py:16: FutureWarning: Series.__getitem__ treating keys as positions is deprecated. In a future version, integer keys will always be treated as labels (consistent with DataFrame behavior). To access a value by position, use `ser.iloc[pos]`\n",
      "  if (Feedbackdf.iloc[i][0] == 1) and (Feedbackdf.iloc[i][2] == employee_name) and (Feedbackdf.iloc[i][3] == employee_name):\n",
      "C:\\Users\\aidan\\AppData\\Local\\Temp\\ipykernel_27120\\158198044.py:21: FutureWarning: Series.__getitem__ treating keys as positions is deprecated. In a future version, integer keys will always be treated as labels (consistent with DataFrame behavior). To access a value by position, use `ser.iloc[pos]`\n",
      "  elif (Feedbackdf.iloc[i][0] == 0 or Feedbackdf.iloc[i][0] == -1) and (Feedbackdf.iloc[i][2] == employee_name) and (Feedbackdf.iloc[i][3] == employee_name):\n",
      "C:\\Users\\aidan\\AppData\\Local\\Temp\\ipykernel_27120\\158198044.py:26: FutureWarning: Series.__getitem__ treating keys as positions is deprecated. In a future version, integer keys will always be treated as labels (consistent with DataFrame behavior). To access a value by position, use `ser.iloc[pos]`\n",
      "  elif (Feedbackdf.iloc[i][0] == 1) and (Feedbackdf.iloc[i][2] == employee_name) and (Feedbackdf.iloc[i][4] == 'R'):\n",
      "C:\\Users\\aidan\\AppData\\Local\\Temp\\ipykernel_27120\\158198044.py:31: FutureWarning: Series.__getitem__ treating keys as positions is deprecated. In a future version, integer keys will always be treated as labels (consistent with DataFrame behavior). To access a value by position, use `ser.iloc[pos]`\n",
      "  elif (Feedbackdf.iloc[i][0] == 1) and (Feedbackdf.iloc[i][3] == employee_name) and (Feedbackdf.iloc[i][4] == 'P'):\n",
      "C:\\Users\\aidan\\AppData\\Local\\Temp\\ipykernel_27120\\158198044.py:36: FutureWarning: Series.__getitem__ treating keys as positions is deprecated. In a future version, integer keys will always be treated as labels (consistent with DataFrame behavior). To access a value by position, use `ser.iloc[pos]`\n",
      "  elif (Feedbackdf.iloc[i][0] == 0 or Feedbackdf.iloc[i][0] == -1) and (Feedbackdf.iloc[i][2] == employee_name) and (Feedbackdf.iloc[i][4] == 'R'):\n",
      "C:\\Users\\aidan\\AppData\\Local\\Temp\\ipykernel_27120\\158198044.py:41: FutureWarning: Series.__getitem__ treating keys as positions is deprecated. In a future version, integer keys will always be treated as labels (consistent with DataFrame behavior). To access a value by position, use `ser.iloc[pos]`\n",
      "  elif (Feedbackdf.iloc[i][0] == 0 or Feedbackdf.iloc[i][0] == -1) and (Feedbackdf.iloc[i][3] == employee_name) and (Feedbackdf.iloc[i][4] == 'P'):\n",
      "C:\\Users\\aidan\\AppData\\Local\\Temp\\ipykernel_27120\\158198044.py:46: FutureWarning: Series.__getitem__ treating keys as positions is deprecated. In a future version, integer keys will always be treated as labels (consistent with DataFrame behavior). To access a value by position, use `ser.iloc[pos]`\n",
      "  elif (Feedbackdf.iloc[i][0] == 1) and (Feedbackdf.iloc[i][4] == 'I') and (Feedbackdf.iloc[i][2] == employee_name or Feedbackdf.iloc[i][3] == employee_name):\n",
      "C:\\Users\\aidan\\AppData\\Local\\Temp\\ipykernel_27120\\158198044.py:51: FutureWarning: Series.__getitem__ treating keys as positions is deprecated. In a future version, integer keys will always be treated as labels (consistent with DataFrame behavior). To access a value by position, use `ser.iloc[pos]`\n",
      "  elif (Feedbackdf.iloc[i][0] == 0 or Feedbackdf.iloc[i][0] == -1) and (Feedbackdf.iloc[i][4] == 'I') and (Feedbackdf.iloc[i][2] == employee_name or Feedbackdf.iloc[i][3] == employee_name):\n"
     ]
    },
    {
     "data": {
      "text/html": [
       "<div>\n",
       "<style scoped>\n",
       "    .dataframe tbody tr th:only-of-type {\n",
       "        vertical-align: middle;\n",
       "    }\n",
       "\n",
       "    .dataframe tbody tr th {\n",
       "        vertical-align: top;\n",
       "    }\n",
       "\n",
       "    .dataframe thead th {\n",
       "        text-align: right;\n",
       "    }\n",
       "</style>\n",
       "<table border=\"1\" class=\"dataframe\">\n",
       "  <thead>\n",
       "    <tr style=\"text-align: right;\">\n",
       "      <th></th>\n",
       "      <th>Positive Feedback</th>\n",
       "      <th>Negative Feedback</th>\n",
       "    </tr>\n",
       "  </thead>\n",
       "  <tbody>\n",
       "  </tbody>\n",
       "</table>\n",
       "</div>"
      ],
      "text/plain": [
       "Empty DataFrame\n",
       "Columns: [Positive Feedback, Negative Feedback]\n",
       "Index: []"
      ]
     },
     "metadata": {},
     "output_type": "display_data"
    },
    {
     "data": {
      "text/markdown": [
       "## Juliet Eidelman's Score: 2/6"
      ]
     },
     "metadata": {},
     "output_type": "display_data"
    },
    {
     "data": {
      "text/markdown": [
       "### ------------------------------------------------------------------------------------------"
      ]
     },
     "metadata": {},
     "output_type": "display_data"
    },
    {
     "name": "stderr",
     "output_type": "stream",
     "text": [
      "C:\\Users\\aidan\\AppData\\Local\\Temp\\ipykernel_27120\\2927901798.py:7: FutureWarning: Series.__getitem__ treating keys as positions is deprecated. In a future version, integer keys will always be treated as labels (consistent with DataFrame behavior). To access a value by position, use `ser.iloc[pos]`\n",
      "  employee_name = racerdf[0]\n"
     ]
    },
    {
     "data": {
      "text/markdown": [
       "## Jack McDonald's Eval:"
      ]
     },
     "metadata": {},
     "output_type": "display_data"
    },
    {
     "name": "stderr",
     "output_type": "stream",
     "text": [
      "C:\\Users\\aidan\\AppData\\Local\\Temp\\ipykernel_27120\\2927901798.py:23: FutureWarning: Series.__getitem__ treating keys as positions is deprecated. In a future version, integer keys will always be treated as labels (consistent with DataFrame behavior). To access a value by position, use `ser.iloc[pos]`\n",
      "  if storedf[employee_name][5] == -1:\n"
     ]
    },
    {
     "data": {
      "text/html": [
       "<style type=\"text/css\">\n",
       "#T_665e2_row0_col3 {\n",
       "  background-color: #fee695;\n",
       "  color: #000000;\n",
       "}\n",
       "#T_665e2_row1_col3 {\n",
       "  background-color: #eef8a8;\n",
       "  color: #000000;\n",
       "}\n",
       "#T_665e2_row2_col3 {\n",
       "  background-color: #ddf191;\n",
       "  color: #000000;\n",
       "}\n",
       "#T_665e2_row3_col3 {\n",
       "  background-color: #91d068;\n",
       "  color: #000000;\n",
       "}\n",
       "#T_665e2_row4_col3 {\n",
       "  background-color: #e3f399;\n",
       "  color: #000000;\n",
       "}\n",
       "#T_665e2_row5_col3 {\n",
       "  background-color: #fa9b58;\n",
       "  color: #000000;\n",
       "}\n",
       "</style>\n",
       "<table id=\"T_665e2\">\n",
       "  <thead>\n",
       "    <tr>\n",
       "      <th class=\"blank level0\" >&nbsp;</th>\n",
       "      <th id=\"T_665e2_level0_col0\" class=\"col_heading level0 col0\" >Benchmarks</th>\n",
       "      <th id=\"T_665e2_level0_col1\" class=\"col_heading level0 col1\" >Store</th>\n",
       "      <th id=\"T_665e2_level0_col2\" class=\"col_heading level0 col2\" >Pass</th>\n",
       "      <th id=\"T_665e2_level0_col3\" class=\"col_heading level0 col3\" >ZScore</th>\n",
       "      <th id=\"T_665e2_level0_col4\" class=\"col_heading level0 col4\" >Jack McDonald</th>\n",
       "    </tr>\n",
       "  </thead>\n",
       "  <tbody>\n",
       "    <tr>\n",
       "      <th id=\"T_665e2_level0_row0\" class=\"row_heading level0 row0\" >Avg. Hrs Worked</th>\n",
       "      <td id=\"T_665e2_row0_col0\" class=\"data row0 col0\" >12.00</td>\n",
       "      <td id=\"T_665e2_row0_col1\" class=\"data row0 col1\" >12.08</td>\n",
       "      <td id=\"T_665e2_row0_col2\" class=\"data row0 col2\" >N</td>\n",
       "      <td id=\"T_665e2_row0_col3\" class=\"data row0 col3\" >-0.40</td>\n",
       "      <td id=\"T_665e2_row0_col4\" class=\"data row0 col4\" >9.61</td>\n",
       "    </tr>\n",
       "    <tr>\n",
       "      <th id=\"T_665e2_level0_row1\" class=\"row_heading level0 row1\" >Avg. Delivery Time</th>\n",
       "      <td id=\"T_665e2_row1_col0\" class=\"data row1 col0\" >10.00</td>\n",
       "      <td id=\"T_665e2_row1_col1\" class=\"data row1 col1\" >10.82</td>\n",
       "      <td id=\"T_665e2_row1_col2\" class=\"data row1 col2\" >N</td>\n",
       "      <td id=\"T_665e2_row1_col3\" class=\"data row1 col3\" >-0.23</td>\n",
       "      <td id=\"T_665e2_row1_col4\" class=\"data row1 col4\" >10.31</td>\n",
       "    </tr>\n",
       "    <tr>\n",
       "      <th id=\"T_665e2_level0_row2\" class=\"row_heading level0 row2\" >Avg. Out the Door</th>\n",
       "      <td id=\"T_665e2_row2_col0\" class=\"data row2 col0\" >4.00</td>\n",
       "      <td id=\"T_665e2_row2_col1\" class=\"data row2 col1\" >4.70</td>\n",
       "      <td id=\"T_665e2_row2_col2\" class=\"data row2 col2\" >N</td>\n",
       "      <td id=\"T_665e2_row2_col3\" class=\"data row2 col3\" >-0.43</td>\n",
       "      <td id=\"T_665e2_row2_col4\" class=\"data row2 col4\" >4.16</td>\n",
       "    </tr>\n",
       "    <tr>\n",
       "      <th id=\"T_665e2_level0_row3\" class=\"row_heading level0 row3\" >ORH</th>\n",
       "      <td id=\"T_665e2_row3_col0\" class=\"data row3 col0\" >9.00</td>\n",
       "      <td id=\"T_665e2_row3_col1\" class=\"data row3 col1\" >4.36</td>\n",
       "      <td id=\"T_665e2_row3_col2\" class=\"data row3 col2\" >N</td>\n",
       "      <td id=\"T_665e2_row3_col3\" class=\"data row3 col3\" >1.17</td>\n",
       "      <td id=\"T_665e2_row3_col4\" class=\"data row3 col4\" >6.35</td>\n",
       "    </tr>\n",
       "    <tr>\n",
       "      <th id=\"T_665e2_level0_row4\" class=\"row_heading level0 row4\" >Late %</th>\n",
       "      <td id=\"T_665e2_row4_col0\" class=\"data row4 col0\" >0.10</td>\n",
       "      <td id=\"T_665e2_row4_col1\" class=\"data row4 col1\" >0.06</td>\n",
       "      <td id=\"T_665e2_row4_col2\" class=\"data row4 col2\" >Y</td>\n",
       "      <td id=\"T_665e2_row4_col3\" class=\"data row4 col3\" >-0.37</td>\n",
       "      <td id=\"T_665e2_row4_col4\" class=\"data row4 col4\" >0.03</td>\n",
       "    </tr>\n",
       "    <tr>\n",
       "      <th id=\"T_665e2_level0_row5\" class=\"row_heading level0 row5\" >False Pos %</th>\n",
       "      <td id=\"T_665e2_row5_col0\" class=\"data row5 col0\" >0.01</td>\n",
       "      <td id=\"T_665e2_row5_col1\" class=\"data row5 col1\" >0.37</td>\n",
       "      <td id=\"T_665e2_row5_col2\" class=\"data row5 col2\" >N</td>\n",
       "      <td id=\"T_665e2_row5_col3\" class=\"data row5 col3\" >1.14</td>\n",
       "      <td id=\"T_665e2_row5_col4\" class=\"data row5 col4\" >0.53</td>\n",
       "    </tr>\n",
       "  </tbody>\n",
       "</table>\n"
      ],
      "text/plain": [
       "<pandas.io.formats.style.Styler at 0x1c5a3cd9250>"
      ]
     },
     "metadata": {},
     "output_type": "display_data"
    },
    {
     "data": {
      "text/markdown": [
       "## Feedback:"
      ]
     },
     "metadata": {},
     "output_type": "display_data"
    },
    {
     "name": "stderr",
     "output_type": "stream",
     "text": [
      "C:\\Users\\aidan\\AppData\\Local\\Temp\\ipykernel_27120\\158198044.py:16: FutureWarning: Series.__getitem__ treating keys as positions is deprecated. In a future version, integer keys will always be treated as labels (consistent with DataFrame behavior). To access a value by position, use `ser.iloc[pos]`\n",
      "  if (Feedbackdf.iloc[i][0] == 1) and (Feedbackdf.iloc[i][2] == employee_name) and (Feedbackdf.iloc[i][3] == employee_name):\n",
      "C:\\Users\\aidan\\AppData\\Local\\Temp\\ipykernel_27120\\158198044.py:21: FutureWarning: Series.__getitem__ treating keys as positions is deprecated. In a future version, integer keys will always be treated as labels (consistent with DataFrame behavior). To access a value by position, use `ser.iloc[pos]`\n",
      "  elif (Feedbackdf.iloc[i][0] == 0 or Feedbackdf.iloc[i][0] == -1) and (Feedbackdf.iloc[i][2] == employee_name) and (Feedbackdf.iloc[i][3] == employee_name):\n",
      "C:\\Users\\aidan\\AppData\\Local\\Temp\\ipykernel_27120\\158198044.py:26: FutureWarning: Series.__getitem__ treating keys as positions is deprecated. In a future version, integer keys will always be treated as labels (consistent with DataFrame behavior). To access a value by position, use `ser.iloc[pos]`\n",
      "  elif (Feedbackdf.iloc[i][0] == 1) and (Feedbackdf.iloc[i][2] == employee_name) and (Feedbackdf.iloc[i][4] == 'R'):\n",
      "C:\\Users\\aidan\\AppData\\Local\\Temp\\ipykernel_27120\\158198044.py:31: FutureWarning: Series.__getitem__ treating keys as positions is deprecated. In a future version, integer keys will always be treated as labels (consistent with DataFrame behavior). To access a value by position, use `ser.iloc[pos]`\n",
      "  elif (Feedbackdf.iloc[i][0] == 1) and (Feedbackdf.iloc[i][3] == employee_name) and (Feedbackdf.iloc[i][4] == 'P'):\n",
      "C:\\Users\\aidan\\AppData\\Local\\Temp\\ipykernel_27120\\158198044.py:36: FutureWarning: Series.__getitem__ treating keys as positions is deprecated. In a future version, integer keys will always be treated as labels (consistent with DataFrame behavior). To access a value by position, use `ser.iloc[pos]`\n",
      "  elif (Feedbackdf.iloc[i][0] == 0 or Feedbackdf.iloc[i][0] == -1) and (Feedbackdf.iloc[i][2] == employee_name) and (Feedbackdf.iloc[i][4] == 'R'):\n",
      "C:\\Users\\aidan\\AppData\\Local\\Temp\\ipykernel_27120\\158198044.py:41: FutureWarning: Series.__getitem__ treating keys as positions is deprecated. In a future version, integer keys will always be treated as labels (consistent with DataFrame behavior). To access a value by position, use `ser.iloc[pos]`\n",
      "  elif (Feedbackdf.iloc[i][0] == 0 or Feedbackdf.iloc[i][0] == -1) and (Feedbackdf.iloc[i][3] == employee_name) and (Feedbackdf.iloc[i][4] == 'P'):\n",
      "C:\\Users\\aidan\\AppData\\Local\\Temp\\ipykernel_27120\\158198044.py:46: FutureWarning: Series.__getitem__ treating keys as positions is deprecated. In a future version, integer keys will always be treated as labels (consistent with DataFrame behavior). To access a value by position, use `ser.iloc[pos]`\n",
      "  elif (Feedbackdf.iloc[i][0] == 1) and (Feedbackdf.iloc[i][4] == 'I') and (Feedbackdf.iloc[i][2] == employee_name or Feedbackdf.iloc[i][3] == employee_name):\n",
      "C:\\Users\\aidan\\AppData\\Local\\Temp\\ipykernel_27120\\158198044.py:51: FutureWarning: Series.__getitem__ treating keys as positions is deprecated. In a future version, integer keys will always be treated as labels (consistent with DataFrame behavior). To access a value by position, use `ser.iloc[pos]`\n",
      "  elif (Feedbackdf.iloc[i][0] == 0 or Feedbackdf.iloc[i][0] == -1) and (Feedbackdf.iloc[i][4] == 'I') and (Feedbackdf.iloc[i][2] == employee_name or Feedbackdf.iloc[i][3] == employee_name):\n"
     ]
    },
    {
     "data": {
      "text/html": [
       "<div>\n",
       "<style scoped>\n",
       "    .dataframe tbody tr th:only-of-type {\n",
       "        vertical-align: middle;\n",
       "    }\n",
       "\n",
       "    .dataframe tbody tr th {\n",
       "        vertical-align: top;\n",
       "    }\n",
       "\n",
       "    .dataframe thead th {\n",
       "        text-align: right;\n",
       "    }\n",
       "</style>\n",
       "<table border=\"1\" class=\"dataframe\">\n",
       "  <thead>\n",
       "    <tr style=\"text-align: right;\">\n",
       "      <th></th>\n",
       "      <th>Positive Feedback</th>\n",
       "      <th>Negative Feedback</th>\n",
       "    </tr>\n",
       "  </thead>\n",
       "  <tbody>\n",
       "  </tbody>\n",
       "</table>\n",
       "</div>"
      ],
      "text/plain": [
       "Empty DataFrame\n",
       "Columns: [Positive Feedback, Negative Feedback]\n",
       "Index: []"
      ]
     },
     "metadata": {},
     "output_type": "display_data"
    },
    {
     "data": {
      "text/markdown": [
       "## Jack McDonald's Score: 1/6"
      ]
     },
     "metadata": {},
     "output_type": "display_data"
    },
    {
     "data": {
      "text/markdown": [
       "### ------------------------------------------------------------------------------------------"
      ]
     },
     "metadata": {},
     "output_type": "display_data"
    },
    {
     "name": "stderr",
     "output_type": "stream",
     "text": [
      "C:\\Users\\aidan\\AppData\\Local\\Temp\\ipykernel_27120\\2927901798.py:7: FutureWarning: Series.__getitem__ treating keys as positions is deprecated. In a future version, integer keys will always be treated as labels (consistent with DataFrame behavior). To access a value by position, use `ser.iloc[pos]`\n",
      "  employee_name = racerdf[0]\n"
     ]
    },
    {
     "data": {
      "text/markdown": [
       "## Lauren Flores's Eval:"
      ]
     },
     "metadata": {},
     "output_type": "display_data"
    },
    {
     "name": "stderr",
     "output_type": "stream",
     "text": [
      "C:\\Users\\aidan\\AppData\\Local\\Temp\\ipykernel_27120\\2927901798.py:23: FutureWarning: Series.__getitem__ treating keys as positions is deprecated. In a future version, integer keys will always be treated as labels (consistent with DataFrame behavior). To access a value by position, use `ser.iloc[pos]`\n",
      "  if storedf[employee_name][5] == -1:\n"
     ]
    },
    {
     "data": {
      "text/html": [
       "<style type=\"text/css\">\n",
       "#T_4d263_row0_col3 {\n",
       "  background-color: #006837;\n",
       "  color: #f1f1f1;\n",
       "}\n",
       "#T_4d263_row1_col3 {\n",
       "  background-color: #fffdbc;\n",
       "  color: #000000;\n",
       "}\n",
       "#T_4d263_row2_col3 {\n",
       "  background-color: #feea9b;\n",
       "  color: #000000;\n",
       "}\n",
       "#T_4d263_row3_col3 {\n",
       "  background-color: #f67f4b;\n",
       "  color: #f1f1f1;\n",
       "}\n",
       "#T_4d263_row4_col3 {\n",
       "  background-color: #feeb9d;\n",
       "  color: #000000;\n",
       "}\n",
       "#T_4d263_row5_col3 {\n",
       "  background-color: #69be63;\n",
       "  color: #f1f1f1;\n",
       "}\n",
       "</style>\n",
       "<table id=\"T_4d263\">\n",
       "  <thead>\n",
       "    <tr>\n",
       "      <th class=\"blank level0\" >&nbsp;</th>\n",
       "      <th id=\"T_4d263_level0_col0\" class=\"col_heading level0 col0\" >Benchmarks</th>\n",
       "      <th id=\"T_4d263_level0_col1\" class=\"col_heading level0 col1\" >Store</th>\n",
       "      <th id=\"T_4d263_level0_col2\" class=\"col_heading level0 col2\" >Pass</th>\n",
       "      <th id=\"T_4d263_level0_col3\" class=\"col_heading level0 col3\" >ZScore</th>\n",
       "      <th id=\"T_4d263_level0_col4\" class=\"col_heading level0 col4\" >Lauren Flores</th>\n",
       "    </tr>\n",
       "  </thead>\n",
       "  <tbody>\n",
       "    <tr>\n",
       "      <th id=\"T_4d263_level0_row0\" class=\"row_heading level0 row0\" >Avg. Hrs Worked</th>\n",
       "      <td id=\"T_4d263_row0_col0\" class=\"data row0 col0\" >12.00</td>\n",
       "      <td id=\"T_4d263_row0_col1\" class=\"data row0 col1\" >12.08</td>\n",
       "      <td id=\"T_4d263_row0_col2\" class=\"data row0 col2\" >Y</td>\n",
       "      <td id=\"T_4d263_row0_col3\" class=\"data row0 col3\" >2.64</td>\n",
       "      <td id=\"T_4d263_row0_col4\" class=\"data row0 col4\" >28.51</td>\n",
       "    </tr>\n",
       "    <tr>\n",
       "      <th id=\"T_4d263_level0_row1\" class=\"row_heading level0 row1\" >Avg. Delivery Time</th>\n",
       "      <td id=\"T_4d263_row1_col0\" class=\"data row1 col0\" >10.00</td>\n",
       "      <td id=\"T_4d263_row1_col1\" class=\"data row1 col1\" >10.82</td>\n",
       "      <td id=\"T_4d263_row1_col2\" class=\"data row1 col2\" >N</td>\n",
       "      <td id=\"T_4d263_row1_col3\" class=\"data row1 col3\" >0.03</td>\n",
       "      <td id=\"T_4d263_row1_col4\" class=\"data row1 col4\" >10.88</td>\n",
       "    </tr>\n",
       "    <tr>\n",
       "      <th id=\"T_4d263_level0_row2\" class=\"row_heading level0 row2\" >Avg. Out the Door</th>\n",
       "      <td id=\"T_4d263_row2_col0\" class=\"data row2 col0\" >4.00</td>\n",
       "      <td id=\"T_4d263_row2_col1\" class=\"data row2 col1\" >4.70</td>\n",
       "      <td id=\"T_4d263_row2_col2\" class=\"data row2 col2\" >N</td>\n",
       "      <td id=\"T_4d263_row2_col3\" class=\"data row2 col3\" >0.34</td>\n",
       "      <td id=\"T_4d263_row2_col4\" class=\"data row2 col4\" >5.12</td>\n",
       "    </tr>\n",
       "    <tr>\n",
       "      <th id=\"T_4d263_level0_row3\" class=\"row_heading level0 row3\" >ORH</th>\n",
       "      <td id=\"T_4d263_row3_col0\" class=\"data row3 col0\" >9.00</td>\n",
       "      <td id=\"T_4d263_row3_col1\" class=\"data row3 col1\" >4.36</td>\n",
       "      <td id=\"T_4d263_row3_col2\" class=\"data row3 col2\" >N</td>\n",
       "      <td id=\"T_4d263_row3_col3\" class=\"data row3 col3\" >-1.35</td>\n",
       "      <td id=\"T_4d263_row3_col4\" class=\"data row3 col4\" >2.07</td>\n",
       "    </tr>\n",
       "    <tr>\n",
       "      <th id=\"T_4d263_level0_row4\" class=\"row_heading level0 row4\" >Late %</th>\n",
       "      <td id=\"T_4d263_row4_col0\" class=\"data row4 col0\" >0.10</td>\n",
       "      <td id=\"T_4d263_row4_col1\" class=\"data row4 col1\" >0.06</td>\n",
       "      <td id=\"T_4d263_row4_col2\" class=\"data row4 col2\" >Y</td>\n",
       "      <td id=\"T_4d263_row4_col3\" class=\"data row4 col3\" >0.33</td>\n",
       "      <td id=\"T_4d263_row4_col4\" class=\"data row4 col4\" >0.08</td>\n",
       "    </tr>\n",
       "    <tr>\n",
       "      <th id=\"T_4d263_level0_row5\" class=\"row_heading level0 row5\" >False Pos %</th>\n",
       "      <td id=\"T_4d263_row5_col0\" class=\"data row5 col0\" >0.01</td>\n",
       "      <td id=\"T_4d263_row5_col1\" class=\"data row5 col1\" >0.37</td>\n",
       "      <td id=\"T_4d263_row5_col2\" class=\"data row5 col2\" >N</td>\n",
       "      <td id=\"T_4d263_row5_col3\" class=\"data row5 col3\" >-1.48</td>\n",
       "      <td id=\"T_4d263_row5_col4\" class=\"data row5 col4\" >0.17</td>\n",
       "    </tr>\n",
       "  </tbody>\n",
       "</table>\n"
      ],
      "text/plain": [
       "<pandas.io.formats.style.Styler at 0x1c5a3cd9250>"
      ]
     },
     "metadata": {},
     "output_type": "display_data"
    },
    {
     "data": {
      "text/markdown": [
       "## Feedback:"
      ]
     },
     "metadata": {},
     "output_type": "display_data"
    },
    {
     "name": "stderr",
     "output_type": "stream",
     "text": [
      "C:\\Users\\aidan\\AppData\\Local\\Temp\\ipykernel_27120\\158198044.py:16: FutureWarning: Series.__getitem__ treating keys as positions is deprecated. In a future version, integer keys will always be treated as labels (consistent with DataFrame behavior). To access a value by position, use `ser.iloc[pos]`\n",
      "  if (Feedbackdf.iloc[i][0] == 1) and (Feedbackdf.iloc[i][2] == employee_name) and (Feedbackdf.iloc[i][3] == employee_name):\n",
      "C:\\Users\\aidan\\AppData\\Local\\Temp\\ipykernel_27120\\158198044.py:21: FutureWarning: Series.__getitem__ treating keys as positions is deprecated. In a future version, integer keys will always be treated as labels (consistent with DataFrame behavior). To access a value by position, use `ser.iloc[pos]`\n",
      "  elif (Feedbackdf.iloc[i][0] == 0 or Feedbackdf.iloc[i][0] == -1) and (Feedbackdf.iloc[i][2] == employee_name) and (Feedbackdf.iloc[i][3] == employee_name):\n",
      "C:\\Users\\aidan\\AppData\\Local\\Temp\\ipykernel_27120\\158198044.py:26: FutureWarning: Series.__getitem__ treating keys as positions is deprecated. In a future version, integer keys will always be treated as labels (consistent with DataFrame behavior). To access a value by position, use `ser.iloc[pos]`\n",
      "  elif (Feedbackdf.iloc[i][0] == 1) and (Feedbackdf.iloc[i][2] == employee_name) and (Feedbackdf.iloc[i][4] == 'R'):\n",
      "C:\\Users\\aidan\\AppData\\Local\\Temp\\ipykernel_27120\\158198044.py:31: FutureWarning: Series.__getitem__ treating keys as positions is deprecated. In a future version, integer keys will always be treated as labels (consistent with DataFrame behavior). To access a value by position, use `ser.iloc[pos]`\n",
      "  elif (Feedbackdf.iloc[i][0] == 1) and (Feedbackdf.iloc[i][3] == employee_name) and (Feedbackdf.iloc[i][4] == 'P'):\n",
      "C:\\Users\\aidan\\AppData\\Local\\Temp\\ipykernel_27120\\158198044.py:36: FutureWarning: Series.__getitem__ treating keys as positions is deprecated. In a future version, integer keys will always be treated as labels (consistent with DataFrame behavior). To access a value by position, use `ser.iloc[pos]`\n",
      "  elif (Feedbackdf.iloc[i][0] == 0 or Feedbackdf.iloc[i][0] == -1) and (Feedbackdf.iloc[i][2] == employee_name) and (Feedbackdf.iloc[i][4] == 'R'):\n",
      "C:\\Users\\aidan\\AppData\\Local\\Temp\\ipykernel_27120\\158198044.py:41: FutureWarning: Series.__getitem__ treating keys as positions is deprecated. In a future version, integer keys will always be treated as labels (consistent with DataFrame behavior). To access a value by position, use `ser.iloc[pos]`\n",
      "  elif (Feedbackdf.iloc[i][0] == 0 or Feedbackdf.iloc[i][0] == -1) and (Feedbackdf.iloc[i][3] == employee_name) and (Feedbackdf.iloc[i][4] == 'P'):\n",
      "C:\\Users\\aidan\\AppData\\Local\\Temp\\ipykernel_27120\\158198044.py:46: FutureWarning: Series.__getitem__ treating keys as positions is deprecated. In a future version, integer keys will always be treated as labels (consistent with DataFrame behavior). To access a value by position, use `ser.iloc[pos]`\n",
      "  elif (Feedbackdf.iloc[i][0] == 1) and (Feedbackdf.iloc[i][4] == 'I') and (Feedbackdf.iloc[i][2] == employee_name or Feedbackdf.iloc[i][3] == employee_name):\n",
      "C:\\Users\\aidan\\AppData\\Local\\Temp\\ipykernel_27120\\158198044.py:51: FutureWarning: Series.__getitem__ treating keys as positions is deprecated. In a future version, integer keys will always be treated as labels (consistent with DataFrame behavior). To access a value by position, use `ser.iloc[pos]`\n",
      "  elif (Feedbackdf.iloc[i][0] == 0 or Feedbackdf.iloc[i][0] == -1) and (Feedbackdf.iloc[i][4] == 'I') and (Feedbackdf.iloc[i][2] == employee_name or Feedbackdf.iloc[i][3] == employee_name):\n",
      "C:\\Users\\aidan\\AppData\\Local\\Temp\\ipykernel_27120\\158198044.py:42: FutureWarning: Series.__getitem__ treating keys as positions is deprecated. In a future version, integer keys will always be treated as labels (consistent with DataFrame behavior). To access a value by position, use `ser.iloc[pos]`\n",
      "  negativeList.append('AS PACKER: ' + Feedbackdf.iloc[i][1])\n"
     ]
    },
    {
     "data": {
      "text/html": [
       "<div>\n",
       "<style scoped>\n",
       "    .dataframe tbody tr th:only-of-type {\n",
       "        vertical-align: middle;\n",
       "    }\n",
       "\n",
       "    .dataframe tbody tr th {\n",
       "        vertical-align: top;\n",
       "    }\n",
       "\n",
       "    .dataframe thead th {\n",
       "        text-align: right;\n",
       "    }\n",
       "</style>\n",
       "<table border=\"1\" class=\"dataframe\">\n",
       "  <thead>\n",
       "    <tr style=\"text-align: right;\">\n",
       "      <th></th>\n",
       "      <th>Positive Feedback</th>\n",
       "      <th>Negative Feedback</th>\n",
       "    </tr>\n",
       "  </thead>\n",
       "  <tbody>\n",
       "    <tr>\n",
       "      <th>0</th>\n",
       "      <td></td>\n",
       "      <td>AS PACKER: Wrong house</td>\n",
       "    </tr>\n",
       "  </tbody>\n",
       "</table>\n",
       "</div>"
      ],
      "text/plain": [
       "  Positive Feedback       Negative Feedback\n",
       "0                    AS PACKER: Wrong house"
      ]
     },
     "metadata": {},
     "output_type": "display_data"
    },
    {
     "data": {
      "text/markdown": [
       "## Lauren Flores's Score: 1/6"
      ]
     },
     "metadata": {},
     "output_type": "display_data"
    },
    {
     "data": {
      "text/markdown": [
       "### ------------------------------------------------------------------------------------------"
      ]
     },
     "metadata": {},
     "output_type": "display_data"
    },
    {
     "name": "stderr",
     "output_type": "stream",
     "text": [
      "C:\\Users\\aidan\\AppData\\Local\\Temp\\ipykernel_27120\\2927901798.py:7: FutureWarning: Series.__getitem__ treating keys as positions is deprecated. In a future version, integer keys will always be treated as labels (consistent with DataFrame behavior). To access a value by position, use `ser.iloc[pos]`\n",
      "  employee_name = racerdf[0]\n"
     ]
    },
    {
     "data": {
      "text/markdown": [
       "## Asani Fowler's Eval:"
      ]
     },
     "metadata": {},
     "output_type": "display_data"
    },
    {
     "name": "stderr",
     "output_type": "stream",
     "text": [
      "C:\\Users\\aidan\\AppData\\Local\\Temp\\ipykernel_27120\\2927901798.py:23: FutureWarning: Series.__getitem__ treating keys as positions is deprecated. In a future version, integer keys will always be treated as labels (consistent with DataFrame behavior). To access a value by position, use `ser.iloc[pos]`\n",
      "  if storedf[employee_name][5] == -1:\n"
     ]
    },
    {
     "data": {
      "text/html": [
       "<style type=\"text/css\">\n",
       "#T_17a30_row0_col3 {\n",
       "  background-color: #fee593;\n",
       "  color: #000000;\n",
       "}\n",
       "#T_17a30_row1_col3 {\n",
       "  background-color: #fdc372;\n",
       "  color: #000000;\n",
       "}\n",
       "#T_17a30_row2_col3 {\n",
       "  background-color: #f2faae;\n",
       "  color: #000000;\n",
       "}\n",
       "#T_17a30_row3_col3 {\n",
       "  background-color: #a0d669;\n",
       "  color: #000000;\n",
       "}\n",
       "#T_17a30_row4_col3 {\n",
       "  background-color: #fdc171;\n",
       "  color: #000000;\n",
       "}\n",
       "#T_17a30_row5_col3 {\n",
       "  background-color: #fff5ae;\n",
       "  color: #000000;\n",
       "}\n",
       "</style>\n",
       "<table id=\"T_17a30\">\n",
       "  <thead>\n",
       "    <tr>\n",
       "      <th class=\"blank level0\" >&nbsp;</th>\n",
       "      <th id=\"T_17a30_level0_col0\" class=\"col_heading level0 col0\" >Benchmarks</th>\n",
       "      <th id=\"T_17a30_level0_col1\" class=\"col_heading level0 col1\" >Store</th>\n",
       "      <th id=\"T_17a30_level0_col2\" class=\"col_heading level0 col2\" >Pass</th>\n",
       "      <th id=\"T_17a30_level0_col3\" class=\"col_heading level0 col3\" >ZScore</th>\n",
       "      <th id=\"T_17a30_level0_col4\" class=\"col_heading level0 col4\" >Asani Fowler</th>\n",
       "    </tr>\n",
       "  </thead>\n",
       "  <tbody>\n",
       "    <tr>\n",
       "      <th id=\"T_17a30_level0_row0\" class=\"row_heading level0 row0\" >Avg. Hrs Worked</th>\n",
       "      <td id=\"T_17a30_row0_col0\" class=\"data row0 col0\" >12.00</td>\n",
       "      <td id=\"T_17a30_row0_col1\" class=\"data row0 col1\" >12.08</td>\n",
       "      <td id=\"T_17a30_row0_col2\" class=\"data row0 col2\" >N</td>\n",
       "      <td id=\"T_17a30_row0_col3\" class=\"data row0 col3\" >-0.42</td>\n",
       "      <td id=\"T_17a30_row0_col4\" class=\"data row0 col4\" >9.44</td>\n",
       "    </tr>\n",
       "    <tr>\n",
       "      <th id=\"T_17a30_level0_row1\" class=\"row_heading level0 row1\" >Avg. Delivery Time</th>\n",
       "      <td id=\"T_17a30_row1_col0\" class=\"data row1 col0\" >10.00</td>\n",
       "      <td id=\"T_17a30_row1_col1\" class=\"data row1 col1\" >10.82</td>\n",
       "      <td id=\"T_17a30_row1_col2\" class=\"data row1 col2\" >N</td>\n",
       "      <td id=\"T_17a30_row1_col3\" class=\"data row1 col3\" >0.80</td>\n",
       "      <td id=\"T_17a30_row1_col4\" class=\"data row1 col4\" >12.58</td>\n",
       "    </tr>\n",
       "    <tr>\n",
       "      <th id=\"T_17a30_level0_row2\" class=\"row_heading level0 row2\" >Avg. Out the Door</th>\n",
       "      <td id=\"T_17a30_row2_col0\" class=\"data row2 col0\" >4.00</td>\n",
       "      <td id=\"T_17a30_row2_col1\" class=\"data row2 col1\" >4.70</td>\n",
       "      <td id=\"T_17a30_row2_col2\" class=\"data row2 col2\" >N</td>\n",
       "      <td id=\"T_17a30_row2_col3\" class=\"data row2 col3\" >-0.16</td>\n",
       "      <td id=\"T_17a30_row2_col4\" class=\"data row2 col4\" >4.50</td>\n",
       "    </tr>\n",
       "    <tr>\n",
       "      <th id=\"T_17a30_level0_row3\" class=\"row_heading level0 row3\" >ORH</th>\n",
       "      <td id=\"T_17a30_row3_col0\" class=\"data row3 col0\" >9.00</td>\n",
       "      <td id=\"T_17a30_row3_col1\" class=\"data row3 col1\" >4.36</td>\n",
       "      <td id=\"T_17a30_row3_col2\" class=\"data row3 col2\" >N</td>\n",
       "      <td id=\"T_17a30_row3_col3\" class=\"data row3 col3\" >1.05</td>\n",
       "      <td id=\"T_17a30_row3_col4\" class=\"data row3 col4\" >6.14</td>\n",
       "    </tr>\n",
       "    <tr>\n",
       "      <th id=\"T_17a30_level0_row4\" class=\"row_heading level0 row4\" >Late %</th>\n",
       "      <td id=\"T_17a30_row4_col0\" class=\"data row4 col0\" >0.10</td>\n",
       "      <td id=\"T_17a30_row4_col1\" class=\"data row4 col1\" >0.06</td>\n",
       "      <td id=\"T_17a30_row4_col2\" class=\"data row4 col2\" >N</td>\n",
       "      <td id=\"T_17a30_row4_col3\" class=\"data row4 col3\" >0.82</td>\n",
       "      <td id=\"T_17a30_row4_col4\" class=\"data row4 col4\" >0.12</td>\n",
       "    </tr>\n",
       "    <tr>\n",
       "      <th id=\"T_17a30_level0_row5\" class=\"row_heading level0 row5\" >False Pos %</th>\n",
       "      <td id=\"T_17a30_row5_col0\" class=\"data row5 col0\" >0.01</td>\n",
       "      <td id=\"T_17a30_row5_col1\" class=\"data row5 col1\" >0.37</td>\n",
       "      <td id=\"T_17a30_row5_col2\" class=\"data row5 col2\" >N</td>\n",
       "      <td id=\"T_17a30_row5_col3\" class=\"data row5 col3\" >0.16</td>\n",
       "      <td id=\"T_17a30_row5_col4\" class=\"data row5 col4\" >0.39</td>\n",
       "    </tr>\n",
       "  </tbody>\n",
       "</table>\n"
      ],
      "text/plain": [
       "<pandas.io.formats.style.Styler at 0x1c5a3cd9250>"
      ]
     },
     "metadata": {},
     "output_type": "display_data"
    },
    {
     "data": {
      "text/markdown": [
       "## Feedback:"
      ]
     },
     "metadata": {},
     "output_type": "display_data"
    },
    {
     "name": "stderr",
     "output_type": "stream",
     "text": [
      "C:\\Users\\aidan\\AppData\\Local\\Temp\\ipykernel_27120\\158198044.py:16: FutureWarning: Series.__getitem__ treating keys as positions is deprecated. In a future version, integer keys will always be treated as labels (consistent with DataFrame behavior). To access a value by position, use `ser.iloc[pos]`\n",
      "  if (Feedbackdf.iloc[i][0] == 1) and (Feedbackdf.iloc[i][2] == employee_name) and (Feedbackdf.iloc[i][3] == employee_name):\n",
      "C:\\Users\\aidan\\AppData\\Local\\Temp\\ipykernel_27120\\158198044.py:21: FutureWarning: Series.__getitem__ treating keys as positions is deprecated. In a future version, integer keys will always be treated as labels (consistent with DataFrame behavior). To access a value by position, use `ser.iloc[pos]`\n",
      "  elif (Feedbackdf.iloc[i][0] == 0 or Feedbackdf.iloc[i][0] == -1) and (Feedbackdf.iloc[i][2] == employee_name) and (Feedbackdf.iloc[i][3] == employee_name):\n",
      "C:\\Users\\aidan\\AppData\\Local\\Temp\\ipykernel_27120\\158198044.py:26: FutureWarning: Series.__getitem__ treating keys as positions is deprecated. In a future version, integer keys will always be treated as labels (consistent with DataFrame behavior). To access a value by position, use `ser.iloc[pos]`\n",
      "  elif (Feedbackdf.iloc[i][0] == 1) and (Feedbackdf.iloc[i][2] == employee_name) and (Feedbackdf.iloc[i][4] == 'R'):\n",
      "C:\\Users\\aidan\\AppData\\Local\\Temp\\ipykernel_27120\\158198044.py:31: FutureWarning: Series.__getitem__ treating keys as positions is deprecated. In a future version, integer keys will always be treated as labels (consistent with DataFrame behavior). To access a value by position, use `ser.iloc[pos]`\n",
      "  elif (Feedbackdf.iloc[i][0] == 1) and (Feedbackdf.iloc[i][3] == employee_name) and (Feedbackdf.iloc[i][4] == 'P'):\n",
      "C:\\Users\\aidan\\AppData\\Local\\Temp\\ipykernel_27120\\158198044.py:36: FutureWarning: Series.__getitem__ treating keys as positions is deprecated. In a future version, integer keys will always be treated as labels (consistent with DataFrame behavior). To access a value by position, use `ser.iloc[pos]`\n",
      "  elif (Feedbackdf.iloc[i][0] == 0 or Feedbackdf.iloc[i][0] == -1) and (Feedbackdf.iloc[i][2] == employee_name) and (Feedbackdf.iloc[i][4] == 'R'):\n",
      "C:\\Users\\aidan\\AppData\\Local\\Temp\\ipykernel_27120\\158198044.py:41: FutureWarning: Series.__getitem__ treating keys as positions is deprecated. In a future version, integer keys will always be treated as labels (consistent with DataFrame behavior). To access a value by position, use `ser.iloc[pos]`\n",
      "  elif (Feedbackdf.iloc[i][0] == 0 or Feedbackdf.iloc[i][0] == -1) and (Feedbackdf.iloc[i][3] == employee_name) and (Feedbackdf.iloc[i][4] == 'P'):\n",
      "C:\\Users\\aidan\\AppData\\Local\\Temp\\ipykernel_27120\\158198044.py:46: FutureWarning: Series.__getitem__ treating keys as positions is deprecated. In a future version, integer keys will always be treated as labels (consistent with DataFrame behavior). To access a value by position, use `ser.iloc[pos]`\n",
      "  elif (Feedbackdf.iloc[i][0] == 1) and (Feedbackdf.iloc[i][4] == 'I') and (Feedbackdf.iloc[i][2] == employee_name or Feedbackdf.iloc[i][3] == employee_name):\n",
      "C:\\Users\\aidan\\AppData\\Local\\Temp\\ipykernel_27120\\158198044.py:51: FutureWarning: Series.__getitem__ treating keys as positions is deprecated. In a future version, integer keys will always be treated as labels (consistent with DataFrame behavior). To access a value by position, use `ser.iloc[pos]`\n",
      "  elif (Feedbackdf.iloc[i][0] == 0 or Feedbackdf.iloc[i][0] == -1) and (Feedbackdf.iloc[i][4] == 'I') and (Feedbackdf.iloc[i][2] == employee_name or Feedbackdf.iloc[i][3] == employee_name):\n"
     ]
    },
    {
     "data": {
      "text/html": [
       "<div>\n",
       "<style scoped>\n",
       "    .dataframe tbody tr th:only-of-type {\n",
       "        vertical-align: middle;\n",
       "    }\n",
       "\n",
       "    .dataframe tbody tr th {\n",
       "        vertical-align: top;\n",
       "    }\n",
       "\n",
       "    .dataframe thead th {\n",
       "        text-align: right;\n",
       "    }\n",
       "</style>\n",
       "<table border=\"1\" class=\"dataframe\">\n",
       "  <thead>\n",
       "    <tr style=\"text-align: right;\">\n",
       "      <th></th>\n",
       "      <th>Positive Feedback</th>\n",
       "      <th>Negative Feedback</th>\n",
       "    </tr>\n",
       "  </thead>\n",
       "  <tbody>\n",
       "  </tbody>\n",
       "</table>\n",
       "</div>"
      ],
      "text/plain": [
       "Empty DataFrame\n",
       "Columns: [Positive Feedback, Negative Feedback]\n",
       "Index: []"
      ]
     },
     "metadata": {},
     "output_type": "display_data"
    },
    {
     "data": {
      "text/markdown": [
       "## Asani Fowler's Score: 0/6"
      ]
     },
     "metadata": {},
     "output_type": "display_data"
    },
    {
     "data": {
      "text/markdown": [
       "### ------------------------------------------------------------------------------------------"
      ]
     },
     "metadata": {},
     "output_type": "display_data"
    },
    {
     "name": "stderr",
     "output_type": "stream",
     "text": [
      "C:\\Users\\aidan\\AppData\\Local\\Temp\\ipykernel_27120\\2927901798.py:7: FutureWarning: Series.__getitem__ treating keys as positions is deprecated. In a future version, integer keys will always be treated as labels (consistent with DataFrame behavior). To access a value by position, use `ser.iloc[pos]`\n",
      "  employee_name = racerdf[0]\n"
     ]
    },
    {
     "data": {
      "text/markdown": [
       "## Pulari Kartha's Eval:"
      ]
     },
     "metadata": {},
     "output_type": "display_data"
    },
    {
     "name": "stderr",
     "output_type": "stream",
     "text": [
      "C:\\Users\\aidan\\AppData\\Local\\Temp\\ipykernel_27120\\2927901798.py:23: FutureWarning: Series.__getitem__ treating keys as positions is deprecated. In a future version, integer keys will always be treated as labels (consistent with DataFrame behavior). To access a value by position, use `ser.iloc[pos]`\n",
      "  if storedf[employee_name][5] == -1:\n"
     ]
    },
    {
     "data": {
      "text/html": [
       "<style type=\"text/css\">\n",
       "#T_b3a4f_row0_col3 {\n",
       "  background-color: #fee999;\n",
       "  color: #000000;\n",
       "}\n",
       "#T_b3a4f_row1_col3 {\n",
       "  background-color: #fbfdba;\n",
       "  color: #000000;\n",
       "}\n",
       "#T_b3a4f_row2_col3 {\n",
       "  background-color: #fff5ae;\n",
       "  color: #000000;\n",
       "}\n",
       "#T_b3a4f_row3_col3 {\n",
       "  background-color: #c1e57b;\n",
       "  color: #000000;\n",
       "}\n",
       "#T_b3a4f_row4_col3 {\n",
       "  background-color: #d3ec87;\n",
       "  color: #000000;\n",
       "}\n",
       "#T_b3a4f_row5_col3 {\n",
       "  background-color: #c3e67d;\n",
       "  color: #000000;\n",
       "}\n",
       "</style>\n",
       "<table id=\"T_b3a4f\">\n",
       "  <thead>\n",
       "    <tr>\n",
       "      <th class=\"blank level0\" >&nbsp;</th>\n",
       "      <th id=\"T_b3a4f_level0_col0\" class=\"col_heading level0 col0\" >Benchmarks</th>\n",
       "      <th id=\"T_b3a4f_level0_col1\" class=\"col_heading level0 col1\" >Store</th>\n",
       "      <th id=\"T_b3a4f_level0_col2\" class=\"col_heading level0 col2\" >Pass</th>\n",
       "      <th id=\"T_b3a4f_level0_col3\" class=\"col_heading level0 col3\" >ZScore</th>\n",
       "      <th id=\"T_b3a4f_level0_col4\" class=\"col_heading level0 col4\" >Pulari Kartha</th>\n",
       "    </tr>\n",
       "  </thead>\n",
       "  <tbody>\n",
       "    <tr>\n",
       "      <th id=\"T_b3a4f_level0_row0\" class=\"row_heading level0 row0\" >Avg. Hrs Worked</th>\n",
       "      <td id=\"T_b3a4f_row0_col0\" class=\"data row0 col0\" >12.00</td>\n",
       "      <td id=\"T_b3a4f_row0_col1\" class=\"data row0 col1\" >12.08</td>\n",
       "      <td id=\"T_b3a4f_row0_col2\" class=\"data row0 col2\" >N</td>\n",
       "      <td id=\"T_b3a4f_row0_col3\" class=\"data row0 col3\" >-0.36</td>\n",
       "      <td id=\"T_b3a4f_row0_col4\" class=\"data row0 col4\" >9.82</td>\n",
       "    </tr>\n",
       "    <tr>\n",
       "      <th id=\"T_b3a4f_level0_row1\" class=\"row_heading level0 row1\" >Avg. Delivery Time</th>\n",
       "      <td id=\"T_b3a4f_row1_col0\" class=\"data row1 col0\" >10.00</td>\n",
       "      <td id=\"T_b3a4f_row1_col1\" class=\"data row1 col1\" >10.82</td>\n",
       "      <td id=\"T_b3a4f_row1_col2\" class=\"data row1 col2\" >N</td>\n",
       "      <td id=\"T_b3a4f_row1_col3\" class=\"data row1 col3\" >-0.04</td>\n",
       "      <td id=\"T_b3a4f_row1_col4\" class=\"data row1 col4\" >10.74</td>\n",
       "    </tr>\n",
       "    <tr>\n",
       "      <th id=\"T_b3a4f_level0_row2\" class=\"row_heading level0 row2\" >Avg. Out the Door</th>\n",
       "      <td id=\"T_b3a4f_row2_col0\" class=\"data row2 col0\" >4.00</td>\n",
       "      <td id=\"T_b3a4f_row2_col1\" class=\"data row2 col1\" >4.70</td>\n",
       "      <td id=\"T_b3a4f_row2_col2\" class=\"data row2 col2\" >N</td>\n",
       "      <td id=\"T_b3a4f_row2_col3\" class=\"data row2 col3\" >0.17</td>\n",
       "      <td id=\"T_b3a4f_row2_col4\" class=\"data row2 col4\" >4.91</td>\n",
       "    </tr>\n",
       "    <tr>\n",
       "      <th id=\"T_b3a4f_level0_row3\" class=\"row_heading level0 row3\" >ORH</th>\n",
       "      <td id=\"T_b3a4f_row3_col0\" class=\"data row3 col0\" >9.00</td>\n",
       "      <td id=\"T_b3a4f_row3_col1\" class=\"data row3 col1\" >4.36</td>\n",
       "      <td id=\"T_b3a4f_row3_col2\" class=\"data row3 col2\" >N</td>\n",
       "      <td id=\"T_b3a4f_row3_col3\" class=\"data row3 col3\" >0.73</td>\n",
       "      <td id=\"T_b3a4f_row3_col4\" class=\"data row3 col4\" >5.60</td>\n",
       "    </tr>\n",
       "    <tr>\n",
       "      <th id=\"T_b3a4f_level0_row4\" class=\"row_heading level0 row4\" >Late %</th>\n",
       "      <td id=\"T_b3a4f_row4_col0\" class=\"data row4 col0\" >0.10</td>\n",
       "      <td id=\"T_b3a4f_row4_col1\" class=\"data row4 col1\" >0.06</td>\n",
       "      <td id=\"T_b3a4f_row4_col2\" class=\"data row4 col2\" >Y</td>\n",
       "      <td id=\"T_b3a4f_row4_col3\" class=\"data row4 col3\" >-0.56</td>\n",
       "      <td id=\"T_b3a4f_row4_col4\" class=\"data row4 col4\" >0.02</td>\n",
       "    </tr>\n",
       "    <tr>\n",
       "      <th id=\"T_b3a4f_level0_row5\" class=\"row_heading level0 row5\" >False Pos %</th>\n",
       "      <td id=\"T_b3a4f_row5_col0\" class=\"data row5 col0\" >0.01</td>\n",
       "      <td id=\"T_b3a4f_row5_col1\" class=\"data row5 col1\" >0.37</td>\n",
       "      <td id=\"T_b3a4f_row5_col2\" class=\"data row5 col2\" >N</td>\n",
       "      <td id=\"T_b3a4f_row5_col3\" class=\"data row5 col3\" >-0.71</td>\n",
       "      <td id=\"T_b3a4f_row5_col4\" class=\"data row5 col4\" >0.27</td>\n",
       "    </tr>\n",
       "  </tbody>\n",
       "</table>\n"
      ],
      "text/plain": [
       "<pandas.io.formats.style.Styler at 0x1c5a3cd9250>"
      ]
     },
     "metadata": {},
     "output_type": "display_data"
    },
    {
     "data": {
      "text/markdown": [
       "## Feedback:"
      ]
     },
     "metadata": {},
     "output_type": "display_data"
    },
    {
     "name": "stderr",
     "output_type": "stream",
     "text": [
      "C:\\Users\\aidan\\AppData\\Local\\Temp\\ipykernel_27120\\158198044.py:16: FutureWarning: Series.__getitem__ treating keys as positions is deprecated. In a future version, integer keys will always be treated as labels (consistent with DataFrame behavior). To access a value by position, use `ser.iloc[pos]`\n",
      "  if (Feedbackdf.iloc[i][0] == 1) and (Feedbackdf.iloc[i][2] == employee_name) and (Feedbackdf.iloc[i][3] == employee_name):\n",
      "C:\\Users\\aidan\\AppData\\Local\\Temp\\ipykernel_27120\\158198044.py:21: FutureWarning: Series.__getitem__ treating keys as positions is deprecated. In a future version, integer keys will always be treated as labels (consistent with DataFrame behavior). To access a value by position, use `ser.iloc[pos]`\n",
      "  elif (Feedbackdf.iloc[i][0] == 0 or Feedbackdf.iloc[i][0] == -1) and (Feedbackdf.iloc[i][2] == employee_name) and (Feedbackdf.iloc[i][3] == employee_name):\n",
      "C:\\Users\\aidan\\AppData\\Local\\Temp\\ipykernel_27120\\158198044.py:26: FutureWarning: Series.__getitem__ treating keys as positions is deprecated. In a future version, integer keys will always be treated as labels (consistent with DataFrame behavior). To access a value by position, use `ser.iloc[pos]`\n",
      "  elif (Feedbackdf.iloc[i][0] == 1) and (Feedbackdf.iloc[i][2] == employee_name) and (Feedbackdf.iloc[i][4] == 'R'):\n",
      "C:\\Users\\aidan\\AppData\\Local\\Temp\\ipykernel_27120\\158198044.py:31: FutureWarning: Series.__getitem__ treating keys as positions is deprecated. In a future version, integer keys will always be treated as labels (consistent with DataFrame behavior). To access a value by position, use `ser.iloc[pos]`\n",
      "  elif (Feedbackdf.iloc[i][0] == 1) and (Feedbackdf.iloc[i][3] == employee_name) and (Feedbackdf.iloc[i][4] == 'P'):\n",
      "C:\\Users\\aidan\\AppData\\Local\\Temp\\ipykernel_27120\\158198044.py:36: FutureWarning: Series.__getitem__ treating keys as positions is deprecated. In a future version, integer keys will always be treated as labels (consistent with DataFrame behavior). To access a value by position, use `ser.iloc[pos]`\n",
      "  elif (Feedbackdf.iloc[i][0] == 0 or Feedbackdf.iloc[i][0] == -1) and (Feedbackdf.iloc[i][2] == employee_name) and (Feedbackdf.iloc[i][4] == 'R'):\n",
      "C:\\Users\\aidan\\AppData\\Local\\Temp\\ipykernel_27120\\158198044.py:41: FutureWarning: Series.__getitem__ treating keys as positions is deprecated. In a future version, integer keys will always be treated as labels (consistent with DataFrame behavior). To access a value by position, use `ser.iloc[pos]`\n",
      "  elif (Feedbackdf.iloc[i][0] == 0 or Feedbackdf.iloc[i][0] == -1) and (Feedbackdf.iloc[i][3] == employee_name) and (Feedbackdf.iloc[i][4] == 'P'):\n",
      "C:\\Users\\aidan\\AppData\\Local\\Temp\\ipykernel_27120\\158198044.py:46: FutureWarning: Series.__getitem__ treating keys as positions is deprecated. In a future version, integer keys will always be treated as labels (consistent with DataFrame behavior). To access a value by position, use `ser.iloc[pos]`\n",
      "  elif (Feedbackdf.iloc[i][0] == 1) and (Feedbackdf.iloc[i][4] == 'I') and (Feedbackdf.iloc[i][2] == employee_name or Feedbackdf.iloc[i][3] == employee_name):\n",
      "C:\\Users\\aidan\\AppData\\Local\\Temp\\ipykernel_27120\\158198044.py:51: FutureWarning: Series.__getitem__ treating keys as positions is deprecated. In a future version, integer keys will always be treated as labels (consistent with DataFrame behavior). To access a value by position, use `ser.iloc[pos]`\n",
      "  elif (Feedbackdf.iloc[i][0] == 0 or Feedbackdf.iloc[i][0] == -1) and (Feedbackdf.iloc[i][4] == 'I') and (Feedbackdf.iloc[i][2] == employee_name or Feedbackdf.iloc[i][3] == employee_name):\n"
     ]
    },
    {
     "data": {
      "text/html": [
       "<div>\n",
       "<style scoped>\n",
       "    .dataframe tbody tr th:only-of-type {\n",
       "        vertical-align: middle;\n",
       "    }\n",
       "\n",
       "    .dataframe tbody tr th {\n",
       "        vertical-align: top;\n",
       "    }\n",
       "\n",
       "    .dataframe thead th {\n",
       "        text-align: right;\n",
       "    }\n",
       "</style>\n",
       "<table border=\"1\" class=\"dataframe\">\n",
       "  <thead>\n",
       "    <tr style=\"text-align: right;\">\n",
       "      <th></th>\n",
       "      <th>Positive Feedback</th>\n",
       "      <th>Negative Feedback</th>\n",
       "    </tr>\n",
       "  </thead>\n",
       "  <tbody>\n",
       "  </tbody>\n",
       "</table>\n",
       "</div>"
      ],
      "text/plain": [
       "Empty DataFrame\n",
       "Columns: [Positive Feedback, Negative Feedback]\n",
       "Index: []"
      ]
     },
     "metadata": {},
     "output_type": "display_data"
    },
    {
     "data": {
      "text/markdown": [
       "## Pulari Kartha's Score: 1/6"
      ]
     },
     "metadata": {},
     "output_type": "display_data"
    },
    {
     "data": {
      "text/markdown": [
       "### ------------------------------------------------------------------------------------------"
      ]
     },
     "metadata": {},
     "output_type": "display_data"
    },
    {
     "name": "stderr",
     "output_type": "stream",
     "text": [
      "C:\\Users\\aidan\\AppData\\Local\\Temp\\ipykernel_27120\\2927901798.py:7: FutureWarning: Series.__getitem__ treating keys as positions is deprecated. In a future version, integer keys will always be treated as labels (consistent with DataFrame behavior). To access a value by position, use `ser.iloc[pos]`\n",
      "  employee_name = racerdf[0]\n"
     ]
    },
    {
     "data": {
      "text/markdown": [
       "## Savannah May's Eval:"
      ]
     },
     "metadata": {},
     "output_type": "display_data"
    },
    {
     "name": "stderr",
     "output_type": "stream",
     "text": [
      "C:\\Users\\aidan\\AppData\\Local\\Temp\\ipykernel_27120\\2927901798.py:23: FutureWarning: Series.__getitem__ treating keys as positions is deprecated. In a future version, integer keys will always be treated as labels (consistent with DataFrame behavior). To access a value by position, use `ser.iloc[pos]`\n",
      "  if storedf[employee_name][5] == -1:\n"
     ]
    },
    {
     "data": {
      "text/html": [
       "<style type=\"text/css\">\n",
       "#T_50e71_row0_col3 {\n",
       "  background-color: #fee28f;\n",
       "  color: #000000;\n",
       "}\n",
       "#T_50e71_row1_col3 {\n",
       "  background-color: #e6f59d;\n",
       "  color: #000000;\n",
       "}\n",
       "#T_50e71_row2_col3 {\n",
       "  background-color: #c7e77f;\n",
       "  color: #000000;\n",
       "}\n",
       "#T_50e71_row3_col3 {\n",
       "  background-color: #addc6f;\n",
       "  color: #000000;\n",
       "}\n",
       "#T_50e71_row4_col3 {\n",
       "  background-color: #b9e176;\n",
       "  color: #000000;\n",
       "}\n",
       "#T_50e71_row5_col3 {\n",
       "  background-color: #b1de71;\n",
       "  color: #000000;\n",
       "}\n",
       "</style>\n",
       "<table id=\"T_50e71\">\n",
       "  <thead>\n",
       "    <tr>\n",
       "      <th class=\"blank level0\" >&nbsp;</th>\n",
       "      <th id=\"T_50e71_level0_col0\" class=\"col_heading level0 col0\" >Benchmarks</th>\n",
       "      <th id=\"T_50e71_level0_col1\" class=\"col_heading level0 col1\" >Store</th>\n",
       "      <th id=\"T_50e71_level0_col2\" class=\"col_heading level0 col2\" >Pass</th>\n",
       "      <th id=\"T_50e71_level0_col3\" class=\"col_heading level0 col3\" >ZScore</th>\n",
       "      <th id=\"T_50e71_level0_col4\" class=\"col_heading level0 col4\" >Savannah May</th>\n",
       "    </tr>\n",
       "  </thead>\n",
       "  <tbody>\n",
       "    <tr>\n",
       "      <th id=\"T_50e71_level0_row0\" class=\"row_heading level0 row0\" >Avg. Hrs Worked</th>\n",
       "      <td id=\"T_50e71_row0_col0\" class=\"data row0 col0\" >12.00</td>\n",
       "      <td id=\"T_50e71_row0_col1\" class=\"data row0 col1\" >12.08</td>\n",
       "      <td id=\"T_50e71_row0_col2\" class=\"data row0 col2\" >N</td>\n",
       "      <td id=\"T_50e71_row0_col3\" class=\"data row0 col3\" >-0.45</td>\n",
       "      <td id=\"T_50e71_row0_col4\" class=\"data row0 col4\" >9.26</td>\n",
       "    </tr>\n",
       "    <tr>\n",
       "      <th id=\"T_50e71_level0_row1\" class=\"row_heading level0 row1\" >Avg. Delivery Time</th>\n",
       "      <td id=\"T_50e71_row1_col0\" class=\"data row1 col0\" >10.00</td>\n",
       "      <td id=\"T_50e71_row1_col1\" class=\"data row1 col1\" >10.82</td>\n",
       "      <td id=\"T_50e71_row1_col2\" class=\"data row1 col2\" >N</td>\n",
       "      <td id=\"T_50e71_row1_col3\" class=\"data row1 col3\" >-0.33</td>\n",
       "      <td id=\"T_50e71_row1_col4\" class=\"data row1 col4\" >10.10</td>\n",
       "    </tr>\n",
       "    <tr>\n",
       "      <th id=\"T_50e71_level0_row2\" class=\"row_heading level0 row2\" >Avg. Out the Door</th>\n",
       "      <td id=\"T_50e71_row2_col0\" class=\"data row2 col0\" >4.00</td>\n",
       "      <td id=\"T_50e71_row2_col1\" class=\"data row2 col1\" >4.70</td>\n",
       "      <td id=\"T_50e71_row2_col2\" class=\"data row2 col2\" >Y</td>\n",
       "      <td id=\"T_50e71_row2_col3\" class=\"data row2 col3\" >-0.67</td>\n",
       "      <td id=\"T_50e71_row2_col4\" class=\"data row2 col4\" >3.87</td>\n",
       "    </tr>\n",
       "    <tr>\n",
       "      <th id=\"T_50e71_level0_row3\" class=\"row_heading level0 row3\" >ORH</th>\n",
       "      <td id=\"T_50e71_row3_col0\" class=\"data row3 col0\" >9.00</td>\n",
       "      <td id=\"T_50e71_row3_col1\" class=\"data row3 col1\" >4.36</td>\n",
       "      <td id=\"T_50e71_row3_col2\" class=\"data row3 col2\" >N</td>\n",
       "      <td id=\"T_50e71_row3_col3\" class=\"data row3 col3\" >0.93</td>\n",
       "      <td id=\"T_50e71_row3_col4\" class=\"data row3 col4\" >5.94</td>\n",
       "    </tr>\n",
       "    <tr>\n",
       "      <th id=\"T_50e71_level0_row4\" class=\"row_heading level0 row4\" >Late %</th>\n",
       "      <td id=\"T_50e71_row4_col0\" class=\"data row4 col0\" >0.10</td>\n",
       "      <td id=\"T_50e71_row4_col1\" class=\"data row4 col1\" >0.06</td>\n",
       "      <td id=\"T_50e71_row4_col2\" class=\"data row4 col2\" >Y</td>\n",
       "      <td id=\"T_50e71_row4_col3\" class=\"data row4 col3\" >-0.81</td>\n",
       "      <td id=\"T_50e71_row4_col4\" class=\"data row4 col4\" >0.00</td>\n",
       "    </tr>\n",
       "    <tr>\n",
       "      <th id=\"T_50e71_level0_row5\" class=\"row_heading level0 row5\" >False Pos %</th>\n",
       "      <td id=\"T_50e71_row5_col0\" class=\"data row5 col0\" >0.01</td>\n",
       "      <td id=\"T_50e71_row5_col1\" class=\"data row5 col1\" >0.37</td>\n",
       "      <td id=\"T_50e71_row5_col2\" class=\"data row5 col2\" >N</td>\n",
       "      <td id=\"T_50e71_row5_col3\" class=\"data row5 col3\" >-0.88</td>\n",
       "      <td id=\"T_50e71_row5_col4\" class=\"data row5 col4\" >0.25</td>\n",
       "    </tr>\n",
       "  </tbody>\n",
       "</table>\n"
      ],
      "text/plain": [
       "<pandas.io.formats.style.Styler at 0x1c5a3cd9250>"
      ]
     },
     "metadata": {},
     "output_type": "display_data"
    },
    {
     "data": {
      "text/markdown": [
       "## Feedback:"
      ]
     },
     "metadata": {},
     "output_type": "display_data"
    },
    {
     "name": "stderr",
     "output_type": "stream",
     "text": [
      "C:\\Users\\aidan\\AppData\\Local\\Temp\\ipykernel_27120\\158198044.py:16: FutureWarning: Series.__getitem__ treating keys as positions is deprecated. In a future version, integer keys will always be treated as labels (consistent with DataFrame behavior). To access a value by position, use `ser.iloc[pos]`\n",
      "  if (Feedbackdf.iloc[i][0] == 1) and (Feedbackdf.iloc[i][2] == employee_name) and (Feedbackdf.iloc[i][3] == employee_name):\n",
      "C:\\Users\\aidan\\AppData\\Local\\Temp\\ipykernel_27120\\158198044.py:21: FutureWarning: Series.__getitem__ treating keys as positions is deprecated. In a future version, integer keys will always be treated as labels (consistent with DataFrame behavior). To access a value by position, use `ser.iloc[pos]`\n",
      "  elif (Feedbackdf.iloc[i][0] == 0 or Feedbackdf.iloc[i][0] == -1) and (Feedbackdf.iloc[i][2] == employee_name) and (Feedbackdf.iloc[i][3] == employee_name):\n",
      "C:\\Users\\aidan\\AppData\\Local\\Temp\\ipykernel_27120\\158198044.py:26: FutureWarning: Series.__getitem__ treating keys as positions is deprecated. In a future version, integer keys will always be treated as labels (consistent with DataFrame behavior). To access a value by position, use `ser.iloc[pos]`\n",
      "  elif (Feedbackdf.iloc[i][0] == 1) and (Feedbackdf.iloc[i][2] == employee_name) and (Feedbackdf.iloc[i][4] == 'R'):\n",
      "C:\\Users\\aidan\\AppData\\Local\\Temp\\ipykernel_27120\\158198044.py:31: FutureWarning: Series.__getitem__ treating keys as positions is deprecated. In a future version, integer keys will always be treated as labels (consistent with DataFrame behavior). To access a value by position, use `ser.iloc[pos]`\n",
      "  elif (Feedbackdf.iloc[i][0] == 1) and (Feedbackdf.iloc[i][3] == employee_name) and (Feedbackdf.iloc[i][4] == 'P'):\n",
      "C:\\Users\\aidan\\AppData\\Local\\Temp\\ipykernel_27120\\158198044.py:36: FutureWarning: Series.__getitem__ treating keys as positions is deprecated. In a future version, integer keys will always be treated as labels (consistent with DataFrame behavior). To access a value by position, use `ser.iloc[pos]`\n",
      "  elif (Feedbackdf.iloc[i][0] == 0 or Feedbackdf.iloc[i][0] == -1) and (Feedbackdf.iloc[i][2] == employee_name) and (Feedbackdf.iloc[i][4] == 'R'):\n",
      "C:\\Users\\aidan\\AppData\\Local\\Temp\\ipykernel_27120\\158198044.py:41: FutureWarning: Series.__getitem__ treating keys as positions is deprecated. In a future version, integer keys will always be treated as labels (consistent with DataFrame behavior). To access a value by position, use `ser.iloc[pos]`\n",
      "  elif (Feedbackdf.iloc[i][0] == 0 or Feedbackdf.iloc[i][0] == -1) and (Feedbackdf.iloc[i][3] == employee_name) and (Feedbackdf.iloc[i][4] == 'P'):\n",
      "C:\\Users\\aidan\\AppData\\Local\\Temp\\ipykernel_27120\\158198044.py:46: FutureWarning: Series.__getitem__ treating keys as positions is deprecated. In a future version, integer keys will always be treated as labels (consistent with DataFrame behavior). To access a value by position, use `ser.iloc[pos]`\n",
      "  elif (Feedbackdf.iloc[i][0] == 1) and (Feedbackdf.iloc[i][4] == 'I') and (Feedbackdf.iloc[i][2] == employee_name or Feedbackdf.iloc[i][3] == employee_name):\n",
      "C:\\Users\\aidan\\AppData\\Local\\Temp\\ipykernel_27120\\158198044.py:51: FutureWarning: Series.__getitem__ treating keys as positions is deprecated. In a future version, integer keys will always be treated as labels (consistent with DataFrame behavior). To access a value by position, use `ser.iloc[pos]`\n",
      "  elif (Feedbackdf.iloc[i][0] == 0 or Feedbackdf.iloc[i][0] == -1) and (Feedbackdf.iloc[i][4] == 'I') and (Feedbackdf.iloc[i][2] == employee_name or Feedbackdf.iloc[i][3] == employee_name):\n"
     ]
    },
    {
     "data": {
      "text/html": [
       "<div>\n",
       "<style scoped>\n",
       "    .dataframe tbody tr th:only-of-type {\n",
       "        vertical-align: middle;\n",
       "    }\n",
       "\n",
       "    .dataframe tbody tr th {\n",
       "        vertical-align: top;\n",
       "    }\n",
       "\n",
       "    .dataframe thead th {\n",
       "        text-align: right;\n",
       "    }\n",
       "</style>\n",
       "<table border=\"1\" class=\"dataframe\">\n",
       "  <thead>\n",
       "    <tr style=\"text-align: right;\">\n",
       "      <th></th>\n",
       "      <th>Positive Feedback</th>\n",
       "      <th>Negative Feedback</th>\n",
       "    </tr>\n",
       "  </thead>\n",
       "  <tbody>\n",
       "  </tbody>\n",
       "</table>\n",
       "</div>"
      ],
      "text/plain": [
       "Empty DataFrame\n",
       "Columns: [Positive Feedback, Negative Feedback]\n",
       "Index: []"
      ]
     },
     "metadata": {},
     "output_type": "display_data"
    },
    {
     "data": {
      "text/markdown": [
       "## Savannah May's Score: 2/6"
      ]
     },
     "metadata": {},
     "output_type": "display_data"
    },
    {
     "data": {
      "text/markdown": [
       "### ------------------------------------------------------------------------------------------"
      ]
     },
     "metadata": {},
     "output_type": "display_data"
    },
    {
     "name": "stderr",
     "output_type": "stream",
     "text": [
      "C:\\Users\\aidan\\AppData\\Local\\Temp\\ipykernel_27120\\2927901798.py:7: FutureWarning: Series.__getitem__ treating keys as positions is deprecated. In a future version, integer keys will always be treated as labels (consistent with DataFrame behavior). To access a value by position, use `ser.iloc[pos]`\n",
      "  employee_name = racerdf[0]\n"
     ]
    },
    {
     "data": {
      "text/markdown": [
       "## Austin Raben's Eval:"
      ]
     },
     "metadata": {},
     "output_type": "display_data"
    },
    {
     "name": "stderr",
     "output_type": "stream",
     "text": [
      "C:\\Users\\aidan\\AppData\\Local\\Temp\\ipykernel_27120\\2927901798.py:23: FutureWarning: Series.__getitem__ treating keys as positions is deprecated. In a future version, integer keys will always be treated as labels (consistent with DataFrame behavior). To access a value by position, use `ser.iloc[pos]`\n",
      "  if storedf[employee_name][5] == -1:\n"
     ]
    },
    {
     "data": {
      "text/html": [
       "<style type=\"text/css\">\n",
       "#T_80b89_row0_col3 {\n",
       "  background-color: #fed884;\n",
       "  color: #000000;\n",
       "}\n",
       "#T_80b89_row1_col3 {\n",
       "  background-color: #eb5a3a;\n",
       "  color: #f1f1f1;\n",
       "}\n",
       "#T_80b89_row2_col3 {\n",
       "  background-color: #fee695;\n",
       "  color: #000000;\n",
       "}\n",
       "#T_80b89_row3_col3 {\n",
       "  background-color: #8ccd67;\n",
       "  color: #000000;\n",
       "}\n",
       "#T_80b89_row4_col3 {\n",
       "  background-color: #c41e27;\n",
       "  color: #f1f1f1;\n",
       "}\n",
       "#T_80b89_row5_col3 {\n",
       "  background-color: #d7ee8a;\n",
       "  color: #000000;\n",
       "}\n",
       "</style>\n",
       "<table id=\"T_80b89\">\n",
       "  <thead>\n",
       "    <tr>\n",
       "      <th class=\"blank level0\" >&nbsp;</th>\n",
       "      <th id=\"T_80b89_level0_col0\" class=\"col_heading level0 col0\" >Benchmarks</th>\n",
       "      <th id=\"T_80b89_level0_col1\" class=\"col_heading level0 col1\" >Store</th>\n",
       "      <th id=\"T_80b89_level0_col2\" class=\"col_heading level0 col2\" >Pass</th>\n",
       "      <th id=\"T_80b89_level0_col3\" class=\"col_heading level0 col3\" >ZScore</th>\n",
       "      <th id=\"T_80b89_level0_col4\" class=\"col_heading level0 col4\" >Austin Raben</th>\n",
       "    </tr>\n",
       "  </thead>\n",
       "  <tbody>\n",
       "    <tr>\n",
       "      <th id=\"T_80b89_level0_row0\" class=\"row_heading level0 row0\" >Avg. Hrs Worked</th>\n",
       "      <td id=\"T_80b89_row0_col0\" class=\"data row0 col0\" >12.00</td>\n",
       "      <td id=\"T_80b89_row0_col1\" class=\"data row0 col1\" >12.08</td>\n",
       "      <td id=\"T_80b89_row0_col2\" class=\"data row0 col2\" >N</td>\n",
       "      <td id=\"T_80b89_row0_col3\" class=\"data row0 col3\" >-0.58</td>\n",
       "      <td id=\"T_80b89_row0_col4\" class=\"data row0 col4\" >8.45</td>\n",
       "    </tr>\n",
       "    <tr>\n",
       "      <th id=\"T_80b89_level0_row1\" class=\"row_heading level0 row1\" >Avg. Delivery Time</th>\n",
       "      <td id=\"T_80b89_row1_col0\" class=\"data row1 col0\" >10.00</td>\n",
       "      <td id=\"T_80b89_row1_col1\" class=\"data row1 col1\" >10.82</td>\n",
       "      <td id=\"T_80b89_row1_col2\" class=\"data row1 col2\" >N</td>\n",
       "      <td id=\"T_80b89_row1_col3\" class=\"data row1 col3\" >1.66</td>\n",
       "      <td id=\"T_80b89_row1_col4\" class=\"data row1 col4\" >14.48</td>\n",
       "    </tr>\n",
       "    <tr>\n",
       "      <th id=\"T_80b89_level0_row2\" class=\"row_heading level0 row2\" >Avg. Out the Door</th>\n",
       "      <td id=\"T_80b89_row2_col0\" class=\"data row2 col0\" >4.00</td>\n",
       "      <td id=\"T_80b89_row2_col1\" class=\"data row2 col1\" >4.70</td>\n",
       "      <td id=\"T_80b89_row2_col2\" class=\"data row2 col2\" >N</td>\n",
       "      <td id=\"T_80b89_row2_col3\" class=\"data row2 col3\" >0.41</td>\n",
       "      <td id=\"T_80b89_row2_col4\" class=\"data row2 col4\" >5.20</td>\n",
       "    </tr>\n",
       "    <tr>\n",
       "      <th id=\"T_80b89_level0_row3\" class=\"row_heading level0 row3\" >ORH</th>\n",
       "      <td id=\"T_80b89_row3_col0\" class=\"data row3 col0\" >9.00</td>\n",
       "      <td id=\"T_80b89_row3_col1\" class=\"data row3 col1\" >4.36</td>\n",
       "      <td id=\"T_80b89_row3_col2\" class=\"data row3 col2\" >N</td>\n",
       "      <td id=\"T_80b89_row3_col3\" class=\"data row3 col3\" >1.20</td>\n",
       "      <td id=\"T_80b89_row3_col4\" class=\"data row3 col4\" >6.39</td>\n",
       "    </tr>\n",
       "    <tr>\n",
       "      <th id=\"T_80b89_level0_row4\" class=\"row_heading level0 row4\" >Late %</th>\n",
       "      <td id=\"T_80b89_row4_col0\" class=\"data row4 col0\" >0.10</td>\n",
       "      <td id=\"T_80b89_row4_col1\" class=\"data row4 col1\" >0.06</td>\n",
       "      <td id=\"T_80b89_row4_col2\" class=\"data row4 col2\" >N</td>\n",
       "      <td id=\"T_80b89_row4_col3\" class=\"data row4 col3\" >2.18</td>\n",
       "      <td id=\"T_80b89_row4_col4\" class=\"data row4 col4\" >0.22</td>\n",
       "    </tr>\n",
       "    <tr>\n",
       "      <th id=\"T_80b89_level0_row5\" class=\"row_heading level0 row5\" >False Pos %</th>\n",
       "      <td id=\"T_80b89_row5_col0\" class=\"data row5 col0\" >0.01</td>\n",
       "      <td id=\"T_80b89_row5_col1\" class=\"data row5 col1\" >0.37</td>\n",
       "      <td id=\"T_80b89_row5_col2\" class=\"data row5 col2\" >N</td>\n",
       "      <td id=\"T_80b89_row5_col3\" class=\"data row5 col3\" >-0.51</td>\n",
       "      <td id=\"T_80b89_row5_col4\" class=\"data row5 col4\" >0.30</td>\n",
       "    </tr>\n",
       "  </tbody>\n",
       "</table>\n"
      ],
      "text/plain": [
       "<pandas.io.formats.style.Styler at 0x1c5a3cd9250>"
      ]
     },
     "metadata": {},
     "output_type": "display_data"
    },
    {
     "data": {
      "text/markdown": [
       "## Feedback:"
      ]
     },
     "metadata": {},
     "output_type": "display_data"
    },
    {
     "name": "stderr",
     "output_type": "stream",
     "text": [
      "C:\\Users\\aidan\\AppData\\Local\\Temp\\ipykernel_27120\\158198044.py:16: FutureWarning: Series.__getitem__ treating keys as positions is deprecated. In a future version, integer keys will always be treated as labels (consistent with DataFrame behavior). To access a value by position, use `ser.iloc[pos]`\n",
      "  if (Feedbackdf.iloc[i][0] == 1) and (Feedbackdf.iloc[i][2] == employee_name) and (Feedbackdf.iloc[i][3] == employee_name):\n",
      "C:\\Users\\aidan\\AppData\\Local\\Temp\\ipykernel_27120\\158198044.py:21: FutureWarning: Series.__getitem__ treating keys as positions is deprecated. In a future version, integer keys will always be treated as labels (consistent with DataFrame behavior). To access a value by position, use `ser.iloc[pos]`\n",
      "  elif (Feedbackdf.iloc[i][0] == 0 or Feedbackdf.iloc[i][0] == -1) and (Feedbackdf.iloc[i][2] == employee_name) and (Feedbackdf.iloc[i][3] == employee_name):\n",
      "C:\\Users\\aidan\\AppData\\Local\\Temp\\ipykernel_27120\\158198044.py:26: FutureWarning: Series.__getitem__ treating keys as positions is deprecated. In a future version, integer keys will always be treated as labels (consistent with DataFrame behavior). To access a value by position, use `ser.iloc[pos]`\n",
      "  elif (Feedbackdf.iloc[i][0] == 1) and (Feedbackdf.iloc[i][2] == employee_name) and (Feedbackdf.iloc[i][4] == 'R'):\n",
      "C:\\Users\\aidan\\AppData\\Local\\Temp\\ipykernel_27120\\158198044.py:31: FutureWarning: Series.__getitem__ treating keys as positions is deprecated. In a future version, integer keys will always be treated as labels (consistent with DataFrame behavior). To access a value by position, use `ser.iloc[pos]`\n",
      "  elif (Feedbackdf.iloc[i][0] == 1) and (Feedbackdf.iloc[i][3] == employee_name) and (Feedbackdf.iloc[i][4] == 'P'):\n",
      "C:\\Users\\aidan\\AppData\\Local\\Temp\\ipykernel_27120\\158198044.py:36: FutureWarning: Series.__getitem__ treating keys as positions is deprecated. In a future version, integer keys will always be treated as labels (consistent with DataFrame behavior). To access a value by position, use `ser.iloc[pos]`\n",
      "  elif (Feedbackdf.iloc[i][0] == 0 or Feedbackdf.iloc[i][0] == -1) and (Feedbackdf.iloc[i][2] == employee_name) and (Feedbackdf.iloc[i][4] == 'R'):\n",
      "C:\\Users\\aidan\\AppData\\Local\\Temp\\ipykernel_27120\\158198044.py:41: FutureWarning: Series.__getitem__ treating keys as positions is deprecated. In a future version, integer keys will always be treated as labels (consistent with DataFrame behavior). To access a value by position, use `ser.iloc[pos]`\n",
      "  elif (Feedbackdf.iloc[i][0] == 0 or Feedbackdf.iloc[i][0] == -1) and (Feedbackdf.iloc[i][3] == employee_name) and (Feedbackdf.iloc[i][4] == 'P'):\n",
      "C:\\Users\\aidan\\AppData\\Local\\Temp\\ipykernel_27120\\158198044.py:46: FutureWarning: Series.__getitem__ treating keys as positions is deprecated. In a future version, integer keys will always be treated as labels (consistent with DataFrame behavior). To access a value by position, use `ser.iloc[pos]`\n",
      "  elif (Feedbackdf.iloc[i][0] == 1) and (Feedbackdf.iloc[i][4] == 'I') and (Feedbackdf.iloc[i][2] == employee_name or Feedbackdf.iloc[i][3] == employee_name):\n",
      "C:\\Users\\aidan\\AppData\\Local\\Temp\\ipykernel_27120\\158198044.py:51: FutureWarning: Series.__getitem__ treating keys as positions is deprecated. In a future version, integer keys will always be treated as labels (consistent with DataFrame behavior). To access a value by position, use `ser.iloc[pos]`\n",
      "  elif (Feedbackdf.iloc[i][0] == 0 or Feedbackdf.iloc[i][0] == -1) and (Feedbackdf.iloc[i][4] == 'I') and (Feedbackdf.iloc[i][2] == employee_name or Feedbackdf.iloc[i][3] == employee_name):\n"
     ]
    },
    {
     "data": {
      "text/html": [
       "<div>\n",
       "<style scoped>\n",
       "    .dataframe tbody tr th:only-of-type {\n",
       "        vertical-align: middle;\n",
       "    }\n",
       "\n",
       "    .dataframe tbody tr th {\n",
       "        vertical-align: top;\n",
       "    }\n",
       "\n",
       "    .dataframe thead th {\n",
       "        text-align: right;\n",
       "    }\n",
       "</style>\n",
       "<table border=\"1\" class=\"dataframe\">\n",
       "  <thead>\n",
       "    <tr style=\"text-align: right;\">\n",
       "      <th></th>\n",
       "      <th>Positive Feedback</th>\n",
       "      <th>Negative Feedback</th>\n",
       "    </tr>\n",
       "  </thead>\n",
       "  <tbody>\n",
       "  </tbody>\n",
       "</table>\n",
       "</div>"
      ],
      "text/plain": [
       "Empty DataFrame\n",
       "Columns: [Positive Feedback, Negative Feedback]\n",
       "Index: []"
      ]
     },
     "metadata": {},
     "output_type": "display_data"
    },
    {
     "data": {
      "text/markdown": [
       "## Austin Raben's Score: 0/6"
      ]
     },
     "metadata": {},
     "output_type": "display_data"
    },
    {
     "data": {
      "text/markdown": [
       "### ------------------------------------------------------------------------------------------"
      ]
     },
     "metadata": {},
     "output_type": "display_data"
    },
    {
     "name": "stderr",
     "output_type": "stream",
     "text": [
      "C:\\Users\\aidan\\AppData\\Local\\Temp\\ipykernel_27120\\2927901798.py:7: FutureWarning: Series.__getitem__ treating keys as positions is deprecated. In a future version, integer keys will always be treated as labels (consistent with DataFrame behavior). To access a value by position, use `ser.iloc[pos]`\n",
      "  employee_name = racerdf[0]\n"
     ]
    },
    {
     "data": {
      "text/markdown": [
       "## Chase MacDonald's Eval:"
      ]
     },
     "metadata": {},
     "output_type": "display_data"
    },
    {
     "name": "stderr",
     "output_type": "stream",
     "text": [
      "C:\\Users\\aidan\\AppData\\Local\\Temp\\ipykernel_27120\\2927901798.py:23: FutureWarning: Series.__getitem__ treating keys as positions is deprecated. In a future version, integer keys will always be treated as labels (consistent with DataFrame behavior). To access a value by position, use `ser.iloc[pos]`\n",
      "  if storedf[employee_name][5] == -1:\n"
     ]
    },
    {
     "data": {
      "text/html": [
       "<style type=\"text/css\">\n",
       "#T_5f9ed_row0_col3 {\n",
       "  background-color: #feeb9d;\n",
       "  color: #000000;\n",
       "}\n",
       "#T_5f9ed_row1_col3 {\n",
       "  background-color: #c1e57b;\n",
       "  color: #000000;\n",
       "}\n",
       "#T_5f9ed_row2_col3 {\n",
       "  background-color: #9bd469;\n",
       "  color: #000000;\n",
       "}\n",
       "#T_5f9ed_row3_col3 {\n",
       "  background-color: #d5ed88;\n",
       "  color: #000000;\n",
       "}\n",
       "#T_5f9ed_row4_col3 {\n",
       "  background-color: #d3ec87;\n",
       "  color: #000000;\n",
       "}\n",
       "#T_5f9ed_row5_col3 {\n",
       "  background-color: #feeda1;\n",
       "  color: #000000;\n",
       "}\n",
       "</style>\n",
       "<table id=\"T_5f9ed\">\n",
       "  <thead>\n",
       "    <tr>\n",
       "      <th class=\"blank level0\" >&nbsp;</th>\n",
       "      <th id=\"T_5f9ed_level0_col0\" class=\"col_heading level0 col0\" >Benchmarks</th>\n",
       "      <th id=\"T_5f9ed_level0_col1\" class=\"col_heading level0 col1\" >Store</th>\n",
       "      <th id=\"T_5f9ed_level0_col2\" class=\"col_heading level0 col2\" >Pass</th>\n",
       "      <th id=\"T_5f9ed_level0_col3\" class=\"col_heading level0 col3\" >ZScore</th>\n",
       "      <th id=\"T_5f9ed_level0_col4\" class=\"col_heading level0 col4\" >Chase MacDonald</th>\n",
       "    </tr>\n",
       "  </thead>\n",
       "  <tbody>\n",
       "    <tr>\n",
       "      <th id=\"T_5f9ed_level0_row0\" class=\"row_heading level0 row0\" >Avg. Hrs Worked</th>\n",
       "      <td id=\"T_5f9ed_row0_col0\" class=\"data row0 col0\" >12.00</td>\n",
       "      <td id=\"T_5f9ed_row0_col1\" class=\"data row0 col1\" >12.08</td>\n",
       "      <td id=\"T_5f9ed_row0_col2\" class=\"data row0 col2\" >N</td>\n",
       "      <td id=\"T_5f9ed_row0_col3\" class=\"data row0 col3\" >-0.32</td>\n",
       "      <td id=\"T_5f9ed_row0_col4\" class=\"data row0 col4\" >10.09</td>\n",
       "    </tr>\n",
       "    <tr>\n",
       "      <th id=\"T_5f9ed_level0_row1\" class=\"row_heading level0 row1\" >Avg. Delivery Time</th>\n",
       "      <td id=\"T_5f9ed_row1_col0\" class=\"data row1 col0\" >10.00</td>\n",
       "      <td id=\"T_5f9ed_row1_col1\" class=\"data row1 col1\" >10.82</td>\n",
       "      <td id=\"T_5f9ed_row1_col2\" class=\"data row1 col2\" >Y</td>\n",
       "      <td id=\"T_5f9ed_row1_col3\" class=\"data row1 col3\" >-0.73</td>\n",
       "      <td id=\"T_5f9ed_row1_col4\" class=\"data row1 col4\" >9.22</td>\n",
       "    </tr>\n",
       "    <tr>\n",
       "      <th id=\"T_5f9ed_level0_row2\" class=\"row_heading level0 row2\" >Avg. Out the Door</th>\n",
       "      <td id=\"T_5f9ed_row2_col0\" class=\"data row2 col0\" >4.00</td>\n",
       "      <td id=\"T_5f9ed_row2_col1\" class=\"data row2 col1\" >4.70</td>\n",
       "      <td id=\"T_5f9ed_row2_col2\" class=\"data row2 col2\" >Y</td>\n",
       "      <td id=\"T_5f9ed_row2_col3\" class=\"data row2 col3\" >-1.08</td>\n",
       "      <td id=\"T_5f9ed_row2_col4\" class=\"data row2 col4\" >3.35</td>\n",
       "    </tr>\n",
       "    <tr>\n",
       "      <th id=\"T_5f9ed_level0_row3\" class=\"row_heading level0 row3\" >ORH</th>\n",
       "      <td id=\"T_5f9ed_row3_col0\" class=\"data row3 col0\" >9.00</td>\n",
       "      <td id=\"T_5f9ed_row3_col1\" class=\"data row3 col1\" >4.36</td>\n",
       "      <td id=\"T_5f9ed_row3_col2\" class=\"data row3 col2\" >N</td>\n",
       "      <td id=\"T_5f9ed_row3_col3\" class=\"data row3 col3\" >0.53</td>\n",
       "      <td id=\"T_5f9ed_row3_col4\" class=\"data row3 col4\" >5.25</td>\n",
       "    </tr>\n",
       "    <tr>\n",
       "      <th id=\"T_5f9ed_level0_row4\" class=\"row_heading level0 row4\" >Late %</th>\n",
       "      <td id=\"T_5f9ed_row4_col0\" class=\"data row4 col0\" >0.10</td>\n",
       "      <td id=\"T_5f9ed_row4_col1\" class=\"data row4 col1\" >0.06</td>\n",
       "      <td id=\"T_5f9ed_row4_col2\" class=\"data row4 col2\" >Y</td>\n",
       "      <td id=\"T_5f9ed_row4_col3\" class=\"data row4 col3\" >-0.55</td>\n",
       "      <td id=\"T_5f9ed_row4_col4\" class=\"data row4 col4\" >0.02</td>\n",
       "    </tr>\n",
       "    <tr>\n",
       "      <th id=\"T_5f9ed_level0_row5\" class=\"row_heading level0 row5\" >False Pos %</th>\n",
       "      <td id=\"T_5f9ed_row5_col0\" class=\"data row5 col0\" >0.01</td>\n",
       "      <td id=\"T_5f9ed_row5_col1\" class=\"data row5 col1\" >0.37</td>\n",
       "      <td id=\"T_5f9ed_row5_col2\" class=\"data row5 col2\" >N</td>\n",
       "      <td id=\"T_5f9ed_row5_col3\" class=\"data row5 col3\" >0.29</td>\n",
       "      <td id=\"T_5f9ed_row5_col4\" class=\"data row5 col4\" >0.41</td>\n",
       "    </tr>\n",
       "  </tbody>\n",
       "</table>\n"
      ],
      "text/plain": [
       "<pandas.io.formats.style.Styler at 0x1c5a3cd9250>"
      ]
     },
     "metadata": {},
     "output_type": "display_data"
    },
    {
     "data": {
      "text/markdown": [
       "## Feedback:"
      ]
     },
     "metadata": {},
     "output_type": "display_data"
    },
    {
     "name": "stderr",
     "output_type": "stream",
     "text": [
      "C:\\Users\\aidan\\AppData\\Local\\Temp\\ipykernel_27120\\158198044.py:16: FutureWarning: Series.__getitem__ treating keys as positions is deprecated. In a future version, integer keys will always be treated as labels (consistent with DataFrame behavior). To access a value by position, use `ser.iloc[pos]`\n",
      "  if (Feedbackdf.iloc[i][0] == 1) and (Feedbackdf.iloc[i][2] == employee_name) and (Feedbackdf.iloc[i][3] == employee_name):\n",
      "C:\\Users\\aidan\\AppData\\Local\\Temp\\ipykernel_27120\\158198044.py:21: FutureWarning: Series.__getitem__ treating keys as positions is deprecated. In a future version, integer keys will always be treated as labels (consistent with DataFrame behavior). To access a value by position, use `ser.iloc[pos]`\n",
      "  elif (Feedbackdf.iloc[i][0] == 0 or Feedbackdf.iloc[i][0] == -1) and (Feedbackdf.iloc[i][2] == employee_name) and (Feedbackdf.iloc[i][3] == employee_name):\n",
      "C:\\Users\\aidan\\AppData\\Local\\Temp\\ipykernel_27120\\158198044.py:26: FutureWarning: Series.__getitem__ treating keys as positions is deprecated. In a future version, integer keys will always be treated as labels (consistent with DataFrame behavior). To access a value by position, use `ser.iloc[pos]`\n",
      "  elif (Feedbackdf.iloc[i][0] == 1) and (Feedbackdf.iloc[i][2] == employee_name) and (Feedbackdf.iloc[i][4] == 'R'):\n",
      "C:\\Users\\aidan\\AppData\\Local\\Temp\\ipykernel_27120\\158198044.py:31: FutureWarning: Series.__getitem__ treating keys as positions is deprecated. In a future version, integer keys will always be treated as labels (consistent with DataFrame behavior). To access a value by position, use `ser.iloc[pos]`\n",
      "  elif (Feedbackdf.iloc[i][0] == 1) and (Feedbackdf.iloc[i][3] == employee_name) and (Feedbackdf.iloc[i][4] == 'P'):\n",
      "C:\\Users\\aidan\\AppData\\Local\\Temp\\ipykernel_27120\\158198044.py:36: FutureWarning: Series.__getitem__ treating keys as positions is deprecated. In a future version, integer keys will always be treated as labels (consistent with DataFrame behavior). To access a value by position, use `ser.iloc[pos]`\n",
      "  elif (Feedbackdf.iloc[i][0] == 0 or Feedbackdf.iloc[i][0] == -1) and (Feedbackdf.iloc[i][2] == employee_name) and (Feedbackdf.iloc[i][4] == 'R'):\n",
      "C:\\Users\\aidan\\AppData\\Local\\Temp\\ipykernel_27120\\158198044.py:41: FutureWarning: Series.__getitem__ treating keys as positions is deprecated. In a future version, integer keys will always be treated as labels (consistent with DataFrame behavior). To access a value by position, use `ser.iloc[pos]`\n",
      "  elif (Feedbackdf.iloc[i][0] == 0 or Feedbackdf.iloc[i][0] == -1) and (Feedbackdf.iloc[i][3] == employee_name) and (Feedbackdf.iloc[i][4] == 'P'):\n",
      "C:\\Users\\aidan\\AppData\\Local\\Temp\\ipykernel_27120\\158198044.py:46: FutureWarning: Series.__getitem__ treating keys as positions is deprecated. In a future version, integer keys will always be treated as labels (consistent with DataFrame behavior). To access a value by position, use `ser.iloc[pos]`\n",
      "  elif (Feedbackdf.iloc[i][0] == 1) and (Feedbackdf.iloc[i][4] == 'I') and (Feedbackdf.iloc[i][2] == employee_name or Feedbackdf.iloc[i][3] == employee_name):\n",
      "C:\\Users\\aidan\\AppData\\Local\\Temp\\ipykernel_27120\\158198044.py:51: FutureWarning: Series.__getitem__ treating keys as positions is deprecated. In a future version, integer keys will always be treated as labels (consistent with DataFrame behavior). To access a value by position, use `ser.iloc[pos]`\n",
      "  elif (Feedbackdf.iloc[i][0] == 0 or Feedbackdf.iloc[i][0] == -1) and (Feedbackdf.iloc[i][4] == 'I') and (Feedbackdf.iloc[i][2] == employee_name or Feedbackdf.iloc[i][3] == employee_name):\n"
     ]
    },
    {
     "data": {
      "text/html": [
       "<div>\n",
       "<style scoped>\n",
       "    .dataframe tbody tr th:only-of-type {\n",
       "        vertical-align: middle;\n",
       "    }\n",
       "\n",
       "    .dataframe tbody tr th {\n",
       "        vertical-align: top;\n",
       "    }\n",
       "\n",
       "    .dataframe thead th {\n",
       "        text-align: right;\n",
       "    }\n",
       "</style>\n",
       "<table border=\"1\" class=\"dataframe\">\n",
       "  <thead>\n",
       "    <tr style=\"text-align: right;\">\n",
       "      <th></th>\n",
       "      <th>Positive Feedback</th>\n",
       "      <th>Negative Feedback</th>\n",
       "    </tr>\n",
       "  </thead>\n",
       "  <tbody>\n",
       "  </tbody>\n",
       "</table>\n",
       "</div>"
      ],
      "text/plain": [
       "Empty DataFrame\n",
       "Columns: [Positive Feedback, Negative Feedback]\n",
       "Index: []"
      ]
     },
     "metadata": {},
     "output_type": "display_data"
    },
    {
     "data": {
      "text/markdown": [
       "## Chase MacDonald's Score: 3/6"
      ]
     },
     "metadata": {},
     "output_type": "display_data"
    },
    {
     "data": {
      "text/markdown": [
       "### ------------------------------------------------------------------------------------------"
      ]
     },
     "metadata": {},
     "output_type": "display_data"
    },
    {
     "name": "stderr",
     "output_type": "stream",
     "text": [
      "C:\\Users\\aidan\\AppData\\Local\\Temp\\ipykernel_27120\\2927901798.py:7: FutureWarning: Series.__getitem__ treating keys as positions is deprecated. In a future version, integer keys will always be treated as labels (consistent with DataFrame behavior). To access a value by position, use `ser.iloc[pos]`\n",
      "  employee_name = racerdf[0]\n"
     ]
    },
    {
     "data": {
      "text/markdown": [
       "## Connor New's Eval:"
      ]
     },
     "metadata": {},
     "output_type": "display_data"
    },
    {
     "name": "stderr",
     "output_type": "stream",
     "text": [
      "C:\\Users\\aidan\\AppData\\Local\\Temp\\ipykernel_27120\\2927901798.py:23: FutureWarning: Series.__getitem__ treating keys as positions is deprecated. In a future version, integer keys will always be treated as labels (consistent with DataFrame behavior). To access a value by position, use `ser.iloc[pos]`\n",
      "  if storedf[employee_name][5] == -1:\n"
     ]
    },
    {
     "data": {
      "text/html": [
       "<style type=\"text/css\">\n",
       "#T_ee679_row0_col3 {\n",
       "  background-color: #fff2aa;\n",
       "  color: #000000;\n",
       "}\n",
       "#T_ee679_row1_col3 {\n",
       "  background-color: #feea9b;\n",
       "  color: #000000;\n",
       "}\n",
       "#T_ee679_row2_col3 {\n",
       "  background-color: #f8fcb6;\n",
       "  color: #000000;\n",
       "}\n",
       "#T_ee679_row3_col3, #T_ee679_row5_col3 {\n",
       "  background-color: #ebf7a3;\n",
       "  color: #000000;\n",
       "}\n",
       "#T_ee679_row4_col3 {\n",
       "  background-color: #fee08b;\n",
       "  color: #000000;\n",
       "}\n",
       "</style>\n",
       "<table id=\"T_ee679\">\n",
       "  <thead>\n",
       "    <tr>\n",
       "      <th class=\"blank level0\" >&nbsp;</th>\n",
       "      <th id=\"T_ee679_level0_col0\" class=\"col_heading level0 col0\" >Benchmarks</th>\n",
       "      <th id=\"T_ee679_level0_col1\" class=\"col_heading level0 col1\" >Store</th>\n",
       "      <th id=\"T_ee679_level0_col2\" class=\"col_heading level0 col2\" >Pass</th>\n",
       "      <th id=\"T_ee679_level0_col3\" class=\"col_heading level0 col3\" >ZScore</th>\n",
       "      <th id=\"T_ee679_level0_col4\" class=\"col_heading level0 col4\" >Connor New</th>\n",
       "    </tr>\n",
       "  </thead>\n",
       "  <tbody>\n",
       "    <tr>\n",
       "      <th id=\"T_ee679_level0_row0\" class=\"row_heading level0 row0\" >Avg. Hrs Worked</th>\n",
       "      <td id=\"T_ee679_row0_col0\" class=\"data row0 col0\" >12.00</td>\n",
       "      <td id=\"T_ee679_row0_col1\" class=\"data row0 col1\" >12.08</td>\n",
       "      <td id=\"T_ee679_row0_col2\" class=\"data row0 col2\" >N</td>\n",
       "      <td id=\"T_ee679_row0_col3\" class=\"data row0 col3\" >-0.21</td>\n",
       "      <td id=\"T_ee679_row0_col4\" class=\"data row0 col4\" >10.80</td>\n",
       "    </tr>\n",
       "    <tr>\n",
       "      <th id=\"T_ee679_level0_row1\" class=\"row_heading level0 row1\" >Avg. Delivery Time</th>\n",
       "      <td id=\"T_ee679_row1_col0\" class=\"data row1 col0\" >10.00</td>\n",
       "      <td id=\"T_ee679_row1_col1\" class=\"data row1 col1\" >10.82</td>\n",
       "      <td id=\"T_ee679_row1_col2\" class=\"data row1 col2\" >N</td>\n",
       "      <td id=\"T_ee679_row1_col3\" class=\"data row1 col3\" >0.34</td>\n",
       "      <td id=\"T_ee679_row1_col4\" class=\"data row1 col4\" >11.56</td>\n",
       "    </tr>\n",
       "    <tr>\n",
       "      <th id=\"T_ee679_level0_row2\" class=\"row_heading level0 row2\" >Avg. Out the Door</th>\n",
       "      <td id=\"T_ee679_row2_col0\" class=\"data row2 col0\" >4.00</td>\n",
       "      <td id=\"T_ee679_row2_col1\" class=\"data row2 col1\" >4.70</td>\n",
       "      <td id=\"T_ee679_row2_col2\" class=\"data row2 col2\" >N</td>\n",
       "      <td id=\"T_ee679_row2_col3\" class=\"data row2 col3\" >-0.08</td>\n",
       "      <td id=\"T_ee679_row2_col4\" class=\"data row2 col4\" >4.60</td>\n",
       "    </tr>\n",
       "    <tr>\n",
       "      <th id=\"T_ee679_level0_row3\" class=\"row_heading level0 row3\" >ORH</th>\n",
       "      <td id=\"T_ee679_row3_col0\" class=\"data row3 col0\" >9.00</td>\n",
       "      <td id=\"T_ee679_row3_col1\" class=\"data row3 col1\" >4.36</td>\n",
       "      <td id=\"T_ee679_row3_col2\" class=\"data row3 col2\" >N</td>\n",
       "      <td id=\"T_ee679_row3_col3\" class=\"data row3 col3\" >0.27</td>\n",
       "      <td id=\"T_ee679_row3_col4\" class=\"data row3 col4\" >4.82</td>\n",
       "    </tr>\n",
       "    <tr>\n",
       "      <th id=\"T_ee679_level0_row4\" class=\"row_heading level0 row4\" >Late %</th>\n",
       "      <td id=\"T_ee679_row4_col0\" class=\"data row4 col0\" >0.10</td>\n",
       "      <td id=\"T_ee679_row4_col1\" class=\"data row4 col1\" >0.06</td>\n",
       "      <td id=\"T_ee679_row4_col2\" class=\"data row4 col2\" >Y</td>\n",
       "      <td id=\"T_ee679_row4_col3\" class=\"data row4 col3\" >0.49</td>\n",
       "      <td id=\"T_ee679_row4_col4\" class=\"data row4 col4\" >0.10</td>\n",
       "    </tr>\n",
       "    <tr>\n",
       "      <th id=\"T_ee679_level0_row5\" class=\"row_heading level0 row5\" >False Pos %</th>\n",
       "      <td id=\"T_ee679_row5_col0\" class=\"data row5 col0\" >0.01</td>\n",
       "      <td id=\"T_ee679_row5_col1\" class=\"data row5 col1\" >0.37</td>\n",
       "      <td id=\"T_ee679_row5_col2\" class=\"data row5 col2\" >N</td>\n",
       "      <td id=\"T_ee679_row5_col3\" class=\"data row5 col3\" >-0.27</td>\n",
       "      <td id=\"T_ee679_row5_col4\" class=\"data row5 col4\" >0.33</td>\n",
       "    </tr>\n",
       "  </tbody>\n",
       "</table>\n"
      ],
      "text/plain": [
       "<pandas.io.formats.style.Styler at 0x1c5a3cd9250>"
      ]
     },
     "metadata": {},
     "output_type": "display_data"
    },
    {
     "data": {
      "text/markdown": [
       "## Feedback:"
      ]
     },
     "metadata": {},
     "output_type": "display_data"
    },
    {
     "name": "stderr",
     "output_type": "stream",
     "text": [
      "C:\\Users\\aidan\\AppData\\Local\\Temp\\ipykernel_27120\\158198044.py:16: FutureWarning: Series.__getitem__ treating keys as positions is deprecated. In a future version, integer keys will always be treated as labels (consistent with DataFrame behavior). To access a value by position, use `ser.iloc[pos]`\n",
      "  if (Feedbackdf.iloc[i][0] == 1) and (Feedbackdf.iloc[i][2] == employee_name) and (Feedbackdf.iloc[i][3] == employee_name):\n",
      "C:\\Users\\aidan\\AppData\\Local\\Temp\\ipykernel_27120\\158198044.py:21: FutureWarning: Series.__getitem__ treating keys as positions is deprecated. In a future version, integer keys will always be treated as labels (consistent with DataFrame behavior). To access a value by position, use `ser.iloc[pos]`\n",
      "  elif (Feedbackdf.iloc[i][0] == 0 or Feedbackdf.iloc[i][0] == -1) and (Feedbackdf.iloc[i][2] == employee_name) and (Feedbackdf.iloc[i][3] == employee_name):\n",
      "C:\\Users\\aidan\\AppData\\Local\\Temp\\ipykernel_27120\\158198044.py:26: FutureWarning: Series.__getitem__ treating keys as positions is deprecated. In a future version, integer keys will always be treated as labels (consistent with DataFrame behavior). To access a value by position, use `ser.iloc[pos]`\n",
      "  elif (Feedbackdf.iloc[i][0] == 1) and (Feedbackdf.iloc[i][2] == employee_name) and (Feedbackdf.iloc[i][4] == 'R'):\n",
      "C:\\Users\\aidan\\AppData\\Local\\Temp\\ipykernel_27120\\158198044.py:31: FutureWarning: Series.__getitem__ treating keys as positions is deprecated. In a future version, integer keys will always be treated as labels (consistent with DataFrame behavior). To access a value by position, use `ser.iloc[pos]`\n",
      "  elif (Feedbackdf.iloc[i][0] == 1) and (Feedbackdf.iloc[i][3] == employee_name) and (Feedbackdf.iloc[i][4] == 'P'):\n",
      "C:\\Users\\aidan\\AppData\\Local\\Temp\\ipykernel_27120\\158198044.py:36: FutureWarning: Series.__getitem__ treating keys as positions is deprecated. In a future version, integer keys will always be treated as labels (consistent with DataFrame behavior). To access a value by position, use `ser.iloc[pos]`\n",
      "  elif (Feedbackdf.iloc[i][0] == 0 or Feedbackdf.iloc[i][0] == -1) and (Feedbackdf.iloc[i][2] == employee_name) and (Feedbackdf.iloc[i][4] == 'R'):\n",
      "C:\\Users\\aidan\\AppData\\Local\\Temp\\ipykernel_27120\\158198044.py:41: FutureWarning: Series.__getitem__ treating keys as positions is deprecated. In a future version, integer keys will always be treated as labels (consistent with DataFrame behavior). To access a value by position, use `ser.iloc[pos]`\n",
      "  elif (Feedbackdf.iloc[i][0] == 0 or Feedbackdf.iloc[i][0] == -1) and (Feedbackdf.iloc[i][3] == employee_name) and (Feedbackdf.iloc[i][4] == 'P'):\n",
      "C:\\Users\\aidan\\AppData\\Local\\Temp\\ipykernel_27120\\158198044.py:46: FutureWarning: Series.__getitem__ treating keys as positions is deprecated. In a future version, integer keys will always be treated as labels (consistent with DataFrame behavior). To access a value by position, use `ser.iloc[pos]`\n",
      "  elif (Feedbackdf.iloc[i][0] == 1) and (Feedbackdf.iloc[i][4] == 'I') and (Feedbackdf.iloc[i][2] == employee_name or Feedbackdf.iloc[i][3] == employee_name):\n",
      "C:\\Users\\aidan\\AppData\\Local\\Temp\\ipykernel_27120\\158198044.py:51: FutureWarning: Series.__getitem__ treating keys as positions is deprecated. In a future version, integer keys will always be treated as labels (consistent with DataFrame behavior). To access a value by position, use `ser.iloc[pos]`\n",
      "  elif (Feedbackdf.iloc[i][0] == 0 or Feedbackdf.iloc[i][0] == -1) and (Feedbackdf.iloc[i][4] == 'I') and (Feedbackdf.iloc[i][2] == employee_name or Feedbackdf.iloc[i][3] == employee_name):\n",
      "C:\\Users\\aidan\\AppData\\Local\\Temp\\ipykernel_27120\\158198044.py:42: FutureWarning: Series.__getitem__ treating keys as positions is deprecated. In a future version, integer keys will always be treated as labels (consistent with DataFrame behavior). To access a value by position, use `ser.iloc[pos]`\n",
      "  negativeList.append('AS PACKER: ' + Feedbackdf.iloc[i][1])\n"
     ]
    },
    {
     "data": {
      "text/html": [
       "<div>\n",
       "<style scoped>\n",
       "    .dataframe tbody tr th:only-of-type {\n",
       "        vertical-align: middle;\n",
       "    }\n",
       "\n",
       "    .dataframe tbody tr th {\n",
       "        vertical-align: top;\n",
       "    }\n",
       "\n",
       "    .dataframe thead th {\n",
       "        text-align: right;\n",
       "    }\n",
       "</style>\n",
       "<table border=\"1\" class=\"dataframe\">\n",
       "  <thead>\n",
       "    <tr style=\"text-align: right;\">\n",
       "      <th></th>\n",
       "      <th>Positive Feedback</th>\n",
       "      <th>Negative Feedback</th>\n",
       "    </tr>\n",
       "  </thead>\n",
       "  <tbody>\n",
       "    <tr>\n",
       "      <th>0</th>\n",
       "      <td></td>\n",
       "      <td>AS PACKER: I am missing a thing of pizza rolls.</td>\n",
       "    </tr>\n",
       "  </tbody>\n",
       "</table>\n",
       "</div>"
      ],
      "text/plain": [
       "  Positive Feedback                                Negative Feedback\n",
       "0                    AS PACKER: I am missing a thing of pizza rolls."
      ]
     },
     "metadata": {},
     "output_type": "display_data"
    },
    {
     "data": {
      "text/markdown": [
       "## Connor New's Score: 0/6"
      ]
     },
     "metadata": {},
     "output_type": "display_data"
    },
    {
     "data": {
      "text/markdown": [
       "### ------------------------------------------------------------------------------------------"
      ]
     },
     "metadata": {},
     "output_type": "display_data"
    },
    {
     "name": "stderr",
     "output_type": "stream",
     "text": [
      "C:\\Users\\aidan\\AppData\\Local\\Temp\\ipykernel_27120\\2927901798.py:7: FutureWarning: Series.__getitem__ treating keys as positions is deprecated. In a future version, integer keys will always be treated as labels (consistent with DataFrame behavior). To access a value by position, use `ser.iloc[pos]`\n",
      "  employee_name = racerdf[0]\n"
     ]
    },
    {
     "data": {
      "text/markdown": [
       "## Calvin Jennings's Eval:"
      ]
     },
     "metadata": {},
     "output_type": "display_data"
    },
    {
     "name": "stderr",
     "output_type": "stream",
     "text": [
      "C:\\Users\\aidan\\AppData\\Local\\Temp\\ipykernel_27120\\2927901798.py:23: FutureWarning: Series.__getitem__ treating keys as positions is deprecated. In a future version, integer keys will always be treated as labels (consistent with DataFrame behavior). To access a value by position, use `ser.iloc[pos]`\n",
      "  if storedf[employee_name][5] == -1:\n"
     ]
    },
    {
     "data": {
      "text/html": [
       "<style type=\"text/css\">\n",
       "#T_6f368_row0_col3 {\n",
       "  background-color: #fdc574;\n",
       "  color: #000000;\n",
       "}\n",
       "#T_6f368_row1_col3 {\n",
       "  background-color: #fff2aa;\n",
       "  color: #000000;\n",
       "}\n",
       "#T_6f368_row2_col3 {\n",
       "  background-color: #279f53;\n",
       "  color: #f1f1f1;\n",
       "}\n",
       "#T_6f368_row3_col3 {\n",
       "  background-color: #70c164;\n",
       "  color: #000000;\n",
       "}\n",
       "#T_6f368_row4_col3 {\n",
       "  background-color: #ebf7a3;\n",
       "  color: #000000;\n",
       "}\n",
       "#T_6f368_row5_col3 {\n",
       "  background-color: #e95538;\n",
       "  color: #f1f1f1;\n",
       "}\n",
       "</style>\n",
       "<table id=\"T_6f368\">\n",
       "  <thead>\n",
       "    <tr>\n",
       "      <th class=\"blank level0\" >&nbsp;</th>\n",
       "      <th id=\"T_6f368_level0_col0\" class=\"col_heading level0 col0\" >Benchmarks</th>\n",
       "      <th id=\"T_6f368_level0_col1\" class=\"col_heading level0 col1\" >Store</th>\n",
       "      <th id=\"T_6f368_level0_col2\" class=\"col_heading level0 col2\" >Pass</th>\n",
       "      <th id=\"T_6f368_level0_col3\" class=\"col_heading level0 col3\" >ZScore</th>\n",
       "      <th id=\"T_6f368_level0_col4\" class=\"col_heading level0 col4\" >Calvin Jennings</th>\n",
       "    </tr>\n",
       "  </thead>\n",
       "  <tbody>\n",
       "    <tr>\n",
       "      <th id=\"T_6f368_level0_row0\" class=\"row_heading level0 row0\" >Avg. Hrs Worked</th>\n",
       "      <td id=\"T_6f368_row0_col0\" class=\"data row0 col0\" >12.00</td>\n",
       "      <td id=\"T_6f368_row0_col1\" class=\"data row0 col1\" >12.08</td>\n",
       "      <td id=\"T_6f368_row0_col2\" class=\"data row0 col2\" >N</td>\n",
       "      <td id=\"T_6f368_row0_col3\" class=\"data row0 col3\" >-0.77</td>\n",
       "      <td id=\"T_6f368_row0_col4\" class=\"data row0 col4\" >7.26</td>\n",
       "    </tr>\n",
       "    <tr>\n",
       "      <th id=\"T_6f368_level0_row1\" class=\"row_heading level0 row1\" >Avg. Delivery Time</th>\n",
       "      <td id=\"T_6f368_row1_col0\" class=\"data row1 col0\" >10.00</td>\n",
       "      <td id=\"T_6f368_row1_col1\" class=\"data row1 col1\" >10.82</td>\n",
       "      <td id=\"T_6f368_row1_col2\" class=\"data row1 col2\" >N</td>\n",
       "      <td id=\"T_6f368_row1_col3\" class=\"data row1 col3\" >0.20</td>\n",
       "      <td id=\"T_6f368_row1_col4\" class=\"data row1 col4\" >11.26</td>\n",
       "    </tr>\n",
       "    <tr>\n",
       "      <th id=\"T_6f368_level0_row2\" class=\"row_heading level0 row2\" >Avg. Out the Door</th>\n",
       "      <td id=\"T_6f368_row2_col0\" class=\"data row2 col0\" >4.00</td>\n",
       "      <td id=\"T_6f368_row2_col1\" class=\"data row2 col1\" >4.70</td>\n",
       "      <td id=\"T_6f368_row2_col2\" class=\"data row2 col2\" >Y</td>\n",
       "      <td id=\"T_6f368_row2_col3\" class=\"data row2 col3\" >-1.91</td>\n",
       "      <td id=\"T_6f368_row2_col4\" class=\"data row2 col4\" >2.33</td>\n",
       "    </tr>\n",
       "    <tr>\n",
       "      <th id=\"T_6f368_level0_row3\" class=\"row_heading level0 row3\" >ORH</th>\n",
       "      <td id=\"T_6f368_row3_col0\" class=\"data row3 col0\" >9.00</td>\n",
       "      <td id=\"T_6f368_row3_col1\" class=\"data row3 col1\" >4.36</td>\n",
       "      <td id=\"T_6f368_row3_col2\" class=\"data row3 col2\" >N</td>\n",
       "      <td id=\"T_6f368_row3_col3\" class=\"data row3 col3\" >1.41</td>\n",
       "      <td id=\"T_6f368_row3_col4\" class=\"data row3 col4\" >6.75</td>\n",
       "    </tr>\n",
       "    <tr>\n",
       "      <th id=\"T_6f368_level0_row4\" class=\"row_heading level0 row4\" >Late %</th>\n",
       "      <td id=\"T_6f368_row4_col0\" class=\"data row4 col0\" >0.10</td>\n",
       "      <td id=\"T_6f368_row4_col1\" class=\"data row4 col1\" >0.06</td>\n",
       "      <td id=\"T_6f368_row4_col2\" class=\"data row4 col2\" >Y</td>\n",
       "      <td id=\"T_6f368_row4_col3\" class=\"data row4 col3\" >-0.26</td>\n",
       "      <td id=\"T_6f368_row4_col4\" class=\"data row4 col4\" >0.04</td>\n",
       "    </tr>\n",
       "    <tr>\n",
       "      <th id=\"T_6f368_level0_row5\" class=\"row_heading level0 row5\" >False Pos %</th>\n",
       "      <td id=\"T_6f368_row5_col0\" class=\"data row5 col0\" >0.01</td>\n",
       "      <td id=\"T_6f368_row5_col1\" class=\"data row5 col1\" >0.37</td>\n",
       "      <td id=\"T_6f368_row5_col2\" class=\"data row5 col2\" >N</td>\n",
       "      <td id=\"T_6f368_row5_col3\" class=\"data row5 col3\" >1.68</td>\n",
       "      <td id=\"T_6f368_row5_col4\" class=\"data row5 col4\" >0.60</td>\n",
       "    </tr>\n",
       "  </tbody>\n",
       "</table>\n"
      ],
      "text/plain": [
       "<pandas.io.formats.style.Styler at 0x1c5a3cd9250>"
      ]
     },
     "metadata": {},
     "output_type": "display_data"
    },
    {
     "data": {
      "text/markdown": [
       "## Feedback:"
      ]
     },
     "metadata": {},
     "output_type": "display_data"
    },
    {
     "name": "stderr",
     "output_type": "stream",
     "text": [
      "C:\\Users\\aidan\\AppData\\Local\\Temp\\ipykernel_27120\\158198044.py:16: FutureWarning: Series.__getitem__ treating keys as positions is deprecated. In a future version, integer keys will always be treated as labels (consistent with DataFrame behavior). To access a value by position, use `ser.iloc[pos]`\n",
      "  if (Feedbackdf.iloc[i][0] == 1) and (Feedbackdf.iloc[i][2] == employee_name) and (Feedbackdf.iloc[i][3] == employee_name):\n",
      "C:\\Users\\aidan\\AppData\\Local\\Temp\\ipykernel_27120\\158198044.py:21: FutureWarning: Series.__getitem__ treating keys as positions is deprecated. In a future version, integer keys will always be treated as labels (consistent with DataFrame behavior). To access a value by position, use `ser.iloc[pos]`\n",
      "  elif (Feedbackdf.iloc[i][0] == 0 or Feedbackdf.iloc[i][0] == -1) and (Feedbackdf.iloc[i][2] == employee_name) and (Feedbackdf.iloc[i][3] == employee_name):\n",
      "C:\\Users\\aidan\\AppData\\Local\\Temp\\ipykernel_27120\\158198044.py:26: FutureWarning: Series.__getitem__ treating keys as positions is deprecated. In a future version, integer keys will always be treated as labels (consistent with DataFrame behavior). To access a value by position, use `ser.iloc[pos]`\n",
      "  elif (Feedbackdf.iloc[i][0] == 1) and (Feedbackdf.iloc[i][2] == employee_name) and (Feedbackdf.iloc[i][4] == 'R'):\n",
      "C:\\Users\\aidan\\AppData\\Local\\Temp\\ipykernel_27120\\158198044.py:31: FutureWarning: Series.__getitem__ treating keys as positions is deprecated. In a future version, integer keys will always be treated as labels (consistent with DataFrame behavior). To access a value by position, use `ser.iloc[pos]`\n",
      "  elif (Feedbackdf.iloc[i][0] == 1) and (Feedbackdf.iloc[i][3] == employee_name) and (Feedbackdf.iloc[i][4] == 'P'):\n",
      "C:\\Users\\aidan\\AppData\\Local\\Temp\\ipykernel_27120\\158198044.py:36: FutureWarning: Series.__getitem__ treating keys as positions is deprecated. In a future version, integer keys will always be treated as labels (consistent with DataFrame behavior). To access a value by position, use `ser.iloc[pos]`\n",
      "  elif (Feedbackdf.iloc[i][0] == 0 or Feedbackdf.iloc[i][0] == -1) and (Feedbackdf.iloc[i][2] == employee_name) and (Feedbackdf.iloc[i][4] == 'R'):\n",
      "C:\\Users\\aidan\\AppData\\Local\\Temp\\ipykernel_27120\\158198044.py:41: FutureWarning: Series.__getitem__ treating keys as positions is deprecated. In a future version, integer keys will always be treated as labels (consistent with DataFrame behavior). To access a value by position, use `ser.iloc[pos]`\n",
      "  elif (Feedbackdf.iloc[i][0] == 0 or Feedbackdf.iloc[i][0] == -1) and (Feedbackdf.iloc[i][3] == employee_name) and (Feedbackdf.iloc[i][4] == 'P'):\n",
      "C:\\Users\\aidan\\AppData\\Local\\Temp\\ipykernel_27120\\158198044.py:46: FutureWarning: Series.__getitem__ treating keys as positions is deprecated. In a future version, integer keys will always be treated as labels (consistent with DataFrame behavior). To access a value by position, use `ser.iloc[pos]`\n",
      "  elif (Feedbackdf.iloc[i][0] == 1) and (Feedbackdf.iloc[i][4] == 'I') and (Feedbackdf.iloc[i][2] == employee_name or Feedbackdf.iloc[i][3] == employee_name):\n",
      "C:\\Users\\aidan\\AppData\\Local\\Temp\\ipykernel_27120\\158198044.py:51: FutureWarning: Series.__getitem__ treating keys as positions is deprecated. In a future version, integer keys will always be treated as labels (consistent with DataFrame behavior). To access a value by position, use `ser.iloc[pos]`\n",
      "  elif (Feedbackdf.iloc[i][0] == 0 or Feedbackdf.iloc[i][0] == -1) and (Feedbackdf.iloc[i][4] == 'I') and (Feedbackdf.iloc[i][2] == employee_name or Feedbackdf.iloc[i][3] == employee_name):\n"
     ]
    },
    {
     "data": {
      "text/html": [
       "<div>\n",
       "<style scoped>\n",
       "    .dataframe tbody tr th:only-of-type {\n",
       "        vertical-align: middle;\n",
       "    }\n",
       "\n",
       "    .dataframe tbody tr th {\n",
       "        vertical-align: top;\n",
       "    }\n",
       "\n",
       "    .dataframe thead th {\n",
       "        text-align: right;\n",
       "    }\n",
       "</style>\n",
       "<table border=\"1\" class=\"dataframe\">\n",
       "  <thead>\n",
       "    <tr style=\"text-align: right;\">\n",
       "      <th></th>\n",
       "      <th>Positive Feedback</th>\n",
       "      <th>Negative Feedback</th>\n",
       "    </tr>\n",
       "  </thead>\n",
       "  <tbody>\n",
       "  </tbody>\n",
       "</table>\n",
       "</div>"
      ],
      "text/plain": [
       "Empty DataFrame\n",
       "Columns: [Positive Feedback, Negative Feedback]\n",
       "Index: []"
      ]
     },
     "metadata": {},
     "output_type": "display_data"
    },
    {
     "data": {
      "text/markdown": [
       "## Calvin Jennings's Score: 2/6"
      ]
     },
     "metadata": {},
     "output_type": "display_data"
    },
    {
     "data": {
      "text/markdown": [
       "### ------------------------------------------------------------------------------------------"
      ]
     },
     "metadata": {},
     "output_type": "display_data"
    },
    {
     "name": "stderr",
     "output_type": "stream",
     "text": [
      "C:\\Users\\aidan\\AppData\\Local\\Temp\\ipykernel_27120\\2927901798.py:7: FutureWarning: Series.__getitem__ treating keys as positions is deprecated. In a future version, integer keys will always be treated as labels (consistent with DataFrame behavior). To access a value by position, use `ser.iloc[pos]`\n",
      "  employee_name = racerdf[0]\n"
     ]
    },
    {
     "data": {
      "text/markdown": [
       "## AJ Resop's Eval:"
      ]
     },
     "metadata": {},
     "output_type": "display_data"
    },
    {
     "name": "stderr",
     "output_type": "stream",
     "text": [
      "C:\\Users\\aidan\\AppData\\Local\\Temp\\ipykernel_27120\\2927901798.py:23: FutureWarning: Series.__getitem__ treating keys as positions is deprecated. In a future version, integer keys will always be treated as labels (consistent with DataFrame behavior). To access a value by position, use `ser.iloc[pos]`\n",
      "  if storedf[employee_name][5] == -1:\n"
     ]
    },
    {
     "data": {
      "text/html": [
       "<style type=\"text/css\">\n",
       "#T_854de_row0_col3 {\n",
       "  background-color: #fffab6;\n",
       "  color: #000000;\n",
       "}\n",
       "#T_854de_row1_col3 {\n",
       "  background-color: #fdbb6c;\n",
       "  color: #000000;\n",
       "}\n",
       "#T_854de_row2_col3 {\n",
       "  background-color: #fedc88;\n",
       "  color: #000000;\n",
       "}\n",
       "#T_854de_row3_col3 {\n",
       "  background-color: #feefa3;\n",
       "  color: #000000;\n",
       "}\n",
       "#T_854de_row4_col3 {\n",
       "  background-color: #fdaf62;\n",
       "  color: #000000;\n",
       "}\n",
       "#T_854de_row5_col3 {\n",
       "  background-color: #fbfdba;\n",
       "  color: #000000;\n",
       "}\n",
       "</style>\n",
       "<table id=\"T_854de\">\n",
       "  <thead>\n",
       "    <tr>\n",
       "      <th class=\"blank level0\" >&nbsp;</th>\n",
       "      <th id=\"T_854de_level0_col0\" class=\"col_heading level0 col0\" >Benchmarks</th>\n",
       "      <th id=\"T_854de_level0_col1\" class=\"col_heading level0 col1\" >Store</th>\n",
       "      <th id=\"T_854de_level0_col2\" class=\"col_heading level0 col2\" >Pass</th>\n",
       "      <th id=\"T_854de_level0_col3\" class=\"col_heading level0 col3\" >ZScore</th>\n",
       "      <th id=\"T_854de_level0_col4\" class=\"col_heading level0 col4\" >AJ Resop</th>\n",
       "    </tr>\n",
       "  </thead>\n",
       "  <tbody>\n",
       "    <tr>\n",
       "      <th id=\"T_854de_level0_row0\" class=\"row_heading level0 row0\" >Avg. Hrs Worked</th>\n",
       "      <td id=\"T_854de_row0_col0\" class=\"data row0 col0\" >12.00</td>\n",
       "      <td id=\"T_854de_row0_col1\" class=\"data row0 col1\" >12.08</td>\n",
       "      <td id=\"T_854de_row0_col2\" class=\"data row0 col2\" >N</td>\n",
       "      <td id=\"T_854de_row0_col3\" class=\"data row0 col3\" >-0.09</td>\n",
       "      <td id=\"T_854de_row0_col4\" class=\"data row0 col4\" >11.53</td>\n",
       "    </tr>\n",
       "    <tr>\n",
       "      <th id=\"T_854de_level0_row1\" class=\"row_heading level0 row1\" >Avg. Delivery Time</th>\n",
       "      <td id=\"T_854de_row1_col0\" class=\"data row1 col0\" >10.00</td>\n",
       "      <td id=\"T_854de_row1_col1\" class=\"data row1 col1\" >10.82</td>\n",
       "      <td id=\"T_854de_row1_col2\" class=\"data row1 col2\" >N</td>\n",
       "      <td id=\"T_854de_row1_col3\" class=\"data row1 col3\" >0.86</td>\n",
       "      <td id=\"T_854de_row1_col4\" class=\"data row1 col4\" >12.71</td>\n",
       "    </tr>\n",
       "    <tr>\n",
       "      <th id=\"T_854de_level0_row2\" class=\"row_heading level0 row2\" >Avg. Out the Door</th>\n",
       "      <td id=\"T_854de_row2_col0\" class=\"data row2 col0\" >4.00</td>\n",
       "      <td id=\"T_854de_row2_col1\" class=\"data row2 col1\" >4.70</td>\n",
       "      <td id=\"T_854de_row2_col2\" class=\"data row2 col2\" >N</td>\n",
       "      <td id=\"T_854de_row2_col3\" class=\"data row2 col3\" >0.54</td>\n",
       "      <td id=\"T_854de_row2_col4\" class=\"data row2 col4\" >5.37</td>\n",
       "    </tr>\n",
       "    <tr>\n",
       "      <th id=\"T_854de_level0_row3\" class=\"row_heading level0 row3\" >ORH</th>\n",
       "      <td id=\"T_854de_row3_col0\" class=\"data row3 col0\" >9.00</td>\n",
       "      <td id=\"T_854de_row3_col1\" class=\"data row3 col1\" >4.36</td>\n",
       "      <td id=\"T_854de_row3_col2\" class=\"data row3 col2\" >N</td>\n",
       "      <td id=\"T_854de_row3_col3\" class=\"data row3 col3\" >-0.27</td>\n",
       "      <td id=\"T_854de_row3_col4\" class=\"data row3 col4\" >3.90</td>\n",
       "    </tr>\n",
       "    <tr>\n",
       "      <th id=\"T_854de_level0_row4\" class=\"row_heading level0 row4\" >Late %</th>\n",
       "      <td id=\"T_854de_row4_col0\" class=\"data row4 col0\" >0.10</td>\n",
       "      <td id=\"T_854de_row4_col1\" class=\"data row4 col1\" >0.06</td>\n",
       "      <td id=\"T_854de_row4_col2\" class=\"data row4 col2\" >N</td>\n",
       "      <td id=\"T_854de_row4_col3\" class=\"data row4 col3\" >0.98</td>\n",
       "      <td id=\"T_854de_row4_col4\" class=\"data row4 col4\" >0.13</td>\n",
       "    </tr>\n",
       "    <tr>\n",
       "      <th id=\"T_854de_level0_row5\" class=\"row_heading level0 row5\" >False Pos %</th>\n",
       "      <td id=\"T_854de_row5_col0\" class=\"data row5 col0\" >0.01</td>\n",
       "      <td id=\"T_854de_row5_col1\" class=\"data row5 col1\" >0.37</td>\n",
       "      <td id=\"T_854de_row5_col2\" class=\"data row5 col2\" >N</td>\n",
       "      <td id=\"T_854de_row5_col3\" class=\"data row5 col3\" >-0.05</td>\n",
       "      <td id=\"T_854de_row5_col4\" class=\"data row5 col4\" >0.36</td>\n",
       "    </tr>\n",
       "  </tbody>\n",
       "</table>\n"
      ],
      "text/plain": [
       "<pandas.io.formats.style.Styler at 0x1c5a3cd9250>"
      ]
     },
     "metadata": {},
     "output_type": "display_data"
    },
    {
     "data": {
      "text/markdown": [
       "## Feedback:"
      ]
     },
     "metadata": {},
     "output_type": "display_data"
    },
    {
     "name": "stderr",
     "output_type": "stream",
     "text": [
      "C:\\Users\\aidan\\AppData\\Local\\Temp\\ipykernel_27120\\158198044.py:16: FutureWarning: Series.__getitem__ treating keys as positions is deprecated. In a future version, integer keys will always be treated as labels (consistent with DataFrame behavior). To access a value by position, use `ser.iloc[pos]`\n",
      "  if (Feedbackdf.iloc[i][0] == 1) and (Feedbackdf.iloc[i][2] == employee_name) and (Feedbackdf.iloc[i][3] == employee_name):\n",
      "C:\\Users\\aidan\\AppData\\Local\\Temp\\ipykernel_27120\\158198044.py:21: FutureWarning: Series.__getitem__ treating keys as positions is deprecated. In a future version, integer keys will always be treated as labels (consistent with DataFrame behavior). To access a value by position, use `ser.iloc[pos]`\n",
      "  elif (Feedbackdf.iloc[i][0] == 0 or Feedbackdf.iloc[i][0] == -1) and (Feedbackdf.iloc[i][2] == employee_name) and (Feedbackdf.iloc[i][3] == employee_name):\n",
      "C:\\Users\\aidan\\AppData\\Local\\Temp\\ipykernel_27120\\158198044.py:26: FutureWarning: Series.__getitem__ treating keys as positions is deprecated. In a future version, integer keys will always be treated as labels (consistent with DataFrame behavior). To access a value by position, use `ser.iloc[pos]`\n",
      "  elif (Feedbackdf.iloc[i][0] == 1) and (Feedbackdf.iloc[i][2] == employee_name) and (Feedbackdf.iloc[i][4] == 'R'):\n",
      "C:\\Users\\aidan\\AppData\\Local\\Temp\\ipykernel_27120\\158198044.py:31: FutureWarning: Series.__getitem__ treating keys as positions is deprecated. In a future version, integer keys will always be treated as labels (consistent with DataFrame behavior). To access a value by position, use `ser.iloc[pos]`\n",
      "  elif (Feedbackdf.iloc[i][0] == 1) and (Feedbackdf.iloc[i][3] == employee_name) and (Feedbackdf.iloc[i][4] == 'P'):\n",
      "C:\\Users\\aidan\\AppData\\Local\\Temp\\ipykernel_27120\\158198044.py:36: FutureWarning: Series.__getitem__ treating keys as positions is deprecated. In a future version, integer keys will always be treated as labels (consistent with DataFrame behavior). To access a value by position, use `ser.iloc[pos]`\n",
      "  elif (Feedbackdf.iloc[i][0] == 0 or Feedbackdf.iloc[i][0] == -1) and (Feedbackdf.iloc[i][2] == employee_name) and (Feedbackdf.iloc[i][4] == 'R'):\n",
      "C:\\Users\\aidan\\AppData\\Local\\Temp\\ipykernel_27120\\158198044.py:41: FutureWarning: Series.__getitem__ treating keys as positions is deprecated. In a future version, integer keys will always be treated as labels (consistent with DataFrame behavior). To access a value by position, use `ser.iloc[pos]`\n",
      "  elif (Feedbackdf.iloc[i][0] == 0 or Feedbackdf.iloc[i][0] == -1) and (Feedbackdf.iloc[i][3] == employee_name) and (Feedbackdf.iloc[i][4] == 'P'):\n",
      "C:\\Users\\aidan\\AppData\\Local\\Temp\\ipykernel_27120\\158198044.py:46: FutureWarning: Series.__getitem__ treating keys as positions is deprecated. In a future version, integer keys will always be treated as labels (consistent with DataFrame behavior). To access a value by position, use `ser.iloc[pos]`\n",
      "  elif (Feedbackdf.iloc[i][0] == 1) and (Feedbackdf.iloc[i][4] == 'I') and (Feedbackdf.iloc[i][2] == employee_name or Feedbackdf.iloc[i][3] == employee_name):\n",
      "C:\\Users\\aidan\\AppData\\Local\\Temp\\ipykernel_27120\\158198044.py:51: FutureWarning: Series.__getitem__ treating keys as positions is deprecated. In a future version, integer keys will always be treated as labels (consistent with DataFrame behavior). To access a value by position, use `ser.iloc[pos]`\n",
      "  elif (Feedbackdf.iloc[i][0] == 0 or Feedbackdf.iloc[i][0] == -1) and (Feedbackdf.iloc[i][4] == 'I') and (Feedbackdf.iloc[i][2] == employee_name or Feedbackdf.iloc[i][3] == employee_name):\n"
     ]
    },
    {
     "data": {
      "text/html": [
       "<div>\n",
       "<style scoped>\n",
       "    .dataframe tbody tr th:only-of-type {\n",
       "        vertical-align: middle;\n",
       "    }\n",
       "\n",
       "    .dataframe tbody tr th {\n",
       "        vertical-align: top;\n",
       "    }\n",
       "\n",
       "    .dataframe thead th {\n",
       "        text-align: right;\n",
       "    }\n",
       "</style>\n",
       "<table border=\"1\" class=\"dataframe\">\n",
       "  <thead>\n",
       "    <tr style=\"text-align: right;\">\n",
       "      <th></th>\n",
       "      <th>Positive Feedback</th>\n",
       "      <th>Negative Feedback</th>\n",
       "    </tr>\n",
       "  </thead>\n",
       "  <tbody>\n",
       "  </tbody>\n",
       "</table>\n",
       "</div>"
      ],
      "text/plain": [
       "Empty DataFrame\n",
       "Columns: [Positive Feedback, Negative Feedback]\n",
       "Index: []"
      ]
     },
     "metadata": {},
     "output_type": "display_data"
    },
    {
     "data": {
      "text/markdown": [
       "## AJ Resop's Score: 0/6"
      ]
     },
     "metadata": {},
     "output_type": "display_data"
    },
    {
     "data": {
      "text/markdown": [
       "### ------------------------------------------------------------------------------------------"
      ]
     },
     "metadata": {},
     "output_type": "display_data"
    },
    {
     "name": "stderr",
     "output_type": "stream",
     "text": [
      "C:\\Users\\aidan\\AppData\\Local\\Temp\\ipykernel_27120\\2927901798.py:7: FutureWarning: Series.__getitem__ treating keys as positions is deprecated. In a future version, integer keys will always be treated as labels (consistent with DataFrame behavior). To access a value by position, use `ser.iloc[pos]`\n",
      "  employee_name = racerdf[0]\n"
     ]
    },
    {
     "data": {
      "text/markdown": [
       "## Kenzie Dilworth's Eval:"
      ]
     },
     "metadata": {},
     "output_type": "display_data"
    },
    {
     "name": "stderr",
     "output_type": "stream",
     "text": [
      "C:\\Users\\aidan\\AppData\\Local\\Temp\\ipykernel_27120\\2927901798.py:23: FutureWarning: Series.__getitem__ treating keys as positions is deprecated. In a future version, integer keys will always be treated as labels (consistent with DataFrame behavior). To access a value by position, use `ser.iloc[pos]`\n",
      "  if storedf[employee_name][5] == -1:\n"
     ]
    },
    {
     "data": {
      "text/html": [
       "<style type=\"text/css\">\n",
       "#T_d3d27_row0_col3 {\n",
       "  background-color: #fdc776;\n",
       "  color: #000000;\n",
       "}\n",
       "#T_d3d27_row1_col3 {\n",
       "  background-color: #c5e67e;\n",
       "  color: #000000;\n",
       "}\n",
       "#T_d3d27_row2_col3 {\n",
       "  background-color: #f8fcb6;\n",
       "  color: #000000;\n",
       "}\n",
       "#T_d3d27_row3_col3 {\n",
       "  background-color: #cfeb85;\n",
       "  color: #000000;\n",
       "}\n",
       "#T_d3d27_row4_col3 {\n",
       "  background-color: #b9e176;\n",
       "  color: #000000;\n",
       "}\n",
       "#T_d3d27_row5_col3 {\n",
       "  background-color: #69be63;\n",
       "  color: #f1f1f1;\n",
       "}\n",
       "</style>\n",
       "<table id=\"T_d3d27\">\n",
       "  <thead>\n",
       "    <tr>\n",
       "      <th class=\"blank level0\" >&nbsp;</th>\n",
       "      <th id=\"T_d3d27_level0_col0\" class=\"col_heading level0 col0\" >Benchmarks</th>\n",
       "      <th id=\"T_d3d27_level0_col1\" class=\"col_heading level0 col1\" >Store</th>\n",
       "      <th id=\"T_d3d27_level0_col2\" class=\"col_heading level0 col2\" >Pass</th>\n",
       "      <th id=\"T_d3d27_level0_col3\" class=\"col_heading level0 col3\" >ZScore</th>\n",
       "      <th id=\"T_d3d27_level0_col4\" class=\"col_heading level0 col4\" >Kenzie Dilworth</th>\n",
       "    </tr>\n",
       "  </thead>\n",
       "  <tbody>\n",
       "    <tr>\n",
       "      <th id=\"T_d3d27_level0_row0\" class=\"row_heading level0 row0\" >Avg. Hrs Worked</th>\n",
       "      <td id=\"T_d3d27_row0_col0\" class=\"data row0 col0\" >12.00</td>\n",
       "      <td id=\"T_d3d27_row0_col1\" class=\"data row0 col1\" >12.08</td>\n",
       "      <td id=\"T_d3d27_row0_col2\" class=\"data row0 col2\" >N</td>\n",
       "      <td id=\"T_d3d27_row0_col3\" class=\"data row0 col3\" >-0.75</td>\n",
       "      <td id=\"T_d3d27_row0_col4\" class=\"data row0 col4\" >7.44</td>\n",
       "    </tr>\n",
       "    <tr>\n",
       "      <th id=\"T_d3d27_level0_row1\" class=\"row_heading level0 row1\" >Avg. Delivery Time</th>\n",
       "      <td id=\"T_d3d27_row1_col0\" class=\"data row1 col0\" >10.00</td>\n",
       "      <td id=\"T_d3d27_row1_col1\" class=\"data row1 col1\" >10.82</td>\n",
       "      <td id=\"T_d3d27_row1_col2\" class=\"data row1 col2\" >Y</td>\n",
       "      <td id=\"T_d3d27_row1_col3\" class=\"data row1 col3\" >-0.69</td>\n",
       "      <td id=\"T_d3d27_row1_col4\" class=\"data row1 col4\" >9.30</td>\n",
       "    </tr>\n",
       "    <tr>\n",
       "      <th id=\"T_d3d27_level0_row2\" class=\"row_heading level0 row2\" >Avg. Out the Door</th>\n",
       "      <td id=\"T_d3d27_row2_col0\" class=\"data row2 col0\" >4.00</td>\n",
       "      <td id=\"T_d3d27_row2_col1\" class=\"data row2 col1\" >4.70</td>\n",
       "      <td id=\"T_d3d27_row2_col2\" class=\"data row2 col2\" >N</td>\n",
       "      <td id=\"T_d3d27_row2_col3\" class=\"data row2 col3\" >-0.09</td>\n",
       "      <td id=\"T_d3d27_row2_col4\" class=\"data row2 col4\" >4.59</td>\n",
       "    </tr>\n",
       "    <tr>\n",
       "      <th id=\"T_d3d27_level0_row3\" class=\"row_heading level0 row3\" >ORH</th>\n",
       "      <td id=\"T_d3d27_row3_col0\" class=\"data row3 col0\" >9.00</td>\n",
       "      <td id=\"T_d3d27_row3_col1\" class=\"data row3 col1\" >4.36</td>\n",
       "      <td id=\"T_d3d27_row3_col2\" class=\"data row3 col2\" >N</td>\n",
       "      <td id=\"T_d3d27_row3_col3\" class=\"data row3 col3\" >0.60</td>\n",
       "      <td id=\"T_d3d27_row3_col4\" class=\"data row3 col4\" >5.38</td>\n",
       "    </tr>\n",
       "    <tr>\n",
       "      <th id=\"T_d3d27_level0_row4\" class=\"row_heading level0 row4\" >Late %</th>\n",
       "      <td id=\"T_d3d27_row4_col0\" class=\"data row4 col0\" >0.10</td>\n",
       "      <td id=\"T_d3d27_row4_col1\" class=\"data row4 col1\" >0.06</td>\n",
       "      <td id=\"T_d3d27_row4_col2\" class=\"data row4 col2\" >Y</td>\n",
       "      <td id=\"T_d3d27_row4_col3\" class=\"data row4 col3\" >-0.81</td>\n",
       "      <td id=\"T_d3d27_row4_col4\" class=\"data row4 col4\" >0.00</td>\n",
       "    </tr>\n",
       "    <tr>\n",
       "      <th id=\"T_d3d27_level0_row5\" class=\"row_heading level0 row5\" >False Pos %</th>\n",
       "      <td id=\"T_d3d27_row5_col0\" class=\"data row5 col0\" >0.01</td>\n",
       "      <td id=\"T_d3d27_row5_col1\" class=\"data row5 col1\" >0.37</td>\n",
       "      <td id=\"T_d3d27_row5_col2\" class=\"data row5 col2\" >N</td>\n",
       "      <td id=\"T_d3d27_row5_col3\" class=\"data row5 col3\" >-1.48</td>\n",
       "      <td id=\"T_d3d27_row5_col4\" class=\"data row5 col4\" >0.17</td>\n",
       "    </tr>\n",
       "  </tbody>\n",
       "</table>\n"
      ],
      "text/plain": [
       "<pandas.io.formats.style.Styler at 0x1c5a3cd9250>"
      ]
     },
     "metadata": {},
     "output_type": "display_data"
    },
    {
     "data": {
      "text/markdown": [
       "## Feedback:"
      ]
     },
     "metadata": {},
     "output_type": "display_data"
    },
    {
     "name": "stderr",
     "output_type": "stream",
     "text": [
      "C:\\Users\\aidan\\AppData\\Local\\Temp\\ipykernel_27120\\158198044.py:16: FutureWarning: Series.__getitem__ treating keys as positions is deprecated. In a future version, integer keys will always be treated as labels (consistent with DataFrame behavior). To access a value by position, use `ser.iloc[pos]`\n",
      "  if (Feedbackdf.iloc[i][0] == 1) and (Feedbackdf.iloc[i][2] == employee_name) and (Feedbackdf.iloc[i][3] == employee_name):\n",
      "C:\\Users\\aidan\\AppData\\Local\\Temp\\ipykernel_27120\\158198044.py:21: FutureWarning: Series.__getitem__ treating keys as positions is deprecated. In a future version, integer keys will always be treated as labels (consistent with DataFrame behavior). To access a value by position, use `ser.iloc[pos]`\n",
      "  elif (Feedbackdf.iloc[i][0] == 0 or Feedbackdf.iloc[i][0] == -1) and (Feedbackdf.iloc[i][2] == employee_name) and (Feedbackdf.iloc[i][3] == employee_name):\n",
      "C:\\Users\\aidan\\AppData\\Local\\Temp\\ipykernel_27120\\158198044.py:26: FutureWarning: Series.__getitem__ treating keys as positions is deprecated. In a future version, integer keys will always be treated as labels (consistent with DataFrame behavior). To access a value by position, use `ser.iloc[pos]`\n",
      "  elif (Feedbackdf.iloc[i][0] == 1) and (Feedbackdf.iloc[i][2] == employee_name) and (Feedbackdf.iloc[i][4] == 'R'):\n",
      "C:\\Users\\aidan\\AppData\\Local\\Temp\\ipykernel_27120\\158198044.py:31: FutureWarning: Series.__getitem__ treating keys as positions is deprecated. In a future version, integer keys will always be treated as labels (consistent with DataFrame behavior). To access a value by position, use `ser.iloc[pos]`\n",
      "  elif (Feedbackdf.iloc[i][0] == 1) and (Feedbackdf.iloc[i][3] == employee_name) and (Feedbackdf.iloc[i][4] == 'P'):\n",
      "C:\\Users\\aidan\\AppData\\Local\\Temp\\ipykernel_27120\\158198044.py:36: FutureWarning: Series.__getitem__ treating keys as positions is deprecated. In a future version, integer keys will always be treated as labels (consistent with DataFrame behavior). To access a value by position, use `ser.iloc[pos]`\n",
      "  elif (Feedbackdf.iloc[i][0] == 0 or Feedbackdf.iloc[i][0] == -1) and (Feedbackdf.iloc[i][2] == employee_name) and (Feedbackdf.iloc[i][4] == 'R'):\n",
      "C:\\Users\\aidan\\AppData\\Local\\Temp\\ipykernel_27120\\158198044.py:41: FutureWarning: Series.__getitem__ treating keys as positions is deprecated. In a future version, integer keys will always be treated as labels (consistent with DataFrame behavior). To access a value by position, use `ser.iloc[pos]`\n",
      "  elif (Feedbackdf.iloc[i][0] == 0 or Feedbackdf.iloc[i][0] == -1) and (Feedbackdf.iloc[i][3] == employee_name) and (Feedbackdf.iloc[i][4] == 'P'):\n",
      "C:\\Users\\aidan\\AppData\\Local\\Temp\\ipykernel_27120\\158198044.py:46: FutureWarning: Series.__getitem__ treating keys as positions is deprecated. In a future version, integer keys will always be treated as labels (consistent with DataFrame behavior). To access a value by position, use `ser.iloc[pos]`\n",
      "  elif (Feedbackdf.iloc[i][0] == 1) and (Feedbackdf.iloc[i][4] == 'I') and (Feedbackdf.iloc[i][2] == employee_name or Feedbackdf.iloc[i][3] == employee_name):\n",
      "C:\\Users\\aidan\\AppData\\Local\\Temp\\ipykernel_27120\\158198044.py:51: FutureWarning: Series.__getitem__ treating keys as positions is deprecated. In a future version, integer keys will always be treated as labels (consistent with DataFrame behavior). To access a value by position, use `ser.iloc[pos]`\n",
      "  elif (Feedbackdf.iloc[i][0] == 0 or Feedbackdf.iloc[i][0] == -1) and (Feedbackdf.iloc[i][4] == 'I') and (Feedbackdf.iloc[i][2] == employee_name or Feedbackdf.iloc[i][3] == employee_name):\n"
     ]
    },
    {
     "data": {
      "text/html": [
       "<div>\n",
       "<style scoped>\n",
       "    .dataframe tbody tr th:only-of-type {\n",
       "        vertical-align: middle;\n",
       "    }\n",
       "\n",
       "    .dataframe tbody tr th {\n",
       "        vertical-align: top;\n",
       "    }\n",
       "\n",
       "    .dataframe thead th {\n",
       "        text-align: right;\n",
       "    }\n",
       "</style>\n",
       "<table border=\"1\" class=\"dataframe\">\n",
       "  <thead>\n",
       "    <tr style=\"text-align: right;\">\n",
       "      <th></th>\n",
       "      <th>Positive Feedback</th>\n",
       "      <th>Negative Feedback</th>\n",
       "    </tr>\n",
       "  </thead>\n",
       "  <tbody>\n",
       "  </tbody>\n",
       "</table>\n",
       "</div>"
      ],
      "text/plain": [
       "Empty DataFrame\n",
       "Columns: [Positive Feedback, Negative Feedback]\n",
       "Index: []"
      ]
     },
     "metadata": {},
     "output_type": "display_data"
    },
    {
     "data": {
      "text/markdown": [
       "## Kenzie Dilworth's Score: 2/6"
      ]
     },
     "metadata": {},
     "output_type": "display_data"
    },
    {
     "data": {
      "text/markdown": [
       "### ------------------------------------------------------------------------------------------"
      ]
     },
     "metadata": {},
     "output_type": "display_data"
    },
    {
     "name": "stderr",
     "output_type": "stream",
     "text": [
      "C:\\Users\\aidan\\AppData\\Local\\Temp\\ipykernel_27120\\2927901798.py:7: FutureWarning: Series.__getitem__ treating keys as positions is deprecated. In a future version, integer keys will always be treated as labels (consistent with DataFrame behavior). To access a value by position, use `ser.iloc[pos]`\n",
      "  employee_name = racerdf[0]\n"
     ]
    },
    {
     "data": {
      "text/markdown": [
       "## Ian Davison's Eval:"
      ]
     },
     "metadata": {},
     "output_type": "display_data"
    },
    {
     "name": "stderr",
     "output_type": "stream",
     "text": [
      "C:\\Users\\aidan\\AppData\\Local\\Temp\\ipykernel_27120\\2927901798.py:23: FutureWarning: Series.__getitem__ treating keys as positions is deprecated. In a future version, integer keys will always be treated as labels (consistent with DataFrame behavior). To access a value by position, use `ser.iloc[pos]`\n",
      "  if storedf[employee_name][5] == -1:\n"
     ]
    },
    {
     "data": {
      "text/html": [
       "<style type=\"text/css\">\n",
       "#T_c3ee8_row0_col3, #T_c3ee8_row5_col3 {\n",
       "  background-color: #fdb365;\n",
       "  color: #000000;\n",
       "}\n",
       "#T_c3ee8_row1_col3 {\n",
       "  background-color: #fff1a8;\n",
       "  color: #000000;\n",
       "}\n",
       "#T_c3ee8_row2_col3 {\n",
       "  background-color: #e3f399;\n",
       "  color: #000000;\n",
       "}\n",
       "#T_c3ee8_row3_col3 {\n",
       "  background-color: #87cb67;\n",
       "  color: #000000;\n",
       "}\n",
       "#T_c3ee8_row4_col3 {\n",
       "  background-color: #fff2aa;\n",
       "  color: #000000;\n",
       "}\n",
       "</style>\n",
       "<table id=\"T_c3ee8\">\n",
       "  <thead>\n",
       "    <tr>\n",
       "      <th class=\"blank level0\" >&nbsp;</th>\n",
       "      <th id=\"T_c3ee8_level0_col0\" class=\"col_heading level0 col0\" >Benchmarks</th>\n",
       "      <th id=\"T_c3ee8_level0_col1\" class=\"col_heading level0 col1\" >Store</th>\n",
       "      <th id=\"T_c3ee8_level0_col2\" class=\"col_heading level0 col2\" >Pass</th>\n",
       "      <th id=\"T_c3ee8_level0_col3\" class=\"col_heading level0 col3\" >ZScore</th>\n",
       "      <th id=\"T_c3ee8_level0_col4\" class=\"col_heading level0 col4\" >Ian Davison</th>\n",
       "    </tr>\n",
       "  </thead>\n",
       "  <tbody>\n",
       "    <tr>\n",
       "      <th id=\"T_c3ee8_level0_row0\" class=\"row_heading level0 row0\" >Avg. Hrs Worked</th>\n",
       "      <td id=\"T_c3ee8_row0_col0\" class=\"data row0 col0\" >12.00</td>\n",
       "      <td id=\"T_c3ee8_row0_col1\" class=\"data row0 col1\" >12.08</td>\n",
       "      <td id=\"T_c3ee8_row0_col2\" class=\"data row0 col2\" >N</td>\n",
       "      <td id=\"T_c3ee8_row0_col3\" class=\"data row0 col3\" >-0.95</td>\n",
       "      <td id=\"T_c3ee8_row0_col4\" class=\"data row0 col4\" >6.19</td>\n",
       "    </tr>\n",
       "    <tr>\n",
       "      <th id=\"T_c3ee8_level0_row1\" class=\"row_heading level0 row1\" >Avg. Delivery Time</th>\n",
       "      <td id=\"T_c3ee8_row1_col0\" class=\"data row1 col0\" >10.00</td>\n",
       "      <td id=\"T_c3ee8_row1_col1\" class=\"data row1 col1\" >10.82</td>\n",
       "      <td id=\"T_c3ee8_row1_col2\" class=\"data row1 col2\" >N</td>\n",
       "      <td id=\"T_c3ee8_row1_col3\" class=\"data row1 col3\" >0.22</td>\n",
       "      <td id=\"T_c3ee8_row1_col4\" class=\"data row1 col4\" >11.30</td>\n",
       "    </tr>\n",
       "    <tr>\n",
       "      <th id=\"T_c3ee8_level0_row2\" class=\"row_heading level0 row2\" >Avg. Out the Door</th>\n",
       "      <td id=\"T_c3ee8_row2_col0\" class=\"data row2 col0\" >4.00</td>\n",
       "      <td id=\"T_c3ee8_row2_col1\" class=\"data row2 col1\" >4.70</td>\n",
       "      <td id=\"T_c3ee8_row2_col2\" class=\"data row2 col2\" >N</td>\n",
       "      <td id=\"T_c3ee8_row2_col3\" class=\"data row2 col3\" >-0.36</td>\n",
       "      <td id=\"T_c3ee8_row2_col4\" class=\"data row2 col4\" >4.25</td>\n",
       "    </tr>\n",
       "    <tr>\n",
       "      <th id=\"T_c3ee8_level0_row3\" class=\"row_heading level0 row3\" >ORH</th>\n",
       "      <td id=\"T_c3ee8_row3_col0\" class=\"data row3 col0\" >9.00</td>\n",
       "      <td id=\"T_c3ee8_row3_col1\" class=\"data row3 col1\" >4.36</td>\n",
       "      <td id=\"T_c3ee8_row3_col2\" class=\"data row3 col2\" >N</td>\n",
       "      <td id=\"T_c3ee8_row3_col3\" class=\"data row3 col3\" >1.24</td>\n",
       "      <td id=\"T_c3ee8_row3_col4\" class=\"data row3 col4\" >6.46</td>\n",
       "    </tr>\n",
       "    <tr>\n",
       "      <th id=\"T_c3ee8_level0_row4\" class=\"row_heading level0 row4\" >Late %</th>\n",
       "      <td id=\"T_c3ee8_row4_col0\" class=\"data row4 col0\" >0.10</td>\n",
       "      <td id=\"T_c3ee8_row4_col1\" class=\"data row4 col1\" >0.06</td>\n",
       "      <td id=\"T_c3ee8_row4_col2\" class=\"data row4 col2\" >Y</td>\n",
       "      <td id=\"T_c3ee8_row4_col3\" class=\"data row4 col3\" >0.20</td>\n",
       "      <td id=\"T_c3ee8_row4_col4\" class=\"data row4 col4\" >0.07</td>\n",
       "    </tr>\n",
       "    <tr>\n",
       "      <th id=\"T_c3ee8_level0_row5\" class=\"row_heading level0 row5\" >False Pos %</th>\n",
       "      <td id=\"T_c3ee8_row5_col0\" class=\"data row5 col0\" >0.01</td>\n",
       "      <td id=\"T_c3ee8_row5_col1\" class=\"data row5 col1\" >0.37</td>\n",
       "      <td id=\"T_c3ee8_row5_col2\" class=\"data row5 col2\" >N</td>\n",
       "      <td id=\"T_c3ee8_row5_col3\" class=\"data row5 col3\" >0.95</td>\n",
       "      <td id=\"T_c3ee8_row5_col4\" class=\"data row5 col4\" >0.50</td>\n",
       "    </tr>\n",
       "  </tbody>\n",
       "</table>\n"
      ],
      "text/plain": [
       "<pandas.io.formats.style.Styler at 0x1c5a3cd9250>"
      ]
     },
     "metadata": {},
     "output_type": "display_data"
    },
    {
     "data": {
      "text/markdown": [
       "## Feedback:"
      ]
     },
     "metadata": {},
     "output_type": "display_data"
    },
    {
     "name": "stderr",
     "output_type": "stream",
     "text": [
      "C:\\Users\\aidan\\AppData\\Local\\Temp\\ipykernel_27120\\158198044.py:16: FutureWarning: Series.__getitem__ treating keys as positions is deprecated. In a future version, integer keys will always be treated as labels (consistent with DataFrame behavior). To access a value by position, use `ser.iloc[pos]`\n",
      "  if (Feedbackdf.iloc[i][0] == 1) and (Feedbackdf.iloc[i][2] == employee_name) and (Feedbackdf.iloc[i][3] == employee_name):\n",
      "C:\\Users\\aidan\\AppData\\Local\\Temp\\ipykernel_27120\\158198044.py:21: FutureWarning: Series.__getitem__ treating keys as positions is deprecated. In a future version, integer keys will always be treated as labels (consistent with DataFrame behavior). To access a value by position, use `ser.iloc[pos]`\n",
      "  elif (Feedbackdf.iloc[i][0] == 0 or Feedbackdf.iloc[i][0] == -1) and (Feedbackdf.iloc[i][2] == employee_name) and (Feedbackdf.iloc[i][3] == employee_name):\n",
      "C:\\Users\\aidan\\AppData\\Local\\Temp\\ipykernel_27120\\158198044.py:26: FutureWarning: Series.__getitem__ treating keys as positions is deprecated. In a future version, integer keys will always be treated as labels (consistent with DataFrame behavior). To access a value by position, use `ser.iloc[pos]`\n",
      "  elif (Feedbackdf.iloc[i][0] == 1) and (Feedbackdf.iloc[i][2] == employee_name) and (Feedbackdf.iloc[i][4] == 'R'):\n",
      "C:\\Users\\aidan\\AppData\\Local\\Temp\\ipykernel_27120\\158198044.py:31: FutureWarning: Series.__getitem__ treating keys as positions is deprecated. In a future version, integer keys will always be treated as labels (consistent with DataFrame behavior). To access a value by position, use `ser.iloc[pos]`\n",
      "  elif (Feedbackdf.iloc[i][0] == 1) and (Feedbackdf.iloc[i][3] == employee_name) and (Feedbackdf.iloc[i][4] == 'P'):\n",
      "C:\\Users\\aidan\\AppData\\Local\\Temp\\ipykernel_27120\\158198044.py:36: FutureWarning: Series.__getitem__ treating keys as positions is deprecated. In a future version, integer keys will always be treated as labels (consistent with DataFrame behavior). To access a value by position, use `ser.iloc[pos]`\n",
      "  elif (Feedbackdf.iloc[i][0] == 0 or Feedbackdf.iloc[i][0] == -1) and (Feedbackdf.iloc[i][2] == employee_name) and (Feedbackdf.iloc[i][4] == 'R'):\n",
      "C:\\Users\\aidan\\AppData\\Local\\Temp\\ipykernel_27120\\158198044.py:41: FutureWarning: Series.__getitem__ treating keys as positions is deprecated. In a future version, integer keys will always be treated as labels (consistent with DataFrame behavior). To access a value by position, use `ser.iloc[pos]`\n",
      "  elif (Feedbackdf.iloc[i][0] == 0 or Feedbackdf.iloc[i][0] == -1) and (Feedbackdf.iloc[i][3] == employee_name) and (Feedbackdf.iloc[i][4] == 'P'):\n",
      "C:\\Users\\aidan\\AppData\\Local\\Temp\\ipykernel_27120\\158198044.py:46: FutureWarning: Series.__getitem__ treating keys as positions is deprecated. In a future version, integer keys will always be treated as labels (consistent with DataFrame behavior). To access a value by position, use `ser.iloc[pos]`\n",
      "  elif (Feedbackdf.iloc[i][0] == 1) and (Feedbackdf.iloc[i][4] == 'I') and (Feedbackdf.iloc[i][2] == employee_name or Feedbackdf.iloc[i][3] == employee_name):\n",
      "C:\\Users\\aidan\\AppData\\Local\\Temp\\ipykernel_27120\\158198044.py:51: FutureWarning: Series.__getitem__ treating keys as positions is deprecated. In a future version, integer keys will always be treated as labels (consistent with DataFrame behavior). To access a value by position, use `ser.iloc[pos]`\n",
      "  elif (Feedbackdf.iloc[i][0] == 0 or Feedbackdf.iloc[i][0] == -1) and (Feedbackdf.iloc[i][4] == 'I') and (Feedbackdf.iloc[i][2] == employee_name or Feedbackdf.iloc[i][3] == employee_name):\n"
     ]
    },
    {
     "data": {
      "text/html": [
       "<div>\n",
       "<style scoped>\n",
       "    .dataframe tbody tr th:only-of-type {\n",
       "        vertical-align: middle;\n",
       "    }\n",
       "\n",
       "    .dataframe tbody tr th {\n",
       "        vertical-align: top;\n",
       "    }\n",
       "\n",
       "    .dataframe thead th {\n",
       "        text-align: right;\n",
       "    }\n",
       "</style>\n",
       "<table border=\"1\" class=\"dataframe\">\n",
       "  <thead>\n",
       "    <tr style=\"text-align: right;\">\n",
       "      <th></th>\n",
       "      <th>Positive Feedback</th>\n",
       "      <th>Negative Feedback</th>\n",
       "    </tr>\n",
       "  </thead>\n",
       "  <tbody>\n",
       "  </tbody>\n",
       "</table>\n",
       "</div>"
      ],
      "text/plain": [
       "Empty DataFrame\n",
       "Columns: [Positive Feedback, Negative Feedback]\n",
       "Index: []"
      ]
     },
     "metadata": {},
     "output_type": "display_data"
    },
    {
     "data": {
      "text/markdown": [
       "## Ian Davison's Score: 1/6"
      ]
     },
     "metadata": {},
     "output_type": "display_data"
    },
    {
     "data": {
      "text/markdown": [
       "### ------------------------------------------------------------------------------------------"
      ]
     },
     "metadata": {},
     "output_type": "display_data"
    },
    {
     "name": "stderr",
     "output_type": "stream",
     "text": [
      "C:\\Users\\aidan\\AppData\\Local\\Temp\\ipykernel_27120\\2927901798.py:7: FutureWarning: Series.__getitem__ treating keys as positions is deprecated. In a future version, integer keys will always be treated as labels (consistent with DataFrame behavior). To access a value by position, use `ser.iloc[pos]`\n",
      "  employee_name = racerdf[0]\n"
     ]
    },
    {
     "data": {
      "text/markdown": [
       "## Mario Petrella's Eval:"
      ]
     },
     "metadata": {},
     "output_type": "display_data"
    },
    {
     "name": "stderr",
     "output_type": "stream",
     "text": [
      "C:\\Users\\aidan\\AppData\\Local\\Temp\\ipykernel_27120\\2927901798.py:23: FutureWarning: Series.__getitem__ treating keys as positions is deprecated. In a future version, integer keys will always be treated as labels (consistent with DataFrame behavior). To access a value by position, use `ser.iloc[pos]`\n",
      "  if storedf[employee_name][5] == -1:\n"
     ]
    },
    {
     "data": {
      "text/html": [
       "<style type=\"text/css\">\n",
       "#T_2f6ed_row0_col3 {\n",
       "  background-color: #feec9f;\n",
       "  color: #000000;\n",
       "}\n",
       "#T_2f6ed_row1_col3 {\n",
       "  background-color: #a7d96b;\n",
       "  color: #000000;\n",
       "}\n",
       "#T_2f6ed_row2_col3 {\n",
       "  background-color: #93d168;\n",
       "  color: #000000;\n",
       "}\n",
       "#T_2f6ed_row3_col3 {\n",
       "  background-color: #fee999;\n",
       "  color: #000000;\n",
       "}\n",
       "#T_2f6ed_row4_col3 {\n",
       "  background-color: #dcf08f;\n",
       "  color: #000000;\n",
       "}\n",
       "#T_2f6ed_row5_col3 {\n",
       "  background-color: #f8fcb6;\n",
       "  color: #000000;\n",
       "}\n",
       "</style>\n",
       "<table id=\"T_2f6ed\">\n",
       "  <thead>\n",
       "    <tr>\n",
       "      <th class=\"blank level0\" >&nbsp;</th>\n",
       "      <th id=\"T_2f6ed_level0_col0\" class=\"col_heading level0 col0\" >Benchmarks</th>\n",
       "      <th id=\"T_2f6ed_level0_col1\" class=\"col_heading level0 col1\" >Store</th>\n",
       "      <th id=\"T_2f6ed_level0_col2\" class=\"col_heading level0 col2\" >Pass</th>\n",
       "      <th id=\"T_2f6ed_level0_col3\" class=\"col_heading level0 col3\" >ZScore</th>\n",
       "      <th id=\"T_2f6ed_level0_col4\" class=\"col_heading level0 col4\" >Mario Petrella</th>\n",
       "    </tr>\n",
       "  </thead>\n",
       "  <tbody>\n",
       "    <tr>\n",
       "      <th id=\"T_2f6ed_level0_row0\" class=\"row_heading level0 row0\" >Avg. Hrs Worked</th>\n",
       "      <td id=\"T_2f6ed_row0_col0\" class=\"data row0 col0\" >12.00</td>\n",
       "      <td id=\"T_2f6ed_row0_col1\" class=\"data row0 col1\" >12.08</td>\n",
       "      <td id=\"T_2f6ed_row0_col2\" class=\"data row0 col2\" >N</td>\n",
       "      <td id=\"T_2f6ed_row0_col3\" class=\"data row0 col3\" >-0.31</td>\n",
       "      <td id=\"T_2f6ed_row0_col4\" class=\"data row0 col4\" >10.16</td>\n",
       "    </tr>\n",
       "    <tr>\n",
       "      <th id=\"T_2f6ed_level0_row1\" class=\"row_heading level0 row1\" >Avg. Delivery Time</th>\n",
       "      <td id=\"T_2f6ed_row1_col0\" class=\"data row1 col0\" >10.00</td>\n",
       "      <td id=\"T_2f6ed_row1_col1\" class=\"data row1 col1\" >10.82</td>\n",
       "      <td id=\"T_2f6ed_row1_col2\" class=\"data row1 col2\" >Y</td>\n",
       "      <td id=\"T_2f6ed_row1_col3\" class=\"data row1 col3\" >-0.98</td>\n",
       "      <td id=\"T_2f6ed_row1_col4\" class=\"data row1 col4\" >8.65</td>\n",
       "    </tr>\n",
       "    <tr>\n",
       "      <th id=\"T_2f6ed_level0_row2\" class=\"row_heading level0 row2\" >Avg. Out the Door</th>\n",
       "      <td id=\"T_2f6ed_row2_col0\" class=\"data row2 col0\" >4.00</td>\n",
       "      <td id=\"T_2f6ed_row2_col1\" class=\"data row2 col1\" >4.70</td>\n",
       "      <td id=\"T_2f6ed_row2_col2\" class=\"data row2 col2\" >Y</td>\n",
       "      <td id=\"T_2f6ed_row2_col3\" class=\"data row2 col3\" >-1.15</td>\n",
       "      <td id=\"T_2f6ed_row2_col4\" class=\"data row2 col4\" >3.27</td>\n",
       "    </tr>\n",
       "    <tr>\n",
       "      <th id=\"T_2f6ed_level0_row3\" class=\"row_heading level0 row3\" >ORH</th>\n",
       "      <td id=\"T_2f6ed_row3_col0\" class=\"data row3 col0\" >9.00</td>\n",
       "      <td id=\"T_2f6ed_row3_col1\" class=\"data row3 col1\" >4.36</td>\n",
       "      <td id=\"T_2f6ed_row3_col2\" class=\"data row3 col2\" >N</td>\n",
       "      <td id=\"T_2f6ed_row3_col3\" class=\"data row3 col3\" >-0.37</td>\n",
       "      <td id=\"T_2f6ed_row3_col4\" class=\"data row3 col4\" >3.74</td>\n",
       "    </tr>\n",
       "    <tr>\n",
       "      <th id=\"T_2f6ed_level0_row4\" class=\"row_heading level0 row4\" >Late %</th>\n",
       "      <td id=\"T_2f6ed_row4_col0\" class=\"data row4 col0\" >0.10</td>\n",
       "      <td id=\"T_2f6ed_row4_col1\" class=\"data row4 col1\" >0.06</td>\n",
       "      <td id=\"T_2f6ed_row4_col2\" class=\"data row4 col2\" >Y</td>\n",
       "      <td id=\"T_2f6ed_row4_col3\" class=\"data row4 col3\" >-0.45</td>\n",
       "      <td id=\"T_2f6ed_row4_col4\" class=\"data row4 col4\" >0.03</td>\n",
       "    </tr>\n",
       "    <tr>\n",
       "      <th id=\"T_2f6ed_level0_row5\" class=\"row_heading level0 row5\" >False Pos %</th>\n",
       "      <td id=\"T_2f6ed_row5_col0\" class=\"data row5 col0\" >0.01</td>\n",
       "      <td id=\"T_2f6ed_row5_col1\" class=\"data row5 col1\" >0.37</td>\n",
       "      <td id=\"T_2f6ed_row5_col2\" class=\"data row5 col2\" >N</td>\n",
       "      <td id=\"T_2f6ed_row5_col3\" class=\"data row5 col3\" >-0.09</td>\n",
       "      <td id=\"T_2f6ed_row5_col4\" class=\"data row5 col4\" >0.36</td>\n",
       "    </tr>\n",
       "  </tbody>\n",
       "</table>\n"
      ],
      "text/plain": [
       "<pandas.io.formats.style.Styler at 0x1c5a3cd9250>"
      ]
     },
     "metadata": {},
     "output_type": "display_data"
    },
    {
     "data": {
      "text/markdown": [
       "## Feedback:"
      ]
     },
     "metadata": {},
     "output_type": "display_data"
    },
    {
     "name": "stderr",
     "output_type": "stream",
     "text": [
      "C:\\Users\\aidan\\AppData\\Local\\Temp\\ipykernel_27120\\158198044.py:16: FutureWarning: Series.__getitem__ treating keys as positions is deprecated. In a future version, integer keys will always be treated as labels (consistent with DataFrame behavior). To access a value by position, use `ser.iloc[pos]`\n",
      "  if (Feedbackdf.iloc[i][0] == 1) and (Feedbackdf.iloc[i][2] == employee_name) and (Feedbackdf.iloc[i][3] == employee_name):\n",
      "C:\\Users\\aidan\\AppData\\Local\\Temp\\ipykernel_27120\\158198044.py:21: FutureWarning: Series.__getitem__ treating keys as positions is deprecated. In a future version, integer keys will always be treated as labels (consistent with DataFrame behavior). To access a value by position, use `ser.iloc[pos]`\n",
      "  elif (Feedbackdf.iloc[i][0] == 0 or Feedbackdf.iloc[i][0] == -1) and (Feedbackdf.iloc[i][2] == employee_name) and (Feedbackdf.iloc[i][3] == employee_name):\n",
      "C:\\Users\\aidan\\AppData\\Local\\Temp\\ipykernel_27120\\158198044.py:26: FutureWarning: Series.__getitem__ treating keys as positions is deprecated. In a future version, integer keys will always be treated as labels (consistent with DataFrame behavior). To access a value by position, use `ser.iloc[pos]`\n",
      "  elif (Feedbackdf.iloc[i][0] == 1) and (Feedbackdf.iloc[i][2] == employee_name) and (Feedbackdf.iloc[i][4] == 'R'):\n",
      "C:\\Users\\aidan\\AppData\\Local\\Temp\\ipykernel_27120\\158198044.py:31: FutureWarning: Series.__getitem__ treating keys as positions is deprecated. In a future version, integer keys will always be treated as labels (consistent with DataFrame behavior). To access a value by position, use `ser.iloc[pos]`\n",
      "  elif (Feedbackdf.iloc[i][0] == 1) and (Feedbackdf.iloc[i][3] == employee_name) and (Feedbackdf.iloc[i][4] == 'P'):\n",
      "C:\\Users\\aidan\\AppData\\Local\\Temp\\ipykernel_27120\\158198044.py:36: FutureWarning: Series.__getitem__ treating keys as positions is deprecated. In a future version, integer keys will always be treated as labels (consistent with DataFrame behavior). To access a value by position, use `ser.iloc[pos]`\n",
      "  elif (Feedbackdf.iloc[i][0] == 0 or Feedbackdf.iloc[i][0] == -1) and (Feedbackdf.iloc[i][2] == employee_name) and (Feedbackdf.iloc[i][4] == 'R'):\n",
      "C:\\Users\\aidan\\AppData\\Local\\Temp\\ipykernel_27120\\158198044.py:41: FutureWarning: Series.__getitem__ treating keys as positions is deprecated. In a future version, integer keys will always be treated as labels (consistent with DataFrame behavior). To access a value by position, use `ser.iloc[pos]`\n",
      "  elif (Feedbackdf.iloc[i][0] == 0 or Feedbackdf.iloc[i][0] == -1) and (Feedbackdf.iloc[i][3] == employee_name) and (Feedbackdf.iloc[i][4] == 'P'):\n",
      "C:\\Users\\aidan\\AppData\\Local\\Temp\\ipykernel_27120\\158198044.py:46: FutureWarning: Series.__getitem__ treating keys as positions is deprecated. In a future version, integer keys will always be treated as labels (consistent with DataFrame behavior). To access a value by position, use `ser.iloc[pos]`\n",
      "  elif (Feedbackdf.iloc[i][0] == 1) and (Feedbackdf.iloc[i][4] == 'I') and (Feedbackdf.iloc[i][2] == employee_name or Feedbackdf.iloc[i][3] == employee_name):\n",
      "C:\\Users\\aidan\\AppData\\Local\\Temp\\ipykernel_27120\\158198044.py:51: FutureWarning: Series.__getitem__ treating keys as positions is deprecated. In a future version, integer keys will always be treated as labels (consistent with DataFrame behavior). To access a value by position, use `ser.iloc[pos]`\n",
      "  elif (Feedbackdf.iloc[i][0] == 0 or Feedbackdf.iloc[i][0] == -1) and (Feedbackdf.iloc[i][4] == 'I') and (Feedbackdf.iloc[i][2] == employee_name or Feedbackdf.iloc[i][3] == employee_name):\n"
     ]
    },
    {
     "data": {
      "text/html": [
       "<div>\n",
       "<style scoped>\n",
       "    .dataframe tbody tr th:only-of-type {\n",
       "        vertical-align: middle;\n",
       "    }\n",
       "\n",
       "    .dataframe tbody tr th {\n",
       "        vertical-align: top;\n",
       "    }\n",
       "\n",
       "    .dataframe thead th {\n",
       "        text-align: right;\n",
       "    }\n",
       "</style>\n",
       "<table border=\"1\" class=\"dataframe\">\n",
       "  <thead>\n",
       "    <tr style=\"text-align: right;\">\n",
       "      <th></th>\n",
       "      <th>Positive Feedback</th>\n",
       "      <th>Negative Feedback</th>\n",
       "    </tr>\n",
       "  </thead>\n",
       "  <tbody>\n",
       "  </tbody>\n",
       "</table>\n",
       "</div>"
      ],
      "text/plain": [
       "Empty DataFrame\n",
       "Columns: [Positive Feedback, Negative Feedback]\n",
       "Index: []"
      ]
     },
     "metadata": {},
     "output_type": "display_data"
    },
    {
     "data": {
      "text/markdown": [
       "## Mario Petrella's Score: 3/6"
      ]
     },
     "metadata": {},
     "output_type": "display_data"
    },
    {
     "data": {
      "text/markdown": [
       "### ------------------------------------------------------------------------------------------"
      ]
     },
     "metadata": {},
     "output_type": "display_data"
    },
    {
     "name": "stderr",
     "output_type": "stream",
     "text": [
      "C:\\Users\\aidan\\AppData\\Local\\Temp\\ipykernel_27120\\2927901798.py:7: FutureWarning: Series.__getitem__ treating keys as positions is deprecated. In a future version, integer keys will always be treated as labels (consistent with DataFrame behavior). To access a value by position, use `ser.iloc[pos]`\n",
      "  employee_name = racerdf[0]\n"
     ]
    },
    {
     "data": {
      "text/markdown": [
       "## John Flores's Eval:"
      ]
     },
     "metadata": {},
     "output_type": "display_data"
    },
    {
     "name": "stderr",
     "output_type": "stream",
     "text": [
      "C:\\Users\\aidan\\AppData\\Local\\Temp\\ipykernel_27120\\2927901798.py:23: FutureWarning: Series.__getitem__ treating keys as positions is deprecated. In a future version, integer keys will always be treated as labels (consistent with DataFrame behavior). To access a value by position, use `ser.iloc[pos]`\n",
      "  if storedf[employee_name][5] == -1:\n"
     ]
    },
    {
     "data": {
      "text/html": [
       "<style type=\"text/css\">\n",
       "#T_5f2cf_row0_col3 {\n",
       "  background-color: #f2faae;\n",
       "  color: #000000;\n",
       "}\n",
       "#T_5f2cf_row1_col3 {\n",
       "  background-color: #f57245;\n",
       "  color: #f1f1f1;\n",
       "}\n",
       "#T_5f2cf_row2_col3 {\n",
       "  background-color: #fffdbc;\n",
       "  color: #000000;\n",
       "}\n",
       "#T_5f2cf_row3_col3 {\n",
       "  background-color: #fdbb6c;\n",
       "  color: #000000;\n",
       "}\n",
       "#T_5f2cf_row4_col3 {\n",
       "  background-color: #fdb163;\n",
       "  color: #000000;\n",
       "}\n",
       "#T_5f2cf_row5_col3 {\n",
       "  background-color: #ebf7a3;\n",
       "  color: #000000;\n",
       "}\n",
       "</style>\n",
       "<table id=\"T_5f2cf\">\n",
       "  <thead>\n",
       "    <tr>\n",
       "      <th class=\"blank level0\" >&nbsp;</th>\n",
       "      <th id=\"T_5f2cf_level0_col0\" class=\"col_heading level0 col0\" >Benchmarks</th>\n",
       "      <th id=\"T_5f2cf_level0_col1\" class=\"col_heading level0 col1\" >Store</th>\n",
       "      <th id=\"T_5f2cf_level0_col2\" class=\"col_heading level0 col2\" >Pass</th>\n",
       "      <th id=\"T_5f2cf_level0_col3\" class=\"col_heading level0 col3\" >ZScore</th>\n",
       "      <th id=\"T_5f2cf_level0_col4\" class=\"col_heading level0 col4\" >John Flores</th>\n",
       "    </tr>\n",
       "  </thead>\n",
       "  <tbody>\n",
       "    <tr>\n",
       "      <th id=\"T_5f2cf_level0_row0\" class=\"row_heading level0 row0\" >Avg. Hrs Worked</th>\n",
       "      <td id=\"T_5f2cf_row0_col0\" class=\"data row0 col0\" >12.00</td>\n",
       "      <td id=\"T_5f2cf_row0_col1\" class=\"data row0 col1\" >12.08</td>\n",
       "      <td id=\"T_5f2cf_row0_col2\" class=\"data row0 col2\" >Y</td>\n",
       "      <td id=\"T_5f2cf_row0_col3\" class=\"data row0 col3\" >0.16</td>\n",
       "      <td id=\"T_5f2cf_row0_col4\" class=\"data row0 col4\" >13.05</td>\n",
       "    </tr>\n",
       "    <tr>\n",
       "      <th id=\"T_5f2cf_level0_row1\" class=\"row_heading level0 row1\" >Avg. Delivery Time</th>\n",
       "      <td id=\"T_5f2cf_row1_col0\" class=\"data row1 col0\" >10.00</td>\n",
       "      <td id=\"T_5f2cf_row1_col1\" class=\"data row1 col1\" >10.82</td>\n",
       "      <td id=\"T_5f2cf_row1_col2\" class=\"data row1 col2\" >N</td>\n",
       "      <td id=\"T_5f2cf_row1_col3\" class=\"data row1 col3\" >1.46</td>\n",
       "      <td id=\"T_5f2cf_row1_col4\" class=\"data row1 col4\" >14.03</td>\n",
       "    </tr>\n",
       "    <tr>\n",
       "      <th id=\"T_5f2cf_level0_row2\" class=\"row_heading level0 row2\" >Avg. Out the Door</th>\n",
       "      <td id=\"T_5f2cf_row2_col0\" class=\"data row2 col0\" >4.00</td>\n",
       "      <td id=\"T_5f2cf_row2_col1\" class=\"data row2 col1\" >4.70</td>\n",
       "      <td id=\"T_5f2cf_row2_col2\" class=\"data row2 col2\" >N</td>\n",
       "      <td id=\"T_5f2cf_row2_col3\" class=\"data row2 col3\" >0.03</td>\n",
       "      <td id=\"T_5f2cf_row2_col4\" class=\"data row2 col4\" >4.74</td>\n",
       "    </tr>\n",
       "    <tr>\n",
       "      <th id=\"T_5f2cf_level0_row3\" class=\"row_heading level0 row3\" >ORH</th>\n",
       "      <td id=\"T_5f2cf_row3_col0\" class=\"data row3 col0\" >9.00</td>\n",
       "      <td id=\"T_5f2cf_row3_col1\" class=\"data row3 col1\" >4.36</td>\n",
       "      <td id=\"T_5f2cf_row3_col2\" class=\"data row3 col2\" >N</td>\n",
       "      <td id=\"T_5f2cf_row3_col3\" class=\"data row3 col3\" >-0.86</td>\n",
       "      <td id=\"T_5f2cf_row3_col4\" class=\"data row3 col4\" >2.91</td>\n",
       "    </tr>\n",
       "    <tr>\n",
       "      <th id=\"T_5f2cf_level0_row4\" class=\"row_heading level0 row4\" >Late %</th>\n",
       "      <td id=\"T_5f2cf_row4_col0\" class=\"data row4 col0\" >0.10</td>\n",
       "      <td id=\"T_5f2cf_row4_col1\" class=\"data row4 col1\" >0.06</td>\n",
       "      <td id=\"T_5f2cf_row4_col2\" class=\"data row4 col2\" >N</td>\n",
       "      <td id=\"T_5f2cf_row4_col3\" class=\"data row4 col3\" >0.96</td>\n",
       "      <td id=\"T_5f2cf_row4_col4\" class=\"data row4 col4\" >0.13</td>\n",
       "    </tr>\n",
       "    <tr>\n",
       "      <th id=\"T_5f2cf_level0_row5\" class=\"row_heading level0 row5\" >False Pos %</th>\n",
       "      <td id=\"T_5f2cf_row5_col0\" class=\"data row5 col0\" >0.01</td>\n",
       "      <td id=\"T_5f2cf_row5_col1\" class=\"data row5 col1\" >0.37</td>\n",
       "      <td id=\"T_5f2cf_row5_col2\" class=\"data row5 col2\" >N</td>\n",
       "      <td id=\"T_5f2cf_row5_col3\" class=\"data row5 col3\" >-0.27</td>\n",
       "      <td id=\"T_5f2cf_row5_col4\" class=\"data row5 col4\" >0.33</td>\n",
       "    </tr>\n",
       "  </tbody>\n",
       "</table>\n"
      ],
      "text/plain": [
       "<pandas.io.formats.style.Styler at 0x1c5a3cd9250>"
      ]
     },
     "metadata": {},
     "output_type": "display_data"
    },
    {
     "data": {
      "text/markdown": [
       "## Feedback:"
      ]
     },
     "metadata": {},
     "output_type": "display_data"
    },
    {
     "name": "stderr",
     "output_type": "stream",
     "text": [
      "C:\\Users\\aidan\\AppData\\Local\\Temp\\ipykernel_27120\\158198044.py:16: FutureWarning: Series.__getitem__ treating keys as positions is deprecated. In a future version, integer keys will always be treated as labels (consistent with DataFrame behavior). To access a value by position, use `ser.iloc[pos]`\n",
      "  if (Feedbackdf.iloc[i][0] == 1) and (Feedbackdf.iloc[i][2] == employee_name) and (Feedbackdf.iloc[i][3] == employee_name):\n",
      "C:\\Users\\aidan\\AppData\\Local\\Temp\\ipykernel_27120\\158198044.py:21: FutureWarning: Series.__getitem__ treating keys as positions is deprecated. In a future version, integer keys will always be treated as labels (consistent with DataFrame behavior). To access a value by position, use `ser.iloc[pos]`\n",
      "  elif (Feedbackdf.iloc[i][0] == 0 or Feedbackdf.iloc[i][0] == -1) and (Feedbackdf.iloc[i][2] == employee_name) and (Feedbackdf.iloc[i][3] == employee_name):\n",
      "C:\\Users\\aidan\\AppData\\Local\\Temp\\ipykernel_27120\\158198044.py:26: FutureWarning: Series.__getitem__ treating keys as positions is deprecated. In a future version, integer keys will always be treated as labels (consistent with DataFrame behavior). To access a value by position, use `ser.iloc[pos]`\n",
      "  elif (Feedbackdf.iloc[i][0] == 1) and (Feedbackdf.iloc[i][2] == employee_name) and (Feedbackdf.iloc[i][4] == 'R'):\n",
      "C:\\Users\\aidan\\AppData\\Local\\Temp\\ipykernel_27120\\158198044.py:31: FutureWarning: Series.__getitem__ treating keys as positions is deprecated. In a future version, integer keys will always be treated as labels (consistent with DataFrame behavior). To access a value by position, use `ser.iloc[pos]`\n",
      "  elif (Feedbackdf.iloc[i][0] == 1) and (Feedbackdf.iloc[i][3] == employee_name) and (Feedbackdf.iloc[i][4] == 'P'):\n",
      "C:\\Users\\aidan\\AppData\\Local\\Temp\\ipykernel_27120\\158198044.py:36: FutureWarning: Series.__getitem__ treating keys as positions is deprecated. In a future version, integer keys will always be treated as labels (consistent with DataFrame behavior). To access a value by position, use `ser.iloc[pos]`\n",
      "  elif (Feedbackdf.iloc[i][0] == 0 or Feedbackdf.iloc[i][0] == -1) and (Feedbackdf.iloc[i][2] == employee_name) and (Feedbackdf.iloc[i][4] == 'R'):\n",
      "C:\\Users\\aidan\\AppData\\Local\\Temp\\ipykernel_27120\\158198044.py:41: FutureWarning: Series.__getitem__ treating keys as positions is deprecated. In a future version, integer keys will always be treated as labels (consistent with DataFrame behavior). To access a value by position, use `ser.iloc[pos]`\n",
      "  elif (Feedbackdf.iloc[i][0] == 0 or Feedbackdf.iloc[i][0] == -1) and (Feedbackdf.iloc[i][3] == employee_name) and (Feedbackdf.iloc[i][4] == 'P'):\n",
      "C:\\Users\\aidan\\AppData\\Local\\Temp\\ipykernel_27120\\158198044.py:46: FutureWarning: Series.__getitem__ treating keys as positions is deprecated. In a future version, integer keys will always be treated as labels (consistent with DataFrame behavior). To access a value by position, use `ser.iloc[pos]`\n",
      "  elif (Feedbackdf.iloc[i][0] == 1) and (Feedbackdf.iloc[i][4] == 'I') and (Feedbackdf.iloc[i][2] == employee_name or Feedbackdf.iloc[i][3] == employee_name):\n",
      "C:\\Users\\aidan\\AppData\\Local\\Temp\\ipykernel_27120\\158198044.py:51: FutureWarning: Series.__getitem__ treating keys as positions is deprecated. In a future version, integer keys will always be treated as labels (consistent with DataFrame behavior). To access a value by position, use `ser.iloc[pos]`\n",
      "  elif (Feedbackdf.iloc[i][0] == 0 or Feedbackdf.iloc[i][0] == -1) and (Feedbackdf.iloc[i][4] == 'I') and (Feedbackdf.iloc[i][2] == employee_name or Feedbackdf.iloc[i][3] == employee_name):\n"
     ]
    },
    {
     "data": {
      "text/html": [
       "<div>\n",
       "<style scoped>\n",
       "    .dataframe tbody tr th:only-of-type {\n",
       "        vertical-align: middle;\n",
       "    }\n",
       "\n",
       "    .dataframe tbody tr th {\n",
       "        vertical-align: top;\n",
       "    }\n",
       "\n",
       "    .dataframe thead th {\n",
       "        text-align: right;\n",
       "    }\n",
       "</style>\n",
       "<table border=\"1\" class=\"dataframe\">\n",
       "  <thead>\n",
       "    <tr style=\"text-align: right;\">\n",
       "      <th></th>\n",
       "      <th>Positive Feedback</th>\n",
       "      <th>Negative Feedback</th>\n",
       "    </tr>\n",
       "  </thead>\n",
       "  <tbody>\n",
       "  </tbody>\n",
       "</table>\n",
       "</div>"
      ],
      "text/plain": [
       "Empty DataFrame\n",
       "Columns: [Positive Feedback, Negative Feedback]\n",
       "Index: []"
      ]
     },
     "metadata": {},
     "output_type": "display_data"
    },
    {
     "data": {
      "text/markdown": [
       "## John Flores's Score: 1/6"
      ]
     },
     "metadata": {},
     "output_type": "display_data"
    },
    {
     "data": {
      "text/markdown": [
       "### ------------------------------------------------------------------------------------------"
      ]
     },
     "metadata": {},
     "output_type": "display_data"
    },
    {
     "name": "stderr",
     "output_type": "stream",
     "text": [
      "C:\\Users\\aidan\\AppData\\Local\\Temp\\ipykernel_27120\\2927901798.py:7: FutureWarning: Series.__getitem__ treating keys as positions is deprecated. In a future version, integer keys will always be treated as labels (consistent with DataFrame behavior). To access a value by position, use `ser.iloc[pos]`\n",
      "  employee_name = racerdf[0]\n"
     ]
    },
    {
     "data": {
      "text/markdown": [
       "## Mason Henkels's Eval:"
      ]
     },
     "metadata": {},
     "output_type": "display_data"
    },
    {
     "name": "stderr",
     "output_type": "stream",
     "text": [
      "C:\\Users\\aidan\\AppData\\Local\\Temp\\ipykernel_27120\\2927901798.py:23: FutureWarning: Series.__getitem__ treating keys as positions is deprecated. In a future version, integer keys will always be treated as labels (consistent with DataFrame behavior). To access a value by position, use `ser.iloc[pos]`\n",
      "  if storedf[employee_name][5] == -1:\n"
     ]
    },
    {
     "data": {
      "text/html": [
       "<style type=\"text/css\">\n",
       "#T_1ea5d_row0_col3 {\n",
       "  background-color: #feca79;\n",
       "  color: #000000;\n",
       "}\n",
       "#T_1ea5d_row1_col3, #T_1ea5d_row4_col3 {\n",
       "  background-color: #b9e176;\n",
       "  color: #000000;\n",
       "}\n",
       "#T_1ea5d_row2_col3 {\n",
       "  background-color: #fffdbc;\n",
       "  color: #000000;\n",
       "}\n",
       "#T_1ea5d_row3_col3 {\n",
       "  background-color: #f5fbb2;\n",
       "  color: #000000;\n",
       "}\n",
       "#T_1ea5d_row5_col3 {\n",
       "  background-color: #c41e27;\n",
       "  color: #f1f1f1;\n",
       "}\n",
       "</style>\n",
       "<table id=\"T_1ea5d\">\n",
       "  <thead>\n",
       "    <tr>\n",
       "      <th class=\"blank level0\" >&nbsp;</th>\n",
       "      <th id=\"T_1ea5d_level0_col0\" class=\"col_heading level0 col0\" >Benchmarks</th>\n",
       "      <th id=\"T_1ea5d_level0_col1\" class=\"col_heading level0 col1\" >Store</th>\n",
       "      <th id=\"T_1ea5d_level0_col2\" class=\"col_heading level0 col2\" >Pass</th>\n",
       "      <th id=\"T_1ea5d_level0_col3\" class=\"col_heading level0 col3\" >ZScore</th>\n",
       "      <th id=\"T_1ea5d_level0_col4\" class=\"col_heading level0 col4\" >Mason Henkels</th>\n",
       "    </tr>\n",
       "  </thead>\n",
       "  <tbody>\n",
       "    <tr>\n",
       "      <th id=\"T_1ea5d_level0_row0\" class=\"row_heading level0 row0\" >Avg. Hrs Worked</th>\n",
       "      <td id=\"T_1ea5d_row0_col0\" class=\"data row0 col0\" >12.00</td>\n",
       "      <td id=\"T_1ea5d_row0_col1\" class=\"data row0 col1\" >12.08</td>\n",
       "      <td id=\"T_1ea5d_row0_col2\" class=\"data row0 col2\" >N</td>\n",
       "      <td id=\"T_1ea5d_row0_col3\" class=\"data row0 col3\" >-0.71</td>\n",
       "      <td id=\"T_1ea5d_row0_col4\" class=\"data row0 col4\" >7.68</td>\n",
       "    </tr>\n",
       "    <tr>\n",
       "      <th id=\"T_1ea5d_level0_row1\" class=\"row_heading level0 row1\" >Avg. Delivery Time</th>\n",
       "      <td id=\"T_1ea5d_row1_col0\" class=\"data row1 col0\" >10.00</td>\n",
       "      <td id=\"T_1ea5d_row1_col1\" class=\"data row1 col1\" >10.82</td>\n",
       "      <td id=\"T_1ea5d_row1_col2\" class=\"data row1 col2\" >Y</td>\n",
       "      <td id=\"T_1ea5d_row1_col3\" class=\"data row1 col3\" >-0.81</td>\n",
       "      <td id=\"T_1ea5d_row1_col4\" class=\"data row1 col4\" >9.04</td>\n",
       "    </tr>\n",
       "    <tr>\n",
       "      <th id=\"T_1ea5d_level0_row2\" class=\"row_heading level0 row2\" >Avg. Out the Door</th>\n",
       "      <td id=\"T_1ea5d_row2_col0\" class=\"data row2 col0\" >4.00</td>\n",
       "      <td id=\"T_1ea5d_row2_col1\" class=\"data row2 col1\" >4.70</td>\n",
       "      <td id=\"T_1ea5d_row2_col2\" class=\"data row2 col2\" >N</td>\n",
       "      <td id=\"T_1ea5d_row2_col3\" class=\"data row2 col3\" >0.02</td>\n",
       "      <td id=\"T_1ea5d_row2_col4\" class=\"data row2 col4\" >4.72</td>\n",
       "    </tr>\n",
       "    <tr>\n",
       "      <th id=\"T_1ea5d_level0_row3\" class=\"row_heading level0 row3\" >ORH</th>\n",
       "      <td id=\"T_1ea5d_row3_col0\" class=\"data row3 col0\" >9.00</td>\n",
       "      <td id=\"T_1ea5d_row3_col1\" class=\"data row3 col1\" >4.36</td>\n",
       "      <td id=\"T_1ea5d_row3_col2\" class=\"data row3 col2\" >N</td>\n",
       "      <td id=\"T_1ea5d_row3_col3\" class=\"data row3 col3\" >0.12</td>\n",
       "      <td id=\"T_1ea5d_row3_col4\" class=\"data row3 col4\" >4.56</td>\n",
       "    </tr>\n",
       "    <tr>\n",
       "      <th id=\"T_1ea5d_level0_row4\" class=\"row_heading level0 row4\" >Late %</th>\n",
       "      <td id=\"T_1ea5d_row4_col0\" class=\"data row4 col0\" >0.10</td>\n",
       "      <td id=\"T_1ea5d_row4_col1\" class=\"data row4 col1\" >0.06</td>\n",
       "      <td id=\"T_1ea5d_row4_col2\" class=\"data row4 col2\" >Y</td>\n",
       "      <td id=\"T_1ea5d_row4_col3\" class=\"data row4 col3\" >-0.81</td>\n",
       "      <td id=\"T_1ea5d_row4_col4\" class=\"data row4 col4\" >0.00</td>\n",
       "    </tr>\n",
       "    <tr>\n",
       "      <th id=\"T_1ea5d_level0_row5\" class=\"row_heading level0 row5\" >False Pos %</th>\n",
       "      <td id=\"T_1ea5d_row5_col0\" class=\"data row5 col0\" >0.01</td>\n",
       "      <td id=\"T_1ea5d_row5_col1\" class=\"data row5 col1\" >0.37</td>\n",
       "      <td id=\"T_1ea5d_row5_col2\" class=\"data row5 col2\" >N</td>\n",
       "      <td id=\"T_1ea5d_row5_col3\" class=\"data row5 col3\" >2.17</td>\n",
       "      <td id=\"T_1ea5d_row5_col4\" class=\"data row5 col4\" >0.67</td>\n",
       "    </tr>\n",
       "  </tbody>\n",
       "</table>\n"
      ],
      "text/plain": [
       "<pandas.io.formats.style.Styler at 0x1c5a3cd9250>"
      ]
     },
     "metadata": {},
     "output_type": "display_data"
    },
    {
     "data": {
      "text/markdown": [
       "## Feedback:"
      ]
     },
     "metadata": {},
     "output_type": "display_data"
    },
    {
     "name": "stderr",
     "output_type": "stream",
     "text": [
      "C:\\Users\\aidan\\AppData\\Local\\Temp\\ipykernel_27120\\158198044.py:16: FutureWarning: Series.__getitem__ treating keys as positions is deprecated. In a future version, integer keys will always be treated as labels (consistent with DataFrame behavior). To access a value by position, use `ser.iloc[pos]`\n",
      "  if (Feedbackdf.iloc[i][0] == 1) and (Feedbackdf.iloc[i][2] == employee_name) and (Feedbackdf.iloc[i][3] == employee_name):\n",
      "C:\\Users\\aidan\\AppData\\Local\\Temp\\ipykernel_27120\\158198044.py:21: FutureWarning: Series.__getitem__ treating keys as positions is deprecated. In a future version, integer keys will always be treated as labels (consistent with DataFrame behavior). To access a value by position, use `ser.iloc[pos]`\n",
      "  elif (Feedbackdf.iloc[i][0] == 0 or Feedbackdf.iloc[i][0] == -1) and (Feedbackdf.iloc[i][2] == employee_name) and (Feedbackdf.iloc[i][3] == employee_name):\n",
      "C:\\Users\\aidan\\AppData\\Local\\Temp\\ipykernel_27120\\158198044.py:26: FutureWarning: Series.__getitem__ treating keys as positions is deprecated. In a future version, integer keys will always be treated as labels (consistent with DataFrame behavior). To access a value by position, use `ser.iloc[pos]`\n",
      "  elif (Feedbackdf.iloc[i][0] == 1) and (Feedbackdf.iloc[i][2] == employee_name) and (Feedbackdf.iloc[i][4] == 'R'):\n",
      "C:\\Users\\aidan\\AppData\\Local\\Temp\\ipykernel_27120\\158198044.py:31: FutureWarning: Series.__getitem__ treating keys as positions is deprecated. In a future version, integer keys will always be treated as labels (consistent with DataFrame behavior). To access a value by position, use `ser.iloc[pos]`\n",
      "  elif (Feedbackdf.iloc[i][0] == 1) and (Feedbackdf.iloc[i][3] == employee_name) and (Feedbackdf.iloc[i][4] == 'P'):\n",
      "C:\\Users\\aidan\\AppData\\Local\\Temp\\ipykernel_27120\\158198044.py:36: FutureWarning: Series.__getitem__ treating keys as positions is deprecated. In a future version, integer keys will always be treated as labels (consistent with DataFrame behavior). To access a value by position, use `ser.iloc[pos]`\n",
      "  elif (Feedbackdf.iloc[i][0] == 0 or Feedbackdf.iloc[i][0] == -1) and (Feedbackdf.iloc[i][2] == employee_name) and (Feedbackdf.iloc[i][4] == 'R'):\n",
      "C:\\Users\\aidan\\AppData\\Local\\Temp\\ipykernel_27120\\158198044.py:41: FutureWarning: Series.__getitem__ treating keys as positions is deprecated. In a future version, integer keys will always be treated as labels (consistent with DataFrame behavior). To access a value by position, use `ser.iloc[pos]`\n",
      "  elif (Feedbackdf.iloc[i][0] == 0 or Feedbackdf.iloc[i][0] == -1) and (Feedbackdf.iloc[i][3] == employee_name) and (Feedbackdf.iloc[i][4] == 'P'):\n",
      "C:\\Users\\aidan\\AppData\\Local\\Temp\\ipykernel_27120\\158198044.py:46: FutureWarning: Series.__getitem__ treating keys as positions is deprecated. In a future version, integer keys will always be treated as labels (consistent with DataFrame behavior). To access a value by position, use `ser.iloc[pos]`\n",
      "  elif (Feedbackdf.iloc[i][0] == 1) and (Feedbackdf.iloc[i][4] == 'I') and (Feedbackdf.iloc[i][2] == employee_name or Feedbackdf.iloc[i][3] == employee_name):\n",
      "C:\\Users\\aidan\\AppData\\Local\\Temp\\ipykernel_27120\\158198044.py:51: FutureWarning: Series.__getitem__ treating keys as positions is deprecated. In a future version, integer keys will always be treated as labels (consistent with DataFrame behavior). To access a value by position, use `ser.iloc[pos]`\n",
      "  elif (Feedbackdf.iloc[i][0] == 0 or Feedbackdf.iloc[i][0] == -1) and (Feedbackdf.iloc[i][4] == 'I') and (Feedbackdf.iloc[i][2] == employee_name or Feedbackdf.iloc[i][3] == employee_name):\n"
     ]
    },
    {
     "data": {
      "text/html": [
       "<div>\n",
       "<style scoped>\n",
       "    .dataframe tbody tr th:only-of-type {\n",
       "        vertical-align: middle;\n",
       "    }\n",
       "\n",
       "    .dataframe tbody tr th {\n",
       "        vertical-align: top;\n",
       "    }\n",
       "\n",
       "    .dataframe thead th {\n",
       "        text-align: right;\n",
       "    }\n",
       "</style>\n",
       "<table border=\"1\" class=\"dataframe\">\n",
       "  <thead>\n",
       "    <tr style=\"text-align: right;\">\n",
       "      <th></th>\n",
       "      <th>Positive Feedback</th>\n",
       "      <th>Negative Feedback</th>\n",
       "    </tr>\n",
       "  </thead>\n",
       "  <tbody>\n",
       "  </tbody>\n",
       "</table>\n",
       "</div>"
      ],
      "text/plain": [
       "Empty DataFrame\n",
       "Columns: [Positive Feedback, Negative Feedback]\n",
       "Index: []"
      ]
     },
     "metadata": {},
     "output_type": "display_data"
    },
    {
     "data": {
      "text/markdown": [
       "## Mason Henkels's Score: 2/6"
      ]
     },
     "metadata": {},
     "output_type": "display_data"
    },
    {
     "data": {
      "text/markdown": [
       "### ------------------------------------------------------------------------------------------"
      ]
     },
     "metadata": {},
     "output_type": "display_data"
    },
    {
     "name": "stderr",
     "output_type": "stream",
     "text": [
      "C:\\Users\\aidan\\AppData\\Local\\Temp\\ipykernel_27120\\2927901798.py:7: FutureWarning: Series.__getitem__ treating keys as positions is deprecated. In a future version, integer keys will always be treated as labels (consistent with DataFrame behavior). To access a value by position, use `ser.iloc[pos]`\n",
      "  employee_name = racerdf[0]\n"
     ]
    },
    {
     "data": {
      "text/markdown": [
       "## John George's Eval:"
      ]
     },
     "metadata": {},
     "output_type": "display_data"
    },
    {
     "name": "stderr",
     "output_type": "stream",
     "text": [
      "C:\\Users\\aidan\\AppData\\Local\\Temp\\ipykernel_27120\\2927901798.py:23: FutureWarning: Series.__getitem__ treating keys as positions is deprecated. In a future version, integer keys will always be treated as labels (consistent with DataFrame behavior). To access a value by position, use `ser.iloc[pos]`\n",
      "  if storedf[employee_name][5] == -1:\n"
     ]
    },
    {
     "data": {
      "text/html": [
       "<style type=\"text/css\">\n",
       "#T_87c98_row0_col3 {\n",
       "  background-color: #fbfdba;\n",
       "  color: #000000;\n",
       "}\n",
       "#T_87c98_row1_col3 {\n",
       "  background-color: #c9e881;\n",
       "  color: #000000;\n",
       "}\n",
       "#T_87c98_row2_col3 {\n",
       "  background-color: #f8fcb6;\n",
       "  color: #000000;\n",
       "}\n",
       "#T_87c98_row3_col3 {\n",
       "  background-color: #fba05b;\n",
       "  color: #000000;\n",
       "}\n",
       "#T_87c98_row4_col3 {\n",
       "  background-color: #b9e176;\n",
       "  color: #000000;\n",
       "}\n",
       "#T_87c98_row5_col3 {\n",
       "  background-color: #f88950;\n",
       "  color: #f1f1f1;\n",
       "}\n",
       "</style>\n",
       "<table id=\"T_87c98\">\n",
       "  <thead>\n",
       "    <tr>\n",
       "      <th class=\"blank level0\" >&nbsp;</th>\n",
       "      <th id=\"T_87c98_level0_col0\" class=\"col_heading level0 col0\" >Benchmarks</th>\n",
       "      <th id=\"T_87c98_level0_col1\" class=\"col_heading level0 col1\" >Store</th>\n",
       "      <th id=\"T_87c98_level0_col2\" class=\"col_heading level0 col2\" >Pass</th>\n",
       "      <th id=\"T_87c98_level0_col3\" class=\"col_heading level0 col3\" >ZScore</th>\n",
       "      <th id=\"T_87c98_level0_col4\" class=\"col_heading level0 col4\" >John George</th>\n",
       "    </tr>\n",
       "  </thead>\n",
       "  <tbody>\n",
       "    <tr>\n",
       "      <th id=\"T_87c98_level0_row0\" class=\"row_heading level0 row0\" >Avg. Hrs Worked</th>\n",
       "      <td id=\"T_87c98_row0_col0\" class=\"data row0 col0\" >12.00</td>\n",
       "      <td id=\"T_87c98_row0_col1\" class=\"data row0 col1\" >12.08</td>\n",
       "      <td id=\"T_87c98_row0_col2\" class=\"data row0 col2\" >Y</td>\n",
       "      <td id=\"T_87c98_row0_col3\" class=\"data row0 col3\" >0.05</td>\n",
       "      <td id=\"T_87c98_row0_col4\" class=\"data row0 col4\" >12.38</td>\n",
       "    </tr>\n",
       "    <tr>\n",
       "      <th id=\"T_87c98_level0_row1\" class=\"row_heading level0 row1\" >Avg. Delivery Time</th>\n",
       "      <td id=\"T_87c98_row1_col0\" class=\"data row1 col0\" >10.00</td>\n",
       "      <td id=\"T_87c98_row1_col1\" class=\"data row1 col1\" >10.82</td>\n",
       "      <td id=\"T_87c98_row1_col2\" class=\"data row1 col2\" >Y</td>\n",
       "      <td id=\"T_87c98_row1_col3\" class=\"data row1 col3\" >-0.66</td>\n",
       "      <td id=\"T_87c98_row1_col4\" class=\"data row1 col4\" >9.37</td>\n",
       "    </tr>\n",
       "    <tr>\n",
       "      <th id=\"T_87c98_level0_row2\" class=\"row_heading level0 row2\" >Avg. Out the Door</th>\n",
       "      <td id=\"T_87c98_row2_col0\" class=\"data row2 col0\" >4.00</td>\n",
       "      <td id=\"T_87c98_row2_col1\" class=\"data row2 col1\" >4.70</td>\n",
       "      <td id=\"T_87c98_row2_col2\" class=\"data row2 col2\" >N</td>\n",
       "      <td id=\"T_87c98_row2_col3\" class=\"data row2 col3\" >-0.09</td>\n",
       "      <td id=\"T_87c98_row2_col4\" class=\"data row2 col4\" >4.59</td>\n",
       "    </tr>\n",
       "    <tr>\n",
       "      <th id=\"T_87c98_level0_row3\" class=\"row_heading level0 row3\" >ORH</th>\n",
       "      <td id=\"T_87c98_row3_col0\" class=\"data row3 col0\" >9.00</td>\n",
       "      <td id=\"T_87c98_row3_col1\" class=\"data row3 col1\" >4.36</td>\n",
       "      <td id=\"T_87c98_row3_col2\" class=\"data row3 col2\" >N</td>\n",
       "      <td id=\"T_87c98_row3_col3\" class=\"data row3 col3\" >-1.10</td>\n",
       "      <td id=\"T_87c98_row3_col4\" class=\"data row3 col4\" >2.50</td>\n",
       "    </tr>\n",
       "    <tr>\n",
       "      <th id=\"T_87c98_level0_row4\" class=\"row_heading level0 row4\" >Late %</th>\n",
       "      <td id=\"T_87c98_row4_col0\" class=\"data row4 col0\" >0.10</td>\n",
       "      <td id=\"T_87c98_row4_col1\" class=\"data row4 col1\" >0.06</td>\n",
       "      <td id=\"T_87c98_row4_col2\" class=\"data row4 col2\" >Y</td>\n",
       "      <td id=\"T_87c98_row4_col3\" class=\"data row4 col3\" >-0.81</td>\n",
       "      <td id=\"T_87c98_row4_col4\" class=\"data row4 col4\" >0.00</td>\n",
       "    </tr>\n",
       "    <tr>\n",
       "      <th id=\"T_87c98_level0_row5\" class=\"row_heading level0 row5\" >False Pos %</th>\n",
       "      <td id=\"T_87c98_row5_col0\" class=\"data row5 col0\" >0.01</td>\n",
       "      <td id=\"T_87c98_row5_col1\" class=\"data row5 col1\" >0.37</td>\n",
       "      <td id=\"T_87c98_row5_col2\" class=\"data row5 col2\" >N</td>\n",
       "      <td id=\"T_87c98_row5_col3\" class=\"data row5 col3\" >1.28</td>\n",
       "      <td id=\"T_87c98_row5_col4\" class=\"data row5 col4\" >0.55</td>\n",
       "    </tr>\n",
       "  </tbody>\n",
       "</table>\n"
      ],
      "text/plain": [
       "<pandas.io.formats.style.Styler at 0x1c5a3cd9250>"
      ]
     },
     "metadata": {},
     "output_type": "display_data"
    },
    {
     "data": {
      "text/markdown": [
       "## Feedback:"
      ]
     },
     "metadata": {},
     "output_type": "display_data"
    },
    {
     "name": "stderr",
     "output_type": "stream",
     "text": [
      "C:\\Users\\aidan\\AppData\\Local\\Temp\\ipykernel_27120\\158198044.py:16: FutureWarning: Series.__getitem__ treating keys as positions is deprecated. In a future version, integer keys will always be treated as labels (consistent with DataFrame behavior). To access a value by position, use `ser.iloc[pos]`\n",
      "  if (Feedbackdf.iloc[i][0] == 1) and (Feedbackdf.iloc[i][2] == employee_name) and (Feedbackdf.iloc[i][3] == employee_name):\n",
      "C:\\Users\\aidan\\AppData\\Local\\Temp\\ipykernel_27120\\158198044.py:21: FutureWarning: Series.__getitem__ treating keys as positions is deprecated. In a future version, integer keys will always be treated as labels (consistent with DataFrame behavior). To access a value by position, use `ser.iloc[pos]`\n",
      "  elif (Feedbackdf.iloc[i][0] == 0 or Feedbackdf.iloc[i][0] == -1) and (Feedbackdf.iloc[i][2] == employee_name) and (Feedbackdf.iloc[i][3] == employee_name):\n",
      "C:\\Users\\aidan\\AppData\\Local\\Temp\\ipykernel_27120\\158198044.py:26: FutureWarning: Series.__getitem__ treating keys as positions is deprecated. In a future version, integer keys will always be treated as labels (consistent with DataFrame behavior). To access a value by position, use `ser.iloc[pos]`\n",
      "  elif (Feedbackdf.iloc[i][0] == 1) and (Feedbackdf.iloc[i][2] == employee_name) and (Feedbackdf.iloc[i][4] == 'R'):\n",
      "C:\\Users\\aidan\\AppData\\Local\\Temp\\ipykernel_27120\\158198044.py:31: FutureWarning: Series.__getitem__ treating keys as positions is deprecated. In a future version, integer keys will always be treated as labels (consistent with DataFrame behavior). To access a value by position, use `ser.iloc[pos]`\n",
      "  elif (Feedbackdf.iloc[i][0] == 1) and (Feedbackdf.iloc[i][3] == employee_name) and (Feedbackdf.iloc[i][4] == 'P'):\n",
      "C:\\Users\\aidan\\AppData\\Local\\Temp\\ipykernel_27120\\158198044.py:36: FutureWarning: Series.__getitem__ treating keys as positions is deprecated. In a future version, integer keys will always be treated as labels (consistent with DataFrame behavior). To access a value by position, use `ser.iloc[pos]`\n",
      "  elif (Feedbackdf.iloc[i][0] == 0 or Feedbackdf.iloc[i][0] == -1) and (Feedbackdf.iloc[i][2] == employee_name) and (Feedbackdf.iloc[i][4] == 'R'):\n",
      "C:\\Users\\aidan\\AppData\\Local\\Temp\\ipykernel_27120\\158198044.py:41: FutureWarning: Series.__getitem__ treating keys as positions is deprecated. In a future version, integer keys will always be treated as labels (consistent with DataFrame behavior). To access a value by position, use `ser.iloc[pos]`\n",
      "  elif (Feedbackdf.iloc[i][0] == 0 or Feedbackdf.iloc[i][0] == -1) and (Feedbackdf.iloc[i][3] == employee_name) and (Feedbackdf.iloc[i][4] == 'P'):\n",
      "C:\\Users\\aidan\\AppData\\Local\\Temp\\ipykernel_27120\\158198044.py:46: FutureWarning: Series.__getitem__ treating keys as positions is deprecated. In a future version, integer keys will always be treated as labels (consistent with DataFrame behavior). To access a value by position, use `ser.iloc[pos]`\n",
      "  elif (Feedbackdf.iloc[i][0] == 1) and (Feedbackdf.iloc[i][4] == 'I') and (Feedbackdf.iloc[i][2] == employee_name or Feedbackdf.iloc[i][3] == employee_name):\n",
      "C:\\Users\\aidan\\AppData\\Local\\Temp\\ipykernel_27120\\158198044.py:51: FutureWarning: Series.__getitem__ treating keys as positions is deprecated. In a future version, integer keys will always be treated as labels (consistent with DataFrame behavior). To access a value by position, use `ser.iloc[pos]`\n",
      "  elif (Feedbackdf.iloc[i][0] == 0 or Feedbackdf.iloc[i][0] == -1) and (Feedbackdf.iloc[i][4] == 'I') and (Feedbackdf.iloc[i][2] == employee_name or Feedbackdf.iloc[i][3] == employee_name):\n"
     ]
    },
    {
     "data": {
      "text/html": [
       "<div>\n",
       "<style scoped>\n",
       "    .dataframe tbody tr th:only-of-type {\n",
       "        vertical-align: middle;\n",
       "    }\n",
       "\n",
       "    .dataframe tbody tr th {\n",
       "        vertical-align: top;\n",
       "    }\n",
       "\n",
       "    .dataframe thead th {\n",
       "        text-align: right;\n",
       "    }\n",
       "</style>\n",
       "<table border=\"1\" class=\"dataframe\">\n",
       "  <thead>\n",
       "    <tr style=\"text-align: right;\">\n",
       "      <th></th>\n",
       "      <th>Positive Feedback</th>\n",
       "      <th>Negative Feedback</th>\n",
       "    </tr>\n",
       "  </thead>\n",
       "  <tbody>\n",
       "  </tbody>\n",
       "</table>\n",
       "</div>"
      ],
      "text/plain": [
       "Empty DataFrame\n",
       "Columns: [Positive Feedback, Negative Feedback]\n",
       "Index: []"
      ]
     },
     "metadata": {},
     "output_type": "display_data"
    },
    {
     "data": {
      "text/markdown": [
       "## John George's Score: 3/6"
      ]
     },
     "metadata": {},
     "output_type": "display_data"
    },
    {
     "data": {
      "text/markdown": [
       "### ------------------------------------------------------------------------------------------"
      ]
     },
     "metadata": {},
     "output_type": "display_data"
    },
    {
     "name": "stderr",
     "output_type": "stream",
     "text": [
      "C:\\Users\\aidan\\AppData\\Local\\Temp\\ipykernel_27120\\2927901798.py:7: FutureWarning: Series.__getitem__ treating keys as positions is deprecated. In a future version, integer keys will always be treated as labels (consistent with DataFrame behavior). To access a value by position, use `ser.iloc[pos]`\n",
      "  employee_name = racerdf[0]\n"
     ]
    },
    {
     "data": {
      "text/markdown": [
       "## Jackson Schutter's Eval:"
      ]
     },
     "metadata": {},
     "output_type": "display_data"
    },
    {
     "name": "stderr",
     "output_type": "stream",
     "text": [
      "C:\\Users\\aidan\\AppData\\Local\\Temp\\ipykernel_27120\\2927901798.py:23: FutureWarning: Series.__getitem__ treating keys as positions is deprecated. In a future version, integer keys will always be treated as labels (consistent with DataFrame behavior). To access a value by position, use `ser.iloc[pos]`\n",
      "  if storedf[employee_name][5] == -1:\n"
     ]
    },
    {
     "data": {
      "text/html": [
       "<style type=\"text/css\">\n",
       "#T_585ec_row0_col3 {\n",
       "  background-color: #fdc372;\n",
       "  color: #000000;\n",
       "}\n",
       "#T_585ec_row1_col3 {\n",
       "  background-color: #dcf08f;\n",
       "  color: #000000;\n",
       "}\n",
       "#T_585ec_row2_col3 {\n",
       "  background-color: #abdb6d;\n",
       "  color: #000000;\n",
       "}\n",
       "#T_585ec_row3_col3 {\n",
       "  background-color: #fffab6;\n",
       "  color: #000000;\n",
       "}\n",
       "#T_585ec_row4_col3 {\n",
       "  background-color: #b9e176;\n",
       "  color: #000000;\n",
       "}\n",
       "#T_585ec_row5_col3 {\n",
       "  background-color: #de402e;\n",
       "  color: #f1f1f1;\n",
       "}\n",
       "</style>\n",
       "<table id=\"T_585ec\">\n",
       "  <thead>\n",
       "    <tr>\n",
       "      <th class=\"blank level0\" >&nbsp;</th>\n",
       "      <th id=\"T_585ec_level0_col0\" class=\"col_heading level0 col0\" >Benchmarks</th>\n",
       "      <th id=\"T_585ec_level0_col1\" class=\"col_heading level0 col1\" >Store</th>\n",
       "      <th id=\"T_585ec_level0_col2\" class=\"col_heading level0 col2\" >Pass</th>\n",
       "      <th id=\"T_585ec_level0_col3\" class=\"col_heading level0 col3\" >ZScore</th>\n",
       "      <th id=\"T_585ec_level0_col4\" class=\"col_heading level0 col4\" >Jackson Schutter</th>\n",
       "    </tr>\n",
       "  </thead>\n",
       "  <tbody>\n",
       "    <tr>\n",
       "      <th id=\"T_585ec_level0_row0\" class=\"row_heading level0 row0\" >Avg. Hrs Worked</th>\n",
       "      <td id=\"T_585ec_row0_col0\" class=\"data row0 col0\" >12.00</td>\n",
       "      <td id=\"T_585ec_row0_col1\" class=\"data row0 col1\" >12.08</td>\n",
       "      <td id=\"T_585ec_row0_col2\" class=\"data row0 col2\" >N</td>\n",
       "      <td id=\"T_585ec_row0_col3\" class=\"data row0 col3\" >-0.80</td>\n",
       "      <td id=\"T_585ec_row0_col4\" class=\"data row0 col4\" >7.10</td>\n",
       "    </tr>\n",
       "    <tr>\n",
       "      <th id=\"T_585ec_level0_row1\" class=\"row_heading level0 row1\" >Avg. Delivery Time</th>\n",
       "      <td id=\"T_585ec_row1_col0\" class=\"data row1 col0\" >10.00</td>\n",
       "      <td id=\"T_585ec_row1_col1\" class=\"data row1 col1\" >10.82</td>\n",
       "      <td id=\"T_585ec_row1_col2\" class=\"data row1 col2\" >Y</td>\n",
       "      <td id=\"T_585ec_row1_col3\" class=\"data row1 col3\" >-0.45</td>\n",
       "      <td id=\"T_585ec_row1_col4\" class=\"data row1 col4\" >9.82</td>\n",
       "    </tr>\n",
       "    <tr>\n",
       "      <th id=\"T_585ec_level0_row2\" class=\"row_heading level0 row2\" >Avg. Out the Door</th>\n",
       "      <td id=\"T_585ec_row2_col0\" class=\"data row2 col0\" >4.00</td>\n",
       "      <td id=\"T_585ec_row2_col1\" class=\"data row2 col1\" >4.70</td>\n",
       "      <td id=\"T_585ec_row2_col2\" class=\"data row2 col2\" >Y</td>\n",
       "      <td id=\"T_585ec_row2_col3\" class=\"data row2 col3\" >-0.95</td>\n",
       "      <td id=\"T_585ec_row2_col4\" class=\"data row2 col4\" >3.52</td>\n",
       "    </tr>\n",
       "    <tr>\n",
       "      <th id=\"T_585ec_level0_row3\" class=\"row_heading level0 row3\" >ORH</th>\n",
       "      <td id=\"T_585ec_row3_col0\" class=\"data row3 col0\" >9.00</td>\n",
       "      <td id=\"T_585ec_row3_col1\" class=\"data row3 col1\" >4.36</td>\n",
       "      <td id=\"T_585ec_row3_col2\" class=\"data row3 col2\" >N</td>\n",
       "      <td id=\"T_585ec_row3_col3\" class=\"data row3 col3\" >-0.08</td>\n",
       "      <td id=\"T_585ec_row3_col4\" class=\"data row3 col4\" >4.23</td>\n",
       "    </tr>\n",
       "    <tr>\n",
       "      <th id=\"T_585ec_level0_row4\" class=\"row_heading level0 row4\" >Late %</th>\n",
       "      <td id=\"T_585ec_row4_col0\" class=\"data row4 col0\" >0.10</td>\n",
       "      <td id=\"T_585ec_row4_col1\" class=\"data row4 col1\" >0.06</td>\n",
       "      <td id=\"T_585ec_row4_col2\" class=\"data row4 col2\" >Y</td>\n",
       "      <td id=\"T_585ec_row4_col3\" class=\"data row4 col3\" >-0.81</td>\n",
       "      <td id=\"T_585ec_row4_col4\" class=\"data row4 col4\" >0.00</td>\n",
       "    </tr>\n",
       "    <tr>\n",
       "      <th id=\"T_585ec_level0_row5\" class=\"row_heading level0 row5\" >False Pos %</th>\n",
       "      <td id=\"T_585ec_row5_col0\" class=\"data row5 col0\" >0.01</td>\n",
       "      <td id=\"T_585ec_row5_col1\" class=\"data row5 col1\" >0.37</td>\n",
       "      <td id=\"T_585ec_row5_col2\" class=\"data row5 col2\" >N</td>\n",
       "      <td id=\"T_585ec_row5_col3\" class=\"data row5 col3\" >1.86</td>\n",
       "      <td id=\"T_585ec_row5_col4\" class=\"data row5 col4\" >0.62</td>\n",
       "    </tr>\n",
       "  </tbody>\n",
       "</table>\n"
      ],
      "text/plain": [
       "<pandas.io.formats.style.Styler at 0x1c5a3cd9250>"
      ]
     },
     "metadata": {},
     "output_type": "display_data"
    },
    {
     "data": {
      "text/markdown": [
       "## Feedback:"
      ]
     },
     "metadata": {},
     "output_type": "display_data"
    },
    {
     "name": "stderr",
     "output_type": "stream",
     "text": [
      "C:\\Users\\aidan\\AppData\\Local\\Temp\\ipykernel_27120\\158198044.py:16: FutureWarning: Series.__getitem__ treating keys as positions is deprecated. In a future version, integer keys will always be treated as labels (consistent with DataFrame behavior). To access a value by position, use `ser.iloc[pos]`\n",
      "  if (Feedbackdf.iloc[i][0] == 1) and (Feedbackdf.iloc[i][2] == employee_name) and (Feedbackdf.iloc[i][3] == employee_name):\n",
      "C:\\Users\\aidan\\AppData\\Local\\Temp\\ipykernel_27120\\158198044.py:21: FutureWarning: Series.__getitem__ treating keys as positions is deprecated. In a future version, integer keys will always be treated as labels (consistent with DataFrame behavior). To access a value by position, use `ser.iloc[pos]`\n",
      "  elif (Feedbackdf.iloc[i][0] == 0 or Feedbackdf.iloc[i][0] == -1) and (Feedbackdf.iloc[i][2] == employee_name) and (Feedbackdf.iloc[i][3] == employee_name):\n",
      "C:\\Users\\aidan\\AppData\\Local\\Temp\\ipykernel_27120\\158198044.py:26: FutureWarning: Series.__getitem__ treating keys as positions is deprecated. In a future version, integer keys will always be treated as labels (consistent with DataFrame behavior). To access a value by position, use `ser.iloc[pos]`\n",
      "  elif (Feedbackdf.iloc[i][0] == 1) and (Feedbackdf.iloc[i][2] == employee_name) and (Feedbackdf.iloc[i][4] == 'R'):\n",
      "C:\\Users\\aidan\\AppData\\Local\\Temp\\ipykernel_27120\\158198044.py:31: FutureWarning: Series.__getitem__ treating keys as positions is deprecated. In a future version, integer keys will always be treated as labels (consistent with DataFrame behavior). To access a value by position, use `ser.iloc[pos]`\n",
      "  elif (Feedbackdf.iloc[i][0] == 1) and (Feedbackdf.iloc[i][3] == employee_name) and (Feedbackdf.iloc[i][4] == 'P'):\n",
      "C:\\Users\\aidan\\AppData\\Local\\Temp\\ipykernel_27120\\158198044.py:36: FutureWarning: Series.__getitem__ treating keys as positions is deprecated. In a future version, integer keys will always be treated as labels (consistent with DataFrame behavior). To access a value by position, use `ser.iloc[pos]`\n",
      "  elif (Feedbackdf.iloc[i][0] == 0 or Feedbackdf.iloc[i][0] == -1) and (Feedbackdf.iloc[i][2] == employee_name) and (Feedbackdf.iloc[i][4] == 'R'):\n",
      "C:\\Users\\aidan\\AppData\\Local\\Temp\\ipykernel_27120\\158198044.py:41: FutureWarning: Series.__getitem__ treating keys as positions is deprecated. In a future version, integer keys will always be treated as labels (consistent with DataFrame behavior). To access a value by position, use `ser.iloc[pos]`\n",
      "  elif (Feedbackdf.iloc[i][0] == 0 or Feedbackdf.iloc[i][0] == -1) and (Feedbackdf.iloc[i][3] == employee_name) and (Feedbackdf.iloc[i][4] == 'P'):\n",
      "C:\\Users\\aidan\\AppData\\Local\\Temp\\ipykernel_27120\\158198044.py:46: FutureWarning: Series.__getitem__ treating keys as positions is deprecated. In a future version, integer keys will always be treated as labels (consistent with DataFrame behavior). To access a value by position, use `ser.iloc[pos]`\n",
      "  elif (Feedbackdf.iloc[i][0] == 1) and (Feedbackdf.iloc[i][4] == 'I') and (Feedbackdf.iloc[i][2] == employee_name or Feedbackdf.iloc[i][3] == employee_name):\n",
      "C:\\Users\\aidan\\AppData\\Local\\Temp\\ipykernel_27120\\158198044.py:51: FutureWarning: Series.__getitem__ treating keys as positions is deprecated. In a future version, integer keys will always be treated as labels (consistent with DataFrame behavior). To access a value by position, use `ser.iloc[pos]`\n",
      "  elif (Feedbackdf.iloc[i][0] == 0 or Feedbackdf.iloc[i][0] == -1) and (Feedbackdf.iloc[i][4] == 'I') and (Feedbackdf.iloc[i][2] == employee_name or Feedbackdf.iloc[i][3] == employee_name):\n"
     ]
    },
    {
     "data": {
      "text/html": [
       "<div>\n",
       "<style scoped>\n",
       "    .dataframe tbody tr th:only-of-type {\n",
       "        vertical-align: middle;\n",
       "    }\n",
       "\n",
       "    .dataframe tbody tr th {\n",
       "        vertical-align: top;\n",
       "    }\n",
       "\n",
       "    .dataframe thead th {\n",
       "        text-align: right;\n",
       "    }\n",
       "</style>\n",
       "<table border=\"1\" class=\"dataframe\">\n",
       "  <thead>\n",
       "    <tr style=\"text-align: right;\">\n",
       "      <th></th>\n",
       "      <th>Positive Feedback</th>\n",
       "      <th>Negative Feedback</th>\n",
       "    </tr>\n",
       "  </thead>\n",
       "  <tbody>\n",
       "  </tbody>\n",
       "</table>\n",
       "</div>"
      ],
      "text/plain": [
       "Empty DataFrame\n",
       "Columns: [Positive Feedback, Negative Feedback]\n",
       "Index: []"
      ]
     },
     "metadata": {},
     "output_type": "display_data"
    },
    {
     "data": {
      "text/markdown": [
       "## Jackson Schutter's Score: 3/6"
      ]
     },
     "metadata": {},
     "output_type": "display_data"
    },
    {
     "data": {
      "text/markdown": [
       "### ------------------------------------------------------------------------------------------"
      ]
     },
     "metadata": {},
     "output_type": "display_data"
    },
    {
     "name": "stderr",
     "output_type": "stream",
     "text": [
      "C:\\Users\\aidan\\AppData\\Local\\Temp\\ipykernel_27120\\2927901798.py:7: FutureWarning: Series.__getitem__ treating keys as positions is deprecated. In a future version, integer keys will always be treated as labels (consistent with DataFrame behavior). To access a value by position, use `ser.iloc[pos]`\n",
      "  employee_name = racerdf[0]\n"
     ]
    },
    {
     "data": {
      "text/markdown": [
       "## Gabriel Soto's Eval:"
      ]
     },
     "metadata": {},
     "output_type": "display_data"
    },
    {
     "name": "stderr",
     "output_type": "stream",
     "text": [
      "C:\\Users\\aidan\\AppData\\Local\\Temp\\ipykernel_27120\\2927901798.py:23: FutureWarning: Series.__getitem__ treating keys as positions is deprecated. In a future version, integer keys will always be treated as labels (consistent with DataFrame behavior). To access a value by position, use `ser.iloc[pos]`\n",
      "  if storedf[employee_name][5] == -1:\n"
     ]
    },
    {
     "data": {
      "text/html": [
       "<style type=\"text/css\">\n",
       "#T_f4ec4_row0_col3 {\n",
       "  background-color: #fdb768;\n",
       "  color: #000000;\n",
       "}\n",
       "#T_f4ec4_row1_col3 {\n",
       "  background-color: #e5f49b;\n",
       "  color: #000000;\n",
       "}\n",
       "#T_f4ec4_row2_col3 {\n",
       "  background-color: #d5ed88;\n",
       "  color: #000000;\n",
       "}\n",
       "#T_f4ec4_row3_col3 {\n",
       "  background-color: #f2faae;\n",
       "  color: #000000;\n",
       "}\n",
       "#T_f4ec4_row4_col3 {\n",
       "  background-color: #b9e176;\n",
       "  color: #000000;\n",
       "}\n",
       "#T_f4ec4_row5_col3 {\n",
       "  background-color: #ebf7a3;\n",
       "  color: #000000;\n",
       "}\n",
       "</style>\n",
       "<table id=\"T_f4ec4\">\n",
       "  <thead>\n",
       "    <tr>\n",
       "      <th class=\"blank level0\" >&nbsp;</th>\n",
       "      <th id=\"T_f4ec4_level0_col0\" class=\"col_heading level0 col0\" >Benchmarks</th>\n",
       "      <th id=\"T_f4ec4_level0_col1\" class=\"col_heading level0 col1\" >Store</th>\n",
       "      <th id=\"T_f4ec4_level0_col2\" class=\"col_heading level0 col2\" >Pass</th>\n",
       "      <th id=\"T_f4ec4_level0_col3\" class=\"col_heading level0 col3\" >ZScore</th>\n",
       "      <th id=\"T_f4ec4_level0_col4\" class=\"col_heading level0 col4\" >Gabriel Soto</th>\n",
       "    </tr>\n",
       "  </thead>\n",
       "  <tbody>\n",
       "    <tr>\n",
       "      <th id=\"T_f4ec4_level0_row0\" class=\"row_heading level0 row0\" >Avg. Hrs Worked</th>\n",
       "      <td id=\"T_f4ec4_row0_col0\" class=\"data row0 col0\" >12.00</td>\n",
       "      <td id=\"T_f4ec4_row0_col1\" class=\"data row0 col1\" >12.08</td>\n",
       "      <td id=\"T_f4ec4_row0_col2\" class=\"data row0 col2\" >N</td>\n",
       "      <td id=\"T_f4ec4_row0_col3\" class=\"data row0 col3\" >-0.90</td>\n",
       "      <td id=\"T_f4ec4_row0_col4\" class=\"data row0 col4\" >6.49</td>\n",
       "    </tr>\n",
       "    <tr>\n",
       "      <th id=\"T_f4ec4_level0_row1\" class=\"row_heading level0 row1\" >Avg. Delivery Time</th>\n",
       "      <td id=\"T_f4ec4_row1_col0\" class=\"data row1 col0\" >10.00</td>\n",
       "      <td id=\"T_f4ec4_row1_col1\" class=\"data row1 col1\" >10.82</td>\n",
       "      <td id=\"T_f4ec4_row1_col2\" class=\"data row1 col2\" >N</td>\n",
       "      <td id=\"T_f4ec4_row1_col3\" class=\"data row1 col3\" >-0.35</td>\n",
       "      <td id=\"T_f4ec4_row1_col4\" class=\"data row1 col4\" >10.04</td>\n",
       "    </tr>\n",
       "    <tr>\n",
       "      <th id=\"T_f4ec4_level0_row2\" class=\"row_heading level0 row2\" >Avg. Out the Door</th>\n",
       "      <td id=\"T_f4ec4_row2_col0\" class=\"data row2 col0\" >4.00</td>\n",
       "      <td id=\"T_f4ec4_row2_col1\" class=\"data row2 col1\" >4.70</td>\n",
       "      <td id=\"T_f4ec4_row2_col2\" class=\"data row2 col2\" >N</td>\n",
       "      <td id=\"T_f4ec4_row2_col3\" class=\"data row2 col3\" >-0.53</td>\n",
       "      <td id=\"T_f4ec4_row2_col4\" class=\"data row2 col4\" >4.04</td>\n",
       "    </tr>\n",
       "    <tr>\n",
       "      <th id=\"T_f4ec4_level0_row3\" class=\"row_heading level0 row3\" >ORH</th>\n",
       "      <td id=\"T_f4ec4_row3_col0\" class=\"data row3 col0\" >9.00</td>\n",
       "      <td id=\"T_f4ec4_row3_col1\" class=\"data row3 col1\" >4.36</td>\n",
       "      <td id=\"T_f4ec4_row3_col2\" class=\"data row3 col2\" >N</td>\n",
       "      <td id=\"T_f4ec4_row3_col3\" class=\"data row3 col3\" >0.16</td>\n",
       "      <td id=\"T_f4ec4_row3_col4\" class=\"data row3 col4\" >4.62</td>\n",
       "    </tr>\n",
       "    <tr>\n",
       "      <th id=\"T_f4ec4_level0_row4\" class=\"row_heading level0 row4\" >Late %</th>\n",
       "      <td id=\"T_f4ec4_row4_col0\" class=\"data row4 col0\" >0.10</td>\n",
       "      <td id=\"T_f4ec4_row4_col1\" class=\"data row4 col1\" >0.06</td>\n",
       "      <td id=\"T_f4ec4_row4_col2\" class=\"data row4 col2\" >Y</td>\n",
       "      <td id=\"T_f4ec4_row4_col3\" class=\"data row4 col3\" >-0.81</td>\n",
       "      <td id=\"T_f4ec4_row4_col4\" class=\"data row4 col4\" >0.00</td>\n",
       "    </tr>\n",
       "    <tr>\n",
       "      <th id=\"T_f4ec4_level0_row5\" class=\"row_heading level0 row5\" >False Pos %</th>\n",
       "      <td id=\"T_f4ec4_row5_col0\" class=\"data row5 col0\" >0.01</td>\n",
       "      <td id=\"T_f4ec4_row5_col1\" class=\"data row5 col1\" >0.37</td>\n",
       "      <td id=\"T_f4ec4_row5_col2\" class=\"data row5 col2\" >N</td>\n",
       "      <td id=\"T_f4ec4_row5_col3\" class=\"data row5 col3\" >-0.27</td>\n",
       "      <td id=\"T_f4ec4_row5_col4\" class=\"data row5 col4\" >0.33</td>\n",
       "    </tr>\n",
       "  </tbody>\n",
       "</table>\n"
      ],
      "text/plain": [
       "<pandas.io.formats.style.Styler at 0x1c5a3cd9250>"
      ]
     },
     "metadata": {},
     "output_type": "display_data"
    },
    {
     "data": {
      "text/markdown": [
       "## Feedback:"
      ]
     },
     "metadata": {},
     "output_type": "display_data"
    },
    {
     "name": "stderr",
     "output_type": "stream",
     "text": [
      "C:\\Users\\aidan\\AppData\\Local\\Temp\\ipykernel_27120\\158198044.py:16: FutureWarning: Series.__getitem__ treating keys as positions is deprecated. In a future version, integer keys will always be treated as labels (consistent with DataFrame behavior). To access a value by position, use `ser.iloc[pos]`\n",
      "  if (Feedbackdf.iloc[i][0] == 1) and (Feedbackdf.iloc[i][2] == employee_name) and (Feedbackdf.iloc[i][3] == employee_name):\n",
      "C:\\Users\\aidan\\AppData\\Local\\Temp\\ipykernel_27120\\158198044.py:21: FutureWarning: Series.__getitem__ treating keys as positions is deprecated. In a future version, integer keys will always be treated as labels (consistent with DataFrame behavior). To access a value by position, use `ser.iloc[pos]`\n",
      "  elif (Feedbackdf.iloc[i][0] == 0 or Feedbackdf.iloc[i][0] == -1) and (Feedbackdf.iloc[i][2] == employee_name) and (Feedbackdf.iloc[i][3] == employee_name):\n",
      "C:\\Users\\aidan\\AppData\\Local\\Temp\\ipykernel_27120\\158198044.py:26: FutureWarning: Series.__getitem__ treating keys as positions is deprecated. In a future version, integer keys will always be treated as labels (consistent with DataFrame behavior). To access a value by position, use `ser.iloc[pos]`\n",
      "  elif (Feedbackdf.iloc[i][0] == 1) and (Feedbackdf.iloc[i][2] == employee_name) and (Feedbackdf.iloc[i][4] == 'R'):\n",
      "C:\\Users\\aidan\\AppData\\Local\\Temp\\ipykernel_27120\\158198044.py:31: FutureWarning: Series.__getitem__ treating keys as positions is deprecated. In a future version, integer keys will always be treated as labels (consistent with DataFrame behavior). To access a value by position, use `ser.iloc[pos]`\n",
      "  elif (Feedbackdf.iloc[i][0] == 1) and (Feedbackdf.iloc[i][3] == employee_name) and (Feedbackdf.iloc[i][4] == 'P'):\n",
      "C:\\Users\\aidan\\AppData\\Local\\Temp\\ipykernel_27120\\158198044.py:36: FutureWarning: Series.__getitem__ treating keys as positions is deprecated. In a future version, integer keys will always be treated as labels (consistent with DataFrame behavior). To access a value by position, use `ser.iloc[pos]`\n",
      "  elif (Feedbackdf.iloc[i][0] == 0 or Feedbackdf.iloc[i][0] == -1) and (Feedbackdf.iloc[i][2] == employee_name) and (Feedbackdf.iloc[i][4] == 'R'):\n",
      "C:\\Users\\aidan\\AppData\\Local\\Temp\\ipykernel_27120\\158198044.py:41: FutureWarning: Series.__getitem__ treating keys as positions is deprecated. In a future version, integer keys will always be treated as labels (consistent with DataFrame behavior). To access a value by position, use `ser.iloc[pos]`\n",
      "  elif (Feedbackdf.iloc[i][0] == 0 or Feedbackdf.iloc[i][0] == -1) and (Feedbackdf.iloc[i][3] == employee_name) and (Feedbackdf.iloc[i][4] == 'P'):\n",
      "C:\\Users\\aidan\\AppData\\Local\\Temp\\ipykernel_27120\\158198044.py:46: FutureWarning: Series.__getitem__ treating keys as positions is deprecated. In a future version, integer keys will always be treated as labels (consistent with DataFrame behavior). To access a value by position, use `ser.iloc[pos]`\n",
      "  elif (Feedbackdf.iloc[i][0] == 1) and (Feedbackdf.iloc[i][4] == 'I') and (Feedbackdf.iloc[i][2] == employee_name or Feedbackdf.iloc[i][3] == employee_name):\n",
      "C:\\Users\\aidan\\AppData\\Local\\Temp\\ipykernel_27120\\158198044.py:51: FutureWarning: Series.__getitem__ treating keys as positions is deprecated. In a future version, integer keys will always be treated as labels (consistent with DataFrame behavior). To access a value by position, use `ser.iloc[pos]`\n",
      "  elif (Feedbackdf.iloc[i][0] == 0 or Feedbackdf.iloc[i][0] == -1) and (Feedbackdf.iloc[i][4] == 'I') and (Feedbackdf.iloc[i][2] == employee_name or Feedbackdf.iloc[i][3] == employee_name):\n"
     ]
    },
    {
     "data": {
      "text/html": [
       "<div>\n",
       "<style scoped>\n",
       "    .dataframe tbody tr th:only-of-type {\n",
       "        vertical-align: middle;\n",
       "    }\n",
       "\n",
       "    .dataframe tbody tr th {\n",
       "        vertical-align: top;\n",
       "    }\n",
       "\n",
       "    .dataframe thead th {\n",
       "        text-align: right;\n",
       "    }\n",
       "</style>\n",
       "<table border=\"1\" class=\"dataframe\">\n",
       "  <thead>\n",
       "    <tr style=\"text-align: right;\">\n",
       "      <th></th>\n",
       "      <th>Positive Feedback</th>\n",
       "      <th>Negative Feedback</th>\n",
       "    </tr>\n",
       "  </thead>\n",
       "  <tbody>\n",
       "  </tbody>\n",
       "</table>\n",
       "</div>"
      ],
      "text/plain": [
       "Empty DataFrame\n",
       "Columns: [Positive Feedback, Negative Feedback]\n",
       "Index: []"
      ]
     },
     "metadata": {},
     "output_type": "display_data"
    },
    {
     "data": {
      "text/markdown": [
       "## Gabriel Soto's Score: 1/6"
      ]
     },
     "metadata": {},
     "output_type": "display_data"
    },
    {
     "data": {
      "text/markdown": [
       "### ------------------------------------------------------------------------------------------"
      ]
     },
     "metadata": {},
     "output_type": "display_data"
    },
    {
     "name": "stderr",
     "output_type": "stream",
     "text": [
      "C:\\Users\\aidan\\AppData\\Local\\Temp\\ipykernel_27120\\2927901798.py:7: FutureWarning: Series.__getitem__ treating keys as positions is deprecated. In a future version, integer keys will always be treated as labels (consistent with DataFrame behavior). To access a value by position, use `ser.iloc[pos]`\n",
      "  employee_name = racerdf[0]\n"
     ]
    },
    {
     "data": {
      "text/markdown": [
       "## Micah Cooper's Eval:"
      ]
     },
     "metadata": {},
     "output_type": "display_data"
    },
    {
     "name": "stderr",
     "output_type": "stream",
     "text": [
      "C:\\Users\\aidan\\AppData\\Local\\Temp\\ipykernel_27120\\2927901798.py:23: FutureWarning: Series.__getitem__ treating keys as positions is deprecated. In a future version, integer keys will always be treated as labels (consistent with DataFrame behavior). To access a value by position, use `ser.iloc[pos]`\n",
      "  if storedf[employee_name][5] == -1:\n"
     ]
    },
    {
     "data": {
      "text/html": [
       "<style type=\"text/css\">\n",
       "#T_2f6d0_row0_col3 {\n",
       "  background-color: #feeb9d;\n",
       "  color: #000000;\n",
       "}\n",
       "#T_2f6d0_row1_col3 {\n",
       "  background-color: #82c966;\n",
       "  color: #000000;\n",
       "}\n",
       "#T_2f6d0_row2_col3 {\n",
       "  background-color: #feffbe;\n",
       "  color: #000000;\n",
       "}\n",
       "#T_2f6d0_row3_col3 {\n",
       "  background-color: #fdc171;\n",
       "  color: #000000;\n",
       "}\n",
       "#T_2f6d0_row4_col3 {\n",
       "  background-color: #b9e176;\n",
       "  color: #000000;\n",
       "}\n",
       "#T_2f6d0_row5_col3 {\n",
       "  background-color: #4eb15d;\n",
       "  color: #f1f1f1;\n",
       "}\n",
       "</style>\n",
       "<table id=\"T_2f6d0\">\n",
       "  <thead>\n",
       "    <tr>\n",
       "      <th class=\"blank level0\" >&nbsp;</th>\n",
       "      <th id=\"T_2f6d0_level0_col0\" class=\"col_heading level0 col0\" >Benchmarks</th>\n",
       "      <th id=\"T_2f6d0_level0_col1\" class=\"col_heading level0 col1\" >Store</th>\n",
       "      <th id=\"T_2f6d0_level0_col2\" class=\"col_heading level0 col2\" >Pass</th>\n",
       "      <th id=\"T_2f6d0_level0_col3\" class=\"col_heading level0 col3\" >ZScore</th>\n",
       "      <th id=\"T_2f6d0_level0_col4\" class=\"col_heading level0 col4\" >Micah Cooper</th>\n",
       "    </tr>\n",
       "  </thead>\n",
       "  <tbody>\n",
       "    <tr>\n",
       "      <th id=\"T_2f6d0_level0_row0\" class=\"row_heading level0 row0\" >Avg. Hrs Worked</th>\n",
       "      <td id=\"T_2f6d0_row0_col0\" class=\"data row0 col0\" >12.00</td>\n",
       "      <td id=\"T_2f6d0_row0_col1\" class=\"data row0 col1\" >12.08</td>\n",
       "      <td id=\"T_2f6d0_row0_col2\" class=\"data row0 col2\" >N</td>\n",
       "      <td id=\"T_2f6d0_row0_col3\" class=\"data row0 col3\" >-0.32</td>\n",
       "      <td id=\"T_2f6d0_row0_col4\" class=\"data row0 col4\" >10.11</td>\n",
       "    </tr>\n",
       "    <tr>\n",
       "      <th id=\"T_2f6d0_level0_row1\" class=\"row_heading level0 row1\" >Avg. Delivery Time</th>\n",
       "      <td id=\"T_2f6d0_row1_col0\" class=\"data row1 col0\" >10.00</td>\n",
       "      <td id=\"T_2f6d0_row1_col1\" class=\"data row1 col1\" >10.82</td>\n",
       "      <td id=\"T_2f6d0_row1_col2\" class=\"data row1 col2\" >Y</td>\n",
       "      <td id=\"T_2f6d0_row1_col3\" class=\"data row1 col3\" >-1.27</td>\n",
       "      <td id=\"T_2f6d0_row1_col4\" class=\"data row1 col4\" >8.03</td>\n",
       "    </tr>\n",
       "    <tr>\n",
       "      <th id=\"T_2f6d0_level0_row2\" class=\"row_heading level0 row2\" >Avg. Out the Door</th>\n",
       "      <td id=\"T_2f6d0_row2_col0\" class=\"data row2 col0\" >4.00</td>\n",
       "      <td id=\"T_2f6d0_row2_col1\" class=\"data row2 col1\" >4.70</td>\n",
       "      <td id=\"T_2f6d0_row2_col2\" class=\"data row2 col2\" >N</td>\n",
       "      <td id=\"T_2f6d0_row2_col3\" class=\"data row2 col3\" >-0.01</td>\n",
       "      <td id=\"T_2f6d0_row2_col4\" class=\"data row2 col4\" >4.69</td>\n",
       "    </tr>\n",
       "    <tr>\n",
       "      <th id=\"T_2f6d0_level0_row3\" class=\"row_heading level0 row3\" >ORH</th>\n",
       "      <td id=\"T_2f6d0_row3_col0\" class=\"data row3 col0\" >9.00</td>\n",
       "      <td id=\"T_2f6d0_row3_col1\" class=\"data row3 col1\" >4.36</td>\n",
       "      <td id=\"T_2f6d0_row3_col2\" class=\"data row3 col2\" >N</td>\n",
       "      <td id=\"T_2f6d0_row3_col3\" class=\"data row3 col3\" >-0.82</td>\n",
       "      <td id=\"T_2f6d0_row3_col4\" class=\"data row3 col4\" >2.97</td>\n",
       "    </tr>\n",
       "    <tr>\n",
       "      <th id=\"T_2f6d0_level0_row4\" class=\"row_heading level0 row4\" >Late %</th>\n",
       "      <td id=\"T_2f6d0_row4_col0\" class=\"data row4 col0\" >0.10</td>\n",
       "      <td id=\"T_2f6d0_row4_col1\" class=\"data row4 col1\" >0.06</td>\n",
       "      <td id=\"T_2f6d0_row4_col2\" class=\"data row4 col2\" >Y</td>\n",
       "      <td id=\"T_2f6d0_row4_col3\" class=\"data row4 col3\" >-0.81</td>\n",
       "      <td id=\"T_2f6d0_row4_col4\" class=\"data row4 col4\" >0.00</td>\n",
       "    </tr>\n",
       "    <tr>\n",
       "      <th id=\"T_2f6d0_level0_row5\" class=\"row_heading level0 row5\" >False Pos %</th>\n",
       "      <td id=\"T_2f6d0_row5_col0\" class=\"data row5 col0\" >0.01</td>\n",
       "      <td id=\"T_2f6d0_row5_col1\" class=\"data row5 col1\" >0.37</td>\n",
       "      <td id=\"T_2f6d0_row5_col2\" class=\"data row5 col2\" >N</td>\n",
       "      <td id=\"T_2f6d0_row5_col3\" class=\"data row5 col3\" >-1.66</td>\n",
       "      <td id=\"T_2f6d0_row5_col4\" class=\"data row5 col4\" >0.14</td>\n",
       "    </tr>\n",
       "  </tbody>\n",
       "</table>\n"
      ],
      "text/plain": [
       "<pandas.io.formats.style.Styler at 0x1c5a3cd9250>"
      ]
     },
     "metadata": {},
     "output_type": "display_data"
    },
    {
     "data": {
      "text/markdown": [
       "## Feedback:"
      ]
     },
     "metadata": {},
     "output_type": "display_data"
    },
    {
     "name": "stderr",
     "output_type": "stream",
     "text": [
      "C:\\Users\\aidan\\AppData\\Local\\Temp\\ipykernel_27120\\158198044.py:16: FutureWarning: Series.__getitem__ treating keys as positions is deprecated. In a future version, integer keys will always be treated as labels (consistent with DataFrame behavior). To access a value by position, use `ser.iloc[pos]`\n",
      "  if (Feedbackdf.iloc[i][0] == 1) and (Feedbackdf.iloc[i][2] == employee_name) and (Feedbackdf.iloc[i][3] == employee_name):\n",
      "C:\\Users\\aidan\\AppData\\Local\\Temp\\ipykernel_27120\\158198044.py:21: FutureWarning: Series.__getitem__ treating keys as positions is deprecated. In a future version, integer keys will always be treated as labels (consistent with DataFrame behavior). To access a value by position, use `ser.iloc[pos]`\n",
      "  elif (Feedbackdf.iloc[i][0] == 0 or Feedbackdf.iloc[i][0] == -1) and (Feedbackdf.iloc[i][2] == employee_name) and (Feedbackdf.iloc[i][3] == employee_name):\n",
      "C:\\Users\\aidan\\AppData\\Local\\Temp\\ipykernel_27120\\158198044.py:26: FutureWarning: Series.__getitem__ treating keys as positions is deprecated. In a future version, integer keys will always be treated as labels (consistent with DataFrame behavior). To access a value by position, use `ser.iloc[pos]`\n",
      "  elif (Feedbackdf.iloc[i][0] == 1) and (Feedbackdf.iloc[i][2] == employee_name) and (Feedbackdf.iloc[i][4] == 'R'):\n",
      "C:\\Users\\aidan\\AppData\\Local\\Temp\\ipykernel_27120\\158198044.py:31: FutureWarning: Series.__getitem__ treating keys as positions is deprecated. In a future version, integer keys will always be treated as labels (consistent with DataFrame behavior). To access a value by position, use `ser.iloc[pos]`\n",
      "  elif (Feedbackdf.iloc[i][0] == 1) and (Feedbackdf.iloc[i][3] == employee_name) and (Feedbackdf.iloc[i][4] == 'P'):\n",
      "C:\\Users\\aidan\\AppData\\Local\\Temp\\ipykernel_27120\\158198044.py:36: FutureWarning: Series.__getitem__ treating keys as positions is deprecated. In a future version, integer keys will always be treated as labels (consistent with DataFrame behavior). To access a value by position, use `ser.iloc[pos]`\n",
      "  elif (Feedbackdf.iloc[i][0] == 0 or Feedbackdf.iloc[i][0] == -1) and (Feedbackdf.iloc[i][2] == employee_name) and (Feedbackdf.iloc[i][4] == 'R'):\n",
      "C:\\Users\\aidan\\AppData\\Local\\Temp\\ipykernel_27120\\158198044.py:41: FutureWarning: Series.__getitem__ treating keys as positions is deprecated. In a future version, integer keys will always be treated as labels (consistent with DataFrame behavior). To access a value by position, use `ser.iloc[pos]`\n",
      "  elif (Feedbackdf.iloc[i][0] == 0 or Feedbackdf.iloc[i][0] == -1) and (Feedbackdf.iloc[i][3] == employee_name) and (Feedbackdf.iloc[i][4] == 'P'):\n",
      "C:\\Users\\aidan\\AppData\\Local\\Temp\\ipykernel_27120\\158198044.py:46: FutureWarning: Series.__getitem__ treating keys as positions is deprecated. In a future version, integer keys will always be treated as labels (consistent with DataFrame behavior). To access a value by position, use `ser.iloc[pos]`\n",
      "  elif (Feedbackdf.iloc[i][0] == 1) and (Feedbackdf.iloc[i][4] == 'I') and (Feedbackdf.iloc[i][2] == employee_name or Feedbackdf.iloc[i][3] == employee_name):\n",
      "C:\\Users\\aidan\\AppData\\Local\\Temp\\ipykernel_27120\\158198044.py:51: FutureWarning: Series.__getitem__ treating keys as positions is deprecated. In a future version, integer keys will always be treated as labels (consistent with DataFrame behavior). To access a value by position, use `ser.iloc[pos]`\n",
      "  elif (Feedbackdf.iloc[i][0] == 0 or Feedbackdf.iloc[i][0] == -1) and (Feedbackdf.iloc[i][4] == 'I') and (Feedbackdf.iloc[i][2] == employee_name or Feedbackdf.iloc[i][3] == employee_name):\n"
     ]
    },
    {
     "data": {
      "text/html": [
       "<div>\n",
       "<style scoped>\n",
       "    .dataframe tbody tr th:only-of-type {\n",
       "        vertical-align: middle;\n",
       "    }\n",
       "\n",
       "    .dataframe tbody tr th {\n",
       "        vertical-align: top;\n",
       "    }\n",
       "\n",
       "    .dataframe thead th {\n",
       "        text-align: right;\n",
       "    }\n",
       "</style>\n",
       "<table border=\"1\" class=\"dataframe\">\n",
       "  <thead>\n",
       "    <tr style=\"text-align: right;\">\n",
       "      <th></th>\n",
       "      <th>Positive Feedback</th>\n",
       "      <th>Negative Feedback</th>\n",
       "    </tr>\n",
       "  </thead>\n",
       "  <tbody>\n",
       "  </tbody>\n",
       "</table>\n",
       "</div>"
      ],
      "text/plain": [
       "Empty DataFrame\n",
       "Columns: [Positive Feedback, Negative Feedback]\n",
       "Index: []"
      ]
     },
     "metadata": {},
     "output_type": "display_data"
    },
    {
     "data": {
      "text/markdown": [
       "## Micah Cooper's Score: 2/6"
      ]
     },
     "metadata": {},
     "output_type": "display_data"
    },
    {
     "data": {
      "text/markdown": [
       "### ------------------------------------------------------------------------------------------"
      ]
     },
     "metadata": {},
     "output_type": "display_data"
    },
    {
     "name": "stderr",
     "output_type": "stream",
     "text": [
      "C:\\Users\\aidan\\AppData\\Local\\Temp\\ipykernel_27120\\2927901798.py:7: FutureWarning: Series.__getitem__ treating keys as positions is deprecated. In a future version, integer keys will always be treated as labels (consistent with DataFrame behavior). To access a value by position, use `ser.iloc[pos]`\n",
      "  employee_name = racerdf[0]\n"
     ]
    },
    {
     "data": {
      "text/markdown": [
       "## Miles Mentag's Eval:"
      ]
     },
     "metadata": {},
     "output_type": "display_data"
    },
    {
     "name": "stderr",
     "output_type": "stream",
     "text": [
      "C:\\Users\\aidan\\AppData\\Local\\Temp\\ipykernel_27120\\2927901798.py:23: FutureWarning: Series.__getitem__ treating keys as positions is deprecated. In a future version, integer keys will always be treated as labels (consistent with DataFrame behavior). To access a value by position, use `ser.iloc[pos]`\n",
      "  if storedf[employee_name][5] == -1:\n"
     ]
    },
    {
     "data": {
      "text/html": [
       "<style type=\"text/css\">\n",
       "#T_4d751_row0_col3 {\n",
       "  background-color: #fca85e;\n",
       "  color: #000000;\n",
       "}\n",
       "#T_4d751_row1_col3 {\n",
       "  background-color: #cbe982;\n",
       "  color: #000000;\n",
       "}\n",
       "#T_4d751_row2_col3 {\n",
       "  background-color: #fede89;\n",
       "  color: #000000;\n",
       "}\n",
       "#T_4d751_row3_col3 {\n",
       "  background-color: #d9ef8b;\n",
       "  color: #000000;\n",
       "}\n",
       "#T_4d751_row4_col3 {\n",
       "  background-color: #b9e176;\n",
       "  color: #000000;\n",
       "}\n",
       "#T_4d751_row5_col3 {\n",
       "  background-color: #fee491;\n",
       "  color: #000000;\n",
       "}\n",
       "</style>\n",
       "<table id=\"T_4d751\">\n",
       "  <thead>\n",
       "    <tr>\n",
       "      <th class=\"blank level0\" >&nbsp;</th>\n",
       "      <th id=\"T_4d751_level0_col0\" class=\"col_heading level0 col0\" >Benchmarks</th>\n",
       "      <th id=\"T_4d751_level0_col1\" class=\"col_heading level0 col1\" >Store</th>\n",
       "      <th id=\"T_4d751_level0_col2\" class=\"col_heading level0 col2\" >Pass</th>\n",
       "      <th id=\"T_4d751_level0_col3\" class=\"col_heading level0 col3\" >ZScore</th>\n",
       "      <th id=\"T_4d751_level0_col4\" class=\"col_heading level0 col4\" >Miles Mentag</th>\n",
       "    </tr>\n",
       "  </thead>\n",
       "  <tbody>\n",
       "    <tr>\n",
       "      <th id=\"T_4d751_level0_row0\" class=\"row_heading level0 row0\" >Avg. Hrs Worked</th>\n",
       "      <td id=\"T_4d751_row0_col0\" class=\"data row0 col0\" >12.00</td>\n",
       "      <td id=\"T_4d751_row0_col1\" class=\"data row0 col1\" >12.08</td>\n",
       "      <td id=\"T_4d751_row0_col2\" class=\"data row0 col2\" >N</td>\n",
       "      <td id=\"T_4d751_row0_col3\" class=\"data row0 col3\" >-1.05</td>\n",
       "      <td id=\"T_4d751_row0_col4\" class=\"data row0 col4\" >5.58</td>\n",
       "    </tr>\n",
       "    <tr>\n",
       "      <th id=\"T_4d751_level0_row1\" class=\"row_heading level0 row1\" >Avg. Delivery Time</th>\n",
       "      <td id=\"T_4d751_row1_col0\" class=\"data row1 col0\" >10.00</td>\n",
       "      <td id=\"T_4d751_row1_col1\" class=\"data row1 col1\" >10.82</td>\n",
       "      <td id=\"T_4d751_row1_col2\" class=\"data row1 col2\" >Y</td>\n",
       "      <td id=\"T_4d751_row1_col3\" class=\"data row1 col3\" >-0.64</td>\n",
       "      <td id=\"T_4d751_row1_col4\" class=\"data row1 col4\" >9.40</td>\n",
       "    </tr>\n",
       "    <tr>\n",
       "      <th id=\"T_4d751_level0_row2\" class=\"row_heading level0 row2\" >Avg. Out the Door</th>\n",
       "      <td id=\"T_4d751_row2_col0\" class=\"data row2 col0\" >4.00</td>\n",
       "      <td id=\"T_4d751_row2_col1\" class=\"data row2 col1\" >4.70</td>\n",
       "      <td id=\"T_4d751_row2_col2\" class=\"data row2 col2\" >N</td>\n",
       "      <td id=\"T_4d751_row2_col3\" class=\"data row2 col3\" >0.52</td>\n",
       "      <td id=\"T_4d751_row2_col4\" class=\"data row2 col4\" >5.34</td>\n",
       "    </tr>\n",
       "    <tr>\n",
       "      <th id=\"T_4d751_level0_row3\" class=\"row_heading level0 row3\" >ORH</th>\n",
       "      <td id=\"T_4d751_row3_col0\" class=\"data row3 col0\" >9.00</td>\n",
       "      <td id=\"T_4d751_row3_col1\" class=\"data row3 col1\" >4.36</td>\n",
       "      <td id=\"T_4d751_row3_col2\" class=\"data row3 col2\" >N</td>\n",
       "      <td id=\"T_4d751_row3_col3\" class=\"data row3 col3\" >0.50</td>\n",
       "      <td id=\"T_4d751_row3_col4\" class=\"data row3 col4\" >5.20</td>\n",
       "    </tr>\n",
       "    <tr>\n",
       "      <th id=\"T_4d751_level0_row4\" class=\"row_heading level0 row4\" >Late %</th>\n",
       "      <td id=\"T_4d751_row4_col0\" class=\"data row4 col0\" >0.10</td>\n",
       "      <td id=\"T_4d751_row4_col1\" class=\"data row4 col1\" >0.06</td>\n",
       "      <td id=\"T_4d751_row4_col2\" class=\"data row4 col2\" >Y</td>\n",
       "      <td id=\"T_4d751_row4_col3\" class=\"data row4 col3\" >-0.81</td>\n",
       "      <td id=\"T_4d751_row4_col4\" class=\"data row4 col4\" >0.00</td>\n",
       "    </tr>\n",
       "    <tr>\n",
       "      <th id=\"T_4d751_level0_row5\" class=\"row_heading level0 row5\" >False Pos %</th>\n",
       "      <td id=\"T_4d751_row5_col0\" class=\"data row5 col0\" >0.01</td>\n",
       "      <td id=\"T_4d751_row5_col1\" class=\"data row5 col1\" >0.37</td>\n",
       "      <td id=\"T_4d751_row5_col2\" class=\"data row5 col2\" >N</td>\n",
       "      <td id=\"T_4d751_row5_col3\" class=\"data row5 col3\" >0.43</td>\n",
       "      <td id=\"T_4d751_row5_col4\" class=\"data row5 col4\" >0.43</td>\n",
       "    </tr>\n",
       "  </tbody>\n",
       "</table>\n"
      ],
      "text/plain": [
       "<pandas.io.formats.style.Styler at 0x1c5a3cd9250>"
      ]
     },
     "metadata": {},
     "output_type": "display_data"
    },
    {
     "data": {
      "text/markdown": [
       "## Feedback:"
      ]
     },
     "metadata": {},
     "output_type": "display_data"
    },
    {
     "name": "stderr",
     "output_type": "stream",
     "text": [
      "C:\\Users\\aidan\\AppData\\Local\\Temp\\ipykernel_27120\\158198044.py:16: FutureWarning: Series.__getitem__ treating keys as positions is deprecated. In a future version, integer keys will always be treated as labels (consistent with DataFrame behavior). To access a value by position, use `ser.iloc[pos]`\n",
      "  if (Feedbackdf.iloc[i][0] == 1) and (Feedbackdf.iloc[i][2] == employee_name) and (Feedbackdf.iloc[i][3] == employee_name):\n",
      "C:\\Users\\aidan\\AppData\\Local\\Temp\\ipykernel_27120\\158198044.py:21: FutureWarning: Series.__getitem__ treating keys as positions is deprecated. In a future version, integer keys will always be treated as labels (consistent with DataFrame behavior). To access a value by position, use `ser.iloc[pos]`\n",
      "  elif (Feedbackdf.iloc[i][0] == 0 or Feedbackdf.iloc[i][0] == -1) and (Feedbackdf.iloc[i][2] == employee_name) and (Feedbackdf.iloc[i][3] == employee_name):\n",
      "C:\\Users\\aidan\\AppData\\Local\\Temp\\ipykernel_27120\\158198044.py:26: FutureWarning: Series.__getitem__ treating keys as positions is deprecated. In a future version, integer keys will always be treated as labels (consistent with DataFrame behavior). To access a value by position, use `ser.iloc[pos]`\n",
      "  elif (Feedbackdf.iloc[i][0] == 1) and (Feedbackdf.iloc[i][2] == employee_name) and (Feedbackdf.iloc[i][4] == 'R'):\n",
      "C:\\Users\\aidan\\AppData\\Local\\Temp\\ipykernel_27120\\158198044.py:31: FutureWarning: Series.__getitem__ treating keys as positions is deprecated. In a future version, integer keys will always be treated as labels (consistent with DataFrame behavior). To access a value by position, use `ser.iloc[pos]`\n",
      "  elif (Feedbackdf.iloc[i][0] == 1) and (Feedbackdf.iloc[i][3] == employee_name) and (Feedbackdf.iloc[i][4] == 'P'):\n",
      "C:\\Users\\aidan\\AppData\\Local\\Temp\\ipykernel_27120\\158198044.py:36: FutureWarning: Series.__getitem__ treating keys as positions is deprecated. In a future version, integer keys will always be treated as labels (consistent with DataFrame behavior). To access a value by position, use `ser.iloc[pos]`\n",
      "  elif (Feedbackdf.iloc[i][0] == 0 or Feedbackdf.iloc[i][0] == -1) and (Feedbackdf.iloc[i][2] == employee_name) and (Feedbackdf.iloc[i][4] == 'R'):\n",
      "C:\\Users\\aidan\\AppData\\Local\\Temp\\ipykernel_27120\\158198044.py:41: FutureWarning: Series.__getitem__ treating keys as positions is deprecated. In a future version, integer keys will always be treated as labels (consistent with DataFrame behavior). To access a value by position, use `ser.iloc[pos]`\n",
      "  elif (Feedbackdf.iloc[i][0] == 0 or Feedbackdf.iloc[i][0] == -1) and (Feedbackdf.iloc[i][3] == employee_name) and (Feedbackdf.iloc[i][4] == 'P'):\n",
      "C:\\Users\\aidan\\AppData\\Local\\Temp\\ipykernel_27120\\158198044.py:46: FutureWarning: Series.__getitem__ treating keys as positions is deprecated. In a future version, integer keys will always be treated as labels (consistent with DataFrame behavior). To access a value by position, use `ser.iloc[pos]`\n",
      "  elif (Feedbackdf.iloc[i][0] == 1) and (Feedbackdf.iloc[i][4] == 'I') and (Feedbackdf.iloc[i][2] == employee_name or Feedbackdf.iloc[i][3] == employee_name):\n",
      "C:\\Users\\aidan\\AppData\\Local\\Temp\\ipykernel_27120\\158198044.py:51: FutureWarning: Series.__getitem__ treating keys as positions is deprecated. In a future version, integer keys will always be treated as labels (consistent with DataFrame behavior). To access a value by position, use `ser.iloc[pos]`\n",
      "  elif (Feedbackdf.iloc[i][0] == 0 or Feedbackdf.iloc[i][0] == -1) and (Feedbackdf.iloc[i][4] == 'I') and (Feedbackdf.iloc[i][2] == employee_name or Feedbackdf.iloc[i][3] == employee_name):\n"
     ]
    },
    {
     "data": {
      "text/html": [
       "<div>\n",
       "<style scoped>\n",
       "    .dataframe tbody tr th:only-of-type {\n",
       "        vertical-align: middle;\n",
       "    }\n",
       "\n",
       "    .dataframe tbody tr th {\n",
       "        vertical-align: top;\n",
       "    }\n",
       "\n",
       "    .dataframe thead th {\n",
       "        text-align: right;\n",
       "    }\n",
       "</style>\n",
       "<table border=\"1\" class=\"dataframe\">\n",
       "  <thead>\n",
       "    <tr style=\"text-align: right;\">\n",
       "      <th></th>\n",
       "      <th>Positive Feedback</th>\n",
       "      <th>Negative Feedback</th>\n",
       "    </tr>\n",
       "  </thead>\n",
       "  <tbody>\n",
       "  </tbody>\n",
       "</table>\n",
       "</div>"
      ],
      "text/plain": [
       "Empty DataFrame\n",
       "Columns: [Positive Feedback, Negative Feedback]\n",
       "Index: []"
      ]
     },
     "metadata": {},
     "output_type": "display_data"
    },
    {
     "data": {
      "text/markdown": [
       "## Miles Mentag's Score: 2/6"
      ]
     },
     "metadata": {},
     "output_type": "display_data"
    },
    {
     "data": {
      "text/markdown": [
       "### ------------------------------------------------------------------------------------------"
      ]
     },
     "metadata": {},
     "output_type": "display_data"
    },
    {
     "name": "stderr",
     "output_type": "stream",
     "text": [
      "C:\\Users\\aidan\\AppData\\Local\\Temp\\ipykernel_27120\\2927901798.py:7: FutureWarning: Series.__getitem__ treating keys as positions is deprecated. In a future version, integer keys will always be treated as labels (consistent with DataFrame behavior). To access a value by position, use `ser.iloc[pos]`\n",
      "  employee_name = racerdf[0]\n"
     ]
    },
    {
     "data": {
      "text/markdown": [
       "## Josh Donegan's Eval:"
      ]
     },
     "metadata": {},
     "output_type": "display_data"
    },
    {
     "name": "stderr",
     "output_type": "stream",
     "text": [
      "C:\\Users\\aidan\\AppData\\Local\\Temp\\ipykernel_27120\\2927901798.py:23: FutureWarning: Series.__getitem__ treating keys as positions is deprecated. In a future version, integer keys will always be treated as labels (consistent with DataFrame behavior). To access a value by position, use `ser.iloc[pos]`\n",
      "  if storedf[employee_name][5] == -1:\n"
     ]
    },
    {
     "data": {
      "text/html": [
       "<style type=\"text/css\">\n",
       "#T_04b9f_row0_col3 {\n",
       "  background-color: #fa9b58;\n",
       "  color: #000000;\n",
       "}\n",
       "#T_04b9f_row1_col3 {\n",
       "  background-color: #89cc67;\n",
       "  color: #000000;\n",
       "}\n",
       "#T_04b9f_row2_col3 {\n",
       "  background-color: #fffcba;\n",
       "  color: #000000;\n",
       "}\n",
       "#T_04b9f_row3_col3 {\n",
       "  background-color: #c1e57b;\n",
       "  color: #000000;\n",
       "}\n",
       "#T_04b9f_row4_col3 {\n",
       "  background-color: #b9e176;\n",
       "  color: #000000;\n",
       "}\n",
       "#T_04b9f_row5_col3 {\n",
       "  background-color: #fbfdba;\n",
       "  color: #000000;\n",
       "}\n",
       "</style>\n",
       "<table id=\"T_04b9f\">\n",
       "  <thead>\n",
       "    <tr>\n",
       "      <th class=\"blank level0\" >&nbsp;</th>\n",
       "      <th id=\"T_04b9f_level0_col0\" class=\"col_heading level0 col0\" >Benchmarks</th>\n",
       "      <th id=\"T_04b9f_level0_col1\" class=\"col_heading level0 col1\" >Store</th>\n",
       "      <th id=\"T_04b9f_level0_col2\" class=\"col_heading level0 col2\" >Pass</th>\n",
       "      <th id=\"T_04b9f_level0_col3\" class=\"col_heading level0 col3\" >ZScore</th>\n",
       "      <th id=\"T_04b9f_level0_col4\" class=\"col_heading level0 col4\" >Josh Donegan</th>\n",
       "    </tr>\n",
       "  </thead>\n",
       "  <tbody>\n",
       "    <tr>\n",
       "      <th id=\"T_04b9f_level0_row0\" class=\"row_heading level0 row0\" >Avg. Hrs Worked</th>\n",
       "      <td id=\"T_04b9f_row0_col0\" class=\"data row0 col0\" >12.00</td>\n",
       "      <td id=\"T_04b9f_row0_col1\" class=\"data row0 col1\" >12.08</td>\n",
       "      <td id=\"T_04b9f_row0_col2\" class=\"data row0 col2\" >N</td>\n",
       "      <td id=\"T_04b9f_row0_col3\" class=\"data row0 col3\" >-1.14</td>\n",
       "      <td id=\"T_04b9f_row0_col4\" class=\"data row0 col4\" >4.98</td>\n",
       "    </tr>\n",
       "    <tr>\n",
       "      <th id=\"T_04b9f_level0_row1\" class=\"row_heading level0 row1\" >Avg. Delivery Time</th>\n",
       "      <td id=\"T_04b9f_row1_col0\" class=\"data row1 col0\" >10.00</td>\n",
       "      <td id=\"T_04b9f_row1_col1\" class=\"data row1 col1\" >10.82</td>\n",
       "      <td id=\"T_04b9f_row1_col2\" class=\"data row1 col2\" >Y</td>\n",
       "      <td id=\"T_04b9f_row1_col3\" class=\"data row1 col3\" >-1.23</td>\n",
       "      <td id=\"T_04b9f_row1_col4\" class=\"data row1 col4\" >8.10</td>\n",
       "    </tr>\n",
       "    <tr>\n",
       "      <th id=\"T_04b9f_level0_row2\" class=\"row_heading level0 row2\" >Avg. Out the Door</th>\n",
       "      <td id=\"T_04b9f_row2_col0\" class=\"data row2 col0\" >4.00</td>\n",
       "      <td id=\"T_04b9f_row2_col1\" class=\"data row2 col1\" >4.70</td>\n",
       "      <td id=\"T_04b9f_row2_col2\" class=\"data row2 col2\" >N</td>\n",
       "      <td id=\"T_04b9f_row2_col3\" class=\"data row2 col3\" >0.05</td>\n",
       "      <td id=\"T_04b9f_row2_col4\" class=\"data row2 col4\" >4.76</td>\n",
       "    </tr>\n",
       "    <tr>\n",
       "      <th id=\"T_04b9f_level0_row3\" class=\"row_heading level0 row3\" >ORH</th>\n",
       "      <td id=\"T_04b9f_row3_col0\" class=\"data row3 col0\" >9.00</td>\n",
       "      <td id=\"T_04b9f_row3_col1\" class=\"data row3 col1\" >4.36</td>\n",
       "      <td id=\"T_04b9f_row3_col2\" class=\"data row3 col2\" >N</td>\n",
       "      <td id=\"T_04b9f_row3_col3\" class=\"data row3 col3\" >0.74</td>\n",
       "      <td id=\"T_04b9f_row3_col4\" class=\"data row3 col4\" >5.62</td>\n",
       "    </tr>\n",
       "    <tr>\n",
       "      <th id=\"T_04b9f_level0_row4\" class=\"row_heading level0 row4\" >Late %</th>\n",
       "      <td id=\"T_04b9f_row4_col0\" class=\"data row4 col0\" >0.10</td>\n",
       "      <td id=\"T_04b9f_row4_col1\" class=\"data row4 col1\" >0.06</td>\n",
       "      <td id=\"T_04b9f_row4_col2\" class=\"data row4 col2\" >Y</td>\n",
       "      <td id=\"T_04b9f_row4_col3\" class=\"data row4 col3\" >-0.81</td>\n",
       "      <td id=\"T_04b9f_row4_col4\" class=\"data row4 col4\" >0.00</td>\n",
       "    </tr>\n",
       "    <tr>\n",
       "      <th id=\"T_04b9f_level0_row5\" class=\"row_heading level0 row5\" >False Pos %</th>\n",
       "      <td id=\"T_04b9f_row5_col0\" class=\"data row5 col0\" >0.01</td>\n",
       "      <td id=\"T_04b9f_row5_col1\" class=\"data row5 col1\" >0.37</td>\n",
       "      <td id=\"T_04b9f_row5_col2\" class=\"data row5 col2\" >N</td>\n",
       "      <td id=\"T_04b9f_row5_col3\" class=\"data row5 col3\" >-0.05</td>\n",
       "      <td id=\"T_04b9f_row5_col4\" class=\"data row5 col4\" >0.36</td>\n",
       "    </tr>\n",
       "  </tbody>\n",
       "</table>\n"
      ],
      "text/plain": [
       "<pandas.io.formats.style.Styler at 0x1c5a3cd9250>"
      ]
     },
     "metadata": {},
     "output_type": "display_data"
    },
    {
     "data": {
      "text/markdown": [
       "## Feedback:"
      ]
     },
     "metadata": {},
     "output_type": "display_data"
    },
    {
     "name": "stderr",
     "output_type": "stream",
     "text": [
      "C:\\Users\\aidan\\AppData\\Local\\Temp\\ipykernel_27120\\158198044.py:16: FutureWarning: Series.__getitem__ treating keys as positions is deprecated. In a future version, integer keys will always be treated as labels (consistent with DataFrame behavior). To access a value by position, use `ser.iloc[pos]`\n",
      "  if (Feedbackdf.iloc[i][0] == 1) and (Feedbackdf.iloc[i][2] == employee_name) and (Feedbackdf.iloc[i][3] == employee_name):\n",
      "C:\\Users\\aidan\\AppData\\Local\\Temp\\ipykernel_27120\\158198044.py:21: FutureWarning: Series.__getitem__ treating keys as positions is deprecated. In a future version, integer keys will always be treated as labels (consistent with DataFrame behavior). To access a value by position, use `ser.iloc[pos]`\n",
      "  elif (Feedbackdf.iloc[i][0] == 0 or Feedbackdf.iloc[i][0] == -1) and (Feedbackdf.iloc[i][2] == employee_name) and (Feedbackdf.iloc[i][3] == employee_name):\n",
      "C:\\Users\\aidan\\AppData\\Local\\Temp\\ipykernel_27120\\158198044.py:26: FutureWarning: Series.__getitem__ treating keys as positions is deprecated. In a future version, integer keys will always be treated as labels (consistent with DataFrame behavior). To access a value by position, use `ser.iloc[pos]`\n",
      "  elif (Feedbackdf.iloc[i][0] == 1) and (Feedbackdf.iloc[i][2] == employee_name) and (Feedbackdf.iloc[i][4] == 'R'):\n",
      "C:\\Users\\aidan\\AppData\\Local\\Temp\\ipykernel_27120\\158198044.py:31: FutureWarning: Series.__getitem__ treating keys as positions is deprecated. In a future version, integer keys will always be treated as labels (consistent with DataFrame behavior). To access a value by position, use `ser.iloc[pos]`\n",
      "  elif (Feedbackdf.iloc[i][0] == 1) and (Feedbackdf.iloc[i][3] == employee_name) and (Feedbackdf.iloc[i][4] == 'P'):\n",
      "C:\\Users\\aidan\\AppData\\Local\\Temp\\ipykernel_27120\\158198044.py:36: FutureWarning: Series.__getitem__ treating keys as positions is deprecated. In a future version, integer keys will always be treated as labels (consistent with DataFrame behavior). To access a value by position, use `ser.iloc[pos]`\n",
      "  elif (Feedbackdf.iloc[i][0] == 0 or Feedbackdf.iloc[i][0] == -1) and (Feedbackdf.iloc[i][2] == employee_name) and (Feedbackdf.iloc[i][4] == 'R'):\n",
      "C:\\Users\\aidan\\AppData\\Local\\Temp\\ipykernel_27120\\158198044.py:41: FutureWarning: Series.__getitem__ treating keys as positions is deprecated. In a future version, integer keys will always be treated as labels (consistent with DataFrame behavior). To access a value by position, use `ser.iloc[pos]`\n",
      "  elif (Feedbackdf.iloc[i][0] == 0 or Feedbackdf.iloc[i][0] == -1) and (Feedbackdf.iloc[i][3] == employee_name) and (Feedbackdf.iloc[i][4] == 'P'):\n",
      "C:\\Users\\aidan\\AppData\\Local\\Temp\\ipykernel_27120\\158198044.py:46: FutureWarning: Series.__getitem__ treating keys as positions is deprecated. In a future version, integer keys will always be treated as labels (consistent with DataFrame behavior). To access a value by position, use `ser.iloc[pos]`\n",
      "  elif (Feedbackdf.iloc[i][0] == 1) and (Feedbackdf.iloc[i][4] == 'I') and (Feedbackdf.iloc[i][2] == employee_name or Feedbackdf.iloc[i][3] == employee_name):\n",
      "C:\\Users\\aidan\\AppData\\Local\\Temp\\ipykernel_27120\\158198044.py:51: FutureWarning: Series.__getitem__ treating keys as positions is deprecated. In a future version, integer keys will always be treated as labels (consistent with DataFrame behavior). To access a value by position, use `ser.iloc[pos]`\n",
      "  elif (Feedbackdf.iloc[i][0] == 0 or Feedbackdf.iloc[i][0] == -1) and (Feedbackdf.iloc[i][4] == 'I') and (Feedbackdf.iloc[i][2] == employee_name or Feedbackdf.iloc[i][3] == employee_name):\n"
     ]
    },
    {
     "data": {
      "text/html": [
       "<div>\n",
       "<style scoped>\n",
       "    .dataframe tbody tr th:only-of-type {\n",
       "        vertical-align: middle;\n",
       "    }\n",
       "\n",
       "    .dataframe tbody tr th {\n",
       "        vertical-align: top;\n",
       "    }\n",
       "\n",
       "    .dataframe thead th {\n",
       "        text-align: right;\n",
       "    }\n",
       "</style>\n",
       "<table border=\"1\" class=\"dataframe\">\n",
       "  <thead>\n",
       "    <tr style=\"text-align: right;\">\n",
       "      <th></th>\n",
       "      <th>Positive Feedback</th>\n",
       "      <th>Negative Feedback</th>\n",
       "    </tr>\n",
       "  </thead>\n",
       "  <tbody>\n",
       "  </tbody>\n",
       "</table>\n",
       "</div>"
      ],
      "text/plain": [
       "Empty DataFrame\n",
       "Columns: [Positive Feedback, Negative Feedback]\n",
       "Index: []"
      ]
     },
     "metadata": {},
     "output_type": "display_data"
    },
    {
     "data": {
      "text/markdown": [
       "## Josh Donegan's Score: 2/6"
      ]
     },
     "metadata": {},
     "output_type": "display_data"
    },
    {
     "data": {
      "text/markdown": [
       "### ------------------------------------------------------------------------------------------"
      ]
     },
     "metadata": {},
     "output_type": "display_data"
    },
    {
     "name": "stderr",
     "output_type": "stream",
     "text": [
      "C:\\Users\\aidan\\AppData\\Local\\Temp\\ipykernel_27120\\2927901798.py:7: FutureWarning: Series.__getitem__ treating keys as positions is deprecated. In a future version, integer keys will always be treated as labels (consistent with DataFrame behavior). To access a value by position, use `ser.iloc[pos]`\n",
      "  employee_name = racerdf[0]\n"
     ]
    },
    {
     "data": {
      "text/markdown": [
       "## Dylan Platt's Eval:"
      ]
     },
     "metadata": {},
     "output_type": "display_data"
    },
    {
     "name": "stderr",
     "output_type": "stream",
     "text": [
      "C:\\Users\\aidan\\AppData\\Local\\Temp\\ipykernel_27120\\2927901798.py:23: FutureWarning: Series.__getitem__ treating keys as positions is deprecated. In a future version, integer keys will always be treated as labels (consistent with DataFrame behavior). To access a value by position, use `ser.iloc[pos]`\n",
      "  if storedf[employee_name][5] == -1:\n"
     ]
    },
    {
     "data": {
      "text/html": [
       "<style type=\"text/css\">\n",
       "#T_79a32_row0_col3 {\n",
       "  background-color: #c5e67e;\n",
       "  color: #000000;\n",
       "}\n",
       "#T_79a32_row1_col3 {\n",
       "  background-color: #f1f9ac;\n",
       "  color: #000000;\n",
       "}\n",
       "#T_79a32_row2_col3 {\n",
       "  background-color: #f8fcb6;\n",
       "  color: #000000;\n",
       "}\n",
       "#T_79a32_row3_col3 {\n",
       "  background-color: #e75337;\n",
       "  color: #f1f1f1;\n",
       "}\n",
       "#T_79a32_row4_col3 {\n",
       "  background-color: #ecf7a6;\n",
       "  color: #000000;\n",
       "}\n",
       "#T_79a32_row5_col3 {\n",
       "  background-color: #fdb365;\n",
       "  color: #000000;\n",
       "}\n",
       "</style>\n",
       "<table id=\"T_79a32\">\n",
       "  <thead>\n",
       "    <tr>\n",
       "      <th class=\"blank level0\" >&nbsp;</th>\n",
       "      <th id=\"T_79a32_level0_col0\" class=\"col_heading level0 col0\" >Benchmarks</th>\n",
       "      <th id=\"T_79a32_level0_col1\" class=\"col_heading level0 col1\" >Store</th>\n",
       "      <th id=\"T_79a32_level0_col2\" class=\"col_heading level0 col2\" >Pass</th>\n",
       "      <th id=\"T_79a32_level0_col3\" class=\"col_heading level0 col3\" >ZScore</th>\n",
       "      <th id=\"T_79a32_level0_col4\" class=\"col_heading level0 col4\" >Dylan Platt</th>\n",
       "    </tr>\n",
       "  </thead>\n",
       "  <tbody>\n",
       "    <tr>\n",
       "      <th id=\"T_79a32_level0_row0\" class=\"row_heading level0 row0\" >Avg. Hrs Worked</th>\n",
       "      <td id=\"T_79a32_row0_col0\" class=\"data row0 col0\" >12.00</td>\n",
       "      <td id=\"T_79a32_row0_col1\" class=\"data row0 col1\" >12.08</td>\n",
       "      <td id=\"T_79a32_row0_col2\" class=\"data row0 col2\" >Y</td>\n",
       "      <td id=\"T_79a32_row0_col3\" class=\"data row0 col3\" >0.69</td>\n",
       "      <td id=\"T_79a32_row0_col4\" class=\"data row0 col4\" >16.34</td>\n",
       "    </tr>\n",
       "    <tr>\n",
       "      <th id=\"T_79a32_level0_row1\" class=\"row_heading level0 row1\" >Avg. Delivery Time</th>\n",
       "      <td id=\"T_79a32_row1_col0\" class=\"data row1 col0\" >10.00</td>\n",
       "      <td id=\"T_79a32_row1_col1\" class=\"data row1 col1\" >10.82</td>\n",
       "      <td id=\"T_79a32_row1_col2\" class=\"data row1 col2\" >N</td>\n",
       "      <td id=\"T_79a32_row1_col3\" class=\"data row1 col3\" >-0.19</td>\n",
       "      <td id=\"T_79a32_row1_col4\" class=\"data row1 col4\" >10.40</td>\n",
       "    </tr>\n",
       "    <tr>\n",
       "      <th id=\"T_79a32_level0_row2\" class=\"row_heading level0 row2\" >Avg. Out the Door</th>\n",
       "      <td id=\"T_79a32_row2_col0\" class=\"data row2 col0\" >4.00</td>\n",
       "      <td id=\"T_79a32_row2_col1\" class=\"data row2 col1\" >4.70</td>\n",
       "      <td id=\"T_79a32_row2_col2\" class=\"data row2 col2\" >N</td>\n",
       "      <td id=\"T_79a32_row2_col3\" class=\"data row2 col3\" >-0.09</td>\n",
       "      <td id=\"T_79a32_row2_col4\" class=\"data row2 col4\" >4.59</td>\n",
       "    </tr>\n",
       "    <tr>\n",
       "      <th id=\"T_79a32_level0_row3\" class=\"row_heading level0 row3\" >ORH</th>\n",
       "      <td id=\"T_79a32_row3_col0\" class=\"data row3 col0\" >9.00</td>\n",
       "      <td id=\"T_79a32_row3_col1\" class=\"data row3 col1\" >4.36</td>\n",
       "      <td id=\"T_79a32_row3_col2\" class=\"data row3 col2\" >N</td>\n",
       "      <td id=\"T_79a32_row3_col3\" class=\"data row3 col3\" >-1.71</td>\n",
       "      <td id=\"T_79a32_row3_col4\" class=\"data row3 col4\" >1.47</td>\n",
       "    </tr>\n",
       "    <tr>\n",
       "      <th id=\"T_79a32_level0_row4\" class=\"row_heading level0 row4\" >Late %</th>\n",
       "      <td id=\"T_79a32_row4_col0\" class=\"data row4 col0\" >0.10</td>\n",
       "      <td id=\"T_79a32_row4_col1\" class=\"data row4 col1\" >0.06</td>\n",
       "      <td id=\"T_79a32_row4_col2\" class=\"data row4 col2\" >Y</td>\n",
       "      <td id=\"T_79a32_row4_col3\" class=\"data row4 col3\" >-0.25</td>\n",
       "      <td id=\"T_79a32_row4_col4\" class=\"data row4 col4\" >0.04</td>\n",
       "    </tr>\n",
       "    <tr>\n",
       "      <th id=\"T_79a32_level0_row5\" class=\"row_heading level0 row5\" >False Pos %</th>\n",
       "      <td id=\"T_79a32_row5_col0\" class=\"data row5 col0\" >0.01</td>\n",
       "      <td id=\"T_79a32_row5_col1\" class=\"data row5 col1\" >0.37</td>\n",
       "      <td id=\"T_79a32_row5_col2\" class=\"data row5 col2\" >N</td>\n",
       "      <td id=\"T_79a32_row5_col3\" class=\"data row5 col3\" >0.95</td>\n",
       "      <td id=\"T_79a32_row5_col4\" class=\"data row5 col4\" >0.50</td>\n",
       "    </tr>\n",
       "  </tbody>\n",
       "</table>\n"
      ],
      "text/plain": [
       "<pandas.io.formats.style.Styler at 0x1c5a3cd9250>"
      ]
     },
     "metadata": {},
     "output_type": "display_data"
    },
    {
     "data": {
      "text/markdown": [
       "## Feedback:"
      ]
     },
     "metadata": {},
     "output_type": "display_data"
    },
    {
     "name": "stderr",
     "output_type": "stream",
     "text": [
      "C:\\Users\\aidan\\AppData\\Local\\Temp\\ipykernel_27120\\158198044.py:16: FutureWarning: Series.__getitem__ treating keys as positions is deprecated. In a future version, integer keys will always be treated as labels (consistent with DataFrame behavior). To access a value by position, use `ser.iloc[pos]`\n",
      "  if (Feedbackdf.iloc[i][0] == 1) and (Feedbackdf.iloc[i][2] == employee_name) and (Feedbackdf.iloc[i][3] == employee_name):\n",
      "C:\\Users\\aidan\\AppData\\Local\\Temp\\ipykernel_27120\\158198044.py:21: FutureWarning: Series.__getitem__ treating keys as positions is deprecated. In a future version, integer keys will always be treated as labels (consistent with DataFrame behavior). To access a value by position, use `ser.iloc[pos]`\n",
      "  elif (Feedbackdf.iloc[i][0] == 0 or Feedbackdf.iloc[i][0] == -1) and (Feedbackdf.iloc[i][2] == employee_name) and (Feedbackdf.iloc[i][3] == employee_name):\n",
      "C:\\Users\\aidan\\AppData\\Local\\Temp\\ipykernel_27120\\158198044.py:26: FutureWarning: Series.__getitem__ treating keys as positions is deprecated. In a future version, integer keys will always be treated as labels (consistent with DataFrame behavior). To access a value by position, use `ser.iloc[pos]`\n",
      "  elif (Feedbackdf.iloc[i][0] == 1) and (Feedbackdf.iloc[i][2] == employee_name) and (Feedbackdf.iloc[i][4] == 'R'):\n",
      "C:\\Users\\aidan\\AppData\\Local\\Temp\\ipykernel_27120\\158198044.py:31: FutureWarning: Series.__getitem__ treating keys as positions is deprecated. In a future version, integer keys will always be treated as labels (consistent with DataFrame behavior). To access a value by position, use `ser.iloc[pos]`\n",
      "  elif (Feedbackdf.iloc[i][0] == 1) and (Feedbackdf.iloc[i][3] == employee_name) and (Feedbackdf.iloc[i][4] == 'P'):\n",
      "C:\\Users\\aidan\\AppData\\Local\\Temp\\ipykernel_27120\\158198044.py:36: FutureWarning: Series.__getitem__ treating keys as positions is deprecated. In a future version, integer keys will always be treated as labels (consistent with DataFrame behavior). To access a value by position, use `ser.iloc[pos]`\n",
      "  elif (Feedbackdf.iloc[i][0] == 0 or Feedbackdf.iloc[i][0] == -1) and (Feedbackdf.iloc[i][2] == employee_name) and (Feedbackdf.iloc[i][4] == 'R'):\n",
      "C:\\Users\\aidan\\AppData\\Local\\Temp\\ipykernel_27120\\158198044.py:41: FutureWarning: Series.__getitem__ treating keys as positions is deprecated. In a future version, integer keys will always be treated as labels (consistent with DataFrame behavior). To access a value by position, use `ser.iloc[pos]`\n",
      "  elif (Feedbackdf.iloc[i][0] == 0 or Feedbackdf.iloc[i][0] == -1) and (Feedbackdf.iloc[i][3] == employee_name) and (Feedbackdf.iloc[i][4] == 'P'):\n",
      "C:\\Users\\aidan\\AppData\\Local\\Temp\\ipykernel_27120\\158198044.py:46: FutureWarning: Series.__getitem__ treating keys as positions is deprecated. In a future version, integer keys will always be treated as labels (consistent with DataFrame behavior). To access a value by position, use `ser.iloc[pos]`\n",
      "  elif (Feedbackdf.iloc[i][0] == 1) and (Feedbackdf.iloc[i][4] == 'I') and (Feedbackdf.iloc[i][2] == employee_name or Feedbackdf.iloc[i][3] == employee_name):\n",
      "C:\\Users\\aidan\\AppData\\Local\\Temp\\ipykernel_27120\\158198044.py:51: FutureWarning: Series.__getitem__ treating keys as positions is deprecated. In a future version, integer keys will always be treated as labels (consistent with DataFrame behavior). To access a value by position, use `ser.iloc[pos]`\n",
      "  elif (Feedbackdf.iloc[i][0] == 0 or Feedbackdf.iloc[i][0] == -1) and (Feedbackdf.iloc[i][4] == 'I') and (Feedbackdf.iloc[i][2] == employee_name or Feedbackdf.iloc[i][3] == employee_name):\n"
     ]
    },
    {
     "data": {
      "text/html": [
       "<div>\n",
       "<style scoped>\n",
       "    .dataframe tbody tr th:only-of-type {\n",
       "        vertical-align: middle;\n",
       "    }\n",
       "\n",
       "    .dataframe tbody tr th {\n",
       "        vertical-align: top;\n",
       "    }\n",
       "\n",
       "    .dataframe thead th {\n",
       "        text-align: right;\n",
       "    }\n",
       "</style>\n",
       "<table border=\"1\" class=\"dataframe\">\n",
       "  <thead>\n",
       "    <tr style=\"text-align: right;\">\n",
       "      <th></th>\n",
       "      <th>Positive Feedback</th>\n",
       "      <th>Negative Feedback</th>\n",
       "    </tr>\n",
       "  </thead>\n",
       "  <tbody>\n",
       "  </tbody>\n",
       "</table>\n",
       "</div>"
      ],
      "text/plain": [
       "Empty DataFrame\n",
       "Columns: [Positive Feedback, Negative Feedback]\n",
       "Index: []"
      ]
     },
     "metadata": {},
     "output_type": "display_data"
    },
    {
     "data": {
      "text/markdown": [
       "## Dylan Platt's Score: 2/6"
      ]
     },
     "metadata": {},
     "output_type": "display_data"
    },
    {
     "data": {
      "text/markdown": [
       "### ------------------------------------------------------------------------------------------"
      ]
     },
     "metadata": {},
     "output_type": "display_data"
    },
    {
     "name": "stderr",
     "output_type": "stream",
     "text": [
      "C:\\Users\\aidan\\AppData\\Local\\Temp\\ipykernel_27120\\2927901798.py:7: FutureWarning: Series.__getitem__ treating keys as positions is deprecated. In a future version, integer keys will always be treated as labels (consistent with DataFrame behavior). To access a value by position, use `ser.iloc[pos]`\n",
      "  employee_name = racerdf[0]\n"
     ]
    },
    {
     "data": {
      "text/markdown": [
       "## Lexi Chandler's Eval:"
      ]
     },
     "metadata": {},
     "output_type": "display_data"
    },
    {
     "name": "stderr",
     "output_type": "stream",
     "text": [
      "C:\\Users\\aidan\\AppData\\Local\\Temp\\ipykernel_27120\\2927901798.py:23: FutureWarning: Series.__getitem__ treating keys as positions is deprecated. In a future version, integer keys will always be treated as labels (consistent with DataFrame behavior). To access a value by position, use `ser.iloc[pos]`\n",
      "  if storedf[employee_name][5] == -1:\n"
     ]
    },
    {
     "data": {
      "text/html": [
       "<style type=\"text/css\">\n",
       "#T_0781a_row0_col3 {\n",
       "  background-color: #98d368;\n",
       "  color: #000000;\n",
       "}\n",
       "#T_0781a_row1_col3 {\n",
       "  background-color: #f88950;\n",
       "  color: #f1f1f1;\n",
       "}\n",
       "#T_0781a_row2_col3 {\n",
       "  background-color: #d93429;\n",
       "  color: #f1f1f1;\n",
       "}\n",
       "#T_0781a_row3_col3 {\n",
       "  background-color: #dd3d2d;\n",
       "  color: #f1f1f1;\n",
       "}\n",
       "#T_0781a_row4_col3 {\n",
       "  background-color: #eff8aa;\n",
       "  color: #000000;\n",
       "}\n",
       "#T_0781a_row5_col3 {\n",
       "  background-color: #87cb67;\n",
       "  color: #000000;\n",
       "}\n",
       "</style>\n",
       "<table id=\"T_0781a\">\n",
       "  <thead>\n",
       "    <tr>\n",
       "      <th class=\"blank level0\" >&nbsp;</th>\n",
       "      <th id=\"T_0781a_level0_col0\" class=\"col_heading level0 col0\" >Benchmarks</th>\n",
       "      <th id=\"T_0781a_level0_col1\" class=\"col_heading level0 col1\" >Store</th>\n",
       "      <th id=\"T_0781a_level0_col2\" class=\"col_heading level0 col2\" >Pass</th>\n",
       "      <th id=\"T_0781a_level0_col3\" class=\"col_heading level0 col3\" >ZScore</th>\n",
       "      <th id=\"T_0781a_level0_col4\" class=\"col_heading level0 col4\" >Lexi Chandler</th>\n",
       "    </tr>\n",
       "  </thead>\n",
       "  <tbody>\n",
       "    <tr>\n",
       "      <th id=\"T_0781a_level0_row0\" class=\"row_heading level0 row0\" >Avg. Hrs Worked</th>\n",
       "      <td id=\"T_0781a_row0_col0\" class=\"data row0 col0\" >12.00</td>\n",
       "      <td id=\"T_0781a_row0_col1\" class=\"data row0 col1\" >12.08</td>\n",
       "      <td id=\"T_0781a_row0_col2\" class=\"data row0 col2\" >Y</td>\n",
       "      <td id=\"T_0781a_row0_col3\" class=\"data row0 col3\" >1.10</td>\n",
       "      <td id=\"T_0781a_row0_col4\" class=\"data row0 col4\" >18.92</td>\n",
       "    </tr>\n",
       "    <tr>\n",
       "      <th id=\"T_0781a_level0_row1\" class=\"row_heading level0 row1\" >Avg. Delivery Time</th>\n",
       "      <td id=\"T_0781a_row1_col0\" class=\"data row1 col0\" >10.00</td>\n",
       "      <td id=\"T_0781a_row1_col1\" class=\"data row1 col1\" >10.82</td>\n",
       "      <td id=\"T_0781a_row1_col2\" class=\"data row1 col2\" >N</td>\n",
       "      <td id=\"T_0781a_row1_col3\" class=\"data row1 col3\" >1.28</td>\n",
       "      <td id=\"T_0781a_row1_col4\" class=\"data row1 col4\" >13.64</td>\n",
       "    </tr>\n",
       "    <tr>\n",
       "      <th id=\"T_0781a_level0_row2\" class=\"row_heading level0 row2\" >Avg. Out the Door</th>\n",
       "      <td id=\"T_0781a_row2_col0\" class=\"data row2 col0\" >4.00</td>\n",
       "      <td id=\"T_0781a_row2_col1\" class=\"data row2 col1\" >4.70</td>\n",
       "      <td id=\"T_0781a_row2_col2\" class=\"data row2 col2\" >N</td>\n",
       "      <td id=\"T_0781a_row2_col3\" class=\"data row2 col3\" >1.97</td>\n",
       "      <td id=\"T_0781a_row2_col4\" class=\"data row2 col4\" >7.15</td>\n",
       "    </tr>\n",
       "    <tr>\n",
       "      <th id=\"T_0781a_level0_row3\" class=\"row_heading level0 row3\" >ORH</th>\n",
       "      <td id=\"T_0781a_row3_col0\" class=\"data row3 col0\" >9.00</td>\n",
       "      <td id=\"T_0781a_row3_col1\" class=\"data row3 col1\" >4.36</td>\n",
       "      <td id=\"T_0781a_row3_col2\" class=\"data row3 col2\" >N</td>\n",
       "      <td id=\"T_0781a_row3_col3\" class=\"data row3 col3\" >-1.89</td>\n",
       "      <td id=\"T_0781a_row3_col4\" class=\"data row3 col4\" >1.16</td>\n",
       "    </tr>\n",
       "    <tr>\n",
       "      <th id=\"T_0781a_level0_row4\" class=\"row_heading level0 row4\" >Late %</th>\n",
       "      <td id=\"T_0781a_row4_col0\" class=\"data row4 col0\" >0.10</td>\n",
       "      <td id=\"T_0781a_row4_col1\" class=\"data row4 col1\" >0.06</td>\n",
       "      <td id=\"T_0781a_row4_col2\" class=\"data row4 col2\" >Y</td>\n",
       "      <td id=\"T_0781a_row4_col3\" class=\"data row4 col3\" >-0.20</td>\n",
       "      <td id=\"T_0781a_row4_col4\" class=\"data row4 col4\" >0.05</td>\n",
       "    </tr>\n",
       "    <tr>\n",
       "      <th id=\"T_0781a_level0_row5\" class=\"row_heading level0 row5\" >False Pos %</th>\n",
       "      <td id=\"T_0781a_row5_col0\" class=\"data row5 col0\" >0.01</td>\n",
       "      <td id=\"T_0781a_row5_col1\" class=\"data row5 col1\" >0.37</td>\n",
       "      <td id=\"T_0781a_row5_col2\" class=\"data row5 col2\" >N</td>\n",
       "      <td id=\"T_0781a_row5_col3\" class=\"data row5 col3\" >-1.24</td>\n",
       "      <td id=\"T_0781a_row5_col4\" class=\"data row5 col4\" >0.20</td>\n",
       "    </tr>\n",
       "  </tbody>\n",
       "</table>\n"
      ],
      "text/plain": [
       "<pandas.io.formats.style.Styler at 0x1c5a3cd9250>"
      ]
     },
     "metadata": {},
     "output_type": "display_data"
    },
    {
     "data": {
      "text/markdown": [
       "## Feedback:"
      ]
     },
     "metadata": {},
     "output_type": "display_data"
    },
    {
     "name": "stderr",
     "output_type": "stream",
     "text": [
      "C:\\Users\\aidan\\AppData\\Local\\Temp\\ipykernel_27120\\158198044.py:16: FutureWarning: Series.__getitem__ treating keys as positions is deprecated. In a future version, integer keys will always be treated as labels (consistent with DataFrame behavior). To access a value by position, use `ser.iloc[pos]`\n",
      "  if (Feedbackdf.iloc[i][0] == 1) and (Feedbackdf.iloc[i][2] == employee_name) and (Feedbackdf.iloc[i][3] == employee_name):\n",
      "C:\\Users\\aidan\\AppData\\Local\\Temp\\ipykernel_27120\\158198044.py:21: FutureWarning: Series.__getitem__ treating keys as positions is deprecated. In a future version, integer keys will always be treated as labels (consistent with DataFrame behavior). To access a value by position, use `ser.iloc[pos]`\n",
      "  elif (Feedbackdf.iloc[i][0] == 0 or Feedbackdf.iloc[i][0] == -1) and (Feedbackdf.iloc[i][2] == employee_name) and (Feedbackdf.iloc[i][3] == employee_name):\n",
      "C:\\Users\\aidan\\AppData\\Local\\Temp\\ipykernel_27120\\158198044.py:26: FutureWarning: Series.__getitem__ treating keys as positions is deprecated. In a future version, integer keys will always be treated as labels (consistent with DataFrame behavior). To access a value by position, use `ser.iloc[pos]`\n",
      "  elif (Feedbackdf.iloc[i][0] == 1) and (Feedbackdf.iloc[i][2] == employee_name) and (Feedbackdf.iloc[i][4] == 'R'):\n",
      "C:\\Users\\aidan\\AppData\\Local\\Temp\\ipykernel_27120\\158198044.py:31: FutureWarning: Series.__getitem__ treating keys as positions is deprecated. In a future version, integer keys will always be treated as labels (consistent with DataFrame behavior). To access a value by position, use `ser.iloc[pos]`\n",
      "  elif (Feedbackdf.iloc[i][0] == 1) and (Feedbackdf.iloc[i][3] == employee_name) and (Feedbackdf.iloc[i][4] == 'P'):\n",
      "C:\\Users\\aidan\\AppData\\Local\\Temp\\ipykernel_27120\\158198044.py:36: FutureWarning: Series.__getitem__ treating keys as positions is deprecated. In a future version, integer keys will always be treated as labels (consistent with DataFrame behavior). To access a value by position, use `ser.iloc[pos]`\n",
      "  elif (Feedbackdf.iloc[i][0] == 0 or Feedbackdf.iloc[i][0] == -1) and (Feedbackdf.iloc[i][2] == employee_name) and (Feedbackdf.iloc[i][4] == 'R'):\n",
      "C:\\Users\\aidan\\AppData\\Local\\Temp\\ipykernel_27120\\158198044.py:41: FutureWarning: Series.__getitem__ treating keys as positions is deprecated. In a future version, integer keys will always be treated as labels (consistent with DataFrame behavior). To access a value by position, use `ser.iloc[pos]`\n",
      "  elif (Feedbackdf.iloc[i][0] == 0 or Feedbackdf.iloc[i][0] == -1) and (Feedbackdf.iloc[i][3] == employee_name) and (Feedbackdf.iloc[i][4] == 'P'):\n",
      "C:\\Users\\aidan\\AppData\\Local\\Temp\\ipykernel_27120\\158198044.py:46: FutureWarning: Series.__getitem__ treating keys as positions is deprecated. In a future version, integer keys will always be treated as labels (consistent with DataFrame behavior). To access a value by position, use `ser.iloc[pos]`\n",
      "  elif (Feedbackdf.iloc[i][0] == 1) and (Feedbackdf.iloc[i][4] == 'I') and (Feedbackdf.iloc[i][2] == employee_name or Feedbackdf.iloc[i][3] == employee_name):\n",
      "C:\\Users\\aidan\\AppData\\Local\\Temp\\ipykernel_27120\\158198044.py:51: FutureWarning: Series.__getitem__ treating keys as positions is deprecated. In a future version, integer keys will always be treated as labels (consistent with DataFrame behavior). To access a value by position, use `ser.iloc[pos]`\n",
      "  elif (Feedbackdf.iloc[i][0] == 0 or Feedbackdf.iloc[i][0] == -1) and (Feedbackdf.iloc[i][4] == 'I') and (Feedbackdf.iloc[i][2] == employee_name or Feedbackdf.iloc[i][3] == employee_name):\n"
     ]
    },
    {
     "data": {
      "text/html": [
       "<div>\n",
       "<style scoped>\n",
       "    .dataframe tbody tr th:only-of-type {\n",
       "        vertical-align: middle;\n",
       "    }\n",
       "\n",
       "    .dataframe tbody tr th {\n",
       "        vertical-align: top;\n",
       "    }\n",
       "\n",
       "    .dataframe thead th {\n",
       "        text-align: right;\n",
       "    }\n",
       "</style>\n",
       "<table border=\"1\" class=\"dataframe\">\n",
       "  <thead>\n",
       "    <tr style=\"text-align: right;\">\n",
       "      <th></th>\n",
       "      <th>Positive Feedback</th>\n",
       "      <th>Negative Feedback</th>\n",
       "    </tr>\n",
       "  </thead>\n",
       "  <tbody>\n",
       "  </tbody>\n",
       "</table>\n",
       "</div>"
      ],
      "text/plain": [
       "Empty DataFrame\n",
       "Columns: [Positive Feedback, Negative Feedback]\n",
       "Index: []"
      ]
     },
     "metadata": {},
     "output_type": "display_data"
    },
    {
     "data": {
      "text/markdown": [
       "## Lexi Chandler's Score: 2/6"
      ]
     },
     "metadata": {},
     "output_type": "display_data"
    },
    {
     "data": {
      "text/markdown": [
       "### ------------------------------------------------------------------------------------------"
      ]
     },
     "metadata": {},
     "output_type": "display_data"
    },
    {
     "name": "stderr",
     "output_type": "stream",
     "text": [
      "C:\\Users\\aidan\\AppData\\Local\\Temp\\ipykernel_27120\\2927901798.py:7: FutureWarning: Series.__getitem__ treating keys as positions is deprecated. In a future version, integer keys will always be treated as labels (consistent with DataFrame behavior). To access a value by position, use `ser.iloc[pos]`\n",
      "  employee_name = racerdf[0]\n"
     ]
    },
    {
     "data": {
      "text/markdown": [
       "## Madden Edwards's Eval:"
      ]
     },
     "metadata": {},
     "output_type": "display_data"
    },
    {
     "name": "stderr",
     "output_type": "stream",
     "text": [
      "C:\\Users\\aidan\\AppData\\Local\\Temp\\ipykernel_27120\\2927901798.py:23: FutureWarning: Series.__getitem__ treating keys as positions is deprecated. In a future version, integer keys will always be treated as labels (consistent with DataFrame behavior). To access a value by position, use `ser.iloc[pos]`\n",
      "  if storedf[employee_name][5] == -1:\n"
     ]
    },
    {
     "data": {
      "text/html": [
       "<style type=\"text/css\">\n",
       "#T_3cc06_row0_col3 {\n",
       "  background-color: #fed683;\n",
       "  color: #000000;\n",
       "}\n",
       "#T_3cc06_row1_col3 {\n",
       "  background-color: #fecc7b;\n",
       "  color: #000000;\n",
       "}\n",
       "#T_3cc06_row2_col3 {\n",
       "  background-color: #ea5739;\n",
       "  color: #f1f1f1;\n",
       "}\n",
       "#T_3cc06_row3_col3 {\n",
       "  background-color: #fba05b;\n",
       "  color: #000000;\n",
       "}\n",
       "#T_3cc06_row4_col3 {\n",
       "  background-color: #fee18d;\n",
       "  color: #000000;\n",
       "}\n",
       "#T_3cc06_row5_col3 {\n",
       "  background-color: #fdb365;\n",
       "  color: #000000;\n",
       "}\n",
       "</style>\n",
       "<table id=\"T_3cc06\">\n",
       "  <thead>\n",
       "    <tr>\n",
       "      <th class=\"blank level0\" >&nbsp;</th>\n",
       "      <th id=\"T_3cc06_level0_col0\" class=\"col_heading level0 col0\" >Benchmarks</th>\n",
       "      <th id=\"T_3cc06_level0_col1\" class=\"col_heading level0 col1\" >Store</th>\n",
       "      <th id=\"T_3cc06_level0_col2\" class=\"col_heading level0 col2\" >Pass</th>\n",
       "      <th id=\"T_3cc06_level0_col3\" class=\"col_heading level0 col3\" >ZScore</th>\n",
       "      <th id=\"T_3cc06_level0_col4\" class=\"col_heading level0 col4\" >Madden Edwards</th>\n",
       "    </tr>\n",
       "  </thead>\n",
       "  <tbody>\n",
       "    <tr>\n",
       "      <th id=\"T_3cc06_level0_row0\" class=\"row_heading level0 row0\" >Avg. Hrs Worked</th>\n",
       "      <td id=\"T_3cc06_row0_col0\" class=\"data row0 col0\" >12.00</td>\n",
       "      <td id=\"T_3cc06_row0_col1\" class=\"data row0 col1\" >12.08</td>\n",
       "      <td id=\"T_3cc06_row0_col2\" class=\"data row0 col2\" >N</td>\n",
       "      <td id=\"T_3cc06_row0_col3\" class=\"data row0 col3\" >-0.59</td>\n",
       "      <td id=\"T_3cc06_row0_col4\" class=\"data row0 col4\" >8.41</td>\n",
       "    </tr>\n",
       "    <tr>\n",
       "      <th id=\"T_3cc06_level0_row1\" class=\"row_heading level0 row1\" >Avg. Delivery Time</th>\n",
       "      <td id=\"T_3cc06_row1_col0\" class=\"data row1 col0\" >10.00</td>\n",
       "      <td id=\"T_3cc06_row1_col1\" class=\"data row1 col1\" >10.82</td>\n",
       "      <td id=\"T_3cc06_row1_col2\" class=\"data row1 col2\" >N</td>\n",
       "      <td id=\"T_3cc06_row1_col3\" class=\"data row1 col3\" >0.70</td>\n",
       "      <td id=\"T_3cc06_row1_col4\" class=\"data row1 col4\" >12.35</td>\n",
       "    </tr>\n",
       "    <tr>\n",
       "      <th id=\"T_3cc06_level0_row2\" class=\"row_heading level0 row2\" >Avg. Out the Door</th>\n",
       "      <td id=\"T_3cc06_row2_col0\" class=\"data row2 col0\" >4.00</td>\n",
       "      <td id=\"T_3cc06_row2_col1\" class=\"data row2 col1\" >4.70</td>\n",
       "      <td id=\"T_3cc06_row2_col2\" class=\"data row2 col2\" >N</td>\n",
       "      <td id=\"T_3cc06_row2_col3\" class=\"data row2 col3\" >1.67</td>\n",
       "      <td id=\"T_3cc06_row2_col4\" class=\"data row2 col4\" >6.78</td>\n",
       "    </tr>\n",
       "    <tr>\n",
       "      <th id=\"T_3cc06_level0_row3\" class=\"row_heading level0 row3\" >ORH</th>\n",
       "      <td id=\"T_3cc06_row3_col0\" class=\"data row3 col0\" >9.00</td>\n",
       "      <td id=\"T_3cc06_row3_col1\" class=\"data row3 col1\" >4.36</td>\n",
       "      <td id=\"T_3cc06_row3_col2\" class=\"data row3 col2\" >N</td>\n",
       "      <td id=\"T_3cc06_row3_col3\" class=\"data row3 col3\" >-1.10</td>\n",
       "      <td id=\"T_3cc06_row3_col4\" class=\"data row3 col4\" >2.50</td>\n",
       "    </tr>\n",
       "    <tr>\n",
       "      <th id=\"T_3cc06_level0_row4\" class=\"row_heading level0 row4\" >Late %</th>\n",
       "      <td id=\"T_3cc06_row4_col0\" class=\"data row4 col0\" >0.10</td>\n",
       "      <td id=\"T_3cc06_row4_col1\" class=\"data row4 col1\" >0.06</td>\n",
       "      <td id=\"T_3cc06_row4_col2\" class=\"data row4 col2\" >Y</td>\n",
       "      <td id=\"T_3cc06_row4_col3\" class=\"data row4 col3\" >0.47</td>\n",
       "      <td id=\"T_3cc06_row4_col4\" class=\"data row4 col4\" >0.10</td>\n",
       "    </tr>\n",
       "    <tr>\n",
       "      <th id=\"T_3cc06_level0_row5\" class=\"row_heading level0 row5\" >False Pos %</th>\n",
       "      <td id=\"T_3cc06_row5_col0\" class=\"data row5 col0\" >0.01</td>\n",
       "      <td id=\"T_3cc06_row5_col1\" class=\"data row5 col1\" >0.37</td>\n",
       "      <td id=\"T_3cc06_row5_col2\" class=\"data row5 col2\" >N</td>\n",
       "      <td id=\"T_3cc06_row5_col3\" class=\"data row5 col3\" >0.95</td>\n",
       "      <td id=\"T_3cc06_row5_col4\" class=\"data row5 col4\" >0.50</td>\n",
       "    </tr>\n",
       "  </tbody>\n",
       "</table>\n"
      ],
      "text/plain": [
       "<pandas.io.formats.style.Styler at 0x1c5a3cd9250>"
      ]
     },
     "metadata": {},
     "output_type": "display_data"
    },
    {
     "data": {
      "text/markdown": [
       "## Feedback:"
      ]
     },
     "metadata": {},
     "output_type": "display_data"
    },
    {
     "name": "stderr",
     "output_type": "stream",
     "text": [
      "C:\\Users\\aidan\\AppData\\Local\\Temp\\ipykernel_27120\\158198044.py:16: FutureWarning: Series.__getitem__ treating keys as positions is deprecated. In a future version, integer keys will always be treated as labels (consistent with DataFrame behavior). To access a value by position, use `ser.iloc[pos]`\n",
      "  if (Feedbackdf.iloc[i][0] == 1) and (Feedbackdf.iloc[i][2] == employee_name) and (Feedbackdf.iloc[i][3] == employee_name):\n",
      "C:\\Users\\aidan\\AppData\\Local\\Temp\\ipykernel_27120\\158198044.py:21: FutureWarning: Series.__getitem__ treating keys as positions is deprecated. In a future version, integer keys will always be treated as labels (consistent with DataFrame behavior). To access a value by position, use `ser.iloc[pos]`\n",
      "  elif (Feedbackdf.iloc[i][0] == 0 or Feedbackdf.iloc[i][0] == -1) and (Feedbackdf.iloc[i][2] == employee_name) and (Feedbackdf.iloc[i][3] == employee_name):\n",
      "C:\\Users\\aidan\\AppData\\Local\\Temp\\ipykernel_27120\\158198044.py:26: FutureWarning: Series.__getitem__ treating keys as positions is deprecated. In a future version, integer keys will always be treated as labels (consistent with DataFrame behavior). To access a value by position, use `ser.iloc[pos]`\n",
      "  elif (Feedbackdf.iloc[i][0] == 1) and (Feedbackdf.iloc[i][2] == employee_name) and (Feedbackdf.iloc[i][4] == 'R'):\n",
      "C:\\Users\\aidan\\AppData\\Local\\Temp\\ipykernel_27120\\158198044.py:31: FutureWarning: Series.__getitem__ treating keys as positions is deprecated. In a future version, integer keys will always be treated as labels (consistent with DataFrame behavior). To access a value by position, use `ser.iloc[pos]`\n",
      "  elif (Feedbackdf.iloc[i][0] == 1) and (Feedbackdf.iloc[i][3] == employee_name) and (Feedbackdf.iloc[i][4] == 'P'):\n",
      "C:\\Users\\aidan\\AppData\\Local\\Temp\\ipykernel_27120\\158198044.py:36: FutureWarning: Series.__getitem__ treating keys as positions is deprecated. In a future version, integer keys will always be treated as labels (consistent with DataFrame behavior). To access a value by position, use `ser.iloc[pos]`\n",
      "  elif (Feedbackdf.iloc[i][0] == 0 or Feedbackdf.iloc[i][0] == -1) and (Feedbackdf.iloc[i][2] == employee_name) and (Feedbackdf.iloc[i][4] == 'R'):\n",
      "C:\\Users\\aidan\\AppData\\Local\\Temp\\ipykernel_27120\\158198044.py:41: FutureWarning: Series.__getitem__ treating keys as positions is deprecated. In a future version, integer keys will always be treated as labels (consistent with DataFrame behavior). To access a value by position, use `ser.iloc[pos]`\n",
      "  elif (Feedbackdf.iloc[i][0] == 0 or Feedbackdf.iloc[i][0] == -1) and (Feedbackdf.iloc[i][3] == employee_name) and (Feedbackdf.iloc[i][4] == 'P'):\n",
      "C:\\Users\\aidan\\AppData\\Local\\Temp\\ipykernel_27120\\158198044.py:46: FutureWarning: Series.__getitem__ treating keys as positions is deprecated. In a future version, integer keys will always be treated as labels (consistent with DataFrame behavior). To access a value by position, use `ser.iloc[pos]`\n",
      "  elif (Feedbackdf.iloc[i][0] == 1) and (Feedbackdf.iloc[i][4] == 'I') and (Feedbackdf.iloc[i][2] == employee_name or Feedbackdf.iloc[i][3] == employee_name):\n",
      "C:\\Users\\aidan\\AppData\\Local\\Temp\\ipykernel_27120\\158198044.py:51: FutureWarning: Series.__getitem__ treating keys as positions is deprecated. In a future version, integer keys will always be treated as labels (consistent with DataFrame behavior). To access a value by position, use `ser.iloc[pos]`\n",
      "  elif (Feedbackdf.iloc[i][0] == 0 or Feedbackdf.iloc[i][0] == -1) and (Feedbackdf.iloc[i][4] == 'I') and (Feedbackdf.iloc[i][2] == employee_name or Feedbackdf.iloc[i][3] == employee_name):\n"
     ]
    },
    {
     "data": {
      "text/html": [
       "<div>\n",
       "<style scoped>\n",
       "    .dataframe tbody tr th:only-of-type {\n",
       "        vertical-align: middle;\n",
       "    }\n",
       "\n",
       "    .dataframe tbody tr th {\n",
       "        vertical-align: top;\n",
       "    }\n",
       "\n",
       "    .dataframe thead th {\n",
       "        text-align: right;\n",
       "    }\n",
       "</style>\n",
       "<table border=\"1\" class=\"dataframe\">\n",
       "  <thead>\n",
       "    <tr style=\"text-align: right;\">\n",
       "      <th></th>\n",
       "      <th>Positive Feedback</th>\n",
       "      <th>Negative Feedback</th>\n",
       "    </tr>\n",
       "  </thead>\n",
       "  <tbody>\n",
       "  </tbody>\n",
       "</table>\n",
       "</div>"
      ],
      "text/plain": [
       "Empty DataFrame\n",
       "Columns: [Positive Feedback, Negative Feedback]\n",
       "Index: []"
      ]
     },
     "metadata": {},
     "output_type": "display_data"
    },
    {
     "data": {
      "text/markdown": [
       "## Madden Edwards's Score: 1/6"
      ]
     },
     "metadata": {},
     "output_type": "display_data"
    },
    {
     "data": {
      "text/markdown": [
       "### ------------------------------------------------------------------------------------------"
      ]
     },
     "metadata": {},
     "output_type": "display_data"
    },
    {
     "name": "stderr",
     "output_type": "stream",
     "text": [
      "C:\\Users\\aidan\\AppData\\Local\\Temp\\ipykernel_27120\\2927901798.py:7: FutureWarning: Series.__getitem__ treating keys as positions is deprecated. In a future version, integer keys will always be treated as labels (consistent with DataFrame behavior). To access a value by position, use `ser.iloc[pos]`\n",
      "  employee_name = racerdf[0]\n"
     ]
    },
    {
     "data": {
      "text/markdown": [
       "## Davis Ong's Eval:"
      ]
     },
     "metadata": {},
     "output_type": "display_data"
    },
    {
     "name": "stderr",
     "output_type": "stream",
     "text": [
      "C:\\Users\\aidan\\AppData\\Local\\Temp\\ipykernel_27120\\2927901798.py:23: FutureWarning: Series.__getitem__ treating keys as positions is deprecated. In a future version, integer keys will always be treated as labels (consistent with DataFrame behavior). To access a value by position, use `ser.iloc[pos]`\n",
      "  if storedf[employee_name][5] == -1:\n"
     ]
    },
    {
     "data": {
      "text/html": [
       "<style type=\"text/css\">\n",
       "#T_6b56d_row0_col3 {\n",
       "  background-color: #fca55d;\n",
       "  color: #000000;\n",
       "}\n",
       "#T_6b56d_row1_col3, #T_6b56d_row2_col3, #T_6b56d_row4_col3 {\n",
       "  background-color: #a50026;\n",
       "  color: #f1f1f1;\n",
       "}\n",
       "#T_6b56d_row3_col3 {\n",
       "  background-color: #bd1726;\n",
       "  color: #f1f1f1;\n",
       "}\n",
       "#T_6b56d_row5_col3 {\n",
       "  background-color: #000000;\n",
       "  color: #f1f1f1;\n",
       "}\n",
       "</style>\n",
       "<table id=\"T_6b56d\">\n",
       "  <thead>\n",
       "    <tr>\n",
       "      <th class=\"blank level0\" >&nbsp;</th>\n",
       "      <th id=\"T_6b56d_level0_col0\" class=\"col_heading level0 col0\" >Benchmarks</th>\n",
       "      <th id=\"T_6b56d_level0_col1\" class=\"col_heading level0 col1\" >Store</th>\n",
       "      <th id=\"T_6b56d_level0_col2\" class=\"col_heading level0 col2\" >Pass</th>\n",
       "      <th id=\"T_6b56d_level0_col3\" class=\"col_heading level0 col3\" >ZScore</th>\n",
       "      <th id=\"T_6b56d_level0_col4\" class=\"col_heading level0 col4\" >Davis Ong</th>\n",
       "    </tr>\n",
       "  </thead>\n",
       "  <tbody>\n",
       "    <tr>\n",
       "      <th id=\"T_6b56d_level0_row0\" class=\"row_heading level0 row0\" >Avg. Hrs Worked</th>\n",
       "      <td id=\"T_6b56d_row0_col0\" class=\"data row0 col0\" >12.00</td>\n",
       "      <td id=\"T_6b56d_row0_col1\" class=\"data row0 col1\" >12.08</td>\n",
       "      <td id=\"T_6b56d_row0_col2\" class=\"data row0 col2\" >N</td>\n",
       "      <td id=\"T_6b56d_row0_col3\" class=\"data row0 col3\" >-1.07</td>\n",
       "      <td id=\"T_6b56d_row0_col4\" class=\"data row0 col4\" >5.41</td>\n",
       "    </tr>\n",
       "    <tr>\n",
       "      <th id=\"T_6b56d_level0_row1\" class=\"row_heading level0 row1\" >Avg. Delivery Time</th>\n",
       "      <td id=\"T_6b56d_row1_col0\" class=\"data row1 col0\" >10.00</td>\n",
       "      <td id=\"T_6b56d_row1_col1\" class=\"data row1 col1\" >10.82</td>\n",
       "      <td id=\"T_6b56d_row1_col2\" class=\"data row1 col2\" >N</td>\n",
       "      <td id=\"T_6b56d_row1_col3\" class=\"data row1 col3\" >3.20</td>\n",
       "      <td id=\"T_6b56d_row1_col4\" class=\"data row1 col4\" >17.88</td>\n",
       "    </tr>\n",
       "    <tr>\n",
       "      <th id=\"T_6b56d_level0_row2\" class=\"row_heading level0 row2\" >Avg. Out the Door</th>\n",
       "      <td id=\"T_6b56d_row2_col0\" class=\"data row2 col0\" >4.00</td>\n",
       "      <td id=\"T_6b56d_row2_col1\" class=\"data row2 col1\" >4.70</td>\n",
       "      <td id=\"T_6b56d_row2_col2\" class=\"data row2 col2\" >N</td>\n",
       "      <td id=\"T_6b56d_row2_col3\" class=\"data row2 col3\" >3.72</td>\n",
       "      <td id=\"T_6b56d_row2_col4\" class=\"data row2 col4\" >9.32</td>\n",
       "    </tr>\n",
       "    <tr>\n",
       "      <th id=\"T_6b56d_level0_row3\" class=\"row_heading level0 row3\" >ORH</th>\n",
       "      <td id=\"T_6b56d_row3_col0\" class=\"data row3 col0\" >9.00</td>\n",
       "      <td id=\"T_6b56d_row3_col1\" class=\"data row3 col1\" >4.36</td>\n",
       "      <td id=\"T_6b56d_row3_col2\" class=\"data row3 col2\" >N</td>\n",
       "      <td id=\"T_6b56d_row3_col3\" class=\"data row3 col3\" >-2.25</td>\n",
       "      <td id=\"T_6b56d_row3_col4\" class=\"data row3 col4\" >0.55</td>\n",
       "    </tr>\n",
       "    <tr>\n",
       "      <th id=\"T_6b56d_level0_row4\" class=\"row_heading level0 row4\" >Late %</th>\n",
       "      <td id=\"T_6b56d_row4_col0\" class=\"data row4 col0\" >0.10</td>\n",
       "      <td id=\"T_6b56d_row4_col1\" class=\"data row4 col1\" >0.06</td>\n",
       "      <td id=\"T_6b56d_row4_col2\" class=\"data row4 col2\" >N</td>\n",
       "      <td id=\"T_6b56d_row4_col3\" class=\"data row4 col3\" >3.67</td>\n",
       "      <td id=\"T_6b56d_row4_col4\" class=\"data row4 col4\" >0.33</td>\n",
       "    </tr>\n",
       "    <tr>\n",
       "      <th id=\"T_6b56d_level0_row5\" class=\"row_heading level0 row5\" >False Pos %</th>\n",
       "      <td id=\"T_6b56d_row5_col0\" class=\"data row5 col0\" >0.01</td>\n",
       "      <td id=\"T_6b56d_row5_col1\" class=\"data row5 col1\" >0.37</td>\n",
       "      <td id=\"T_6b56d_row5_col2\" class=\"data row5 col2\" >X</td>\n",
       "      <td id=\"T_6b56d_row5_col3\" class=\"data row5 col3\" >nan</td>\n",
       "      <td id=\"T_6b56d_row5_col4\" class=\"data row5 col4\" >nan</td>\n",
       "    </tr>\n",
       "  </tbody>\n",
       "</table>\n"
      ],
      "text/plain": [
       "<pandas.io.formats.style.Styler at 0x1c5a3cd9250>"
      ]
     },
     "metadata": {},
     "output_type": "display_data"
    },
    {
     "data": {
      "text/markdown": [
       "## Feedback:"
      ]
     },
     "metadata": {},
     "output_type": "display_data"
    },
    {
     "name": "stderr",
     "output_type": "stream",
     "text": [
      "C:\\Users\\aidan\\AppData\\Local\\Temp\\ipykernel_27120\\158198044.py:16: FutureWarning: Series.__getitem__ treating keys as positions is deprecated. In a future version, integer keys will always be treated as labels (consistent with DataFrame behavior). To access a value by position, use `ser.iloc[pos]`\n",
      "  if (Feedbackdf.iloc[i][0] == 1) and (Feedbackdf.iloc[i][2] == employee_name) and (Feedbackdf.iloc[i][3] == employee_name):\n",
      "C:\\Users\\aidan\\AppData\\Local\\Temp\\ipykernel_27120\\158198044.py:21: FutureWarning: Series.__getitem__ treating keys as positions is deprecated. In a future version, integer keys will always be treated as labels (consistent with DataFrame behavior). To access a value by position, use `ser.iloc[pos]`\n",
      "  elif (Feedbackdf.iloc[i][0] == 0 or Feedbackdf.iloc[i][0] == -1) and (Feedbackdf.iloc[i][2] == employee_name) and (Feedbackdf.iloc[i][3] == employee_name):\n",
      "C:\\Users\\aidan\\AppData\\Local\\Temp\\ipykernel_27120\\158198044.py:26: FutureWarning: Series.__getitem__ treating keys as positions is deprecated. In a future version, integer keys will always be treated as labels (consistent with DataFrame behavior). To access a value by position, use `ser.iloc[pos]`\n",
      "  elif (Feedbackdf.iloc[i][0] == 1) and (Feedbackdf.iloc[i][2] == employee_name) and (Feedbackdf.iloc[i][4] == 'R'):\n",
      "C:\\Users\\aidan\\AppData\\Local\\Temp\\ipykernel_27120\\158198044.py:31: FutureWarning: Series.__getitem__ treating keys as positions is deprecated. In a future version, integer keys will always be treated as labels (consistent with DataFrame behavior). To access a value by position, use `ser.iloc[pos]`\n",
      "  elif (Feedbackdf.iloc[i][0] == 1) and (Feedbackdf.iloc[i][3] == employee_name) and (Feedbackdf.iloc[i][4] == 'P'):\n",
      "C:\\Users\\aidan\\AppData\\Local\\Temp\\ipykernel_27120\\158198044.py:36: FutureWarning: Series.__getitem__ treating keys as positions is deprecated. In a future version, integer keys will always be treated as labels (consistent with DataFrame behavior). To access a value by position, use `ser.iloc[pos]`\n",
      "  elif (Feedbackdf.iloc[i][0] == 0 or Feedbackdf.iloc[i][0] == -1) and (Feedbackdf.iloc[i][2] == employee_name) and (Feedbackdf.iloc[i][4] == 'R'):\n",
      "C:\\Users\\aidan\\AppData\\Local\\Temp\\ipykernel_27120\\158198044.py:41: FutureWarning: Series.__getitem__ treating keys as positions is deprecated. In a future version, integer keys will always be treated as labels (consistent with DataFrame behavior). To access a value by position, use `ser.iloc[pos]`\n",
      "  elif (Feedbackdf.iloc[i][0] == 0 or Feedbackdf.iloc[i][0] == -1) and (Feedbackdf.iloc[i][3] == employee_name) and (Feedbackdf.iloc[i][4] == 'P'):\n",
      "C:\\Users\\aidan\\AppData\\Local\\Temp\\ipykernel_27120\\158198044.py:46: FutureWarning: Series.__getitem__ treating keys as positions is deprecated. In a future version, integer keys will always be treated as labels (consistent with DataFrame behavior). To access a value by position, use `ser.iloc[pos]`\n",
      "  elif (Feedbackdf.iloc[i][0] == 1) and (Feedbackdf.iloc[i][4] == 'I') and (Feedbackdf.iloc[i][2] == employee_name or Feedbackdf.iloc[i][3] == employee_name):\n",
      "C:\\Users\\aidan\\AppData\\Local\\Temp\\ipykernel_27120\\158198044.py:51: FutureWarning: Series.__getitem__ treating keys as positions is deprecated. In a future version, integer keys will always be treated as labels (consistent with DataFrame behavior). To access a value by position, use `ser.iloc[pos]`\n",
      "  elif (Feedbackdf.iloc[i][0] == 0 or Feedbackdf.iloc[i][0] == -1) and (Feedbackdf.iloc[i][4] == 'I') and (Feedbackdf.iloc[i][2] == employee_name or Feedbackdf.iloc[i][3] == employee_name):\n"
     ]
    },
    {
     "data": {
      "text/html": [
       "<div>\n",
       "<style scoped>\n",
       "    .dataframe tbody tr th:only-of-type {\n",
       "        vertical-align: middle;\n",
       "    }\n",
       "\n",
       "    .dataframe tbody tr th {\n",
       "        vertical-align: top;\n",
       "    }\n",
       "\n",
       "    .dataframe thead th {\n",
       "        text-align: right;\n",
       "    }\n",
       "</style>\n",
       "<table border=\"1\" class=\"dataframe\">\n",
       "  <thead>\n",
       "    <tr style=\"text-align: right;\">\n",
       "      <th></th>\n",
       "      <th>Positive Feedback</th>\n",
       "      <th>Negative Feedback</th>\n",
       "    </tr>\n",
       "  </thead>\n",
       "  <tbody>\n",
       "  </tbody>\n",
       "</table>\n",
       "</div>"
      ],
      "text/plain": [
       "Empty DataFrame\n",
       "Columns: [Positive Feedback, Negative Feedback]\n",
       "Index: []"
      ]
     },
     "metadata": {},
     "output_type": "display_data"
    },
    {
     "data": {
      "text/markdown": [
       "## Davis Ong's Score: 0/6"
      ]
     },
     "metadata": {},
     "output_type": "display_data"
    },
    {
     "data": {
      "text/markdown": [
       "### ------------------------------------------------------------------------------------------"
      ]
     },
     "metadata": {},
     "output_type": "display_data"
    }
   ],
   "source": [
    "#Generate eval for each racer in the KPI for given date range\n",
    "for i in range (len(KPIdf.index)):\n",
    "    #Get row from KPI sheet\n",
    "    racerdf = KPIdf.iloc[i]\n",
    "\n",
    "    #Get employee name then drop it from row\n",
    "    employee_name = racerdf[0]\n",
    "    racerdf = racerdf.drop((['name','num_orders']))\n",
    "\n",
    "    #Display title for jupyter viewing of employee evals\n",
    "    display_markdown('''## ''' + employee_name + ''''s Eval:''', raw=True)\n",
    "\n",
    "    #Check whether racer's metrics passed benchmarks\n",
    "    num_test_score = testCheck(storedf, employee_name)\n",
    "    \n",
    "    #Calcualte ZScore for racer's metrics\n",
    "    scoreCheck(storedf, employee_name)\n",
    "    \n",
    "    #Show calc results in table\n",
    "    storedf[employee_name] = racerdf.values  \n",
    "        \n",
    "    #If there were no verifications give an 'X' rating for Pass column\n",
    "    if storedf[employee_name][5] == -1:\n",
    "        storedf[employee_name][5] = 'X'\n",
    "        \n",
    "    #Create a copy of df to style -> styled can't be stored in export CSV\n",
    "    storedfStyled = storedf.copy()\n",
    "    storedfStyled = storedfStyled.style.pipe(make_pretty)\n",
    "    \n",
    "    #Display formatted CSV for jupyter eval viewing\n",
    "    display(storedfStyled)\n",
    "\n",
    "    #Log evals in export CSV\n",
    "    storedf.to_csv(pathFolder + dateRange + 'EmployeeEvals.csv', mode='a', header=True, index=True)\n",
    "\n",
    "    #Get any relevant feedback from this week\n",
    "    display_markdown('''## Feedback:''', raw=True)\n",
    "    overall_feedback_score = getFeedback(employee_name)\n",
    "\n",
    "    overall_score = overall_feedback_score + num_test_score\n",
    "    \n",
    "    #Display trainings done\n",
    "    if school == 'UCLA-1':\n",
    "        display_markdown('''## Trainings:''', raw=True)\n",
    "        training_check(employee_name)\n",
    "    \n",
    "    #Display racer score for jupyter viewing of employee evals\n",
    "    display_markdown('''## ''' + employee_name + ''''s Score: ''' + str(overall_score) + '''/6''', raw=True)\n",
    "    \n",
    "    display_markdown('''### ------------------------------------------------------------------------------------------''', raw=True)\n",
    "    \n",
    "    #Spacing for formatting in csv\n",
    "    spacingdf = pd.DataFrame(columns=[' '],index=[' ',' ',' '])\n",
    "    s = pd.Series([' '],index=[' '])\n",
    "    \n",
    "    #Formatting -> extra three empty rows to space out in exported CSV\n",
    "    #spacingdf = spacingdf.append(s,ignore_index=True)\n",
    "    #spacingdf = spacingdf.append(s,ignore_index=True)\n",
    "    #spacingdf = spacingdf.append(s,ignore_index=True)\n",
    "    \n",
    "    spacingdf.to_csv(pathFolder + dateRange + 'EmployeeEvals.csv', mode='a', header=True, index=False)\n",
    "    \n",
    "    #End of loop -> prime df for next employee\n",
    "    storedf = storedf.drop(columns=[employee_name])"
   ]
  },
  {
   "cell_type": "code",
   "execution_count": null,
   "id": "41236c43",
   "metadata": {},
   "outputs": [],
   "source": []
  },
  {
   "cell_type": "code",
   "execution_count": null,
   "id": "e54e1a0c",
   "metadata": {},
   "outputs": [],
   "source": []
  },
  {
   "cell_type": "code",
   "execution_count": null,
   "id": "db29fbd0",
   "metadata": {},
   "outputs": [],
   "source": []
  },
  {
   "cell_type": "code",
   "execution_count": null,
   "id": "b4bf10b5",
   "metadata": {},
   "outputs": [],
   "source": []
  },
  {
   "cell_type": "code",
   "execution_count": null,
   "id": "9622b479",
   "metadata": {},
   "outputs": [],
   "source": []
  }
 ],
 "metadata": {
  "kernelspec": {
   "display_name": "Python 3 (ipykernel)",
   "language": "python",
   "name": "python3"
  },
  "language_info": {
   "codemirror_mode": {
    "name": "ipython",
    "version": 3
   },
   "file_extension": ".py",
   "mimetype": "text/x-python",
   "name": "python",
   "nbconvert_exporter": "python",
   "pygments_lexer": "ipython3",
   "version": "3.11.4"
  }
 },
 "nbformat": 4,
 "nbformat_minor": 5
}
